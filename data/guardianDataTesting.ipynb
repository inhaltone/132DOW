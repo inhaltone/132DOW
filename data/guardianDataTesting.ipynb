{
 "cells": [
  {
   "cell_type": "code",
   "execution_count": 46,
   "outputs": [
    {
     "data": {
      "text/plain": "       Unnamed: 0                 created_at  \\\n17430       17430  2022-06-28 19:43:02+00:00   \n17431       17431  2022-06-28 19:42:57+00:00   \n17432       17432  2022-06-28 19:42:52+00:00   \n17433       17433  2022-06-28 19:42:50+00:00   \n17434       17434  2022-06-28 19:42:49+00:00   \n17435       17435  2022-06-28 19:42:48+00:00   \n17436       17436  2022-06-28 19:42:44+00:00   \n17437       17437  2022-06-28 19:42:43+00:00   \n17438       17438  2022-06-28 19:42:32+00:00   \n17439       17439  2022-06-28 19:42:31+00:00   \n17440       17440  2022-06-28 19:42:28+00:00   \n17441       17441  2022-06-28 19:42:26+00:00   \n17442       17442  2022-06-28 19:42:20+00:00   \n17443       17443  2022-06-28 19:42:18+00:00   \n17444       17444  2022-06-28 19:42:16+00:00   \n17445       17445  2022-06-28 19:42:15+00:00   \n17446       17446  2022-06-28 19:42:15+00:00   \n17447       17447  2022-06-28 19:42:14+00:00   \n17448       17448  2022-06-28 19:42:12+00:00   \n17449       17449  2022-06-28 19:42:11+00:00   \n\n                                               full_text  favorite_count  \\\n17430  RT @Klitschko: Today is the 125th day of the w...               0   \n17431  RT @olex_scherba: Mr. Evil claims “the shoppin...               0   \n17432  RT @olex_scherba: Mr. Evil claims “the shoppin...               0   \n17433  RT @Klitschko: Today is the 125th day of the w...               0   \n17434  RT @olex_scherba: Mr. Evil claims “the shoppin...               0   \n17435  RT @olex_scherba: Mr. Evil claims “the shoppin...               0   \n17436  RT @UKinUkraine: Ukraine’s #constitutionday to...               0   \n17437  RT @olex_scherba: Mr. Evil claims “the shoppin...               0   \n17438  RT @olex_scherba: Mr. Evil claims “the shoppin...               0   \n17439  RT @olex_scherba: Mr. Evil claims “the shoppin...               0   \n17440  RT @Mariana_Betsa: 2/2 Russian crimes in 3 day...               0   \n17441  RT @Klitschko: Today is the 125th day of the w...               0   \n17442  RT @olex_scherba: Mr. Evil claims “the shoppin...               0   \n17443  RT @Tince781: #IStandWithSteveBray Dictator Jo...               0   \n17444  Lies lies lies \\n\\n#StandWithUkraine 💔 https:/...               0   \n17445  RT @olex_scherba: Mr. Evil claims “the shoppin...               0   \n17446  RT @olex_scherba: Mr. Evil claims “the shoppin...               0   \n17447  RT @olex_scherba: Mr. Evil claims “the shoppin...               0   \n17448  RT @StratcomCentre: The Chief of the UK Genera...               0   \n17449  RT @olex_scherba: Mr. Evil claims “the shoppin...               0   \n\n       retweet_count                                 account_name  \\\n17430           1098           Robin Wollenberg | Man van de Zaak   \n17431            793  Lyudmуla 🇪🇺🇺🇦🇺🇬❄️#wearamask #blm #vaccinate   \n17432            793                           Cristina Piccinini   \n17433           1098                              🇵🇱 Tomek M 💪 🇺🇦   \n17434            793                                           JJ   \n17435            793                                        Betty   \n17436              5                            Аламі Гійом 💙💛 ЄС   \n17437            793                                Matt Kilcoyne   \n17438            793            Kim-in-Bru.EU - Sláva Ukrayíni 🇺🇦   \n17439            793                            Vroomfondel1965🇺🇦   \n17440             18                                      Віталій   \n17441           1098                                       BigPun   \n17442            793                                 MassiVLallai   \n17443              8    Jerry Foley #JohnsonOut #Path #SaveOurNHS   \n17444              0                                     Halftone   \n17445            793                                       HiFive   \n17446            793                               JudyJudyJudy🇺🇦   \n17447            793                                 Alissaholkko   \n17448             45                              Joseph Thomason   \n17449            793                              Shelley English   \n\n                        id  \n17430  1541869802398040066  \n17431  1541869784408768517  \n17432  1541869762757681152  \n17433  1541869753110863878  \n17434  1541869747888857088  \n17435  1541869745829400576  \n17436  1541869726510600193  \n17437  1541869723859697667  \n17438  1541869679374909441  \n17439  1541869672714436610  \n17440  1541869661624717319  \n17441  1541869651101098000  \n17442  1541869626233176068  \n17443  1541869617655828482  \n17444  1541869610034675714  \n17445  1541869608629682178  \n17446  1541869606339592193  \n17447  1541869600975060993  \n17448  1541869593940987904  \n17449  1541869592045395969  ",
      "text/html": "<div>\n<style scoped>\n    .dataframe tbody tr th:only-of-type {\n        vertical-align: middle;\n    }\n\n    .dataframe tbody tr th {\n        vertical-align: top;\n    }\n\n    .dataframe thead th {\n        text-align: right;\n    }\n</style>\n<table border=\"1\" class=\"dataframe\">\n  <thead>\n    <tr style=\"text-align: right;\">\n      <th></th>\n      <th>Unnamed: 0</th>\n      <th>created_at</th>\n      <th>full_text</th>\n      <th>favorite_count</th>\n      <th>retweet_count</th>\n      <th>account_name</th>\n      <th>id</th>\n    </tr>\n  </thead>\n  <tbody>\n    <tr>\n      <th>17430</th>\n      <td>17430</td>\n      <td>2022-06-28 19:43:02+00:00</td>\n      <td>RT @Klitschko: Today is the 125th day of the w...</td>\n      <td>0</td>\n      <td>1098</td>\n      <td>Robin Wollenberg | Man van de Zaak</td>\n      <td>1541869802398040066</td>\n    </tr>\n    <tr>\n      <th>17431</th>\n      <td>17431</td>\n      <td>2022-06-28 19:42:57+00:00</td>\n      <td>RT @olex_scherba: Mr. Evil claims “the shoppin...</td>\n      <td>0</td>\n      <td>793</td>\n      <td>Lyudmуla 🇪🇺🇺🇦🇺🇬❄️#wearamask #blm #vaccinate</td>\n      <td>1541869784408768517</td>\n    </tr>\n    <tr>\n      <th>17432</th>\n      <td>17432</td>\n      <td>2022-06-28 19:42:52+00:00</td>\n      <td>RT @olex_scherba: Mr. Evil claims “the shoppin...</td>\n      <td>0</td>\n      <td>793</td>\n      <td>Cristina Piccinini</td>\n      <td>1541869762757681152</td>\n    </tr>\n    <tr>\n      <th>17433</th>\n      <td>17433</td>\n      <td>2022-06-28 19:42:50+00:00</td>\n      <td>RT @Klitschko: Today is the 125th day of the w...</td>\n      <td>0</td>\n      <td>1098</td>\n      <td>🇵🇱 Tomek M 💪 🇺🇦</td>\n      <td>1541869753110863878</td>\n    </tr>\n    <tr>\n      <th>17434</th>\n      <td>17434</td>\n      <td>2022-06-28 19:42:49+00:00</td>\n      <td>RT @olex_scherba: Mr. Evil claims “the shoppin...</td>\n      <td>0</td>\n      <td>793</td>\n      <td>JJ</td>\n      <td>1541869747888857088</td>\n    </tr>\n    <tr>\n      <th>17435</th>\n      <td>17435</td>\n      <td>2022-06-28 19:42:48+00:00</td>\n      <td>RT @olex_scherba: Mr. Evil claims “the shoppin...</td>\n      <td>0</td>\n      <td>793</td>\n      <td>Betty</td>\n      <td>1541869745829400576</td>\n    </tr>\n    <tr>\n      <th>17436</th>\n      <td>17436</td>\n      <td>2022-06-28 19:42:44+00:00</td>\n      <td>RT @UKinUkraine: Ukraine’s #constitutionday to...</td>\n      <td>0</td>\n      <td>5</td>\n      <td>Аламі Гійом 💙💛 ЄС</td>\n      <td>1541869726510600193</td>\n    </tr>\n    <tr>\n      <th>17437</th>\n      <td>17437</td>\n      <td>2022-06-28 19:42:43+00:00</td>\n      <td>RT @olex_scherba: Mr. Evil claims “the shoppin...</td>\n      <td>0</td>\n      <td>793</td>\n      <td>Matt Kilcoyne</td>\n      <td>1541869723859697667</td>\n    </tr>\n    <tr>\n      <th>17438</th>\n      <td>17438</td>\n      <td>2022-06-28 19:42:32+00:00</td>\n      <td>RT @olex_scherba: Mr. Evil claims “the shoppin...</td>\n      <td>0</td>\n      <td>793</td>\n      <td>Kim-in-Bru.EU - Sláva Ukrayíni 🇺🇦</td>\n      <td>1541869679374909441</td>\n    </tr>\n    <tr>\n      <th>17439</th>\n      <td>17439</td>\n      <td>2022-06-28 19:42:31+00:00</td>\n      <td>RT @olex_scherba: Mr. Evil claims “the shoppin...</td>\n      <td>0</td>\n      <td>793</td>\n      <td>Vroomfondel1965🇺🇦</td>\n      <td>1541869672714436610</td>\n    </tr>\n    <tr>\n      <th>17440</th>\n      <td>17440</td>\n      <td>2022-06-28 19:42:28+00:00</td>\n      <td>RT @Mariana_Betsa: 2/2 Russian crimes in 3 day...</td>\n      <td>0</td>\n      <td>18</td>\n      <td>Віталій</td>\n      <td>1541869661624717319</td>\n    </tr>\n    <tr>\n      <th>17441</th>\n      <td>17441</td>\n      <td>2022-06-28 19:42:26+00:00</td>\n      <td>RT @Klitschko: Today is the 125th day of the w...</td>\n      <td>0</td>\n      <td>1098</td>\n      <td>BigPun</td>\n      <td>1541869651101098000</td>\n    </tr>\n    <tr>\n      <th>17442</th>\n      <td>17442</td>\n      <td>2022-06-28 19:42:20+00:00</td>\n      <td>RT @olex_scherba: Mr. Evil claims “the shoppin...</td>\n      <td>0</td>\n      <td>793</td>\n      <td>MassiVLallai</td>\n      <td>1541869626233176068</td>\n    </tr>\n    <tr>\n      <th>17443</th>\n      <td>17443</td>\n      <td>2022-06-28 19:42:18+00:00</td>\n      <td>RT @Tince781: #IStandWithSteveBray Dictator Jo...</td>\n      <td>0</td>\n      <td>8</td>\n      <td>Jerry Foley #JohnsonOut #Path #SaveOurNHS</td>\n      <td>1541869617655828482</td>\n    </tr>\n    <tr>\n      <th>17444</th>\n      <td>17444</td>\n      <td>2022-06-28 19:42:16+00:00</td>\n      <td>Lies lies lies \\n\\n#StandWithUkraine 💔 https:/...</td>\n      <td>0</td>\n      <td>0</td>\n      <td>Halftone</td>\n      <td>1541869610034675714</td>\n    </tr>\n    <tr>\n      <th>17445</th>\n      <td>17445</td>\n      <td>2022-06-28 19:42:15+00:00</td>\n      <td>RT @olex_scherba: Mr. Evil claims “the shoppin...</td>\n      <td>0</td>\n      <td>793</td>\n      <td>HiFive</td>\n      <td>1541869608629682178</td>\n    </tr>\n    <tr>\n      <th>17446</th>\n      <td>17446</td>\n      <td>2022-06-28 19:42:15+00:00</td>\n      <td>RT @olex_scherba: Mr. Evil claims “the shoppin...</td>\n      <td>0</td>\n      <td>793</td>\n      <td>JudyJudyJudy🇺🇦</td>\n      <td>1541869606339592193</td>\n    </tr>\n    <tr>\n      <th>17447</th>\n      <td>17447</td>\n      <td>2022-06-28 19:42:14+00:00</td>\n      <td>RT @olex_scherba: Mr. Evil claims “the shoppin...</td>\n      <td>0</td>\n      <td>793</td>\n      <td>Alissaholkko</td>\n      <td>1541869600975060993</td>\n    </tr>\n    <tr>\n      <th>17448</th>\n      <td>17448</td>\n      <td>2022-06-28 19:42:12+00:00</td>\n      <td>RT @StratcomCentre: The Chief of the UK Genera...</td>\n      <td>0</td>\n      <td>45</td>\n      <td>Joseph Thomason</td>\n      <td>1541869593940987904</td>\n    </tr>\n    <tr>\n      <th>17449</th>\n      <td>17449</td>\n      <td>2022-06-28 19:42:11+00:00</td>\n      <td>RT @olex_scherba: Mr. Evil claims “the shoppin...</td>\n      <td>0</td>\n      <td>793</td>\n      <td>Shelley English</td>\n      <td>1541869592045395969</td>\n    </tr>\n  </tbody>\n</table>\n</div>"
     },
     "execution_count": 46,
     "metadata": {},
     "output_type": "execute_result"
    }
   ],
   "source": [
    "import pandas as pd\n",
    "\n",
    "df_test = pd.read_csv('./tweets/hash-standwithukraine.tsv', sep='\\t')\n",
    "df_test.tail(20)"
   ],
   "metadata": {
    "collapsed": false,
    "pycharm": {
     "name": "#%%\n"
    }
   }
  },
  {
   "cell_type": "code",
   "execution_count": 47,
   "outputs": [
    {
     "data": {
      "text/plain": "(17450, 7)"
     },
     "execution_count": 47,
     "metadata": {},
     "output_type": "execute_result"
    }
   ],
   "source": [
    "df_test.shape"
   ],
   "metadata": {
    "collapsed": false,
    "pycharm": {
     "name": "#%%\n"
    }
   }
  },
  {
   "cell_type": "code",
   "execution_count": 26,
   "outputs": [],
   "source": [
    "df_test['date-yolo'] =  pd.to_datetime(df_test['Date'], format=\"%Y-%m-%d\")"
   ],
   "metadata": {
    "collapsed": false,
    "pycharm": {
     "name": "#%%\n"
    }
   }
  },
  {
   "cell_type": "code",
   "execution_count": 37,
   "outputs": [
    {
     "data": {
      "text/plain": "(250, 13)"
     },
     "execution_count": 37,
     "metadata": {},
     "output_type": "execute_result"
    }
   ],
   "source": [
    "df_test.shape"
   ],
   "metadata": {
    "collapsed": false,
    "pycharm": {
     "name": "#%%\n"
    }
   }
  },
  {
   "cell_type": "code",
   "execution_count": 36,
   "outputs": [
    {
     "data": {
      "text/plain": "32723.0"
     },
     "execution_count": 36,
     "metadata": {},
     "output_type": "execute_result"
    }
   ],
   "source": [
    "df_test[~df_test['Comments Count'].isnull()]['Comments Count'].sum()"
   ],
   "metadata": {
    "collapsed": false,
    "pycharm": {
     "name": "#%%\n"
    }
   }
  },
  {
   "cell_type": "code",
   "execution_count": 22,
   "outputs": [
    {
     "data": {
      "text/plain": "0       Biden at the White House on Tuesday. The pres...\n1       Boris Johnson’s lies are nothing to those bei...\n2       Russia’s defence minister, Sergei Shoigu, app...\n3               Illustration: Martin Rowson/The Guardian\n4       Russia's defence minister, Sergei Shoigu, is ...\n                             ...                        \n122     Russian oligarch Roman Abramovich owns Chelse...\n123     Still from an RT broadcast as Russian troops ...\n124     Independence Square in the city formerly know...\n125     Demonstration at the Russian embassy in Warsa...\n126                                                  NaN\nName: Article Image Caption, Length: 127, dtype: object"
     },
     "execution_count": 22,
     "metadata": {},
     "output_type": "execute_result"
    }
   ],
   "source": [
    "df_test['Article Image Caption']"
   ],
   "metadata": {
    "collapsed": false,
    "pycharm": {
     "name": "#%%\n"
    }
   }
  },
  {
   "cell_type": "code",
   "execution_count": 42,
   "outputs": [
    {
     "data": {
      "text/plain": "     Unnamed: 0 Image Url Image Caption Image Alt                    Date  \\\n242         242       NaN           NaN       NaN  Thursday, 30 June 2022   \n\n    Date Formatted                                            Heading  \\\n242     2022-06-30  Putin says Russia will respond to Nato infrast...   \n\n                                           Article Url  \\\n242  https://www.theguardian.com/world/video/2022/j...   \n\n                                                  Text Comments key  \\\n242  Vladimir Putin has issued fresh warnings that ...          NaN   \n\n     Comments Count Comments Url Thumb  \n242             NaN          NaN   NaN  ",
      "text/html": "<div>\n<style scoped>\n    .dataframe tbody tr th:only-of-type {\n        vertical-align: middle;\n    }\n\n    .dataframe tbody tr th {\n        vertical-align: top;\n    }\n\n    .dataframe thead th {\n        text-align: right;\n    }\n</style>\n<table border=\"1\" class=\"dataframe\">\n  <thead>\n    <tr style=\"text-align: right;\">\n      <th></th>\n      <th>Unnamed: 0</th>\n      <th>Image Url</th>\n      <th>Image Caption</th>\n      <th>Image Alt</th>\n      <th>Date</th>\n      <th>Date Formatted</th>\n      <th>Heading</th>\n      <th>Article Url</th>\n      <th>Text</th>\n      <th>Comments key</th>\n      <th>Comments Count</th>\n      <th>Comments Url</th>\n      <th>Thumb</th>\n    </tr>\n  </thead>\n  <tbody>\n    <tr>\n      <th>242</th>\n      <td>242</td>\n      <td>NaN</td>\n      <td>NaN</td>\n      <td>NaN</td>\n      <td>Thursday, 30 June 2022</td>\n      <td>2022-06-30</td>\n      <td>Putin says Russia will respond to Nato infrast...</td>\n      <td>https://www.theguardian.com/world/video/2022/j...</td>\n      <td>Vladimir Putin has issued fresh warnings that ...</td>\n      <td>NaN</td>\n      <td>NaN</td>\n      <td>NaN</td>\n      <td>NaN</td>\n    </tr>\n  </tbody>\n</table>\n</div>"
     },
     "execution_count": 42,
     "metadata": {},
     "output_type": "execute_result"
    }
   ],
   "source": [
    "df_test[df_test['Heading'].str.contains('putin says', case=False)]"
   ],
   "metadata": {
    "collapsed": false,
    "pycharm": {
     "name": "#%%\n"
    }
   }
  },
  {
   "cell_type": "code",
   "execution_count": null,
   "outputs": [],
   "source": [],
   "metadata": {
    "collapsed": false,
    "pycharm": {
     "name": "#%%\n"
    }
   }
  }
 ],
 "metadata": {
  "kernelspec": {
   "display_name": "Python 3",
   "language": "python",
   "name": "python3"
  },
  "language_info": {
   "codemirror_mode": {
    "name": "ipython",
    "version": 2
   },
   "file_extension": ".py",
   "mimetype": "text/x-python",
   "name": "python",
   "nbconvert_exporter": "python",
   "pygments_lexer": "ipython2",
   "version": "2.7.6"
  }
 },
 "nbformat": 4,
 "nbformat_minor": 0
}