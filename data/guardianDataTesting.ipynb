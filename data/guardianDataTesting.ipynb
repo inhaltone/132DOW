{
 "cells": [
  {
   "cell_type": "code",
   "execution_count": 8,
   "outputs": [
    {
     "data": {
      "text/plain": "    Unnamed: 0 comment_key  comment count  \\\n0            0         NaN            NaN   \n1            1    /p/kz3fp          528.0   \n2            2         NaN            NaN   \n3            3         NaN            NaN   \n4            4         NaN            NaN   \n5            5    /p/knqpm         7064.0   \n6            6    /p/kz2dj          317.0   \n7            7         NaN            NaN   \n8            8         NaN            NaN   \n9            9    /p/kzv8x          368.0   \n10          10         NaN            NaN   \n11          11         NaN            NaN   \n12          12         NaN            NaN   \n13          13         NaN            NaN   \n14          14         NaN            NaN   \n15          15         NaN            NaN   \n16          16         NaN            NaN   \n17          17         NaN            NaN   \n18          18    /p/kzv8c          607.0   \n19          19         NaN            NaN   \n\n                                             comments  \\\n0                                                 NaN   \n1   https://www.theguardian.com/politics/2022/feb/...   \n2                                                 NaN   \n3   https://www.theguardian.com/commentisfree/pict...   \n4                                                 NaN   \n5   https://www.theguardian.com/politics/live/2022...   \n6   https://www.theguardian.com/commentisfree/2022...   \n7                                                 NaN   \n8                                                 NaN   \n9   https://www.theguardian.com/commentisfree/2022...   \n10                                                NaN   \n11                                                NaN   \n12                                                NaN   \n13                                                NaN   \n14                                                NaN   \n15                                                NaN   \n16                                                NaN   \n17                                                NaN   \n18  https://www.theguardian.com/commentisfree/2022...   \n19                                                NaN   \n\n                       dateFull        date  \\\n0   Wednesday, 23 February 2022  2022-02-23   \n1   Wednesday, 23 February 2022  2022-02-23   \n2   Wednesday, 23 February 2022  2022-02-23   \n3   Wednesday, 23 February 2022  2022-02-23   \n4   Wednesday, 23 February 2022  2022-02-23   \n5   Wednesday, 23 February 2022  2022-02-23   \n6   Wednesday, 23 February 2022  2022-02-23   \n7   Wednesday, 23 February 2022  2022-02-23   \n8   Wednesday, 23 February 2022  2022-02-23   \n9   Wednesday, 23 February 2022  2022-02-23   \n10  Wednesday, 23 February 2022  2022-02-23   \n11  Wednesday, 23 February 2022  2022-02-23   \n12  Wednesday, 23 February 2022  2022-02-23   \n13  Wednesday, 23 February 2022  2022-02-23   \n14  Wednesday, 23 February 2022  2022-02-23   \n15  Wednesday, 23 February 2022  2022-02-23   \n16  Wednesday, 23 February 2022  2022-02-23   \n17  Wednesday, 23 February 2022  2022-02-23   \n18  Wednesday, 23 February 2022  2022-02-23   \n19  Wednesday, 23 February 2022  2022-02-23   \n\n                                              heading  \\\n0   Biden imposes sanctions on company behind Nord...   \n1   Putin’s looming threat gives Johnson some brea...   \n2   From ‘Putin’s chef’ to the RT editor: names ex...   \n3   Martin Rowson on Russian donors to the Tory pa...   \n4   EU approves wide-ranging sanctions against Rus...   \n5   Keir Starmer urges Boris Johnson to end ‘era o...   \n6   Fighting the threat from Putin will take teamw...   \n7   Ukrainians in UK making plans to return home t...   \n8   What steps should Britain take to avert war in...   \n9   Understanding Putin’s narrative about Ukraine ...   \n10  Business brisk at Kyiv gun shops as Ukrainians...   \n11  Europe could see out winter on gas reserves if...   \n12  UK firms warned of Russian cyberwar ‘spillover...   \n13  The brave woman who symbolises Ukraine: Mark N...   \n14  Bank of England chief urges banks to show rest...   \n15  Trump praises ‘genius’ Putin for moving troops...   \n16  UK 'out in front' in imposing sanctions on Rus...   \n17  Russian TV broadcasts in UK a ‘disinformation ...   \n18  Forget the obsession with sanctions against ol...   \n19  Truss rejects claim Russia-linked Tory donatio...   \n\n                                                 link  \\\n0   https://www.theguardian.com/us-news/live/2022/...   \n1   https://www.theguardian.com/politics/2022/feb/...   \n2   https://www.theguardian.com/world/2022/feb/23/...   \n3   https://www.theguardian.com/commentisfree/pict...   \n4   https://www.theguardian.com/world/2022/feb/23/...   \n5   https://www.theguardian.com/politics/live/2022...   \n6   https://www.theguardian.com/commentisfree/2022...   \n7   https://www.theguardian.com/world/2022/feb/23/...   \n8   https://www.theguardian.com/world/2022/feb/23/...   \n9   https://www.theguardian.com/commentisfree/2022...   \n10  https://www.theguardian.com/world/2022/feb/23/...   \n11  https://www.theguardian.com/world/2022/feb/23/...   \n12  https://www.theguardian.com/technology/2022/fe...   \n13  https://www.theguardian.com/artanddesign/2022/...   \n14  https://www.theguardian.com/business/live/2022...   \n15  https://www.theguardian.com/us-news/2022/feb/2...   \n16  https://www.theguardian.com/world/video/2022/f...   \n17  https://www.theguardian.com/politics/2022/feb/...   \n18  https://www.theguardian.com/commentisfree/2022...   \n19  https://www.theguardian.com/politics/video/202...   \n\n                                                image  \\\n0   https://i.guim.co.uk/img/media/cf521f0cc79f03f...   \n1                                                 NaN   \n2   https://i.guim.co.uk/img/media/050c522ae5cc5e3...   \n3   https://i.guim.co.uk/img/media/4e76cd7e65bb82f...   \n4                                                 NaN   \n5                                                 NaN   \n6                                                 NaN   \n7                                                 NaN   \n8                                                 NaN   \n9                                                 NaN   \n10                                                NaN   \n11                                                NaN   \n12                                                NaN   \n13                                                NaN   \n14                                                NaN   \n15                                                NaN   \n16                                                NaN   \n17                                                NaN   \n18                                                NaN   \n19                                                NaN   \n\n                                                 text  \n0                                                 NaN  \n1   Boris Johnson is in his happy place. The Russi...  \n2   The EU has approved asset freezes and travel b...  \n3                                                 NaN  \n4   Russia’s defence minister, Sergei Shoigu, the ...  \n5                                                 NaN  \n6   The default view at Westminster and in most of...  \n7   A small but growing number of Ukrainians livin...  \n8   Thank you Simon Tisdall (The long, bloody hist...  \n9   With his incursion into Donetsk and Luhansk, V...  \n10  Ukrainians are buying guns, ammunition and sni...  \n11  Europe could heat its citizens’ homes and powe...  \n12  British officials are concerned about “spillov...  \n13  This was taken in May last year in Myrnohrad, ...  \n14                                                NaN  \n15  Donald Trump has said that Vladimir Putin is “...  \n16                                                NaN  \n17  The UK culture secretary has written to Ofcom ...  \n18  Since the annexation of Crimea in 2014, the we...  \n19                                                NaN  ",
      "text/html": "<div>\n<style scoped>\n    .dataframe tbody tr th:only-of-type {\n        vertical-align: middle;\n    }\n\n    .dataframe tbody tr th {\n        vertical-align: top;\n    }\n\n    .dataframe thead th {\n        text-align: right;\n    }\n</style>\n<table border=\"1\" class=\"dataframe\">\n  <thead>\n    <tr style=\"text-align: right;\">\n      <th></th>\n      <th>Unnamed: 0</th>\n      <th>comment_key</th>\n      <th>comment count</th>\n      <th>comments</th>\n      <th>dateFull</th>\n      <th>date</th>\n      <th>heading</th>\n      <th>link</th>\n      <th>image</th>\n      <th>text</th>\n    </tr>\n  </thead>\n  <tbody>\n    <tr>\n      <th>0</th>\n      <td>0</td>\n      <td>NaN</td>\n      <td>NaN</td>\n      <td>NaN</td>\n      <td>Wednesday, 23 February 2022</td>\n      <td>2022-02-23</td>\n      <td>Biden imposes sanctions on company behind Nord...</td>\n      <td>https://www.theguardian.com/us-news/live/2022/...</td>\n      <td>https://i.guim.co.uk/img/media/cf521f0cc79f03f...</td>\n      <td>NaN</td>\n    </tr>\n    <tr>\n      <th>1</th>\n      <td>1</td>\n      <td>/p/kz3fp</td>\n      <td>528.0</td>\n      <td>https://www.theguardian.com/politics/2022/feb/...</td>\n      <td>Wednesday, 23 February 2022</td>\n      <td>2022-02-23</td>\n      <td>Putin’s looming threat gives Johnson some brea...</td>\n      <td>https://www.theguardian.com/politics/2022/feb/...</td>\n      <td>NaN</td>\n      <td>Boris Johnson is in his happy place. The Russi...</td>\n    </tr>\n    <tr>\n      <th>2</th>\n      <td>2</td>\n      <td>NaN</td>\n      <td>NaN</td>\n      <td>NaN</td>\n      <td>Wednesday, 23 February 2022</td>\n      <td>2022-02-23</td>\n      <td>From ‘Putin’s chef’ to the RT editor: names ex...</td>\n      <td>https://www.theguardian.com/world/2022/feb/23/...</td>\n      <td>https://i.guim.co.uk/img/media/050c522ae5cc5e3...</td>\n      <td>The EU has approved asset freezes and travel b...</td>\n    </tr>\n    <tr>\n      <th>3</th>\n      <td>3</td>\n      <td>NaN</td>\n      <td>NaN</td>\n      <td>https://www.theguardian.com/commentisfree/pict...</td>\n      <td>Wednesday, 23 February 2022</td>\n      <td>2022-02-23</td>\n      <td>Martin Rowson on Russian donors to the Tory pa...</td>\n      <td>https://www.theguardian.com/commentisfree/pict...</td>\n      <td>https://i.guim.co.uk/img/media/4e76cd7e65bb82f...</td>\n      <td>NaN</td>\n    </tr>\n    <tr>\n      <th>4</th>\n      <td>4</td>\n      <td>NaN</td>\n      <td>NaN</td>\n      <td>NaN</td>\n      <td>Wednesday, 23 February 2022</td>\n      <td>2022-02-23</td>\n      <td>EU approves wide-ranging sanctions against Rus...</td>\n      <td>https://www.theguardian.com/world/2022/feb/23/...</td>\n      <td>NaN</td>\n      <td>Russia’s defence minister, Sergei Shoigu, the ...</td>\n    </tr>\n    <tr>\n      <th>5</th>\n      <td>5</td>\n      <td>/p/knqpm</td>\n      <td>7064.0</td>\n      <td>https://www.theguardian.com/politics/live/2022...</td>\n      <td>Wednesday, 23 February 2022</td>\n      <td>2022-02-23</td>\n      <td>Keir Starmer urges Boris Johnson to end ‘era o...</td>\n      <td>https://www.theguardian.com/politics/live/2022...</td>\n      <td>NaN</td>\n      <td>NaN</td>\n    </tr>\n    <tr>\n      <th>6</th>\n      <td>6</td>\n      <td>/p/kz2dj</td>\n      <td>317.0</td>\n      <td>https://www.theguardian.com/commentisfree/2022...</td>\n      <td>Wednesday, 23 February 2022</td>\n      <td>2022-02-23</td>\n      <td>Fighting the threat from Putin will take teamw...</td>\n      <td>https://www.theguardian.com/commentisfree/2022...</td>\n      <td>NaN</td>\n      <td>The default view at Westminster and in most of...</td>\n    </tr>\n    <tr>\n      <th>7</th>\n      <td>7</td>\n      <td>NaN</td>\n      <td>NaN</td>\n      <td>NaN</td>\n      <td>Wednesday, 23 February 2022</td>\n      <td>2022-02-23</td>\n      <td>Ukrainians in UK making plans to return home t...</td>\n      <td>https://www.theguardian.com/world/2022/feb/23/...</td>\n      <td>NaN</td>\n      <td>A small but growing number of Ukrainians livin...</td>\n    </tr>\n    <tr>\n      <th>8</th>\n      <td>8</td>\n      <td>NaN</td>\n      <td>NaN</td>\n      <td>NaN</td>\n      <td>Wednesday, 23 February 2022</td>\n      <td>2022-02-23</td>\n      <td>What steps should Britain take to avert war in...</td>\n      <td>https://www.theguardian.com/world/2022/feb/23/...</td>\n      <td>NaN</td>\n      <td>Thank you Simon Tisdall (The long, bloody hist...</td>\n    </tr>\n    <tr>\n      <th>9</th>\n      <td>9</td>\n      <td>/p/kzv8x</td>\n      <td>368.0</td>\n      <td>https://www.theguardian.com/commentisfree/2022...</td>\n      <td>Wednesday, 23 February 2022</td>\n      <td>2022-02-23</td>\n      <td>Understanding Putin’s narrative about Ukraine ...</td>\n      <td>https://www.theguardian.com/commentisfree/2022...</td>\n      <td>NaN</td>\n      <td>With his incursion into Donetsk and Luhansk, V...</td>\n    </tr>\n    <tr>\n      <th>10</th>\n      <td>10</td>\n      <td>NaN</td>\n      <td>NaN</td>\n      <td>NaN</td>\n      <td>Wednesday, 23 February 2022</td>\n      <td>2022-02-23</td>\n      <td>Business brisk at Kyiv gun shops as Ukrainians...</td>\n      <td>https://www.theguardian.com/world/2022/feb/23/...</td>\n      <td>NaN</td>\n      <td>Ukrainians are buying guns, ammunition and sni...</td>\n    </tr>\n    <tr>\n      <th>11</th>\n      <td>11</td>\n      <td>NaN</td>\n      <td>NaN</td>\n      <td>NaN</td>\n      <td>Wednesday, 23 February 2022</td>\n      <td>2022-02-23</td>\n      <td>Europe could see out winter on gas reserves if...</td>\n      <td>https://www.theguardian.com/world/2022/feb/23/...</td>\n      <td>NaN</td>\n      <td>Europe could heat its citizens’ homes and powe...</td>\n    </tr>\n    <tr>\n      <th>12</th>\n      <td>12</td>\n      <td>NaN</td>\n      <td>NaN</td>\n      <td>NaN</td>\n      <td>Wednesday, 23 February 2022</td>\n      <td>2022-02-23</td>\n      <td>UK firms warned of Russian cyberwar ‘spillover...</td>\n      <td>https://www.theguardian.com/technology/2022/fe...</td>\n      <td>NaN</td>\n      <td>British officials are concerned about “spillov...</td>\n    </tr>\n    <tr>\n      <th>13</th>\n      <td>13</td>\n      <td>NaN</td>\n      <td>NaN</td>\n      <td>NaN</td>\n      <td>Wednesday, 23 February 2022</td>\n      <td>2022-02-23</td>\n      <td>The brave woman who symbolises Ukraine: Mark N...</td>\n      <td>https://www.theguardian.com/artanddesign/2022/...</td>\n      <td>NaN</td>\n      <td>This was taken in May last year in Myrnohrad, ...</td>\n    </tr>\n    <tr>\n      <th>14</th>\n      <td>14</td>\n      <td>NaN</td>\n      <td>NaN</td>\n      <td>NaN</td>\n      <td>Wednesday, 23 February 2022</td>\n      <td>2022-02-23</td>\n      <td>Bank of England chief urges banks to show rest...</td>\n      <td>https://www.theguardian.com/business/live/2022...</td>\n      <td>NaN</td>\n      <td>NaN</td>\n    </tr>\n    <tr>\n      <th>15</th>\n      <td>15</td>\n      <td>NaN</td>\n      <td>NaN</td>\n      <td>NaN</td>\n      <td>Wednesday, 23 February 2022</td>\n      <td>2022-02-23</td>\n      <td>Trump praises ‘genius’ Putin for moving troops...</td>\n      <td>https://www.theguardian.com/us-news/2022/feb/2...</td>\n      <td>NaN</td>\n      <td>Donald Trump has said that Vladimir Putin is “...</td>\n    </tr>\n    <tr>\n      <th>16</th>\n      <td>16</td>\n      <td>NaN</td>\n      <td>NaN</td>\n      <td>NaN</td>\n      <td>Wednesday, 23 February 2022</td>\n      <td>2022-02-23</td>\n      <td>UK 'out in front' in imposing sanctions on Rus...</td>\n      <td>https://www.theguardian.com/world/video/2022/f...</td>\n      <td>NaN</td>\n      <td>NaN</td>\n    </tr>\n    <tr>\n      <th>17</th>\n      <td>17</td>\n      <td>NaN</td>\n      <td>NaN</td>\n      <td>NaN</td>\n      <td>Wednesday, 23 February 2022</td>\n      <td>2022-02-23</td>\n      <td>Russian TV broadcasts in UK a ‘disinformation ...</td>\n      <td>https://www.theguardian.com/politics/2022/feb/...</td>\n      <td>NaN</td>\n      <td>The UK culture secretary has written to Ofcom ...</td>\n    </tr>\n    <tr>\n      <th>18</th>\n      <td>18</td>\n      <td>/p/kzv8c</td>\n      <td>607.0</td>\n      <td>https://www.theguardian.com/commentisfree/2022...</td>\n      <td>Wednesday, 23 February 2022</td>\n      <td>2022-02-23</td>\n      <td>Forget the obsession with sanctions against ol...</td>\n      <td>https://www.theguardian.com/commentisfree/2022...</td>\n      <td>NaN</td>\n      <td>Since the annexation of Crimea in 2014, the we...</td>\n    </tr>\n    <tr>\n      <th>19</th>\n      <td>19</td>\n      <td>NaN</td>\n      <td>NaN</td>\n      <td>NaN</td>\n      <td>Wednesday, 23 February 2022</td>\n      <td>2022-02-23</td>\n      <td>Truss rejects claim Russia-linked Tory donatio...</td>\n      <td>https://www.theguardian.com/politics/video/202...</td>\n      <td>NaN</td>\n      <td>NaN</td>\n    </tr>\n  </tbody>\n</table>\n</div>"
     },
     "execution_count": 8,
     "metadata": {},
     "output_type": "execute_result"
    }
   ],
   "source": [
    "import pandas as pd\n",
    "\n",
    "df_test = pd.read_csv('test6-23.csv')\n",
    "df_test.head(20)"
   ],
   "metadata": {
    "collapsed": false,
    "pycharm": {
     "name": "#%%\n"
    }
   }
  },
  {
   "cell_type": "code",
   "execution_count": 10,
   "outputs": [
    {
     "data": {
      "text/plain": "(495, 10)"
     },
     "execution_count": 10,
     "metadata": {},
     "output_type": "execute_result"
    }
   ],
   "source": [
    "df_test.shape"
   ],
   "metadata": {
    "collapsed": false,
    "pycharm": {
     "name": "#%%\n"
    }
   }
  },
  {
   "cell_type": "code",
   "execution_count": 17,
   "outputs": [
    {
     "data": {
      "text/plain": "91593.0"
     },
     "execution_count": 17,
     "metadata": {},
     "output_type": "execute_result"
    }
   ],
   "source": [
    "df_test[~df_test['comment count'].isnull()]['comment count'].sum()"
   ],
   "metadata": {
    "collapsed": false,
    "pycharm": {
     "name": "#%%\n"
    }
   }
  },
  {
   "cell_type": "code",
   "execution_count": null,
   "outputs": [],
   "source": [],
   "metadata": {
    "collapsed": false,
    "pycharm": {
     "name": "#%%\n"
    }
   }
  }
 ],
 "metadata": {
  "kernelspec": {
   "display_name": "Python 3",
   "language": "python",
   "name": "python3"
  },
  "language_info": {
   "codemirror_mode": {
    "name": "ipython",
    "version": 2
   },
   "file_extension": ".py",
   "mimetype": "text/x-python",
   "name": "python",
   "nbconvert_exporter": "python",
   "pygments_lexer": "ipython2",
   "version": "2.7.6"
  }
 },
 "nbformat": 4,
 "nbformat_minor": 0
}