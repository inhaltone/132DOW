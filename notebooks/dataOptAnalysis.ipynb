{
 "cells": [
  {
   "cell_type": "code",
   "execution_count": 268,
   "outputs": [],
   "source": [
    "import pandas as pd\n",
    "\n",
    "war_df = pd.read_csv('../data/processed/war-ukraine-merged.csv', index_col=[0])"
   ],
   "metadata": {
    "collapsed": false,
    "pycharm": {
     "name": "#%%\n"
    }
   }
  },
  {
   "cell_type": "code",
   "execution_count": 269,
   "outputs": [
    {
     "data": {
      "text/plain": "     Publisher Date Formatted Lang  \\\n0   ΚΑΘΗΜΕΡΙΝΗ     05-07-2022   el   \n1   ΚΑΘΗΜΕΡΙΝΗ     05-07-2022   el   \n2   ΚΑΘΗΜΕΡΙΝΗ     05-07-2022   el   \n3   ΚΑΘΗΜΕΡΙΝΗ     05-07-2022   el   \n4   ΚΑΘΗΜΕΡΙΝΗ     05-07-2022   el   \n5   ΚΑΘΗΜΕΡΙΝΗ     05-07-2022   el   \n6   ΚΑΘΗΜΕΡΙΝΗ     05-07-2022   el   \n7   ΚΑΘΗΜΕΡΙΝΗ     04-07-2022   el   \n8   ΚΑΘΗΜΕΡΙΝΗ     04-07-2022   el   \n9   ΚΑΘΗΜΕΡΙΝΗ     04-07-2022   el   \n10  ΚΑΘΗΜΕΡΙΝΗ     04-07-2022   el   \n11  ΚΑΘΗΜΕΡΙΝΗ     04-07-2022   el   \n12  ΚΑΘΗΜΕΡΙΝΗ     04-07-2022   el   \n13  ΚΑΘΗΜΕΡΙΝΗ     04-07-2022   el   \n14  ΚΑΘΗΜΕΡΙΝΗ     04-07-2022   el   \n15  ΚΑΘΗΜΕΡΙΝΗ     04-07-2022   el   \n16  ΚΑΘΗΜΕΡΙΝΗ     04-07-2022   el   \n17  ΚΑΘΗΜΕΡΙΝΗ     04-07-2022   el   \n18  ΚΑΘΗΜΕΡΙΝΗ     04-07-2022   el   \n19  ΚΑΘΗΜΕΡΙΝΗ     04-07-2022   el   \n20  ΚΑΘΗΜΕΡΙΝΗ     03-07-2022   el   \n21  ΚΑΘΗΜΕΡΙΝΗ     03-07-2022   el   \n22  ΚΑΘΗΜΕΡΙΝΗ     03-07-2022   el   \n23  ΚΑΘΗΜΕΡΙΝΗ     03-07-2022   el   \n24  ΚΑΘΗΜΕΡΙΝΗ     03-07-2022   el   \n25  ΚΑΘΗΜΕΡΙΝΗ     03-07-2022   el   \n26  ΚΑΘΗΜΕΡΙΝΗ     03-07-2022   el   \n27  ΚΑΘΗΜΕΡΙΝΗ     03-07-2022   el   \n28  ΚΑΘΗΜΕΡΙΝΗ     03-07-2022   el   \n29  ΚΑΘΗΜΕΡΙΝΗ     02-07-2022   el   \n30  ΚΑΘΗΜΕΡΙΝΗ     02-07-2022   el   \n31  ΚΑΘΗΜΕΡΙΝΗ     04-07-2022   el   \n32  ΚΑΘΗΜΕΡΙΝΗ     04-07-2022   el   \n33  ΚΑΘΗΜΕΡΙΝΗ     04-07-2022   el   \n34  ΚΑΘΗΜΕΡΙΝΗ     04-07-2022   el   \n35  ΚΑΘΗΜΕΡΙΝΗ     03-07-2022   el   \n36  ΚΑΘΗΜΕΡΙΝΗ     03-07-2022   el   \n37  ΚΑΘΗΜΕΡΙΝΗ     03-07-2022   el   \n38  ΚΑΘΗΜΕΡΙΝΗ     03-07-2022   el   \n39  ΚΑΘΗΜΕΡΙΝΗ     03-07-2022   el   \n40  ΚΑΘΗΜΕΡΙΝΗ     03-07-2022   el   \n41  ΚΑΘΗΜΕΡΙΝΗ     03-07-2022   el   \n42  ΚΑΘΗΜΕΡΙΝΗ     03-07-2022   el   \n43  ΚΑΘΗΜΕΡΙΝΗ     03-07-2022   el   \n44  ΚΑΘΗΜΕΡΙΝΗ     02-07-2022   el   \n45  ΚΑΘΗΜΕΡΙΝΗ     02-07-2022   el   \n46  ΚΑΘΗΜΕΡΙΝΗ     30-06-2022   el   \n47  ΚΑΘΗΜΕΡΙΝΗ     30-06-2022   el   \n48  ΚΑΘΗΜΕΡΙΝΗ     30-06-2022   el   \n49  ΚΑΘΗΜΕΡΙΝΗ     30-06-2022   el   \n50  ΚΑΘΗΜΕΡΙΝΗ     30-06-2022   el   \n51  ΚΑΘΗΜΕΡΙΝΗ     30-06-2022   el   \n52  ΚΑΘΗΜΕΡΙΝΗ     30-06-2022   el   \n53  ΚΑΘΗΜΕΡΙΝΗ     30-06-2022   el   \n54  ΚΑΘΗΜΕΡΙΝΗ     29-06-2022   el   \n55  ΚΑΘΗΜΕΡΙΝΗ     29-06-2022   el   \n56  ΚΑΘΗΜΕΡΙΝΗ     29-06-2022   el   \n57  ΚΑΘΗΜΕΡΙΝΗ     29-06-2022   el   \n58  ΚΑΘΗΜΕΡΙΝΗ     29-06-2022   el   \n59  ΚΑΘΗΜΕΡΙΝΗ     29-06-2022   el   \n\n                                              Heading                    Tag  \\\n0   Μπορέλ: O Πούτιν πρέπει να επιλέξει «ανάμεσα σ...                 ΚΟΣΜΟΣ   \n1   Μαριούπολη: Οι φιλορώσοι αυτονομιστές κατέσχεσ...  ΠΟΛΕΜΟΣ ΣΤΗΝ ΟΥΚΡΑΝΙΑ   \n2   Πρόβλεψη για αύξηση του εμπορίου μεταξύ Ρωσίας...      ΔΙΕΘΝΗΣ ΟΙΚΟΝΟΜΙΑ   \n3   Σακελλαροπούλου σε Ζελένσκι: Είμαστε και θα εί...               ΠΟΛΙΤΙΚΗ   \n4   Ουκρανία: Το ρωσοκρατούμενο πυρηνικό εργοστάσι...                 ΚΟΣΜΟΣ   \n5   Ουκρανία: Ανασυγκρότηση των ουκρανικών δυνάμεω...                 ΚΟΣΜΟΣ   \n6   Πόλεμος στην Ουκρανία: Στο Ντονέτσκ στρέφονται...                 ΚΟΣΜΟΣ   \n7   Ουκρανία: Οι κάτοικοι της Μαριούπολης πεθαίνου...                 ΚΟΣΜΟΣ   \n8   Μανουέλ Βίλας στην «Κ»: Πώς γίνεται ο Πούτιν ν...           ΣΥΝΕΝΤΕΥΞΕΙΣ   \n9   Πόλεμος στην Ουκρανία: Κόλαση επί γης οι πρώτε...                 ΚΟΣΜΟΣ   \n10  Ουκρανία: Η ουκρανική σημαία κυματίζει ξανά στ...                 ΚΟΣΜΟΣ   \n11  Politico: Μπορεί ο Μάριο Ντράγκι να κάνει ξανά...                 ΚΟΣΜΟΣ   \n12  Ο Σιάο Τζουντσένγκ στην «Κ»: Οι σχέσεις μας αν...           ΣΥΝΕΝΤΕΥΞΕΙΣ   \n13  Ελβετία: Ξεκινά σήμερα η Διάσκεψη για την Ανασ...                 ΚΟΣΜΟΣ   \n14  Γερμανία: D-Day η 22η Ιουλίου για το ρωσικό φυ...                 ΚΟΣΜΟΣ   \n15  Ουκρανία: Ρωσικές επιθέσεις στο Χάρκοβο, με τρ...                 ΚΟΣΜΟΣ   \n16  Πώς θα μπορούσε να τελειώσει ο πόλεμος στην Ου...                 ΚΟΣΜΟΣ   \n17  Ουκρανία: Το Κίεβο χάνει το Λουχάνσκ αλλά εξασ...                 ΚΟΣΜΟΣ   \n18      Σε δύσκολη θέση η γερμανική ενεργειακή Uniper      ΔΙΕΘΝΗΣ ΟΙΚΟΝΟΜΙΑ   \n19  Άρθρο του Μ. Ρεντούμη στην «Κ»: Παγκόσμια ισορ...                  ΑΠΟΨΗ   \n20  Ζελένσκι: Ο στρατός αποσύρθηκε από το Λισιτσάν...                 ΚΟΣΜΟΣ   \n21  Ουκρανία: Ο στρατός επιβεβαίωσε ότι αποχώρησε ...                 ΚΟΣΜΟΣ   \n22  Το πλαφόν του G7 στις ρωσικές εξαγωγές θα αυξή...                ΑΝΑΛΥΣΗ   \n23  Πόλεμος στην Ουκρανία: Έξι νεκροί και 15 τραυμ...                 ΚΟΣΜΟΣ   \n24  Ουκρανία: Η Μόσχα ανακοίνωσε την κατάληψη του ...                 ΚΟΣΜΟΣ   \n25  Ουκρανία: Χειρουργικό πλήγμα του Κιέβου κατά ρ...                 ΚΟΣΜΟΣ   \n26            Με απώλειες ξεκίνησε ο Ιούλιος στο Χ.Α.                 ΑΓΟΡΕΣ   \n27  Ουκρανία: Ο πρόεδρος Ζελένσκι ζητεί διεθνή βοή...                 ΚΟΣΜΟΣ   \n28  Ρωσία: Τουλάχιστον τρεις νεκροί στο Μπέλγκορον...                 ΚΟΣΜΟΣ   \n29  ΕΕ: Επικοινωνία Μπορέλ – Κουλέμπα πριν από τη ...                 ΚΟΣΜΟΣ   \n30  Ουκρανία: Μάχες στο Λισιτσάνσκ – Οι αυτονομιστ...                 ΚΟΣΜΟΣ   \n31  Πώς θα μπορούσε να τελειώσει ο πόλεμος στην Ου...                 ΚΟΣΜΟΣ   \n32  Ουκρανία: Το Κίεβο χάνει το Λουχάνσκ αλλά εξασ...                 ΚΟΣΜΟΣ   \n33      Σε δύσκολη θέση η γερμανική ενεργειακή Uniper      ΔΙΕΘΝΗΣ ΟΙΚΟΝΟΜΙΑ   \n34  Άρθρο του Μ. Ρεντούμη στην «Κ»: Παγκόσμια ισορ...                  ΑΠΟΨΗ   \n35  Ζελένσκι: Ο στρατός αποσύρθηκε από το Λισιτσάν...                 ΚΟΣΜΟΣ   \n36  Ουκρανία: Ο στρατός επιβεβαίωσε ότι αποχώρησε ...                 ΚΟΣΜΟΣ   \n37  Το πλαφόν του G7 στις ρωσικές εξαγωγές θα αυξή...                ΑΝΑΛΥΣΗ   \n38  Πόλεμος στην Ουκρανία: Έξι νεκροί και 15 τραυμ...                 ΚΟΣΜΟΣ   \n39  Ουκρανία: Η Μόσχα ανακοίνωσε την κατάληψη του ...                 ΚΟΣΜΟΣ   \n40  Ουκρανία: Χειρουργικό πλήγμα του Κιέβου κατά ρ...                 ΚΟΣΜΟΣ   \n41            Με απώλειες ξεκίνησε ο Ιούλιος στο Χ.Α.                 ΑΓΟΡΕΣ   \n42  Ουκρανία: Ο πρόεδρος Ζελένσκι ζητεί διεθνή βοή...                 ΚΟΣΜΟΣ   \n43  Ρωσία: Τουλάχιστον τρεις νεκροί στο Μπέλγκορον...                 ΚΟΣΜΟΣ   \n44  ΕΕ: Επικοινωνία Μπορέλ – Κουλέμπα πριν από τη ...                 ΚΟΣΜΟΣ   \n45  Ουκρανία: Μάχες στο Λισιτσάνσκ – Οι αυτονομιστ...                 ΚΟΣΜΟΣ   \n46  Στόλτενμπεργκ: Η Ελλάδα θα διαθέσει πλοία για ...     ΕΞΩΤΕΡΙΚΗ ΠΟΛΙΤΙΚΗ   \n47  Πόλεμος στην Ουκρανία: Αποσύρθηκαν από το Φιδο...                 ΚΟΣΜΟΣ   \n48  Βρετανή ΥΠΕΞ: Το ΝΑΤΟ να αγνοήσει τη ρητορική ...                 ΚΟΣΜΟΣ   \n49  Ουκρανία: Εντολή υποχώρησης από το Λισιτσάνσκ ...                 ΚΟΣΜΟΣ   \n50         Μεταναστευτικό: Αντιδράσεις για τη Μελίγια                 ΚΟΣΜΟΣ   \n51  Ουκρανία: Αποκρούστηκε ρωσική επίθεση σε απελε...                 ΚΟΣΜΟΣ   \n52  Διεθνής Αμνηστία: Έγκλημα πολέμου ο βομβαρδισμ...                 ΚΟΣΜΟΣ   \n53  Ουκρανία: Σφίγγει ο κλοιός γύρω από την πόλη Λ...                 ΚΟΣΜΟΣ   \n54  Πάνω από 30% οι αυξήσεις τιμών σε τρόφιμα το τ...     ΕΛΛΗΝΙΚΗ ΟΙΚΟΝΟΜΙΑ   \n55  ΗΠΑ: Κατέσχεσαν περουσιακά στοιχεία Ρώσων ολιγ...                 ΚΟΣΜΟΣ   \n56  Μητσοτάκης από ΝΑΤΟ: Οι κυρώσεις που αποφασίζο...               ΠΟΛΙΤΙΚΗ   \n57  Ομιλία Ζελένσκι στο ΝΑΤΟ: Χρειαζόμαστε 5 δισ. ...                 ΚΟΣΜΟΣ   \n58  Τζόνσον: Αν ο Πούτιν ήταν γυναίκα, δεν θα είχε...                 ΚΟΣΜΟΣ   \n59  Άρθρο του Τζέφρι Σακς στην «Κ»: Η Ουκρανία είν...                  ΑΠΟΨΗ   \n\n                                                 Text  Comments exist  \\\n0   Οι κυρώσεις, που έχουν επιβληθεί στην Ρωσία σε...           False   \n1   Οι φιλορώσοι αυτονομιστές κατέλαβαν δύο πλοία ...           False   \n2   Ο εμπορικός τζίρος μεταξύ Τουρκίας και Ρωσίας ...           False   \n3   «Το απαραβίαστο των συνόρων είναι η βάση της σ...           False   \n4   Ο μεγαλύτερος πυρηνικός σταθμός της Ευρώπης, μ...           False   \n5   Οι ουκρανικές δυνάμεις κατέλαβαν την Τρίτη νέε...           False   \n6   Να συνεχιστεί η ρωσική επίθεση στην ανατολική ...           False   \n7   Στην περιοχή του Ντονέτσκ που βρίσκεται υπό το...           False   \n8   «Είναι αλήθεια ότι με αγαπήσατε ή το βγάζω από...           False   \n9   Καμένα δάση, πόλεις κατεστραμμένες, στρατιώτες...           False   \n10  Η ουκρανική σημαία υψώθηκε ξανά στο Φιδονήσι σ...           False   \n11  «Ουδείς αναντικατάστατος», λένε. Υπάρχουν ηγέτ...           False   \n12  Οι οικονομικές και εμπορικές μας σχέσεις αναπτ...           False   \n13  Ο υπουργός Εξωτερικών, Νίκος Δένδιας, εκπροσωπ...           False   \n14  Η Γιασμίν Φαχίμι, πάλαι ποτέ γενική γραμματέας...           False   \n15  Tρεις άνθρωποι σκοτώθηκαν και έξι τραυματίστηκ...           False   \n16  Το ότι ο πόλεμος στην Ουκρανία θα έπρεπε να λά...           False   \n17  Την ώρα που οι Ουκρανοί αποσύρονται από το Λισ...           False   \n18  Στην αρωγή του γερμανικού κράτους ενδέχεται να...           False   \n19  Οι τελευταίοι μήνες είναι ιδιαίτερα κρίσιμοι γ...           False   \n20  Ο πρόεδρος της Ουκρανίας, Βολοντίμιρ Ζελένσκι,...           False   \n21  Οι ουκρανικές δυνάμεις αναγκάστηκαν να αποχωρή...           False   \n22  Η επιβολή ανώτατου ορίου τιμών στις ρωσικές εξ...           False   \n23  Έξι άνθρωποι σκοτώθηκαν σήμερα στο Σλοβιάνσκ, ...           False   \n24  Οι ρωσικές στρατιωτικές δυνάμεις και οι δυνάμε...           False   \n25  Τουλάχιστον 30 οβίδες έριξαν οι ουκρανικές ένο...           False   \n26  Πιέσεις δέχθηκε το Χρηματιστήριο Αθηνών κατά τ...           False   \n27  Ο Ουκρανός πρόεδρος Βολοντίμιρ Ζελένσκι κάλεσε...           False   \n28  Τουλάχιστον τρεις άνθρωποι έχασαν τη ζωή τους ...           False   \n29  Ο Ύπατος Εκπρόσωπος της Ε.Ε., Ζοζέπ Μπορέλ, εί...           False   \n30  Σφοδρές μάχες μαίνονται σήμερα στο Λισιτσάνσκ,...           False   \n31  Το ότι ο πόλεμος στην Ουκρανία θα έπρεπε να λά...           False   \n32  Την ώρα που οι Ουκρανοί αποσύρονται από το Λισ...           False   \n33  Στην αρωγή του γερμανικού κράτους ενδέχεται να...           False   \n34  Οι τελευταίοι μήνες είναι ιδιαίτερα κρίσιμοι γ...           False   \n35  Ο πρόεδρος της Ουκρανίας, Βολοντίμιρ Ζελένσκι,...           False   \n36  Οι ουκρανικές δυνάμεις αναγκάστηκαν να αποχωρή...           False   \n37  Η επιβολή ανώτατου ορίου τιμών στις ρωσικές εξ...           False   \n38  Έξι άνθρωποι σκοτώθηκαν σήμερα στο Σλοβιάνσκ, ...           False   \n39  Οι ρωσικές στρατιωτικές δυνάμεις και οι δυνάμε...           False   \n40  Τουλάχιστον 30 οβίδες έριξαν οι ουκρανικές ένο...           False   \n41  Πιέσεις δέχθηκε το Χρηματιστήριο Αθηνών κατά τ...           False   \n42  Ο Ουκρανός πρόεδρος Βολοντίμιρ Ζελένσκι κάλεσε...           False   \n43  Τουλάχιστον τρεις άνθρωποι έχασαν τη ζωή τους ...           False   \n44  Ο Ύπατος Εκπρόσωπος της Ε.Ε., Ζοζέπ Μπορέλ, εί...           False   \n45  Σφοδρές μάχες μαίνονται σήμερα στο Λισιτσάνσκ,...           False   \n46  Η Ελλάδα είναι πρόθυμη να διαθέσει πλοία, προκ...           False   \n47  Την απόσυρση των ρωσικών δυνάμεων από το Φιδον...           False   \n48  Το ΝΑΤΟ θα πρέπει να αγνοήσει τη ρωσική ρητορι...           False   \n49  Μονάδες των Ενόπλων Δυνάμεων της Ουκρανίας, πο...           False   \n50  ΒΕΡΟΛΙΝΟ. «Οι φρικτές εικόνες και ειδήσεις από...           False   \n51  Με επιδρομές ελικοπτέρων και Mi-8, οι ρωσικές ...           False   \n52  Η μη κυβερνητική οργάνωση υπεράσπισης των ανθρ...           False   \n53  Βαριές απώλειες ισχυρίζονται ότι κατάφεραν οι ...           False   \n54  Με αυξήσεις που υπερβαίνουν το 30% σε τρόφιμα ...           False   \n55  Στην κατάσχεση περιουσιακών στοιχείων Ρώσων ολ...           False   \n56  Η ρωσική εισβολή στην Ουκρανία έχει καταστήσει...           False   \n57  Ο Ουκρανός πρόεδρος έκρουσε τον κώδωνα του κιν...           False   \n58  Ο Ρώσος πρόεδρος Βλαντίμιρ Πούτιν δεν θα είχε ...           False   \n59  Ο πόλεμος στην Ουκρανία αποτελεί το αποκορύφωμ...           False   \n\n    Comments count Comments api key  \\\n0              0.0              NaN   \n1              0.0              NaN   \n2              0.0              NaN   \n3              0.0              NaN   \n4              0.0              NaN   \n5              0.0              NaN   \n6              0.0              NaN   \n7              0.0              NaN   \n8              0.0              NaN   \n9              0.0              NaN   \n10             0.0              NaN   \n11             0.0              NaN   \n12             0.0              NaN   \n13             0.0              NaN   \n14             0.0              NaN   \n15             0.0              NaN   \n16             0.0              NaN   \n17             0.0              NaN   \n18             0.0              NaN   \n19             0.0              NaN   \n20             0.0              NaN   \n21             0.0              NaN   \n22             0.0              NaN   \n23             0.0              NaN   \n24             0.0              NaN   \n25             0.0              NaN   \n26             0.0              NaN   \n27             0.0              NaN   \n28             0.0              NaN   \n29             0.0              NaN   \n30             0.0              NaN   \n31             0.0              NaN   \n32             0.0              NaN   \n33             0.0              NaN   \n34             0.0              NaN   \n35             0.0              NaN   \n36             0.0              NaN   \n37             0.0              NaN   \n38             0.0              NaN   \n39             0.0              NaN   \n40             0.0              NaN   \n41             0.0              NaN   \n42             0.0              NaN   \n43             0.0              NaN   \n44             0.0              NaN   \n45             0.0              NaN   \n46             0.0              NaN   \n47             0.0              NaN   \n48             0.0              NaN   \n49             0.0              NaN   \n50             0.0              NaN   \n51             0.0              NaN   \n52             0.0              NaN   \n53             0.0              NaN   \n54             0.0              NaN   \n55             0.0              NaN   \n56             0.0              NaN   \n57             0.0              NaN   \n58             0.0              NaN   \n59             0.0              NaN   \n\n                                          Article url  \n0   https://www.kathimerini.gr/world/561942142/mpo...  \n1   https://www.kathimerini.gr/world/561942133/mar...  \n2   https://www.kathimerini.gr/economy/internation...  \n3   https://www.kathimerini.gr/politics/561941488/...  \n4   https://www.kathimerini.gr/world/561941377/oyk...  \n5   https://www.kathimerini.gr/world/561941344/oyk...  \n6   https://www.kathimerini.gr/world/561940840/pol...  \n7   https://www.kathimerini.gr/world/561940570/oyk...  \n8   https://www.kathimerini.gr/opinion/interviews/...  \n9   https://www.kathimerini.gr/world/561940279/pol...  \n10  https://www.kathimerini.gr/world/561940291/oyk...  \n11  https://www.kathimerini.gr/world/561940111/mar...  \n12  https://www.kathimerini.gr/opinion/interviews/...  \n13  https://www.kathimerini.gr/world/561939976/elv...  \n14  https://www.kathimerini.gr/world/561939931/ger...  \n15  https://www.kathimerini.gr/world/561939892/oyk...  \n16  https://www.kathimerini.gr/world/561939787/pos...  \n17  https://www.kathimerini.gr/world/561939736/oyk...  \n18  https://www.kathimerini.gr/economy/internation...  \n19  https://www.kathimerini.gr/economy/561938227/a...  \n20  https://www.kathimerini.gr/world/561939679/zel...  \n21  https://www.kathimerini.gr/world/561939598/pol...  \n22  https://www.kathimerini.gr/economy/561937357/t...  \n23  https://www.kathimerini.gr/world/561939520/pol...  \n24  https://www.kathimerini.gr/world/561939346/oyk...  \n25  https://www.kathimerini.gr/world/561939310/oyk...  \n26  https://www.kathimerini.gr/economy/markets/561...  \n27  https://www.kathimerini.gr/world/561939259/oyk...  \n28  https://www.kathimerini.gr/world/561939250/ros...  \n29  https://www.kathimerini.gr/world/561939145/ee-...  \n30  https://www.kathimerini.gr/world/561939106/oyk...  \n31  https://www.kathimerini.gr/world/561939787/pos...  \n32  https://www.kathimerini.gr/world/561939736/oyk...  \n33  https://www.kathimerini.gr/economy/internation...  \n34  https://www.kathimerini.gr/economy/561938227/a...  \n35  https://www.kathimerini.gr/world/561939679/zel...  \n36  https://www.kathimerini.gr/world/561939598/pol...  \n37  https://www.kathimerini.gr/economy/561937357/t...  \n38  https://www.kathimerini.gr/world/561939520/pol...  \n39  https://www.kathimerini.gr/world/561939346/oyk...  \n40  https://www.kathimerini.gr/world/561939310/oyk...  \n41  https://www.kathimerini.gr/economy/markets/561...  \n42  https://www.kathimerini.gr/world/561939259/oyk...  \n43  https://www.kathimerini.gr/world/561939250/ros...  \n44  https://www.kathimerini.gr/world/561939145/ee-...  \n45  https://www.kathimerini.gr/world/561939106/oyk...  \n46  https://www.kathimerini.gr/politics/foreign-po...  \n47  https://www.kathimerini.gr/world/561934537/pol...  \n48  https://www.kathimerini.gr/world/561934432/vre...  \n49  https://www.kathimerini.gr/world/561934339/oyk...  \n50  https://www.kathimerini.gr/world/561931909/met...  \n51  https://www.kathimerini.gr/world/561934252/oyk...  \n52  https://www.kathimerini.gr/world/561934204/die...  \n53  https://www.kathimerini.gr/world/561934186/oyk...  \n54  https://www.kathimerini.gr/economy/local/56193...  \n55  https://www.kathimerini.gr/world/561933274/ipa...  \n56  https://www.kathimerini.gr/politics/561933031/...  \n57  https://www.kathimerini.gr/world/561932995/omi...  \n58  https://www.kathimerini.gr/world/561932926/tzo...  \n59  https://www.kathimerini.gr/world/561929953/art...  ",
      "text/html": "<div>\n<style scoped>\n    .dataframe tbody tr th:only-of-type {\n        vertical-align: middle;\n    }\n\n    .dataframe tbody tr th {\n        vertical-align: top;\n    }\n\n    .dataframe thead th {\n        text-align: right;\n    }\n</style>\n<table border=\"1\" class=\"dataframe\">\n  <thead>\n    <tr style=\"text-align: right;\">\n      <th></th>\n      <th>Publisher</th>\n      <th>Date Formatted</th>\n      <th>Lang</th>\n      <th>Heading</th>\n      <th>Tag</th>\n      <th>Text</th>\n      <th>Comments exist</th>\n      <th>Comments count</th>\n      <th>Comments api key</th>\n      <th>Article url</th>\n    </tr>\n  </thead>\n  <tbody>\n    <tr>\n      <th>0</th>\n      <td>ΚΑΘΗΜΕΡΙΝΗ</td>\n      <td>05-07-2022</td>\n      <td>el</td>\n      <td>Μπορέλ: O Πούτιν πρέπει να επιλέξει «ανάμεσα σ...</td>\n      <td>ΚΟΣΜΟΣ</td>\n      <td>Οι κυρώσεις, που έχουν επιβληθεί στην Ρωσία σε...</td>\n      <td>False</td>\n      <td>0.0</td>\n      <td>NaN</td>\n      <td>https://www.kathimerini.gr/world/561942142/mpo...</td>\n    </tr>\n    <tr>\n      <th>1</th>\n      <td>ΚΑΘΗΜΕΡΙΝΗ</td>\n      <td>05-07-2022</td>\n      <td>el</td>\n      <td>Μαριούπολη: Οι φιλορώσοι αυτονομιστές κατέσχεσ...</td>\n      <td>ΠΟΛΕΜΟΣ ΣΤΗΝ ΟΥΚΡΑΝΙΑ</td>\n      <td>Οι φιλορώσοι αυτονομιστές κατέλαβαν δύο πλοία ...</td>\n      <td>False</td>\n      <td>0.0</td>\n      <td>NaN</td>\n      <td>https://www.kathimerini.gr/world/561942133/mar...</td>\n    </tr>\n    <tr>\n      <th>2</th>\n      <td>ΚΑΘΗΜΕΡΙΝΗ</td>\n      <td>05-07-2022</td>\n      <td>el</td>\n      <td>Πρόβλεψη για αύξηση του εμπορίου μεταξύ Ρωσίας...</td>\n      <td>ΔΙΕΘΝΗΣ ΟΙΚΟΝΟΜΙΑ</td>\n      <td>Ο εμπορικός τζίρος μεταξύ Τουρκίας και Ρωσίας ...</td>\n      <td>False</td>\n      <td>0.0</td>\n      <td>NaN</td>\n      <td>https://www.kathimerini.gr/economy/internation...</td>\n    </tr>\n    <tr>\n      <th>3</th>\n      <td>ΚΑΘΗΜΕΡΙΝΗ</td>\n      <td>05-07-2022</td>\n      <td>el</td>\n      <td>Σακελλαροπούλου σε Ζελένσκι: Είμαστε και θα εί...</td>\n      <td>ΠΟΛΙΤΙΚΗ</td>\n      <td>«Το απαραβίαστο των συνόρων είναι η βάση της σ...</td>\n      <td>False</td>\n      <td>0.0</td>\n      <td>NaN</td>\n      <td>https://www.kathimerini.gr/politics/561941488/...</td>\n    </tr>\n    <tr>\n      <th>4</th>\n      <td>ΚΑΘΗΜΕΡΙΝΗ</td>\n      <td>05-07-2022</td>\n      <td>el</td>\n      <td>Ουκρανία: Το ρωσοκρατούμενο πυρηνικό εργοστάσι...</td>\n      <td>ΚΟΣΜΟΣ</td>\n      <td>Ο μεγαλύτερος πυρηνικός σταθμός της Ευρώπης, μ...</td>\n      <td>False</td>\n      <td>0.0</td>\n      <td>NaN</td>\n      <td>https://www.kathimerini.gr/world/561941377/oyk...</td>\n    </tr>\n    <tr>\n      <th>5</th>\n      <td>ΚΑΘΗΜΕΡΙΝΗ</td>\n      <td>05-07-2022</td>\n      <td>el</td>\n      <td>Ουκρανία: Ανασυγκρότηση των ουκρανικών δυνάμεω...</td>\n      <td>ΚΟΣΜΟΣ</td>\n      <td>Οι ουκρανικές δυνάμεις κατέλαβαν την Τρίτη νέε...</td>\n      <td>False</td>\n      <td>0.0</td>\n      <td>NaN</td>\n      <td>https://www.kathimerini.gr/world/561941344/oyk...</td>\n    </tr>\n    <tr>\n      <th>6</th>\n      <td>ΚΑΘΗΜΕΡΙΝΗ</td>\n      <td>05-07-2022</td>\n      <td>el</td>\n      <td>Πόλεμος στην Ουκρανία: Στο Ντονέτσκ στρέφονται...</td>\n      <td>ΚΟΣΜΟΣ</td>\n      <td>Να συνεχιστεί η ρωσική επίθεση στην ανατολική ...</td>\n      <td>False</td>\n      <td>0.0</td>\n      <td>NaN</td>\n      <td>https://www.kathimerini.gr/world/561940840/pol...</td>\n    </tr>\n    <tr>\n      <th>7</th>\n      <td>ΚΑΘΗΜΕΡΙΝΗ</td>\n      <td>04-07-2022</td>\n      <td>el</td>\n      <td>Ουκρανία: Οι κάτοικοι της Μαριούπολης πεθαίνου...</td>\n      <td>ΚΟΣΜΟΣ</td>\n      <td>Στην περιοχή του Ντονέτσκ που βρίσκεται υπό το...</td>\n      <td>False</td>\n      <td>0.0</td>\n      <td>NaN</td>\n      <td>https://www.kathimerini.gr/world/561940570/oyk...</td>\n    </tr>\n    <tr>\n      <th>8</th>\n      <td>ΚΑΘΗΜΕΡΙΝΗ</td>\n      <td>04-07-2022</td>\n      <td>el</td>\n      <td>Μανουέλ Βίλας στην «Κ»: Πώς γίνεται ο Πούτιν ν...</td>\n      <td>ΣΥΝΕΝΤΕΥΞΕΙΣ</td>\n      <td>«Είναι αλήθεια ότι με αγαπήσατε ή το βγάζω από...</td>\n      <td>False</td>\n      <td>0.0</td>\n      <td>NaN</td>\n      <td>https://www.kathimerini.gr/opinion/interviews/...</td>\n    </tr>\n    <tr>\n      <th>9</th>\n      <td>ΚΑΘΗΜΕΡΙΝΗ</td>\n      <td>04-07-2022</td>\n      <td>el</td>\n      <td>Πόλεμος στην Ουκρανία: Κόλαση επί γης οι πρώτε...</td>\n      <td>ΚΟΣΜΟΣ</td>\n      <td>Καμένα δάση, πόλεις κατεστραμμένες, στρατιώτες...</td>\n      <td>False</td>\n      <td>0.0</td>\n      <td>NaN</td>\n      <td>https://www.kathimerini.gr/world/561940279/pol...</td>\n    </tr>\n    <tr>\n      <th>10</th>\n      <td>ΚΑΘΗΜΕΡΙΝΗ</td>\n      <td>04-07-2022</td>\n      <td>el</td>\n      <td>Ουκρανία: Η ουκρανική σημαία κυματίζει ξανά στ...</td>\n      <td>ΚΟΣΜΟΣ</td>\n      <td>Η ουκρανική σημαία υψώθηκε ξανά στο Φιδονήσι σ...</td>\n      <td>False</td>\n      <td>0.0</td>\n      <td>NaN</td>\n      <td>https://www.kathimerini.gr/world/561940291/oyk...</td>\n    </tr>\n    <tr>\n      <th>11</th>\n      <td>ΚΑΘΗΜΕΡΙΝΗ</td>\n      <td>04-07-2022</td>\n      <td>el</td>\n      <td>Politico: Μπορεί ο Μάριο Ντράγκι να κάνει ξανά...</td>\n      <td>ΚΟΣΜΟΣ</td>\n      <td>«Ουδείς αναντικατάστατος», λένε. Υπάρχουν ηγέτ...</td>\n      <td>False</td>\n      <td>0.0</td>\n      <td>NaN</td>\n      <td>https://www.kathimerini.gr/world/561940111/mar...</td>\n    </tr>\n    <tr>\n      <th>12</th>\n      <td>ΚΑΘΗΜΕΡΙΝΗ</td>\n      <td>04-07-2022</td>\n      <td>el</td>\n      <td>Ο Σιάο Τζουντσένγκ στην «Κ»: Οι σχέσεις μας αν...</td>\n      <td>ΣΥΝΕΝΤΕΥΞΕΙΣ</td>\n      <td>Οι οικονομικές και εμπορικές μας σχέσεις αναπτ...</td>\n      <td>False</td>\n      <td>0.0</td>\n      <td>NaN</td>\n      <td>https://www.kathimerini.gr/opinion/interviews/...</td>\n    </tr>\n    <tr>\n      <th>13</th>\n      <td>ΚΑΘΗΜΕΡΙΝΗ</td>\n      <td>04-07-2022</td>\n      <td>el</td>\n      <td>Ελβετία: Ξεκινά σήμερα η Διάσκεψη για την Ανασ...</td>\n      <td>ΚΟΣΜΟΣ</td>\n      <td>Ο υπουργός Εξωτερικών, Νίκος Δένδιας, εκπροσωπ...</td>\n      <td>False</td>\n      <td>0.0</td>\n      <td>NaN</td>\n      <td>https://www.kathimerini.gr/world/561939976/elv...</td>\n    </tr>\n    <tr>\n      <th>14</th>\n      <td>ΚΑΘΗΜΕΡΙΝΗ</td>\n      <td>04-07-2022</td>\n      <td>el</td>\n      <td>Γερμανία: D-Day η 22η Ιουλίου για το ρωσικό φυ...</td>\n      <td>ΚΟΣΜΟΣ</td>\n      <td>Η Γιασμίν Φαχίμι, πάλαι ποτέ γενική γραμματέας...</td>\n      <td>False</td>\n      <td>0.0</td>\n      <td>NaN</td>\n      <td>https://www.kathimerini.gr/world/561939931/ger...</td>\n    </tr>\n    <tr>\n      <th>15</th>\n      <td>ΚΑΘΗΜΕΡΙΝΗ</td>\n      <td>04-07-2022</td>\n      <td>el</td>\n      <td>Ουκρανία: Ρωσικές επιθέσεις στο Χάρκοβο, με τρ...</td>\n      <td>ΚΟΣΜΟΣ</td>\n      <td>Tρεις άνθρωποι σκοτώθηκαν και έξι τραυματίστηκ...</td>\n      <td>False</td>\n      <td>0.0</td>\n      <td>NaN</td>\n      <td>https://www.kathimerini.gr/world/561939892/oyk...</td>\n    </tr>\n    <tr>\n      <th>16</th>\n      <td>ΚΑΘΗΜΕΡΙΝΗ</td>\n      <td>04-07-2022</td>\n      <td>el</td>\n      <td>Πώς θα μπορούσε να τελειώσει ο πόλεμος στην Ου...</td>\n      <td>ΚΟΣΜΟΣ</td>\n      <td>Το ότι ο πόλεμος στην Ουκρανία θα έπρεπε να λά...</td>\n      <td>False</td>\n      <td>0.0</td>\n      <td>NaN</td>\n      <td>https://www.kathimerini.gr/world/561939787/pos...</td>\n    </tr>\n    <tr>\n      <th>17</th>\n      <td>ΚΑΘΗΜΕΡΙΝΗ</td>\n      <td>04-07-2022</td>\n      <td>el</td>\n      <td>Ουκρανία: Το Κίεβο χάνει το Λουχάνσκ αλλά εξασ...</td>\n      <td>ΚΟΣΜΟΣ</td>\n      <td>Την ώρα που οι Ουκρανοί αποσύρονται από το Λισ...</td>\n      <td>False</td>\n      <td>0.0</td>\n      <td>NaN</td>\n      <td>https://www.kathimerini.gr/world/561939736/oyk...</td>\n    </tr>\n    <tr>\n      <th>18</th>\n      <td>ΚΑΘΗΜΕΡΙΝΗ</td>\n      <td>04-07-2022</td>\n      <td>el</td>\n      <td>Σε δύσκολη θέση η γερμανική ενεργειακή Uniper</td>\n      <td>ΔΙΕΘΝΗΣ ΟΙΚΟΝΟΜΙΑ</td>\n      <td>Στην αρωγή του γερμανικού κράτους ενδέχεται να...</td>\n      <td>False</td>\n      <td>0.0</td>\n      <td>NaN</td>\n      <td>https://www.kathimerini.gr/economy/internation...</td>\n    </tr>\n    <tr>\n      <th>19</th>\n      <td>ΚΑΘΗΜΕΡΙΝΗ</td>\n      <td>04-07-2022</td>\n      <td>el</td>\n      <td>Άρθρο του Μ. Ρεντούμη στην «Κ»: Παγκόσμια ισορ...</td>\n      <td>ΑΠΟΨΗ</td>\n      <td>Οι τελευταίοι μήνες είναι ιδιαίτερα κρίσιμοι γ...</td>\n      <td>False</td>\n      <td>0.0</td>\n      <td>NaN</td>\n      <td>https://www.kathimerini.gr/economy/561938227/a...</td>\n    </tr>\n    <tr>\n      <th>20</th>\n      <td>ΚΑΘΗΜΕΡΙΝΗ</td>\n      <td>03-07-2022</td>\n      <td>el</td>\n      <td>Ζελένσκι: Ο στρατός αποσύρθηκε από το Λισιτσάν...</td>\n      <td>ΚΟΣΜΟΣ</td>\n      <td>Ο πρόεδρος της Ουκρανίας, Βολοντίμιρ Ζελένσκι,...</td>\n      <td>False</td>\n      <td>0.0</td>\n      <td>NaN</td>\n      <td>https://www.kathimerini.gr/world/561939679/zel...</td>\n    </tr>\n    <tr>\n      <th>21</th>\n      <td>ΚΑΘΗΜΕΡΙΝΗ</td>\n      <td>03-07-2022</td>\n      <td>el</td>\n      <td>Ουκρανία: Ο στρατός επιβεβαίωσε ότι αποχώρησε ...</td>\n      <td>ΚΟΣΜΟΣ</td>\n      <td>Οι ουκρανικές δυνάμεις αναγκάστηκαν να αποχωρή...</td>\n      <td>False</td>\n      <td>0.0</td>\n      <td>NaN</td>\n      <td>https://www.kathimerini.gr/world/561939598/pol...</td>\n    </tr>\n    <tr>\n      <th>22</th>\n      <td>ΚΑΘΗΜΕΡΙΝΗ</td>\n      <td>03-07-2022</td>\n      <td>el</td>\n      <td>Το πλαφόν του G7 στις ρωσικές εξαγωγές θα αυξή...</td>\n      <td>ΑΝΑΛΥΣΗ</td>\n      <td>Η επιβολή ανώτατου ορίου τιμών στις ρωσικές εξ...</td>\n      <td>False</td>\n      <td>0.0</td>\n      <td>NaN</td>\n      <td>https://www.kathimerini.gr/economy/561937357/t...</td>\n    </tr>\n    <tr>\n      <th>23</th>\n      <td>ΚΑΘΗΜΕΡΙΝΗ</td>\n      <td>03-07-2022</td>\n      <td>el</td>\n      <td>Πόλεμος στην Ουκρανία: Έξι νεκροί και 15 τραυμ...</td>\n      <td>ΚΟΣΜΟΣ</td>\n      <td>Έξι άνθρωποι σκοτώθηκαν σήμερα στο Σλοβιάνσκ, ...</td>\n      <td>False</td>\n      <td>0.0</td>\n      <td>NaN</td>\n      <td>https://www.kathimerini.gr/world/561939520/pol...</td>\n    </tr>\n    <tr>\n      <th>24</th>\n      <td>ΚΑΘΗΜΕΡΙΝΗ</td>\n      <td>03-07-2022</td>\n      <td>el</td>\n      <td>Ουκρανία: Η Μόσχα ανακοίνωσε την κατάληψη του ...</td>\n      <td>ΚΟΣΜΟΣ</td>\n      <td>Οι ρωσικές στρατιωτικές δυνάμεις και οι δυνάμε...</td>\n      <td>False</td>\n      <td>0.0</td>\n      <td>NaN</td>\n      <td>https://www.kathimerini.gr/world/561939346/oyk...</td>\n    </tr>\n    <tr>\n      <th>25</th>\n      <td>ΚΑΘΗΜΕΡΙΝΗ</td>\n      <td>03-07-2022</td>\n      <td>el</td>\n      <td>Ουκρανία: Χειρουργικό πλήγμα του Κιέβου κατά ρ...</td>\n      <td>ΚΟΣΜΟΣ</td>\n      <td>Τουλάχιστον 30 οβίδες έριξαν οι ουκρανικές ένο...</td>\n      <td>False</td>\n      <td>0.0</td>\n      <td>NaN</td>\n      <td>https://www.kathimerini.gr/world/561939310/oyk...</td>\n    </tr>\n    <tr>\n      <th>26</th>\n      <td>ΚΑΘΗΜΕΡΙΝΗ</td>\n      <td>03-07-2022</td>\n      <td>el</td>\n      <td>Με απώλειες ξεκίνησε ο Ιούλιος στο Χ.Α.</td>\n      <td>ΑΓΟΡΕΣ</td>\n      <td>Πιέσεις δέχθηκε το Χρηματιστήριο Αθηνών κατά τ...</td>\n      <td>False</td>\n      <td>0.0</td>\n      <td>NaN</td>\n      <td>https://www.kathimerini.gr/economy/markets/561...</td>\n    </tr>\n    <tr>\n      <th>27</th>\n      <td>ΚΑΘΗΜΕΡΙΝΗ</td>\n      <td>03-07-2022</td>\n      <td>el</td>\n      <td>Ουκρανία: Ο πρόεδρος Ζελένσκι ζητεί διεθνή βοή...</td>\n      <td>ΚΟΣΜΟΣ</td>\n      <td>Ο Ουκρανός πρόεδρος Βολοντίμιρ Ζελένσκι κάλεσε...</td>\n      <td>False</td>\n      <td>0.0</td>\n      <td>NaN</td>\n      <td>https://www.kathimerini.gr/world/561939259/oyk...</td>\n    </tr>\n    <tr>\n      <th>28</th>\n      <td>ΚΑΘΗΜΕΡΙΝΗ</td>\n      <td>03-07-2022</td>\n      <td>el</td>\n      <td>Ρωσία: Τουλάχιστον τρεις νεκροί στο Μπέλγκορον...</td>\n      <td>ΚΟΣΜΟΣ</td>\n      <td>Τουλάχιστον τρεις άνθρωποι έχασαν τη ζωή τους ...</td>\n      <td>False</td>\n      <td>0.0</td>\n      <td>NaN</td>\n      <td>https://www.kathimerini.gr/world/561939250/ros...</td>\n    </tr>\n    <tr>\n      <th>29</th>\n      <td>ΚΑΘΗΜΕΡΙΝΗ</td>\n      <td>02-07-2022</td>\n      <td>el</td>\n      <td>ΕΕ: Επικοινωνία Μπορέλ – Κουλέμπα πριν από τη ...</td>\n      <td>ΚΟΣΜΟΣ</td>\n      <td>Ο Ύπατος Εκπρόσωπος της Ε.Ε., Ζοζέπ Μπορέλ, εί...</td>\n      <td>False</td>\n      <td>0.0</td>\n      <td>NaN</td>\n      <td>https://www.kathimerini.gr/world/561939145/ee-...</td>\n    </tr>\n    <tr>\n      <th>30</th>\n      <td>ΚΑΘΗΜΕΡΙΝΗ</td>\n      <td>02-07-2022</td>\n      <td>el</td>\n      <td>Ουκρανία: Μάχες στο Λισιτσάνσκ – Οι αυτονομιστ...</td>\n      <td>ΚΟΣΜΟΣ</td>\n      <td>Σφοδρές μάχες μαίνονται σήμερα στο Λισιτσάνσκ,...</td>\n      <td>False</td>\n      <td>0.0</td>\n      <td>NaN</td>\n      <td>https://www.kathimerini.gr/world/561939106/oyk...</td>\n    </tr>\n    <tr>\n      <th>31</th>\n      <td>ΚΑΘΗΜΕΡΙΝΗ</td>\n      <td>04-07-2022</td>\n      <td>el</td>\n      <td>Πώς θα μπορούσε να τελειώσει ο πόλεμος στην Ου...</td>\n      <td>ΚΟΣΜΟΣ</td>\n      <td>Το ότι ο πόλεμος στην Ουκρανία θα έπρεπε να λά...</td>\n      <td>False</td>\n      <td>0.0</td>\n      <td>NaN</td>\n      <td>https://www.kathimerini.gr/world/561939787/pos...</td>\n    </tr>\n    <tr>\n      <th>32</th>\n      <td>ΚΑΘΗΜΕΡΙΝΗ</td>\n      <td>04-07-2022</td>\n      <td>el</td>\n      <td>Ουκρανία: Το Κίεβο χάνει το Λουχάνσκ αλλά εξασ...</td>\n      <td>ΚΟΣΜΟΣ</td>\n      <td>Την ώρα που οι Ουκρανοί αποσύρονται από το Λισ...</td>\n      <td>False</td>\n      <td>0.0</td>\n      <td>NaN</td>\n      <td>https://www.kathimerini.gr/world/561939736/oyk...</td>\n    </tr>\n    <tr>\n      <th>33</th>\n      <td>ΚΑΘΗΜΕΡΙΝΗ</td>\n      <td>04-07-2022</td>\n      <td>el</td>\n      <td>Σε δύσκολη θέση η γερμανική ενεργειακή Uniper</td>\n      <td>ΔΙΕΘΝΗΣ ΟΙΚΟΝΟΜΙΑ</td>\n      <td>Στην αρωγή του γερμανικού κράτους ενδέχεται να...</td>\n      <td>False</td>\n      <td>0.0</td>\n      <td>NaN</td>\n      <td>https://www.kathimerini.gr/economy/internation...</td>\n    </tr>\n    <tr>\n      <th>34</th>\n      <td>ΚΑΘΗΜΕΡΙΝΗ</td>\n      <td>04-07-2022</td>\n      <td>el</td>\n      <td>Άρθρο του Μ. Ρεντούμη στην «Κ»: Παγκόσμια ισορ...</td>\n      <td>ΑΠΟΨΗ</td>\n      <td>Οι τελευταίοι μήνες είναι ιδιαίτερα κρίσιμοι γ...</td>\n      <td>False</td>\n      <td>0.0</td>\n      <td>NaN</td>\n      <td>https://www.kathimerini.gr/economy/561938227/a...</td>\n    </tr>\n    <tr>\n      <th>35</th>\n      <td>ΚΑΘΗΜΕΡΙΝΗ</td>\n      <td>03-07-2022</td>\n      <td>el</td>\n      <td>Ζελένσκι: Ο στρατός αποσύρθηκε από το Λισιτσάν...</td>\n      <td>ΚΟΣΜΟΣ</td>\n      <td>Ο πρόεδρος της Ουκρανίας, Βολοντίμιρ Ζελένσκι,...</td>\n      <td>False</td>\n      <td>0.0</td>\n      <td>NaN</td>\n      <td>https://www.kathimerini.gr/world/561939679/zel...</td>\n    </tr>\n    <tr>\n      <th>36</th>\n      <td>ΚΑΘΗΜΕΡΙΝΗ</td>\n      <td>03-07-2022</td>\n      <td>el</td>\n      <td>Ουκρανία: Ο στρατός επιβεβαίωσε ότι αποχώρησε ...</td>\n      <td>ΚΟΣΜΟΣ</td>\n      <td>Οι ουκρανικές δυνάμεις αναγκάστηκαν να αποχωρή...</td>\n      <td>False</td>\n      <td>0.0</td>\n      <td>NaN</td>\n      <td>https://www.kathimerini.gr/world/561939598/pol...</td>\n    </tr>\n    <tr>\n      <th>37</th>\n      <td>ΚΑΘΗΜΕΡΙΝΗ</td>\n      <td>03-07-2022</td>\n      <td>el</td>\n      <td>Το πλαφόν του G7 στις ρωσικές εξαγωγές θα αυξή...</td>\n      <td>ΑΝΑΛΥΣΗ</td>\n      <td>Η επιβολή ανώτατου ορίου τιμών στις ρωσικές εξ...</td>\n      <td>False</td>\n      <td>0.0</td>\n      <td>NaN</td>\n      <td>https://www.kathimerini.gr/economy/561937357/t...</td>\n    </tr>\n    <tr>\n      <th>38</th>\n      <td>ΚΑΘΗΜΕΡΙΝΗ</td>\n      <td>03-07-2022</td>\n      <td>el</td>\n      <td>Πόλεμος στην Ουκρανία: Έξι νεκροί και 15 τραυμ...</td>\n      <td>ΚΟΣΜΟΣ</td>\n      <td>Έξι άνθρωποι σκοτώθηκαν σήμερα στο Σλοβιάνσκ, ...</td>\n      <td>False</td>\n      <td>0.0</td>\n      <td>NaN</td>\n      <td>https://www.kathimerini.gr/world/561939520/pol...</td>\n    </tr>\n    <tr>\n      <th>39</th>\n      <td>ΚΑΘΗΜΕΡΙΝΗ</td>\n      <td>03-07-2022</td>\n      <td>el</td>\n      <td>Ουκρανία: Η Μόσχα ανακοίνωσε την κατάληψη του ...</td>\n      <td>ΚΟΣΜΟΣ</td>\n      <td>Οι ρωσικές στρατιωτικές δυνάμεις και οι δυνάμε...</td>\n      <td>False</td>\n      <td>0.0</td>\n      <td>NaN</td>\n      <td>https://www.kathimerini.gr/world/561939346/oyk...</td>\n    </tr>\n    <tr>\n      <th>40</th>\n      <td>ΚΑΘΗΜΕΡΙΝΗ</td>\n      <td>03-07-2022</td>\n      <td>el</td>\n      <td>Ουκρανία: Χειρουργικό πλήγμα του Κιέβου κατά ρ...</td>\n      <td>ΚΟΣΜΟΣ</td>\n      <td>Τουλάχιστον 30 οβίδες έριξαν οι ουκρανικές ένο...</td>\n      <td>False</td>\n      <td>0.0</td>\n      <td>NaN</td>\n      <td>https://www.kathimerini.gr/world/561939310/oyk...</td>\n    </tr>\n    <tr>\n      <th>41</th>\n      <td>ΚΑΘΗΜΕΡΙΝΗ</td>\n      <td>03-07-2022</td>\n      <td>el</td>\n      <td>Με απώλειες ξεκίνησε ο Ιούλιος στο Χ.Α.</td>\n      <td>ΑΓΟΡΕΣ</td>\n      <td>Πιέσεις δέχθηκε το Χρηματιστήριο Αθηνών κατά τ...</td>\n      <td>False</td>\n      <td>0.0</td>\n      <td>NaN</td>\n      <td>https://www.kathimerini.gr/economy/markets/561...</td>\n    </tr>\n    <tr>\n      <th>42</th>\n      <td>ΚΑΘΗΜΕΡΙΝΗ</td>\n      <td>03-07-2022</td>\n      <td>el</td>\n      <td>Ουκρανία: Ο πρόεδρος Ζελένσκι ζητεί διεθνή βοή...</td>\n      <td>ΚΟΣΜΟΣ</td>\n      <td>Ο Ουκρανός πρόεδρος Βολοντίμιρ Ζελένσκι κάλεσε...</td>\n      <td>False</td>\n      <td>0.0</td>\n      <td>NaN</td>\n      <td>https://www.kathimerini.gr/world/561939259/oyk...</td>\n    </tr>\n    <tr>\n      <th>43</th>\n      <td>ΚΑΘΗΜΕΡΙΝΗ</td>\n      <td>03-07-2022</td>\n      <td>el</td>\n      <td>Ρωσία: Τουλάχιστον τρεις νεκροί στο Μπέλγκορον...</td>\n      <td>ΚΟΣΜΟΣ</td>\n      <td>Τουλάχιστον τρεις άνθρωποι έχασαν τη ζωή τους ...</td>\n      <td>False</td>\n      <td>0.0</td>\n      <td>NaN</td>\n      <td>https://www.kathimerini.gr/world/561939250/ros...</td>\n    </tr>\n    <tr>\n      <th>44</th>\n      <td>ΚΑΘΗΜΕΡΙΝΗ</td>\n      <td>02-07-2022</td>\n      <td>el</td>\n      <td>ΕΕ: Επικοινωνία Μπορέλ – Κουλέμπα πριν από τη ...</td>\n      <td>ΚΟΣΜΟΣ</td>\n      <td>Ο Ύπατος Εκπρόσωπος της Ε.Ε., Ζοζέπ Μπορέλ, εί...</td>\n      <td>False</td>\n      <td>0.0</td>\n      <td>NaN</td>\n      <td>https://www.kathimerini.gr/world/561939145/ee-...</td>\n    </tr>\n    <tr>\n      <th>45</th>\n      <td>ΚΑΘΗΜΕΡΙΝΗ</td>\n      <td>02-07-2022</td>\n      <td>el</td>\n      <td>Ουκρανία: Μάχες στο Λισιτσάνσκ – Οι αυτονομιστ...</td>\n      <td>ΚΟΣΜΟΣ</td>\n      <td>Σφοδρές μάχες μαίνονται σήμερα στο Λισιτσάνσκ,...</td>\n      <td>False</td>\n      <td>0.0</td>\n      <td>NaN</td>\n      <td>https://www.kathimerini.gr/world/561939106/oyk...</td>\n    </tr>\n    <tr>\n      <th>46</th>\n      <td>ΚΑΘΗΜΕΡΙΝΗ</td>\n      <td>30-06-2022</td>\n      <td>el</td>\n      <td>Στόλτενμπεργκ: Η Ελλάδα θα διαθέσει πλοία για ...</td>\n      <td>ΕΞΩΤΕΡΙΚΗ ΠΟΛΙΤΙΚΗ</td>\n      <td>Η Ελλάδα είναι πρόθυμη να διαθέσει πλοία, προκ...</td>\n      <td>False</td>\n      <td>0.0</td>\n      <td>NaN</td>\n      <td>https://www.kathimerini.gr/politics/foreign-po...</td>\n    </tr>\n    <tr>\n      <th>47</th>\n      <td>ΚΑΘΗΜΕΡΙΝΗ</td>\n      <td>30-06-2022</td>\n      <td>el</td>\n      <td>Πόλεμος στην Ουκρανία: Αποσύρθηκαν από το Φιδο...</td>\n      <td>ΚΟΣΜΟΣ</td>\n      <td>Την απόσυρση των ρωσικών δυνάμεων από το Φιδον...</td>\n      <td>False</td>\n      <td>0.0</td>\n      <td>NaN</td>\n      <td>https://www.kathimerini.gr/world/561934537/pol...</td>\n    </tr>\n    <tr>\n      <th>48</th>\n      <td>ΚΑΘΗΜΕΡΙΝΗ</td>\n      <td>30-06-2022</td>\n      <td>el</td>\n      <td>Βρετανή ΥΠΕΞ: Το ΝΑΤΟ να αγνοήσει τη ρητορική ...</td>\n      <td>ΚΟΣΜΟΣ</td>\n      <td>Το ΝΑΤΟ θα πρέπει να αγνοήσει τη ρωσική ρητορι...</td>\n      <td>False</td>\n      <td>0.0</td>\n      <td>NaN</td>\n      <td>https://www.kathimerini.gr/world/561934432/vre...</td>\n    </tr>\n    <tr>\n      <th>49</th>\n      <td>ΚΑΘΗΜΕΡΙΝΗ</td>\n      <td>30-06-2022</td>\n      <td>el</td>\n      <td>Ουκρανία: Εντολή υποχώρησης από το Λισιτσάνσκ ...</td>\n      <td>ΚΟΣΜΟΣ</td>\n      <td>Μονάδες των Ενόπλων Δυνάμεων της Ουκρανίας, πο...</td>\n      <td>False</td>\n      <td>0.0</td>\n      <td>NaN</td>\n      <td>https://www.kathimerini.gr/world/561934339/oyk...</td>\n    </tr>\n    <tr>\n      <th>50</th>\n      <td>ΚΑΘΗΜΕΡΙΝΗ</td>\n      <td>30-06-2022</td>\n      <td>el</td>\n      <td>Μεταναστευτικό: Αντιδράσεις για τη Μελίγια</td>\n      <td>ΚΟΣΜΟΣ</td>\n      <td>ΒΕΡΟΛΙΝΟ. «Οι φρικτές εικόνες και ειδήσεις από...</td>\n      <td>False</td>\n      <td>0.0</td>\n      <td>NaN</td>\n      <td>https://www.kathimerini.gr/world/561931909/met...</td>\n    </tr>\n    <tr>\n      <th>51</th>\n      <td>ΚΑΘΗΜΕΡΙΝΗ</td>\n      <td>30-06-2022</td>\n      <td>el</td>\n      <td>Ουκρανία: Αποκρούστηκε ρωσική επίθεση σε απελε...</td>\n      <td>ΚΟΣΜΟΣ</td>\n      <td>Με επιδρομές ελικοπτέρων και Mi-8, οι ρωσικές ...</td>\n      <td>False</td>\n      <td>0.0</td>\n      <td>NaN</td>\n      <td>https://www.kathimerini.gr/world/561934252/oyk...</td>\n    </tr>\n    <tr>\n      <th>52</th>\n      <td>ΚΑΘΗΜΕΡΙΝΗ</td>\n      <td>30-06-2022</td>\n      <td>el</td>\n      <td>Διεθνής Αμνηστία: Έγκλημα πολέμου ο βομβαρδισμ...</td>\n      <td>ΚΟΣΜΟΣ</td>\n      <td>Η μη κυβερνητική οργάνωση υπεράσπισης των ανθρ...</td>\n      <td>False</td>\n      <td>0.0</td>\n      <td>NaN</td>\n      <td>https://www.kathimerini.gr/world/561934204/die...</td>\n    </tr>\n    <tr>\n      <th>53</th>\n      <td>ΚΑΘΗΜΕΡΙΝΗ</td>\n      <td>30-06-2022</td>\n      <td>el</td>\n      <td>Ουκρανία: Σφίγγει ο κλοιός γύρω από την πόλη Λ...</td>\n      <td>ΚΟΣΜΟΣ</td>\n      <td>Βαριές απώλειες ισχυρίζονται ότι κατάφεραν οι ...</td>\n      <td>False</td>\n      <td>0.0</td>\n      <td>NaN</td>\n      <td>https://www.kathimerini.gr/world/561934186/oyk...</td>\n    </tr>\n    <tr>\n      <th>54</th>\n      <td>ΚΑΘΗΜΕΡΙΝΗ</td>\n      <td>29-06-2022</td>\n      <td>el</td>\n      <td>Πάνω από 30% οι αυξήσεις τιμών σε τρόφιμα το τ...</td>\n      <td>ΕΛΛΗΝΙΚΗ ΟΙΚΟΝΟΜΙΑ</td>\n      <td>Με αυξήσεις που υπερβαίνουν το 30% σε τρόφιμα ...</td>\n      <td>False</td>\n      <td>0.0</td>\n      <td>NaN</td>\n      <td>https://www.kathimerini.gr/economy/local/56193...</td>\n    </tr>\n    <tr>\n      <th>55</th>\n      <td>ΚΑΘΗΜΕΡΙΝΗ</td>\n      <td>29-06-2022</td>\n      <td>el</td>\n      <td>ΗΠΑ: Κατέσχεσαν περουσιακά στοιχεία Ρώσων ολιγ...</td>\n      <td>ΚΟΣΜΟΣ</td>\n      <td>Στην κατάσχεση περιουσιακών στοιχείων Ρώσων ολ...</td>\n      <td>False</td>\n      <td>0.0</td>\n      <td>NaN</td>\n      <td>https://www.kathimerini.gr/world/561933274/ipa...</td>\n    </tr>\n    <tr>\n      <th>56</th>\n      <td>ΚΑΘΗΜΕΡΙΝΗ</td>\n      <td>29-06-2022</td>\n      <td>el</td>\n      <td>Μητσοτάκης από ΝΑΤΟ: Οι κυρώσεις που αποφασίζο...</td>\n      <td>ΠΟΛΙΤΙΚΗ</td>\n      <td>Η ρωσική εισβολή στην Ουκρανία έχει καταστήσει...</td>\n      <td>False</td>\n      <td>0.0</td>\n      <td>NaN</td>\n      <td>https://www.kathimerini.gr/politics/561933031/...</td>\n    </tr>\n    <tr>\n      <th>57</th>\n      <td>ΚΑΘΗΜΕΡΙΝΗ</td>\n      <td>29-06-2022</td>\n      <td>el</td>\n      <td>Ομιλία Ζελένσκι στο ΝΑΤΟ: Χρειαζόμαστε 5 δισ. ...</td>\n      <td>ΚΟΣΜΟΣ</td>\n      <td>Ο Ουκρανός πρόεδρος έκρουσε τον κώδωνα του κιν...</td>\n      <td>False</td>\n      <td>0.0</td>\n      <td>NaN</td>\n      <td>https://www.kathimerini.gr/world/561932995/omi...</td>\n    </tr>\n    <tr>\n      <th>58</th>\n      <td>ΚΑΘΗΜΕΡΙΝΗ</td>\n      <td>29-06-2022</td>\n      <td>el</td>\n      <td>Τζόνσον: Αν ο Πούτιν ήταν γυναίκα, δεν θα είχε...</td>\n      <td>ΚΟΣΜΟΣ</td>\n      <td>Ο Ρώσος πρόεδρος Βλαντίμιρ Πούτιν δεν θα είχε ...</td>\n      <td>False</td>\n      <td>0.0</td>\n      <td>NaN</td>\n      <td>https://www.kathimerini.gr/world/561932926/tzo...</td>\n    </tr>\n    <tr>\n      <th>59</th>\n      <td>ΚΑΘΗΜΕΡΙΝΗ</td>\n      <td>29-06-2022</td>\n      <td>el</td>\n      <td>Άρθρο του Τζέφρι Σακς στην «Κ»: Η Ουκρανία είν...</td>\n      <td>ΑΠΟΨΗ</td>\n      <td>Ο πόλεμος στην Ουκρανία αποτελεί το αποκορύφωμ...</td>\n      <td>False</td>\n      <td>0.0</td>\n      <td>NaN</td>\n      <td>https://www.kathimerini.gr/world/561929953/art...</td>\n    </tr>\n  </tbody>\n</table>\n</div>"
     },
     "execution_count": 269,
     "metadata": {},
     "output_type": "execute_result"
    }
   ],
   "source": [
    "war_df.head(60)"
   ],
   "metadata": {
    "collapsed": false,
    "pycharm": {
     "name": "#%%\n"
    }
   }
  },
  {
   "cell_type": "markdown",
   "source": [
    "## Clean & Cast"
   ],
   "metadata": {
    "collapsed": false,
    "pycharm": {
     "name": "#%% md\n"
    }
   }
  },
  {
   "cell_type": "code",
   "execution_count": 270,
   "outputs": [
    {
     "data": {
      "text/plain": "Publisher               0\nDate Formatted        273\nLang                    0\nHeading               270\nTag                   270\nText                  418\nComments exist          0\nComments count       3003\nComments api key    13533\nArticle url           270\ndtype: int64"
     },
     "execution_count": 270,
     "metadata": {},
     "output_type": "execute_result"
    }
   ],
   "source": [
    "war_df.isna().sum()"
   ],
   "metadata": {
    "collapsed": false,
    "pycharm": {
     "name": "#%%\n"
    }
   }
  },
  {
   "cell_type": "code",
   "execution_count": 271,
   "outputs": [
    {
     "data": {
      "text/plain": "115968824"
     },
     "execution_count": 271,
     "metadata": {},
     "output_type": "execute_result"
    }
   ],
   "source": [
    "war_df.memory_usage(deep=True).sum()"
   ],
   "metadata": {
    "collapsed": false,
    "pycharm": {
     "name": "#%%\n"
    }
   }
  },
  {
   "cell_type": "code",
   "execution_count": 272,
   "outputs": [],
   "source": [
    "# kill rows at Date Formatted series where value is NaN\n",
    "# during scraping process there were a lot of articles without text and date info\n",
    "(war_df\n",
    " .dropna(subset=['Date Formatted'], how='all', inplace=True)\n",
    " )"
   ],
   "metadata": {
    "collapsed": false,
    "pycharm": {
     "name": "#%%\n"
    }
   }
  },
  {
   "cell_type": "code",
   "execution_count": 273,
   "outputs": [],
   "source": [
    "war_df['Text'] = war_df['Text'].fillna('').astype('string')"
   ],
   "metadata": {
    "collapsed": false,
    "pycharm": {
     "name": "#%%\n"
    }
   }
  },
  {
   "cell_type": "code",
   "execution_count": 274,
   "outputs": [],
   "source": [
    "war_df['Comments api key'] = war_df['Comments api key'].fillna('').astype('string')"
   ],
   "metadata": {
    "collapsed": false,
    "pycharm": {
     "name": "#%%\n"
    }
   }
  },
  {
   "cell_type": "code",
   "execution_count": 275,
   "outputs": [],
   "source": [
    "war_df['Comments count'] = war_df['Comments count'].fillna(0).astype('int32')"
   ],
   "metadata": {
    "collapsed": false,
    "pycharm": {
     "name": "#%%\n"
    }
   }
  },
  {
   "cell_type": "code",
   "execution_count": 276,
   "outputs": [],
   "source": [
    "war_df['Heading'] = war_df['Heading'].astype('string')"
   ],
   "metadata": {
    "collapsed": false,
    "pycharm": {
     "name": "#%%\n"
    }
   }
  },
  {
   "cell_type": "code",
   "execution_count": 277,
   "outputs": [],
   "source": [
    "war_df['Text'] = war_df['Text'].astype('string')"
   ],
   "metadata": {
    "collapsed": false,
    "pycharm": {
     "name": "#%%\n"
    }
   }
  },
  {
   "cell_type": "code",
   "execution_count": 278,
   "outputs": [],
   "source": [
    "# remove url from text if present\n",
    "import re\n",
    "def removeURL(string: str) -> str:\n",
    "    try:\n",
    "        clean = re.sub('http://\\S+|https://\\S+', '', string)\n",
    "    except:\n",
    "        clean = ''\n",
    "    finally:\n",
    "        return clean\n",
    "\n",
    "\n",
    "# Create new col based on comment counts\n",
    "war_df['Text'] = war_df['Text'].apply(removeURL)"
   ],
   "metadata": {
    "collapsed": false,
    "pycharm": {
     "name": "#%%\n"
    }
   }
  },
  {
   "cell_type": "code",
   "execution_count": 279,
   "outputs": [],
   "source": [
    "from enum import Enum\n",
    "\n",
    "class Publishers(Enum):\n",
    "    KATHIMERINI = 'ΚΑΘΗΜΕΡΙΝΗ'\n",
    "    EFSYN = 'ΕΦΗΜΕΡΙΔΑ ΤΩΝ ΣΥΝΤΑΚΤΩΝ'\n",
    "    NAFTEMPORIKI = 'ΝΑΥΤΕΜΠΟΡΙΚΗ'\n",
    "    THE_GUARDIAN = 'THE GUARDIAN'\n",
    "\n",
    "class Lang(Enum):\n",
    "    ENGLISH = 'en'\n",
    "    GREEK = 'el'"
   ],
   "metadata": {
    "collapsed": false,
    "pycharm": {
     "name": "#%%\n"
    }
   }
  },
  {
   "cell_type": "code",
   "execution_count": 280,
   "outputs": [],
   "source": [
    "from pandas.api.types import CategoricalDtype\n",
    "publisher_dtype = CategoricalDtype(\n",
    "    categories=[Publishers.KATHIMERINI.value,\n",
    "                Publishers.EFSYN.value,\n",
    "                Publishers.NAFTEMPORIKI.value,\n",
    "                Publishers.THE_GUARDIAN.value\n",
    "                ],\n",
    "    ordered=True)\n",
    "lang_enum = CategoricalDtype(\n",
    "    categories=[Lang.GREEK.value,\n",
    "                Lang.ENGLISH.value\n",
    "                ],\n",
    "    ordered=True)"
   ],
   "metadata": {
    "collapsed": false,
    "pycharm": {
     "name": "#%%\n"
    }
   }
  },
  {
   "cell_type": "code",
   "execution_count": 281,
   "outputs": [],
   "source": [
    "war_df['Publisher'] = war_df['Publisher'].astype(publisher_dtype)"
   ],
   "metadata": {
    "collapsed": false,
    "pycharm": {
     "name": "#%%\n"
    }
   }
  },
  {
   "cell_type": "code",
   "execution_count": 282,
   "outputs": [],
   "source": [
    "war_df['Lang'] = war_df['Lang'].astype(lang_enum)"
   ],
   "metadata": {
    "collapsed": false,
    "pycharm": {
     "name": "#%%\n"
    }
   }
  },
  {
   "cell_type": "code",
   "execution_count": 283,
   "outputs": [],
   "source": [
    "war_df['Tag'] = war_df['Tag'].astype('category')"
   ],
   "metadata": {
    "collapsed": false,
    "pycharm": {
     "name": "#%%\n"
    }
   }
  },
  {
   "cell_type": "code",
   "execution_count": 284,
   "outputs": [],
   "source": [
    "war_df = (war_df\n",
    " .assign(Chars=war_df['Text'].str.len().astype(int))\n",
    " .assign(Words=war_df['Text'].str.split(\" \").str.len().astype(int))\n",
    " )"
   ],
   "metadata": {
    "collapsed": false,
    "pycharm": {
     "name": "#%%\n"
    }
   }
  },
  {
   "cell_type": "code",
   "execution_count": 285,
   "outputs": [
    {
     "data": {
      "text/plain": "          Publisher Date Formatted Lang  \\\n0        ΚΑΘΗΜΕΡΙΝΗ     05-07-2022   el   \n1        ΚΑΘΗΜΕΡΙΝΗ     05-07-2022   el   \n2        ΚΑΘΗΜΕΡΙΝΗ     05-07-2022   el   \n3        ΚΑΘΗΜΕΡΙΝΗ     05-07-2022   el   \n4        ΚΑΘΗΜΕΡΙΝΗ     05-07-2022   el   \n...             ...            ...  ...   \n13731  THE GUARDIAN     02-07-2022   en   \n13732  THE GUARDIAN     03-07-2022   en   \n13733  THE GUARDIAN     03-07-2022   en   \n13734  THE GUARDIAN     03-07-2022   en   \n13735  THE GUARDIAN     03-07-2022   en   \n\n                                                 Heading  \\\n0      Μπορέλ: O Πούτιν πρέπει να επιλέξει «ανάμεσα σ...   \n1      Μαριούπολη: Οι φιλορώσοι αυτονομιστές κατέσχεσ...   \n2      Πρόβλεψη για αύξηση του εμπορίου μεταξύ Ρωσίας...   \n3      Σακελλαροπούλου σε Ζελένσκι: Είμαστε και θα εί...   \n4      Ουκρανία: Το ρωσοκρατούμενο πυρηνικό εργοστάσι...   \n...                                                  ...   \n13731  Russia-Ukraine war: what we know on day 129 of...   \n13732  Russia-Ukraine war: ‘Many killed’ in attack on...   \n13733  Russia-Ukraine war: what we know on day 130 of...   \n13734  Medics battle relentless wave of trauma in Ukr...   \n13735  Yes, Nato has a new vitality. But its united f...   \n\n                         Tag  \\\n0                     ΚΟΣΜΟΣ   \n1      ΠΟΛΕΜΟΣ ΣΤΗΝ ΟΥΚΡΑΝΙΑ   \n2          ΔΙΕΘΝΗΣ ΟΙΚΟΝΟΜΙΑ   \n3                   ΠΟΛΙΤΙΚΗ   \n4                     ΚΟΣΜΟΣ   \n...                      ...   \n13731                  WORLD   \n13732                  WORLD   \n13733                  WORLD   \n13734                  WORLD   \n13735          COMMENTISFREE   \n\n                                                    Text  Comments exist  \\\n0      Οι κυρώσεις, που έχουν επιβληθεί στην Ρωσία σε...           False   \n1      Οι φιλορώσοι αυτονομιστές κατέλαβαν δύο πλοία ...           False   \n2      Ο εμπορικός τζίρος μεταξύ Τουρκίας και Ρωσίας ...           False   \n3      «Το απαραβίαστο των συνόρων είναι η βάση της σ...           False   \n4      Ο μεγαλύτερος πυρηνικός σταθμός της Ευρώπης, μ...           False   \n...                                                  ...             ...   \n13731  Powerful explosions shook Ukraine’s southern c...           False   \n13732  13.44'Many killed' in attack on eastern Ukrain...           False   \n13733  Russia claims it has taken full control of Lys...           False   \n13734  Ludmilla Boiko can’t sleep. Every night, befor...           False   \n13735  Most summits bill themselves as “historic” and...           False   \n\n       Comments count Comments api key  \\\n0                   0                    \n1                   0                    \n2                   0                    \n3                   0                    \n4                   0                    \n...               ...              ...   \n13731               0                    \n13732               0                    \n13733               0                    \n13734               0                    \n13735               0                    \n\n                                             Article url  Chars  Words  \n0      https://www.kathimerini.gr/world/561942142/mpo...   4114    627  \n1      https://www.kathimerini.gr/world/561942133/mar...   2548    360  \n2      https://www.kathimerini.gr/economy/internation...   1848    274  \n3      https://www.kathimerini.gr/politics/561941488/...   2472    371  \n4      https://www.kathimerini.gr/world/561941377/oyk...   2829    418  \n...                                                  ...    ...    ...  \n13731  https://www.theguardian.com/world/2022/jul/02/...   4197    632  \n13732  https://www.theguardian.com/world/live/2022/ju...  18068   2729  \n13733  https://www.theguardian.com/world/2022/jul/03/...   3597    546  \n13734  https://www.theguardian.com/world/2022/jul/03/...   8698   1473  \n13735  https://www.theguardian.com/commentisfree/2022...   7195   1183  \n\n[13261 rows x 12 columns]",
      "text/html": "<div>\n<style scoped>\n    .dataframe tbody tr th:only-of-type {\n        vertical-align: middle;\n    }\n\n    .dataframe tbody tr th {\n        vertical-align: top;\n    }\n\n    .dataframe thead th {\n        text-align: right;\n    }\n</style>\n<table border=\"1\" class=\"dataframe\">\n  <thead>\n    <tr style=\"text-align: right;\">\n      <th></th>\n      <th>Publisher</th>\n      <th>Date Formatted</th>\n      <th>Lang</th>\n      <th>Heading</th>\n      <th>Tag</th>\n      <th>Text</th>\n      <th>Comments exist</th>\n      <th>Comments count</th>\n      <th>Comments api key</th>\n      <th>Article url</th>\n      <th>Chars</th>\n      <th>Words</th>\n    </tr>\n  </thead>\n  <tbody>\n    <tr>\n      <th>0</th>\n      <td>ΚΑΘΗΜΕΡΙΝΗ</td>\n      <td>05-07-2022</td>\n      <td>el</td>\n      <td>Μπορέλ: O Πούτιν πρέπει να επιλέξει «ανάμεσα σ...</td>\n      <td>ΚΟΣΜΟΣ</td>\n      <td>Οι κυρώσεις, που έχουν επιβληθεί στην Ρωσία σε...</td>\n      <td>False</td>\n      <td>0</td>\n      <td></td>\n      <td>https://www.kathimerini.gr/world/561942142/mpo...</td>\n      <td>4114</td>\n      <td>627</td>\n    </tr>\n    <tr>\n      <th>1</th>\n      <td>ΚΑΘΗΜΕΡΙΝΗ</td>\n      <td>05-07-2022</td>\n      <td>el</td>\n      <td>Μαριούπολη: Οι φιλορώσοι αυτονομιστές κατέσχεσ...</td>\n      <td>ΠΟΛΕΜΟΣ ΣΤΗΝ ΟΥΚΡΑΝΙΑ</td>\n      <td>Οι φιλορώσοι αυτονομιστές κατέλαβαν δύο πλοία ...</td>\n      <td>False</td>\n      <td>0</td>\n      <td></td>\n      <td>https://www.kathimerini.gr/world/561942133/mar...</td>\n      <td>2548</td>\n      <td>360</td>\n    </tr>\n    <tr>\n      <th>2</th>\n      <td>ΚΑΘΗΜΕΡΙΝΗ</td>\n      <td>05-07-2022</td>\n      <td>el</td>\n      <td>Πρόβλεψη για αύξηση του εμπορίου μεταξύ Ρωσίας...</td>\n      <td>ΔΙΕΘΝΗΣ ΟΙΚΟΝΟΜΙΑ</td>\n      <td>Ο εμπορικός τζίρος μεταξύ Τουρκίας και Ρωσίας ...</td>\n      <td>False</td>\n      <td>0</td>\n      <td></td>\n      <td>https://www.kathimerini.gr/economy/internation...</td>\n      <td>1848</td>\n      <td>274</td>\n    </tr>\n    <tr>\n      <th>3</th>\n      <td>ΚΑΘΗΜΕΡΙΝΗ</td>\n      <td>05-07-2022</td>\n      <td>el</td>\n      <td>Σακελλαροπούλου σε Ζελένσκι: Είμαστε και θα εί...</td>\n      <td>ΠΟΛΙΤΙΚΗ</td>\n      <td>«Το απαραβίαστο των συνόρων είναι η βάση της σ...</td>\n      <td>False</td>\n      <td>0</td>\n      <td></td>\n      <td>https://www.kathimerini.gr/politics/561941488/...</td>\n      <td>2472</td>\n      <td>371</td>\n    </tr>\n    <tr>\n      <th>4</th>\n      <td>ΚΑΘΗΜΕΡΙΝΗ</td>\n      <td>05-07-2022</td>\n      <td>el</td>\n      <td>Ουκρανία: Το ρωσοκρατούμενο πυρηνικό εργοστάσι...</td>\n      <td>ΚΟΣΜΟΣ</td>\n      <td>Ο μεγαλύτερος πυρηνικός σταθμός της Ευρώπης, μ...</td>\n      <td>False</td>\n      <td>0</td>\n      <td></td>\n      <td>https://www.kathimerini.gr/world/561941377/oyk...</td>\n      <td>2829</td>\n      <td>418</td>\n    </tr>\n    <tr>\n      <th>...</th>\n      <td>...</td>\n      <td>...</td>\n      <td>...</td>\n      <td>...</td>\n      <td>...</td>\n      <td>...</td>\n      <td>...</td>\n      <td>...</td>\n      <td>...</td>\n      <td>...</td>\n      <td>...</td>\n      <td>...</td>\n    </tr>\n    <tr>\n      <th>13731</th>\n      <td>THE GUARDIAN</td>\n      <td>02-07-2022</td>\n      <td>en</td>\n      <td>Russia-Ukraine war: what we know on day 129 of...</td>\n      <td>WORLD</td>\n      <td>Powerful explosions shook Ukraine’s southern c...</td>\n      <td>False</td>\n      <td>0</td>\n      <td></td>\n      <td>https://www.theguardian.com/world/2022/jul/02/...</td>\n      <td>4197</td>\n      <td>632</td>\n    </tr>\n    <tr>\n      <th>13732</th>\n      <td>THE GUARDIAN</td>\n      <td>03-07-2022</td>\n      <td>en</td>\n      <td>Russia-Ukraine war: ‘Many killed’ in attack on...</td>\n      <td>WORLD</td>\n      <td>13.44'Many killed' in attack on eastern Ukrain...</td>\n      <td>False</td>\n      <td>0</td>\n      <td></td>\n      <td>https://www.theguardian.com/world/live/2022/ju...</td>\n      <td>18068</td>\n      <td>2729</td>\n    </tr>\n    <tr>\n      <th>13733</th>\n      <td>THE GUARDIAN</td>\n      <td>03-07-2022</td>\n      <td>en</td>\n      <td>Russia-Ukraine war: what we know on day 130 of...</td>\n      <td>WORLD</td>\n      <td>Russia claims it has taken full control of Lys...</td>\n      <td>False</td>\n      <td>0</td>\n      <td></td>\n      <td>https://www.theguardian.com/world/2022/jul/03/...</td>\n      <td>3597</td>\n      <td>546</td>\n    </tr>\n    <tr>\n      <th>13734</th>\n      <td>THE GUARDIAN</td>\n      <td>03-07-2022</td>\n      <td>en</td>\n      <td>Medics battle relentless wave of trauma in Ukr...</td>\n      <td>WORLD</td>\n      <td>Ludmilla Boiko can’t sleep. Every night, befor...</td>\n      <td>False</td>\n      <td>0</td>\n      <td></td>\n      <td>https://www.theguardian.com/world/2022/jul/03/...</td>\n      <td>8698</td>\n      <td>1473</td>\n    </tr>\n    <tr>\n      <th>13735</th>\n      <td>THE GUARDIAN</td>\n      <td>03-07-2022</td>\n      <td>en</td>\n      <td>Yes, Nato has a new vitality. But its united f...</td>\n      <td>COMMENTISFREE</td>\n      <td>Most summits bill themselves as “historic” and...</td>\n      <td>False</td>\n      <td>0</td>\n      <td></td>\n      <td>https://www.theguardian.com/commentisfree/2022...</td>\n      <td>7195</td>\n      <td>1183</td>\n    </tr>\n  </tbody>\n</table>\n<p>13261 rows × 12 columns</p>\n</div>"
     },
     "execution_count": 285,
     "metadata": {},
     "output_type": "execute_result"
    }
   ],
   "source": [
    "war_df[war_df['Comments count'] == 0]"
   ],
   "metadata": {
    "collapsed": false,
    "pycharm": {
     "name": "#%%\n"
    }
   }
  },
  {
   "cell_type": "code",
   "execution_count": 286,
   "outputs": [
    {
     "data": {
      "text/plain": "     Publisher Date Formatted Lang  \\\n14  ΚΑΘΗΜΕΡΙΝΗ     04-07-2022   el   \n\n                                              Heading     Tag  \\\n14  Γερμανία: D-Day η 22η Ιουλίου για το ρωσικό φυ...  ΚΟΣΜΟΣ   \n\n                                                 Text  Comments exist  \\\n14  Η Γιασμίν Φαχίμι, πάλαι ποτέ γενική γραμματέας...           False   \n\n    Comments count Comments api key  \\\n14               0                    \n\n                                          Article url  Chars  Words  \n14  https://www.kathimerini.gr/world/561939931/ger...   4979    725  ",
      "text/html": "<div>\n<style scoped>\n    .dataframe tbody tr th:only-of-type {\n        vertical-align: middle;\n    }\n\n    .dataframe tbody tr th {\n        vertical-align: top;\n    }\n\n    .dataframe thead th {\n        text-align: right;\n    }\n</style>\n<table border=\"1\" class=\"dataframe\">\n  <thead>\n    <tr style=\"text-align: right;\">\n      <th></th>\n      <th>Publisher</th>\n      <th>Date Formatted</th>\n      <th>Lang</th>\n      <th>Heading</th>\n      <th>Tag</th>\n      <th>Text</th>\n      <th>Comments exist</th>\n      <th>Comments count</th>\n      <th>Comments api key</th>\n      <th>Article url</th>\n      <th>Chars</th>\n      <th>Words</th>\n    </tr>\n  </thead>\n  <tbody>\n    <tr>\n      <th>14</th>\n      <td>ΚΑΘΗΜΕΡΙΝΗ</td>\n      <td>04-07-2022</td>\n      <td>el</td>\n      <td>Γερμανία: D-Day η 22η Ιουλίου για το ρωσικό φυ...</td>\n      <td>ΚΟΣΜΟΣ</td>\n      <td>Η Γιασμίν Φαχίμι, πάλαι ποτέ γενική γραμματέας...</td>\n      <td>False</td>\n      <td>0</td>\n      <td></td>\n      <td>https://www.kathimerini.gr/world/561939931/ger...</td>\n      <td>4979</td>\n      <td>725</td>\n    </tr>\n  </tbody>\n</table>\n</div>"
     },
     "execution_count": 286,
     "metadata": {},
     "output_type": "execute_result"
    }
   ],
   "source": [
    "# check for duplicates\n",
    "war_df[war_df['Heading'].str.contains(\"D-Day\", case=False)]"
   ],
   "metadata": {
    "collapsed": false,
    "pycharm": {
     "name": "#%%\n"
    }
   }
  },
  {
   "cell_type": "code",
   "execution_count": 287,
   "outputs": [],
   "source": [
    "# convert 'Date Formatted' as datetime pandas type\n",
    "war_df['Date Formatted'] = pd.to_datetime(war_df['Date Formatted'], format=\"%d-%m-%Y\")"
   ],
   "metadata": {
    "collapsed": false,
    "pycharm": {
     "name": "#%%\n"
    }
   }
  },
  {
   "cell_type": "code",
   "execution_count": 288,
   "outputs": [],
   "source": [
    "war_df['Year'] = pd.DatetimeIndex(war_df['Date Formatted']).year\n",
    "war_df['Month'] = pd.DatetimeIndex(war_df['Date Formatted']).month\n",
    "war_df['Day'] = pd.DatetimeIndex(war_df['Date Formatted']).day"
   ],
   "metadata": {
    "collapsed": false,
    "pycharm": {
     "name": "#%%\n"
    }
   }
  },
  {
   "cell_type": "code",
   "execution_count": 289,
   "outputs": [
    {
     "data": {
      "text/plain": "112552200"
     },
     "execution_count": 289,
     "metadata": {},
     "output_type": "execute_result"
    }
   ],
   "source": [
    "war_df.memory_usage(deep=True).sum()"
   ],
   "metadata": {
    "collapsed": false,
    "pycharm": {
     "name": "#%%\n"
    }
   }
  },
  {
   "cell_type": "code",
   "execution_count": 290,
   "outputs": [
    {
     "data": {
      "text/plain": "Publisher                 category\nDate Formatted      datetime64[ns]\nLang                      category\nHeading                     string\nTag                       category\nText                        object\nComments exist                bool\nComments count               int32\nComments api key            string\nArticle url                 object\nChars                        int64\nWords                        int64\nYear                         int64\nMonth                        int64\nDay                          int64\ndtype: object"
     },
     "execution_count": 290,
     "metadata": {},
     "output_type": "execute_result"
    }
   ],
   "source": [
    "war_df.dtypes"
   ],
   "metadata": {
    "collapsed": false,
    "pycharm": {
     "name": "#%%\n"
    }
   }
  },
  {
   "cell_type": "code",
   "execution_count": 291,
   "outputs": [
    {
     "data": {
      "text/plain": "Publisher           0\nDate Formatted      0\nLang                0\nHeading             0\nTag                 0\nText                0\nComments exist      0\nComments count      0\nComments api key    0\nArticle url         0\nChars               0\nWords               0\nYear                0\nMonth               0\nDay                 0\ndtype: int64"
     },
     "execution_count": 291,
     "metadata": {},
     "output_type": "execute_result"
    }
   ],
   "source": [
    "war_df.isnull().sum()"
   ],
   "metadata": {
    "collapsed": false,
    "pycharm": {
     "name": "#%%\n"
    }
   }
  },
  {
   "cell_type": "code",
   "execution_count": 292,
   "outputs": [
    {
     "data": {
      "text/plain": "Publisher           0\nDate Formatted      0\nLang                0\nHeading             0\nTag                 0\nText                0\nComments exist      0\nComments count      0\nComments api key    0\nArticle url         0\nChars               0\nWords               0\nYear                0\nMonth               0\nDay                 0\ndtype: int64"
     },
     "execution_count": 292,
     "metadata": {},
     "output_type": "execute_result"
    }
   ],
   "source": [
    "war_df.isna().sum()"
   ],
   "metadata": {
    "collapsed": false,
    "pycharm": {
     "name": "#%%\n"
    }
   }
  },
  {
   "cell_type": "code",
   "execution_count": 293,
   "outputs": [
    {
     "data": {
      "text/plain": "    Publisher Date Formatted Lang  \\\n0  ΚΑΘΗΜΕΡΙΝΗ     2022-07-05   el   \n1  ΚΑΘΗΜΕΡΙΝΗ     2022-07-05   el   \n2  ΚΑΘΗΜΕΡΙΝΗ     2022-07-05   el   \n3  ΚΑΘΗΜΕΡΙΝΗ     2022-07-05   el   \n4  ΚΑΘΗΜΕΡΙΝΗ     2022-07-05   el   \n\n                                             Heading                    Tag  \\\n0  Μπορέλ: O Πούτιν πρέπει να επιλέξει «ανάμεσα σ...                 ΚΟΣΜΟΣ   \n1  Μαριούπολη: Οι φιλορώσοι αυτονομιστές κατέσχεσ...  ΠΟΛΕΜΟΣ ΣΤΗΝ ΟΥΚΡΑΝΙΑ   \n2  Πρόβλεψη για αύξηση του εμπορίου μεταξύ Ρωσίας...      ΔΙΕΘΝΗΣ ΟΙΚΟΝΟΜΙΑ   \n3  Σακελλαροπούλου σε Ζελένσκι: Είμαστε και θα εί...               ΠΟΛΙΤΙΚΗ   \n4  Ουκρανία: Το ρωσοκρατούμενο πυρηνικό εργοστάσι...                 ΚΟΣΜΟΣ   \n\n                                                Text  Comments exist  \\\n0  Οι κυρώσεις, που έχουν επιβληθεί στην Ρωσία σε...           False   \n1  Οι φιλορώσοι αυτονομιστές κατέλαβαν δύο πλοία ...           False   \n2  Ο εμπορικός τζίρος μεταξύ Τουρκίας και Ρωσίας ...           False   \n3  «Το απαραβίαστο των συνόρων είναι η βάση της σ...           False   \n4  Ο μεγαλύτερος πυρηνικός σταθμός της Ευρώπης, μ...           False   \n\n   Comments count Comments api key  \\\n0               0                    \n1               0                    \n2               0                    \n3               0                    \n4               0                    \n\n                                         Article url  Chars  Words  Year  \\\n0  https://www.kathimerini.gr/world/561942142/mpo...   4114    627  2022   \n1  https://www.kathimerini.gr/world/561942133/mar...   2548    360  2022   \n2  https://www.kathimerini.gr/economy/internation...   1848    274  2022   \n3  https://www.kathimerini.gr/politics/561941488/...   2472    371  2022   \n4  https://www.kathimerini.gr/world/561941377/oyk...   2829    418  2022   \n\n   Month  Day  \n0      7    5  \n1      7    5  \n2      7    5  \n3      7    5  \n4      7    5  ",
      "text/html": "<div>\n<style scoped>\n    .dataframe tbody tr th:only-of-type {\n        vertical-align: middle;\n    }\n\n    .dataframe tbody tr th {\n        vertical-align: top;\n    }\n\n    .dataframe thead th {\n        text-align: right;\n    }\n</style>\n<table border=\"1\" class=\"dataframe\">\n  <thead>\n    <tr style=\"text-align: right;\">\n      <th></th>\n      <th>Publisher</th>\n      <th>Date Formatted</th>\n      <th>Lang</th>\n      <th>Heading</th>\n      <th>Tag</th>\n      <th>Text</th>\n      <th>Comments exist</th>\n      <th>Comments count</th>\n      <th>Comments api key</th>\n      <th>Article url</th>\n      <th>Chars</th>\n      <th>Words</th>\n      <th>Year</th>\n      <th>Month</th>\n      <th>Day</th>\n    </tr>\n  </thead>\n  <tbody>\n    <tr>\n      <th>0</th>\n      <td>ΚΑΘΗΜΕΡΙΝΗ</td>\n      <td>2022-07-05</td>\n      <td>el</td>\n      <td>Μπορέλ: O Πούτιν πρέπει να επιλέξει «ανάμεσα σ...</td>\n      <td>ΚΟΣΜΟΣ</td>\n      <td>Οι κυρώσεις, που έχουν επιβληθεί στην Ρωσία σε...</td>\n      <td>False</td>\n      <td>0</td>\n      <td></td>\n      <td>https://www.kathimerini.gr/world/561942142/mpo...</td>\n      <td>4114</td>\n      <td>627</td>\n      <td>2022</td>\n      <td>7</td>\n      <td>5</td>\n    </tr>\n    <tr>\n      <th>1</th>\n      <td>ΚΑΘΗΜΕΡΙΝΗ</td>\n      <td>2022-07-05</td>\n      <td>el</td>\n      <td>Μαριούπολη: Οι φιλορώσοι αυτονομιστές κατέσχεσ...</td>\n      <td>ΠΟΛΕΜΟΣ ΣΤΗΝ ΟΥΚΡΑΝΙΑ</td>\n      <td>Οι φιλορώσοι αυτονομιστές κατέλαβαν δύο πλοία ...</td>\n      <td>False</td>\n      <td>0</td>\n      <td></td>\n      <td>https://www.kathimerini.gr/world/561942133/mar...</td>\n      <td>2548</td>\n      <td>360</td>\n      <td>2022</td>\n      <td>7</td>\n      <td>5</td>\n    </tr>\n    <tr>\n      <th>2</th>\n      <td>ΚΑΘΗΜΕΡΙΝΗ</td>\n      <td>2022-07-05</td>\n      <td>el</td>\n      <td>Πρόβλεψη για αύξηση του εμπορίου μεταξύ Ρωσίας...</td>\n      <td>ΔΙΕΘΝΗΣ ΟΙΚΟΝΟΜΙΑ</td>\n      <td>Ο εμπορικός τζίρος μεταξύ Τουρκίας και Ρωσίας ...</td>\n      <td>False</td>\n      <td>0</td>\n      <td></td>\n      <td>https://www.kathimerini.gr/economy/internation...</td>\n      <td>1848</td>\n      <td>274</td>\n      <td>2022</td>\n      <td>7</td>\n      <td>5</td>\n    </tr>\n    <tr>\n      <th>3</th>\n      <td>ΚΑΘΗΜΕΡΙΝΗ</td>\n      <td>2022-07-05</td>\n      <td>el</td>\n      <td>Σακελλαροπούλου σε Ζελένσκι: Είμαστε και θα εί...</td>\n      <td>ΠΟΛΙΤΙΚΗ</td>\n      <td>«Το απαραβίαστο των συνόρων είναι η βάση της σ...</td>\n      <td>False</td>\n      <td>0</td>\n      <td></td>\n      <td>https://www.kathimerini.gr/politics/561941488/...</td>\n      <td>2472</td>\n      <td>371</td>\n      <td>2022</td>\n      <td>7</td>\n      <td>5</td>\n    </tr>\n    <tr>\n      <th>4</th>\n      <td>ΚΑΘΗΜΕΡΙΝΗ</td>\n      <td>2022-07-05</td>\n      <td>el</td>\n      <td>Ουκρανία: Το ρωσοκρατούμενο πυρηνικό εργοστάσι...</td>\n      <td>ΚΟΣΜΟΣ</td>\n      <td>Ο μεγαλύτερος πυρηνικός σταθμός της Ευρώπης, μ...</td>\n      <td>False</td>\n      <td>0</td>\n      <td></td>\n      <td>https://www.kathimerini.gr/world/561941377/oyk...</td>\n      <td>2829</td>\n      <td>418</td>\n      <td>2022</td>\n      <td>7</td>\n      <td>5</td>\n    </tr>\n  </tbody>\n</table>\n</div>"
     },
     "execution_count": 293,
     "metadata": {},
     "output_type": "execute_result"
    }
   ],
   "source": [
    "war_df.head()"
   ],
   "metadata": {
    "collapsed": false,
    "pycharm": {
     "name": "#%%\n"
    }
   }
  },
  {
   "cell_type": "code",
   "execution_count": 294,
   "outputs": [
    {
     "data": {
      "text/plain": "Empty DataFrame\nColumns: [Publisher, Date Formatted, Lang, Heading, Tag, Text, Comments exist, Comments count, Comments api key, Article url, Chars, Words, Year, Month, Day]\nIndex: []",
      "text/html": "<div>\n<style scoped>\n    .dataframe tbody tr th:only-of-type {\n        vertical-align: middle;\n    }\n\n    .dataframe tbody tr th {\n        vertical-align: top;\n    }\n\n    .dataframe thead th {\n        text-align: right;\n    }\n</style>\n<table border=\"1\" class=\"dataframe\">\n  <thead>\n    <tr style=\"text-align: right;\">\n      <th></th>\n      <th>Publisher</th>\n      <th>Date Formatted</th>\n      <th>Lang</th>\n      <th>Heading</th>\n      <th>Tag</th>\n      <th>Text</th>\n      <th>Comments exist</th>\n      <th>Comments count</th>\n      <th>Comments api key</th>\n      <th>Article url</th>\n      <th>Chars</th>\n      <th>Words</th>\n      <th>Year</th>\n      <th>Month</th>\n      <th>Day</th>\n    </tr>\n  </thead>\n  <tbody>\n  </tbody>\n</table>\n</div>"
     },
     "execution_count": 294,
     "metadata": {},
     "output_type": "execute_result"
    }
   ],
   "source": [
    "war_df[war_df['Text'].str.contains('http')]"
   ],
   "metadata": {
    "collapsed": false,
    "pycharm": {
     "name": "#%%\n"
    }
   }
  },
  {
   "cell_type": "code",
   "execution_count": 295,
   "outputs": [],
   "source": [
    "war_df.to_csv('../data/processed/war-ukraine-extended.csv')"
   ],
   "metadata": {
    "collapsed": false,
    "pycharm": {
     "name": "#%%\n"
    }
   }
  },
  {
   "cell_type": "code",
   "execution_count": null,
   "outputs": [],
   "source": [],
   "metadata": {
    "collapsed": false,
    "pycharm": {
     "name": "#%%\n"
    }
   }
  }
 ],
 "metadata": {
  "kernelspec": {
   "display_name": "Python 3",
   "language": "python",
   "name": "python3"
  },
  "language_info": {
   "codemirror_mode": {
    "name": "ipython",
    "version": 2
   },
   "file_extension": ".py",
   "mimetype": "text/x-python",
   "name": "python",
   "nbconvert_exporter": "python",
   "pygments_lexer": "ipython2",
   "version": "2.7.6"
  }
 },
 "nbformat": 4,
 "nbformat_minor": 0
}