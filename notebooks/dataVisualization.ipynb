{
 "cells": [
  {
   "cell_type": "code",
   "execution_count": 35,
   "outputs": [],
   "source": [
    "import pandas as pd\n",
    "\n",
    "war_df = pd.read_csv('../data/processed/war-ukraine-extended-ordered.csv', index_col=[0])"
   ],
   "metadata": {
    "collapsed": false,
    "pycharm": {
     "name": "#%%\n"
    }
   }
  },
  {
   "cell_type": "code",
   "execution_count": 36,
   "outputs": [
    {
     "data": {
      "text/plain": "    Publisher Date Formatted Lang  \\\n0  ΚΑΘΗΜΕΡΙΝΗ     05-07-2022   el   \n1  ΚΑΘΗΜΕΡΙΝΗ     05-07-2022   el   \n2  ΚΑΘΗΜΕΡΙΝΗ     05-07-2022   el   \n3  ΚΑΘΗΜΕΡΙΝΗ     05-07-2022   el   \n4  ΚΑΘΗΜΕΡΙΝΗ     05-07-2022   el   \n\n                                             Heading                    Tag  \\\n0  Μπορέλ: O Πούτιν πρέπει να επιλέξει «ανάμεσα σ...                 ΚΟΣΜΟΣ   \n1  Μαριούπολη: Οι φιλορώσοι αυτονομιστές κατέσχεσ...  ΠΟΛΕΜΟΣ ΣΤΗΝ ΟΥΚΡΑΝΙΑ   \n2  Πρόβλεψη για αύξηση του εμπορίου μεταξύ Ρωσίας...      ΔΙΕΘΝΗΣ ΟΙΚΟΝΟΜΙΑ   \n3  Σακελλαροπούλου σε Ζελένσκι: Είμαστε και θα εί...               ΠΟΛΙΤΙΚΗ   \n4  Ουκρανία: Το ρωσοκρατούμενο πυρηνικό εργοστάσι...                 ΚΟΣΜΟΣ   \n\n                                                Text  Comments exist  \\\n0  Οι κυρώσεις, που έχουν επιβληθεί στην Ρωσία σε...           False   \n1  Οι φιλορώσοι αυτονομιστές κατέλαβαν δύο πλοία ...           False   \n2  Ο εμπορικός τζίρος μεταξύ Τουρκίας και Ρωσίας ...           False   \n3  «Το απαραβίαστο των συνόρων είναι η βάση της σ...           False   \n4  Ο μεγαλύτερος πυρηνικός σταθμός της Ευρώπης, μ...           False   \n\n   Comments count Comments api key  \\\n0               0              NaN   \n1               0              NaN   \n2               0              NaN   \n3               0              NaN   \n4               0              NaN   \n\n                                         Article url  Chars  Words  \n0  https://www.kathimerini.gr/world/561942142/mpo...   4114    627  \n1  https://www.kathimerini.gr/world/561942133/mar...   2548    360  \n2  https://www.kathimerini.gr/economy/internation...   1848    274  \n3  https://www.kathimerini.gr/politics/561941488/...   2472    371  \n4  https://www.kathimerini.gr/world/561941377/oyk...   2829    418  ",
      "text/html": "<div>\n<style scoped>\n    .dataframe tbody tr th:only-of-type {\n        vertical-align: middle;\n    }\n\n    .dataframe tbody tr th {\n        vertical-align: top;\n    }\n\n    .dataframe thead th {\n        text-align: right;\n    }\n</style>\n<table border=\"1\" class=\"dataframe\">\n  <thead>\n    <tr style=\"text-align: right;\">\n      <th></th>\n      <th>Publisher</th>\n      <th>Date Formatted</th>\n      <th>Lang</th>\n      <th>Heading</th>\n      <th>Tag</th>\n      <th>Text</th>\n      <th>Comments exist</th>\n      <th>Comments count</th>\n      <th>Comments api key</th>\n      <th>Article url</th>\n      <th>Chars</th>\n      <th>Words</th>\n    </tr>\n  </thead>\n  <tbody>\n    <tr>\n      <th>0</th>\n      <td>ΚΑΘΗΜΕΡΙΝΗ</td>\n      <td>05-07-2022</td>\n      <td>el</td>\n      <td>Μπορέλ: O Πούτιν πρέπει να επιλέξει «ανάμεσα σ...</td>\n      <td>ΚΟΣΜΟΣ</td>\n      <td>Οι κυρώσεις, που έχουν επιβληθεί στην Ρωσία σε...</td>\n      <td>False</td>\n      <td>0</td>\n      <td>NaN</td>\n      <td>https://www.kathimerini.gr/world/561942142/mpo...</td>\n      <td>4114</td>\n      <td>627</td>\n    </tr>\n    <tr>\n      <th>1</th>\n      <td>ΚΑΘΗΜΕΡΙΝΗ</td>\n      <td>05-07-2022</td>\n      <td>el</td>\n      <td>Μαριούπολη: Οι φιλορώσοι αυτονομιστές κατέσχεσ...</td>\n      <td>ΠΟΛΕΜΟΣ ΣΤΗΝ ΟΥΚΡΑΝΙΑ</td>\n      <td>Οι φιλορώσοι αυτονομιστές κατέλαβαν δύο πλοία ...</td>\n      <td>False</td>\n      <td>0</td>\n      <td>NaN</td>\n      <td>https://www.kathimerini.gr/world/561942133/mar...</td>\n      <td>2548</td>\n      <td>360</td>\n    </tr>\n    <tr>\n      <th>2</th>\n      <td>ΚΑΘΗΜΕΡΙΝΗ</td>\n      <td>05-07-2022</td>\n      <td>el</td>\n      <td>Πρόβλεψη για αύξηση του εμπορίου μεταξύ Ρωσίας...</td>\n      <td>ΔΙΕΘΝΗΣ ΟΙΚΟΝΟΜΙΑ</td>\n      <td>Ο εμπορικός τζίρος μεταξύ Τουρκίας και Ρωσίας ...</td>\n      <td>False</td>\n      <td>0</td>\n      <td>NaN</td>\n      <td>https://www.kathimerini.gr/economy/internation...</td>\n      <td>1848</td>\n      <td>274</td>\n    </tr>\n    <tr>\n      <th>3</th>\n      <td>ΚΑΘΗΜΕΡΙΝΗ</td>\n      <td>05-07-2022</td>\n      <td>el</td>\n      <td>Σακελλαροπούλου σε Ζελένσκι: Είμαστε και θα εί...</td>\n      <td>ΠΟΛΙΤΙΚΗ</td>\n      <td>«Το απαραβίαστο των συνόρων είναι η βάση της σ...</td>\n      <td>False</td>\n      <td>0</td>\n      <td>NaN</td>\n      <td>https://www.kathimerini.gr/politics/561941488/...</td>\n      <td>2472</td>\n      <td>371</td>\n    </tr>\n    <tr>\n      <th>4</th>\n      <td>ΚΑΘΗΜΕΡΙΝΗ</td>\n      <td>05-07-2022</td>\n      <td>el</td>\n      <td>Ουκρανία: Το ρωσοκρατούμενο πυρηνικό εργοστάσι...</td>\n      <td>ΚΟΣΜΟΣ</td>\n      <td>Ο μεγαλύτερος πυρηνικός σταθμός της Ευρώπης, μ...</td>\n      <td>False</td>\n      <td>0</td>\n      <td>NaN</td>\n      <td>https://www.kathimerini.gr/world/561941377/oyk...</td>\n      <td>2829</td>\n      <td>418</td>\n    </tr>\n  </tbody>\n</table>\n</div>"
     },
     "execution_count": 36,
     "metadata": {},
     "output_type": "execute_result"
    }
   ],
   "source": [
    "war_df.head()"
   ],
   "metadata": {
    "collapsed": false,
    "pycharm": {
     "name": "#%%\n"
    }
   }
  },
  {
   "cell_type": "code",
   "execution_count": 37,
   "outputs": [
    {
     "data": {
      "text/plain": "          Publisher Date Formatted Lang  \\\n13731  THE GUARDIAN     02-07-2022   en   \n13732  THE GUARDIAN     03-07-2022   en   \n13733  THE GUARDIAN     03-07-2022   en   \n13734  THE GUARDIAN     03-07-2022   en   \n13735  THE GUARDIAN     03-07-2022   en   \n\n                                                 Heading            Tag  \\\n13731  Russia-Ukraine war: what we know on day 129 of...          WORLD   \n13732  Russia-Ukraine war: ‘Many killed’ in attack on...          WORLD   \n13733  Russia-Ukraine war: what we know on day 130 of...          WORLD   \n13734  Medics battle relentless wave of trauma in Ukr...          WORLD   \n13735  Yes, Nato has a new vitality. But its united f...  COMMENTISFREE   \n\n                                                    Text  Comments exist  \\\n13731  Powerful explosions shook Ukraine’s southern c...           False   \n13732  13.44'Many killed' in attack on eastern Ukrain...           False   \n13733  Russia claims it has taken full control of Lys...           False   \n13734  Ludmilla Boiko can’t sleep. Every night, befor...           False   \n13735  Most summits bill themselves as “historic” and...           False   \n\n       Comments count Comments api key  \\\n13731               0              NaN   \n13732               0              NaN   \n13733               0              NaN   \n13734               0              NaN   \n13735               0              NaN   \n\n                                             Article url  Chars  Words  \n13731  https://www.theguardian.com/world/2022/jul/02/...   4197    632  \n13732  https://www.theguardian.com/world/live/2022/ju...  18068   2729  \n13733  https://www.theguardian.com/world/2022/jul/03/...   3597    546  \n13734  https://www.theguardian.com/world/2022/jul/03/...   8698   1473  \n13735  https://www.theguardian.com/commentisfree/2022...   7195   1183  ",
      "text/html": "<div>\n<style scoped>\n    .dataframe tbody tr th:only-of-type {\n        vertical-align: middle;\n    }\n\n    .dataframe tbody tr th {\n        vertical-align: top;\n    }\n\n    .dataframe thead th {\n        text-align: right;\n    }\n</style>\n<table border=\"1\" class=\"dataframe\">\n  <thead>\n    <tr style=\"text-align: right;\">\n      <th></th>\n      <th>Publisher</th>\n      <th>Date Formatted</th>\n      <th>Lang</th>\n      <th>Heading</th>\n      <th>Tag</th>\n      <th>Text</th>\n      <th>Comments exist</th>\n      <th>Comments count</th>\n      <th>Comments api key</th>\n      <th>Article url</th>\n      <th>Chars</th>\n      <th>Words</th>\n    </tr>\n  </thead>\n  <tbody>\n    <tr>\n      <th>13731</th>\n      <td>THE GUARDIAN</td>\n      <td>02-07-2022</td>\n      <td>en</td>\n      <td>Russia-Ukraine war: what we know on day 129 of...</td>\n      <td>WORLD</td>\n      <td>Powerful explosions shook Ukraine’s southern c...</td>\n      <td>False</td>\n      <td>0</td>\n      <td>NaN</td>\n      <td>https://www.theguardian.com/world/2022/jul/02/...</td>\n      <td>4197</td>\n      <td>632</td>\n    </tr>\n    <tr>\n      <th>13732</th>\n      <td>THE GUARDIAN</td>\n      <td>03-07-2022</td>\n      <td>en</td>\n      <td>Russia-Ukraine war: ‘Many killed’ in attack on...</td>\n      <td>WORLD</td>\n      <td>13.44'Many killed' in attack on eastern Ukrain...</td>\n      <td>False</td>\n      <td>0</td>\n      <td>NaN</td>\n      <td>https://www.theguardian.com/world/live/2022/ju...</td>\n      <td>18068</td>\n      <td>2729</td>\n    </tr>\n    <tr>\n      <th>13733</th>\n      <td>THE GUARDIAN</td>\n      <td>03-07-2022</td>\n      <td>en</td>\n      <td>Russia-Ukraine war: what we know on day 130 of...</td>\n      <td>WORLD</td>\n      <td>Russia claims it has taken full control of Lys...</td>\n      <td>False</td>\n      <td>0</td>\n      <td>NaN</td>\n      <td>https://www.theguardian.com/world/2022/jul/03/...</td>\n      <td>3597</td>\n      <td>546</td>\n    </tr>\n    <tr>\n      <th>13734</th>\n      <td>THE GUARDIAN</td>\n      <td>03-07-2022</td>\n      <td>en</td>\n      <td>Medics battle relentless wave of trauma in Ukr...</td>\n      <td>WORLD</td>\n      <td>Ludmilla Boiko can’t sleep. Every night, befor...</td>\n      <td>False</td>\n      <td>0</td>\n      <td>NaN</td>\n      <td>https://www.theguardian.com/world/2022/jul/03/...</td>\n      <td>8698</td>\n      <td>1473</td>\n    </tr>\n    <tr>\n      <th>13735</th>\n      <td>THE GUARDIAN</td>\n      <td>03-07-2022</td>\n      <td>en</td>\n      <td>Yes, Nato has a new vitality. But its united f...</td>\n      <td>COMMENTISFREE</td>\n      <td>Most summits bill themselves as “historic” and...</td>\n      <td>False</td>\n      <td>0</td>\n      <td>NaN</td>\n      <td>https://www.theguardian.com/commentisfree/2022...</td>\n      <td>7195</td>\n      <td>1183</td>\n    </tr>\n  </tbody>\n</table>\n</div>"
     },
     "execution_count": 37,
     "metadata": {},
     "output_type": "execute_result"
    }
   ],
   "source": [
    "war_df.tail()"
   ],
   "metadata": {
    "collapsed": false,
    "pycharm": {
     "name": "#%%\n"
    }
   }
  },
  {
   "cell_type": "code",
   "execution_count": 38,
   "outputs": [
    {
     "data": {
      "text/plain": "116018679"
     },
     "execution_count": 38,
     "metadata": {},
     "output_type": "execute_result"
    }
   ],
   "source": [
    "war_df.memory_usage(deep=True).sum()"
   ],
   "metadata": {
    "collapsed": false,
    "pycharm": {
     "name": "#%%\n"
    }
   }
  },
  {
   "cell_type": "code",
   "execution_count": 39,
   "outputs": [],
   "source": [
    "from enum import Enum\n",
    "\n",
    "class Publishers(Enum):\n",
    "    KATHIMERINI = 'ΚΑΘΗΜΕΡΙΝΗ'\n",
    "    EFSYN = 'ΕΦΗΜΕΡΙΔΑ ΤΩΝ ΣΥΝΤΑΚΤΩΝ'\n",
    "    NAFTEMPORIKI = 'ΝΑΥΤΕΜΠΟΡΙΚΗ'\n",
    "    THE_GUARDIAN = 'THE GUARDIAN'\n",
    "\n",
    "class Lang(Enum):\n",
    "    ENGLISH = 'en'\n",
    "    GREEK = 'el'"
   ],
   "metadata": {
    "collapsed": false,
    "pycharm": {
     "name": "#%%\n"
    }
   }
  },
  {
   "cell_type": "code",
   "execution_count": 40,
   "outputs": [],
   "source": [
    "from pandas.api.types import CategoricalDtype\n",
    "publisher_dtype = CategoricalDtype(\n",
    "    categories=[Publishers.KATHIMERINI.value,\n",
    "                Publishers.EFSYN.value,\n",
    "                Publishers.NAFTEMPORIKI.value,\n",
    "                Publishers.THE_GUARDIAN.value\n",
    "                ],\n",
    "    ordered=True)\n",
    "lang_enum = CategoricalDtype(\n",
    "    categories=[Lang.GREEK.value,\n",
    "                Lang.ENGLISH.value\n",
    "                ],\n",
    "    ordered=True)"
   ],
   "metadata": {
    "collapsed": false,
    "pycharm": {
     "name": "#%%\n"
    }
   }
  },
  {
   "cell_type": "code",
   "execution_count": 41,
   "outputs": [],
   "source": [
    "war_df['Publisher'] = war_df['Publisher'].astype(publisher_dtype)\n",
    "war_df['Lang'] = war_df['Lang'].astype(lang_enum)\n",
    "war_df['Tag'] = war_df['Tag'].astype('category')\n",
    "war_df['Text'] = war_df['Text'].fillna('').astype('string')\n",
    "war_df['Comments api key'] = war_df['Comments api key'].fillna('').astype('string')\n",
    "war_df['Comments count'] = war_df['Comments count'].astype('int32')\n",
    "war_df['Heading'] = war_df['Heading'].astype('string')\n",
    "war_df['Date Formatted'] = pd.to_datetime(war_df['Date Formatted'], format=\"%d-%m-%Y\")\n",
    "war_df['Year'] = pd.DatetimeIndex(war_df['Date Formatted']).year\n",
    "war_df['Month'] = pd.DatetimeIndex(war_df['Date Formatted']).month\n",
    "war_df['Day'] = pd.DatetimeIndex(war_df['Date Formatted']).day"
   ],
   "metadata": {
    "collapsed": false,
    "pycharm": {
     "name": "#%%\n"
    }
   }
  },
  {
   "cell_type": "code",
   "execution_count": 42,
   "outputs": [
    {
     "data": {
      "text/plain": "Publisher                 category\nDate Formatted      datetime64[ns]\nLang                      category\nHeading                     string\nTag                       category\nText                        string\nComments exist                bool\nComments count               int32\nComments api key            string\nArticle url                 object\nChars                        int64\nWords                        int64\nYear                         int64\nMonth                        int64\nDay                          int64\ndtype: object"
     },
     "execution_count": 42,
     "metadata": {},
     "output_type": "execute_result"
    }
   ],
   "source": [
    "war_df.dtypes"
   ],
   "metadata": {
    "collapsed": false,
    "pycharm": {
     "name": "#%%\n"
    }
   }
  },
  {
   "cell_type": "code",
   "execution_count": 43,
   "outputs": [
    {
     "data": {
      "text/plain": "Publisher           0\nDate Formatted      0\nLang                0\nHeading             0\nTag                 0\nText                0\nComments exist      0\nComments count      0\nComments api key    0\nArticle url         0\nChars               0\nWords               0\nYear                0\nMonth               0\nDay                 0\ndtype: int64"
     },
     "execution_count": 43,
     "metadata": {},
     "output_type": "execute_result"
    }
   ],
   "source": [
    "war_df.isna().sum()"
   ],
   "metadata": {
    "collapsed": false,
    "pycharm": {
     "name": "#%%\n"
    }
   }
  },
  {
   "cell_type": "code",
   "execution_count": 44,
   "outputs": [
    {
     "data": {
      "text/plain": "Empty DataFrame\nColumns: [Publisher, Date Formatted, Lang, Heading, Tag, Text, Comments exist, Comments count, Comments api key, Article url, Chars, Words, Year, Month, Day]\nIndex: []",
      "text/html": "<div>\n<style scoped>\n    .dataframe tbody tr th:only-of-type {\n        vertical-align: middle;\n    }\n\n    .dataframe tbody tr th {\n        vertical-align: top;\n    }\n\n    .dataframe thead th {\n        text-align: right;\n    }\n</style>\n<table border=\"1\" class=\"dataframe\">\n  <thead>\n    <tr style=\"text-align: right;\">\n      <th></th>\n      <th>Publisher</th>\n      <th>Date Formatted</th>\n      <th>Lang</th>\n      <th>Heading</th>\n      <th>Tag</th>\n      <th>Text</th>\n      <th>Comments exist</th>\n      <th>Comments count</th>\n      <th>Comments api key</th>\n      <th>Article url</th>\n      <th>Chars</th>\n      <th>Words</th>\n      <th>Year</th>\n      <th>Month</th>\n      <th>Day</th>\n    </tr>\n  </thead>\n  <tbody>\n  </tbody>\n</table>\n</div>"
     },
     "execution_count": 44,
     "metadata": {},
     "output_type": "execute_result"
    }
   ],
   "source": [
    "war_df[war_df['Text'].isna()]"
   ],
   "metadata": {
    "collapsed": false,
    "pycharm": {
     "name": "#%%\n"
    }
   }
  },
  {
   "cell_type": "code",
   "execution_count": 46,
   "outputs": [
    {
     "data": {
      "text/plain": "    Publisher Date Formatted Lang  \\\n0  ΚΑΘΗΜΕΡΙΝΗ     2022-07-05   el   \n1  ΚΑΘΗΜΕΡΙΝΗ     2022-07-05   el   \n2  ΚΑΘΗΜΕΡΙΝΗ     2022-07-05   el   \n3  ΚΑΘΗΜΕΡΙΝΗ     2022-07-05   el   \n4  ΚΑΘΗΜΕΡΙΝΗ     2022-07-05   el   \n\n                                             Heading                    Tag  \\\n0  Μπορέλ: O Πούτιν πρέπει να επιλέξει «ανάμεσα σ...                 ΚΟΣΜΟΣ   \n1  Μαριούπολη: Οι φιλορώσοι αυτονομιστές κατέσχεσ...  ΠΟΛΕΜΟΣ ΣΤΗΝ ΟΥΚΡΑΝΙΑ   \n2  Πρόβλεψη για αύξηση του εμπορίου μεταξύ Ρωσίας...      ΔΙΕΘΝΗΣ ΟΙΚΟΝΟΜΙΑ   \n3  Σακελλαροπούλου σε Ζελένσκι: Είμαστε και θα εί...               ΠΟΛΙΤΙΚΗ   \n4  Ουκρανία: Το ρωσοκρατούμενο πυρηνικό εργοστάσι...                 ΚΟΣΜΟΣ   \n\n                                                Text  Comments exist  \\\n0  Οι κυρώσεις, που έχουν επιβληθεί στην Ρωσία σε...           False   \n1  Οι φιλορώσοι αυτονομιστές κατέλαβαν δύο πλοία ...           False   \n2  Ο εμπορικός τζίρος μεταξύ Τουρκίας και Ρωσίας ...           False   \n3  «Το απαραβίαστο των συνόρων είναι η βάση της σ...           False   \n4  Ο μεγαλύτερος πυρηνικός σταθμός της Ευρώπης, μ...           False   \n\n   Comments count Comments api key  \\\n0               0                    \n1               0                    \n2               0                    \n3               0                    \n4               0                    \n\n                                         Article url  Chars  Words  Year  \\\n0  https://www.kathimerini.gr/world/561942142/mpo...   4114    627  2022   \n1  https://www.kathimerini.gr/world/561942133/mar...   2548    360  2022   \n2  https://www.kathimerini.gr/economy/internation...   1848    274  2022   \n3  https://www.kathimerini.gr/politics/561941488/...   2472    371  2022   \n4  https://www.kathimerini.gr/world/561941377/oyk...   2829    418  2022   \n\n   Month  Day  \n0      7    5  \n1      7    5  \n2      7    5  \n3      7    5  \n4      7    5  ",
      "text/html": "<div>\n<style scoped>\n    .dataframe tbody tr th:only-of-type {\n        vertical-align: middle;\n    }\n\n    .dataframe tbody tr th {\n        vertical-align: top;\n    }\n\n    .dataframe thead th {\n        text-align: right;\n    }\n</style>\n<table border=\"1\" class=\"dataframe\">\n  <thead>\n    <tr style=\"text-align: right;\">\n      <th></th>\n      <th>Publisher</th>\n      <th>Date Formatted</th>\n      <th>Lang</th>\n      <th>Heading</th>\n      <th>Tag</th>\n      <th>Text</th>\n      <th>Comments exist</th>\n      <th>Comments count</th>\n      <th>Comments api key</th>\n      <th>Article url</th>\n      <th>Chars</th>\n      <th>Words</th>\n      <th>Year</th>\n      <th>Month</th>\n      <th>Day</th>\n    </tr>\n  </thead>\n  <tbody>\n    <tr>\n      <th>0</th>\n      <td>ΚΑΘΗΜΕΡΙΝΗ</td>\n      <td>2022-07-05</td>\n      <td>el</td>\n      <td>Μπορέλ: O Πούτιν πρέπει να επιλέξει «ανάμεσα σ...</td>\n      <td>ΚΟΣΜΟΣ</td>\n      <td>Οι κυρώσεις, που έχουν επιβληθεί στην Ρωσία σε...</td>\n      <td>False</td>\n      <td>0</td>\n      <td></td>\n      <td>https://www.kathimerini.gr/world/561942142/mpo...</td>\n      <td>4114</td>\n      <td>627</td>\n      <td>2022</td>\n      <td>7</td>\n      <td>5</td>\n    </tr>\n    <tr>\n      <th>1</th>\n      <td>ΚΑΘΗΜΕΡΙΝΗ</td>\n      <td>2022-07-05</td>\n      <td>el</td>\n      <td>Μαριούπολη: Οι φιλορώσοι αυτονομιστές κατέσχεσ...</td>\n      <td>ΠΟΛΕΜΟΣ ΣΤΗΝ ΟΥΚΡΑΝΙΑ</td>\n      <td>Οι φιλορώσοι αυτονομιστές κατέλαβαν δύο πλοία ...</td>\n      <td>False</td>\n      <td>0</td>\n      <td></td>\n      <td>https://www.kathimerini.gr/world/561942133/mar...</td>\n      <td>2548</td>\n      <td>360</td>\n      <td>2022</td>\n      <td>7</td>\n      <td>5</td>\n    </tr>\n    <tr>\n      <th>2</th>\n      <td>ΚΑΘΗΜΕΡΙΝΗ</td>\n      <td>2022-07-05</td>\n      <td>el</td>\n      <td>Πρόβλεψη για αύξηση του εμπορίου μεταξύ Ρωσίας...</td>\n      <td>ΔΙΕΘΝΗΣ ΟΙΚΟΝΟΜΙΑ</td>\n      <td>Ο εμπορικός τζίρος μεταξύ Τουρκίας και Ρωσίας ...</td>\n      <td>False</td>\n      <td>0</td>\n      <td></td>\n      <td>https://www.kathimerini.gr/economy/internation...</td>\n      <td>1848</td>\n      <td>274</td>\n      <td>2022</td>\n      <td>7</td>\n      <td>5</td>\n    </tr>\n    <tr>\n      <th>3</th>\n      <td>ΚΑΘΗΜΕΡΙΝΗ</td>\n      <td>2022-07-05</td>\n      <td>el</td>\n      <td>Σακελλαροπούλου σε Ζελένσκι: Είμαστε και θα εί...</td>\n      <td>ΠΟΛΙΤΙΚΗ</td>\n      <td>«Το απαραβίαστο των συνόρων είναι η βάση της σ...</td>\n      <td>False</td>\n      <td>0</td>\n      <td></td>\n      <td>https://www.kathimerini.gr/politics/561941488/...</td>\n      <td>2472</td>\n      <td>371</td>\n      <td>2022</td>\n      <td>7</td>\n      <td>5</td>\n    </tr>\n    <tr>\n      <th>4</th>\n      <td>ΚΑΘΗΜΕΡΙΝΗ</td>\n      <td>2022-07-05</td>\n      <td>el</td>\n      <td>Ουκρανία: Το ρωσοκρατούμενο πυρηνικό εργοστάσι...</td>\n      <td>ΚΟΣΜΟΣ</td>\n      <td>Ο μεγαλύτερος πυρηνικός σταθμός της Ευρώπης, μ...</td>\n      <td>False</td>\n      <td>0</td>\n      <td></td>\n      <td>https://www.kathimerini.gr/world/561941377/oyk...</td>\n      <td>2829</td>\n      <td>418</td>\n      <td>2022</td>\n      <td>7</td>\n      <td>5</td>\n    </tr>\n  </tbody>\n</table>\n</div>"
     },
     "execution_count": 46,
     "metadata": {},
     "output_type": "execute_result"
    }
   ],
   "source": [
    "war_df.head()"
   ],
   "metadata": {
    "collapsed": false,
    "pycharm": {
     "name": "#%%\n"
    }
   }
  },
  {
   "cell_type": "code",
   "execution_count": null,
   "outputs": [],
   "source": [],
   "metadata": {
    "collapsed": false,
    "pycharm": {
     "name": "#%%\n"
    }
   }
  }
 ],
 "metadata": {
  "kernelspec": {
   "display_name": "Python 3",
   "language": "python",
   "name": "python3"
  },
  "language_info": {
   "codemirror_mode": {
    "name": "ipython",
    "version": 2
   },
   "file_extension": ".py",
   "mimetype": "text/x-python",
   "name": "python",
   "nbconvert_exporter": "python",
   "pygments_lexer": "ipython2",
   "version": "2.7.6"
  }
 },
 "nbformat": 4,
 "nbformat_minor": 0
}