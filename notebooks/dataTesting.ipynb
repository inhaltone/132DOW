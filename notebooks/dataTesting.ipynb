{
 "cells": [
  {
   "cell_type": "code",
   "execution_count": 28,
   "outputs": [],
   "source": [
    "import pandas as pd\n",
    "\n",
    "war = pd.read_csv('../data/processed/war-ukraine-sentiment-zip.csv',\n",
    "                  compression={'method': 'gzip', 'compresslevel': 1, 'mtime': 1},\n",
    "                  index_col=[0])"
   ],
   "metadata": {
    "collapsed": false,
    "pycharm": {
     "name": "#%%\n"
    }
   }
  },
  {
   "cell_type": "code",
   "execution_count": 32,
   "outputs": [
    {
     "data": {
      "text/plain": "Index(['Publisher', 'Date Formatted', 'Lang', 'Heading', 'Tag', 'Text',\n       'Comments exist', 'Comments count', 'Comments api key', 'Article url',\n       'Chars', 'Words', 'Year', 'Month', 'Day', 'Lemma', 'Sentiments',\n       'Positivity', 'Negativity'],\n      dtype='object')"
     },
     "execution_count": 32,
     "metadata": {},
     "output_type": "execute_result"
    }
   ],
   "source": [
    "war.keys()"
   ],
   "metadata": {
    "collapsed": false,
    "pycharm": {
     "name": "#%%\n"
    }
   }
  },
  {
   "cell_type": "code",
   "execution_count": 36,
   "outputs": [
    {
     "data": {
      "text/plain": "(13463, 19)"
     },
     "execution_count": 36,
     "metadata": {},
     "output_type": "execute_result"
    }
   ],
   "source": [
    "war.shape"
   ],
   "metadata": {
    "collapsed": false,
    "pycharm": {
     "name": "#%%\n"
    }
   }
  },
  {
   "cell_type": "code",
   "execution_count": 35,
   "outputs": [
    {
     "data": {
      "text/plain": "          Publisher Date Formatted Lang  \\\n10532  THE GUARDIAN     2022-02-23   en   \n10536  THE GUARDIAN     2022-02-23   en   \n10537  THE GUARDIAN     2022-02-23   en   \n10540  THE GUARDIAN     2022-02-23   en   \n10549  THE GUARDIAN     2022-02-23   en   \n...             ...            ...  ...   \n13676  THE GUARDIAN     2022-06-29   en   \n13681  THE GUARDIAN     2022-06-29   en   \n13694  THE GUARDIAN     2022-06-30   en   \n13698  THE GUARDIAN     2022-06-30   en   \n13700  THE GUARDIAN     2022-06-30   en   \n\n                                                 Heading            Tag  \\\n10532  Putin’s looming threat gives Johnson some brea...       POLITICS   \n10536  Keir Starmer urges Boris Johnson to end ‘era o...       POLITICS   \n10537  Fighting the threat from Putin will take teamw...  COMMENTISFREE   \n10540  Understanding Putin’s narrative about Ukraine ...  COMMENTISFREE   \n10549  Forget the obsession with sanctions against ol...  COMMENTISFREE   \n...                                                  ...            ...   \n13676  The Guardian view on Boris Johnson abroad: mor...  COMMENTISFREE   \n13681  No 10 staff will be able to give evidence conf...       POLITICS   \n13694  The Guardian view on the Nato summit: new role...  COMMENTISFREE   \n13698  Boris Johnson says UK defence spending set to ...       POLITICS   \n13700  Putin’s war is also a crime – the world must p...  COMMENTISFREE   \n\n                                                    Text  Comments exist  \\\n10532  Boris Johnson is in his happy place. The Russi...            True   \n10536  13.27PMQs – snap verdictPMQs has never been a ...            True   \n10537  The default view at Westminster and in most of...            True   \n10540  With his incursion into Donetsk and Luhansk, V...            True   \n10549  Since the annexation of Crimea in 2014, the we...            True   \n...                                                  ...             ...   \n13676  Boris Johnson’s domestic troubles are so relen...            True   \n13681  14.54No 10 staff will be able to give evidence...            True   \n13694  After the fall of the Berlin Wall, the North A...            True   \n13698  12.48Johnson says defence spending set to rise...            True   \n13700  As I write, rescuers are still searching the r...            True   \n\n       Comments count Comments api key  \\\n10532             528         /p/kz3fp   \n10536            7064         /p/knqpm   \n10537             317         /p/kz2dj   \n10540             368         /p/kzv8x   \n10549             607         /p/kzv8c   \n...               ...              ...   \n13676             181         /p/ymdcx   \n13681            6573         /p/ymca8   \n13694              39         /p/ymtqe   \n13698            7155         /p/ymh5a   \n13700             309         /p/ymcnh   \n\n                                             Article url  Chars  Words  Year  \\\n10532  https://www.theguardian.com/politics/2022/feb/...   5629   1000  2022   \n10536  https://www.theguardian.com/politics/live/2022...  18673   3017  2022   \n10537  https://www.theguardian.com/commentisfree/2022...   7242   1219  2022   \n10540  https://www.theguardian.com/commentisfree/2022...   6075   1013  2022   \n10549  https://www.theguardian.com/commentisfree/2022...   5382    911  2022   \n...                                                  ...    ...    ...   ...   \n13676  https://www.theguardian.com/commentisfree/2022...   3443    562  2022   \n13681  https://www.theguardian.com/politics/live/2022...  18577   3014  2022   \n13694  https://www.theguardian.com/commentisfree/2022...   3794    624  2022   \n13698  https://www.theguardian.com/politics/live/2022...  14730   2442  2022   \n13700  https://www.theguardian.com/commentisfree/2022...   6780   1100  2022   \n\n       Month  Day                                              Lemma  \\\n10532      2   23  boris johnson happy place russian invasion ukr...   \n10536      2   23  1327pmqs snap verdictpmqs forum handle nuance ...   \n10537      2   23  default view westminster medium vladimir putin...   \n10540      2   23  incursion donetsk luhansk vladimir putin break...   \n10549      2   23  annexation crimea 2014 western response vladim...   \n...      ...  ...                                                ...   \n13676      6   29  boris johnsons domestic trouble relentless fin...   \n13681      6   29  1454no 10 staff able evidence confidentially i...   \n13694      6   30  fall berlin wall north atlantic treaty organiz...   \n13698      6   30  1248johnson defence spending set rise 25 gdp e...   \n13700      6   30  I write rescuer search remain shopping centre ...   \n\n      Sentiments  Positivity  Negativity  \n10532   positive       0.221       0.166  \n10536   positive       0.147       0.118  \n10537   positive       0.175       0.149  \n10540   negative       0.175       0.170  \n10549   positive       0.208       0.139  \n...          ...         ...         ...  \n13676   positive       0.178       0.115  \n13681   positive       0.132       0.079  \n13694   negative       0.151       0.143  \n13698   positive       0.219       0.089  \n13700   negative       0.081       0.336  \n\n[202 rows x 19 columns]",
      "text/html": "<div>\n<style scoped>\n    .dataframe tbody tr th:only-of-type {\n        vertical-align: middle;\n    }\n\n    .dataframe tbody tr th {\n        vertical-align: top;\n    }\n\n    .dataframe thead th {\n        text-align: right;\n    }\n</style>\n<table border=\"1\" class=\"dataframe\">\n  <thead>\n    <tr style=\"text-align: right;\">\n      <th></th>\n      <th>Publisher</th>\n      <th>Date Formatted</th>\n      <th>Lang</th>\n      <th>Heading</th>\n      <th>Tag</th>\n      <th>Text</th>\n      <th>Comments exist</th>\n      <th>Comments count</th>\n      <th>Comments api key</th>\n      <th>Article url</th>\n      <th>Chars</th>\n      <th>Words</th>\n      <th>Year</th>\n      <th>Month</th>\n      <th>Day</th>\n      <th>Lemma</th>\n      <th>Sentiments</th>\n      <th>Positivity</th>\n      <th>Negativity</th>\n    </tr>\n  </thead>\n  <tbody>\n    <tr>\n      <th>10532</th>\n      <td>THE GUARDIAN</td>\n      <td>2022-02-23</td>\n      <td>en</td>\n      <td>Putin’s looming threat gives Johnson some brea...</td>\n      <td>POLITICS</td>\n      <td>Boris Johnson is in his happy place. The Russi...</td>\n      <td>True</td>\n      <td>528</td>\n      <td>/p/kz3fp</td>\n      <td>https://www.theguardian.com/politics/2022/feb/...</td>\n      <td>5629</td>\n      <td>1000</td>\n      <td>2022</td>\n      <td>2</td>\n      <td>23</td>\n      <td>boris johnson happy place russian invasion ukr...</td>\n      <td>positive</td>\n      <td>0.221</td>\n      <td>0.166</td>\n    </tr>\n    <tr>\n      <th>10536</th>\n      <td>THE GUARDIAN</td>\n      <td>2022-02-23</td>\n      <td>en</td>\n      <td>Keir Starmer urges Boris Johnson to end ‘era o...</td>\n      <td>POLITICS</td>\n      <td>13.27PMQs – snap verdictPMQs has never been a ...</td>\n      <td>True</td>\n      <td>7064</td>\n      <td>/p/knqpm</td>\n      <td>https://www.theguardian.com/politics/live/2022...</td>\n      <td>18673</td>\n      <td>3017</td>\n      <td>2022</td>\n      <td>2</td>\n      <td>23</td>\n      <td>1327pmqs snap verdictpmqs forum handle nuance ...</td>\n      <td>positive</td>\n      <td>0.147</td>\n      <td>0.118</td>\n    </tr>\n    <tr>\n      <th>10537</th>\n      <td>THE GUARDIAN</td>\n      <td>2022-02-23</td>\n      <td>en</td>\n      <td>Fighting the threat from Putin will take teamw...</td>\n      <td>COMMENTISFREE</td>\n      <td>The default view at Westminster and in most of...</td>\n      <td>True</td>\n      <td>317</td>\n      <td>/p/kz2dj</td>\n      <td>https://www.theguardian.com/commentisfree/2022...</td>\n      <td>7242</td>\n      <td>1219</td>\n      <td>2022</td>\n      <td>2</td>\n      <td>23</td>\n      <td>default view westminster medium vladimir putin...</td>\n      <td>positive</td>\n      <td>0.175</td>\n      <td>0.149</td>\n    </tr>\n    <tr>\n      <th>10540</th>\n      <td>THE GUARDIAN</td>\n      <td>2022-02-23</td>\n      <td>en</td>\n      <td>Understanding Putin’s narrative about Ukraine ...</td>\n      <td>COMMENTISFREE</td>\n      <td>With his incursion into Donetsk and Luhansk, V...</td>\n      <td>True</td>\n      <td>368</td>\n      <td>/p/kzv8x</td>\n      <td>https://www.theguardian.com/commentisfree/2022...</td>\n      <td>6075</td>\n      <td>1013</td>\n      <td>2022</td>\n      <td>2</td>\n      <td>23</td>\n      <td>incursion donetsk luhansk vladimir putin break...</td>\n      <td>negative</td>\n      <td>0.175</td>\n      <td>0.170</td>\n    </tr>\n    <tr>\n      <th>10549</th>\n      <td>THE GUARDIAN</td>\n      <td>2022-02-23</td>\n      <td>en</td>\n      <td>Forget the obsession with sanctions against ol...</td>\n      <td>COMMENTISFREE</td>\n      <td>Since the annexation of Crimea in 2014, the we...</td>\n      <td>True</td>\n      <td>607</td>\n      <td>/p/kzv8c</td>\n      <td>https://www.theguardian.com/commentisfree/2022...</td>\n      <td>5382</td>\n      <td>911</td>\n      <td>2022</td>\n      <td>2</td>\n      <td>23</td>\n      <td>annexation crimea 2014 western response vladim...</td>\n      <td>positive</td>\n      <td>0.208</td>\n      <td>0.139</td>\n    </tr>\n    <tr>\n      <th>...</th>\n      <td>...</td>\n      <td>...</td>\n      <td>...</td>\n      <td>...</td>\n      <td>...</td>\n      <td>...</td>\n      <td>...</td>\n      <td>...</td>\n      <td>...</td>\n      <td>...</td>\n      <td>...</td>\n      <td>...</td>\n      <td>...</td>\n      <td>...</td>\n      <td>...</td>\n      <td>...</td>\n      <td>...</td>\n      <td>...</td>\n      <td>...</td>\n    </tr>\n    <tr>\n      <th>13676</th>\n      <td>THE GUARDIAN</td>\n      <td>2022-06-29</td>\n      <td>en</td>\n      <td>The Guardian view on Boris Johnson abroad: mor...</td>\n      <td>COMMENTISFREE</td>\n      <td>Boris Johnson’s domestic troubles are so relen...</td>\n      <td>True</td>\n      <td>181</td>\n      <td>/p/ymdcx</td>\n      <td>https://www.theguardian.com/commentisfree/2022...</td>\n      <td>3443</td>\n      <td>562</td>\n      <td>2022</td>\n      <td>6</td>\n      <td>29</td>\n      <td>boris johnsons domestic trouble relentless fin...</td>\n      <td>positive</td>\n      <td>0.178</td>\n      <td>0.115</td>\n    </tr>\n    <tr>\n      <th>13681</th>\n      <td>THE GUARDIAN</td>\n      <td>2022-06-29</td>\n      <td>en</td>\n      <td>No 10 staff will be able to give evidence conf...</td>\n      <td>POLITICS</td>\n      <td>14.54No 10 staff will be able to give evidence...</td>\n      <td>True</td>\n      <td>6573</td>\n      <td>/p/ymca8</td>\n      <td>https://www.theguardian.com/politics/live/2022...</td>\n      <td>18577</td>\n      <td>3014</td>\n      <td>2022</td>\n      <td>6</td>\n      <td>29</td>\n      <td>1454no 10 staff able evidence confidentially i...</td>\n      <td>positive</td>\n      <td>0.132</td>\n      <td>0.079</td>\n    </tr>\n    <tr>\n      <th>13694</th>\n      <td>THE GUARDIAN</td>\n      <td>2022-06-30</td>\n      <td>en</td>\n      <td>The Guardian view on the Nato summit: new role...</td>\n      <td>COMMENTISFREE</td>\n      <td>After the fall of the Berlin Wall, the North A...</td>\n      <td>True</td>\n      <td>39</td>\n      <td>/p/ymtqe</td>\n      <td>https://www.theguardian.com/commentisfree/2022...</td>\n      <td>3794</td>\n      <td>624</td>\n      <td>2022</td>\n      <td>6</td>\n      <td>30</td>\n      <td>fall berlin wall north atlantic treaty organiz...</td>\n      <td>negative</td>\n      <td>0.151</td>\n      <td>0.143</td>\n    </tr>\n    <tr>\n      <th>13698</th>\n      <td>THE GUARDIAN</td>\n      <td>2022-06-30</td>\n      <td>en</td>\n      <td>Boris Johnson says UK defence spending set to ...</td>\n      <td>POLITICS</td>\n      <td>12.48Johnson says defence spending set to rise...</td>\n      <td>True</td>\n      <td>7155</td>\n      <td>/p/ymh5a</td>\n      <td>https://www.theguardian.com/politics/live/2022...</td>\n      <td>14730</td>\n      <td>2442</td>\n      <td>2022</td>\n      <td>6</td>\n      <td>30</td>\n      <td>1248johnson defence spending set rise 25 gdp e...</td>\n      <td>positive</td>\n      <td>0.219</td>\n      <td>0.089</td>\n    </tr>\n    <tr>\n      <th>13700</th>\n      <td>THE GUARDIAN</td>\n      <td>2022-06-30</td>\n      <td>en</td>\n      <td>Putin’s war is also a crime – the world must p...</td>\n      <td>COMMENTISFREE</td>\n      <td>As I write, rescuers are still searching the r...</td>\n      <td>True</td>\n      <td>309</td>\n      <td>/p/ymcnh</td>\n      <td>https://www.theguardian.com/commentisfree/2022...</td>\n      <td>6780</td>\n      <td>1100</td>\n      <td>2022</td>\n      <td>6</td>\n      <td>30</td>\n      <td>I write rescuer search remain shopping centre ...</td>\n      <td>negative</td>\n      <td>0.081</td>\n      <td>0.336</td>\n    </tr>\n  </tbody>\n</table>\n<p>202 rows × 19 columns</p>\n</div>"
     },
     "execution_count": 35,
     "metadata": {},
     "output_type": "execute_result"
    }
   ],
   "source": [
    "war[war['Comments exist'] == True]"
   ],
   "metadata": {
    "collapsed": false,
    "pycharm": {
     "name": "#%%\n"
    }
   }
  },
  {
   "cell_type": "code",
   "execution_count": 30,
   "outputs": [
    {
     "data": {
      "text/plain": "    Publisher Date Formatted Lang  \\\n0  ΚΑΘΗΜΕΡΙΝΗ     2022-07-05   el   \n1  ΚΑΘΗΜΕΡΙΝΗ     2022-07-05   el   \n2  ΚΑΘΗΜΕΡΙΝΗ     2022-07-05   el   \n3  ΚΑΘΗΜΕΡΙΝΗ     2022-07-05   el   \n4  ΚΑΘΗΜΕΡΙΝΗ     2022-07-05   el   \n\n                                             Heading                    Tag  \\\n0  Μπορέλ: O Πούτιν πρέπει να επιλέξει «ανάμεσα σ...                 ΚΟΣΜΟΣ   \n1  Μαριούπολη: Οι φιλορώσοι αυτονομιστές κατέσχεσ...  ΠΟΛΕΜΟΣ ΣΤΗΝ ΟΥΚΡΑΝΙΑ   \n2  Πρόβλεψη για αύξηση του εμπορίου μεταξύ Ρωσίας...      ΔΙΕΘΝΗΣ ΟΙΚΟΝΟΜΙΑ   \n3  Σακελλαροπούλου σε Ζελένσκι: Είμαστε και θα εί...               ΠΟΛΙΤΙΚΗ   \n4  Ουκρανία: Το ρωσοκρατούμενο πυρηνικό εργοστάσι...                 ΚΟΣΜΟΣ   \n\n                                                Text  Comments exist  \\\n0  Οι κυρώσεις, που έχουν επιβληθεί στην Ρωσία σε...           False   \n1  Οι φιλορώσοι αυτονομιστές κατέλαβαν δύο πλοία ...           False   \n2  Ο εμπορικός τζίρος μεταξύ Τουρκίας και Ρωσίας ...           False   \n3  «Το απαραβίαστο των συνόρων είναι η βάση της σ...           False   \n4  Ο μεγαλύτερος πυρηνικός σταθμός της Ευρώπης, μ...           False   \n\n   Comments count Comments api key  \\\n0               0              NaN   \n1               0              NaN   \n2               0              NaN   \n3               0              NaN   \n4               0              NaN   \n\n                                         Article url  Chars  Words  Year  \\\n0  https://www.kathimerini.gr/world/561942142/mpo...   4114    627  2022   \n1  https://www.kathimerini.gr/world/561942133/mar...   2548    360  2022   \n2  https://www.kathimerini.gr/economy/internation...   1848    274  2022   \n3  https://www.kathimerini.gr/politics/561941488/...   2472    371  2022   \n4  https://www.kathimerini.gr/world/561941377/oyk...   2829    418  2022   \n\n   Month  Day                                              Lemma Sentiments  \\\n0      7    5  κύρωση επιβάλλω Ρωσία σχέση εισβολή ουκρανία α...   negative   \n1      7    5  φιλορώσος αυτονομιστής κατέλαβαν δύο πλοίο ξέν...   positive   \n2      7    5  εμπορικός τζίρος τουρκία ρωσίας ενδέχεται αυξά...   positive   \n3      7    5  απαραβίαστο συνόρων βάση συμβίωση 1945 δύναμη ...   positive   \n4      7    5  μεγαλύτερος πυρηνικός σταθμός ευρώπη έδρα ημικ...   positive   \n\n   Positivity  Negativity  \n0       0.037       0.040  \n1       0.026       0.022  \n2       0.021       0.018  \n3       0.035       0.031  \n4       0.028       0.016  ",
      "text/html": "<div>\n<style scoped>\n    .dataframe tbody tr th:only-of-type {\n        vertical-align: middle;\n    }\n\n    .dataframe tbody tr th {\n        vertical-align: top;\n    }\n\n    .dataframe thead th {\n        text-align: right;\n    }\n</style>\n<table border=\"1\" class=\"dataframe\">\n  <thead>\n    <tr style=\"text-align: right;\">\n      <th></th>\n      <th>Publisher</th>\n      <th>Date Formatted</th>\n      <th>Lang</th>\n      <th>Heading</th>\n      <th>Tag</th>\n      <th>Text</th>\n      <th>Comments exist</th>\n      <th>Comments count</th>\n      <th>Comments api key</th>\n      <th>Article url</th>\n      <th>Chars</th>\n      <th>Words</th>\n      <th>Year</th>\n      <th>Month</th>\n      <th>Day</th>\n      <th>Lemma</th>\n      <th>Sentiments</th>\n      <th>Positivity</th>\n      <th>Negativity</th>\n    </tr>\n  </thead>\n  <tbody>\n    <tr>\n      <th>0</th>\n      <td>ΚΑΘΗΜΕΡΙΝΗ</td>\n      <td>2022-07-05</td>\n      <td>el</td>\n      <td>Μπορέλ: O Πούτιν πρέπει να επιλέξει «ανάμεσα σ...</td>\n      <td>ΚΟΣΜΟΣ</td>\n      <td>Οι κυρώσεις, που έχουν επιβληθεί στην Ρωσία σε...</td>\n      <td>False</td>\n      <td>0</td>\n      <td>NaN</td>\n      <td>https://www.kathimerini.gr/world/561942142/mpo...</td>\n      <td>4114</td>\n      <td>627</td>\n      <td>2022</td>\n      <td>7</td>\n      <td>5</td>\n      <td>κύρωση επιβάλλω Ρωσία σχέση εισβολή ουκρανία α...</td>\n      <td>negative</td>\n      <td>0.037</td>\n      <td>0.040</td>\n    </tr>\n    <tr>\n      <th>1</th>\n      <td>ΚΑΘΗΜΕΡΙΝΗ</td>\n      <td>2022-07-05</td>\n      <td>el</td>\n      <td>Μαριούπολη: Οι φιλορώσοι αυτονομιστές κατέσχεσ...</td>\n      <td>ΠΟΛΕΜΟΣ ΣΤΗΝ ΟΥΚΡΑΝΙΑ</td>\n      <td>Οι φιλορώσοι αυτονομιστές κατέλαβαν δύο πλοία ...</td>\n      <td>False</td>\n      <td>0</td>\n      <td>NaN</td>\n      <td>https://www.kathimerini.gr/world/561942133/mar...</td>\n      <td>2548</td>\n      <td>360</td>\n      <td>2022</td>\n      <td>7</td>\n      <td>5</td>\n      <td>φιλορώσος αυτονομιστής κατέλαβαν δύο πλοίο ξέν...</td>\n      <td>positive</td>\n      <td>0.026</td>\n      <td>0.022</td>\n    </tr>\n    <tr>\n      <th>2</th>\n      <td>ΚΑΘΗΜΕΡΙΝΗ</td>\n      <td>2022-07-05</td>\n      <td>el</td>\n      <td>Πρόβλεψη για αύξηση του εμπορίου μεταξύ Ρωσίας...</td>\n      <td>ΔΙΕΘΝΗΣ ΟΙΚΟΝΟΜΙΑ</td>\n      <td>Ο εμπορικός τζίρος μεταξύ Τουρκίας και Ρωσίας ...</td>\n      <td>False</td>\n      <td>0</td>\n      <td>NaN</td>\n      <td>https://www.kathimerini.gr/economy/internation...</td>\n      <td>1848</td>\n      <td>274</td>\n      <td>2022</td>\n      <td>7</td>\n      <td>5</td>\n      <td>εμπορικός τζίρος τουρκία ρωσίας ενδέχεται αυξά...</td>\n      <td>positive</td>\n      <td>0.021</td>\n      <td>0.018</td>\n    </tr>\n    <tr>\n      <th>3</th>\n      <td>ΚΑΘΗΜΕΡΙΝΗ</td>\n      <td>2022-07-05</td>\n      <td>el</td>\n      <td>Σακελλαροπούλου σε Ζελένσκι: Είμαστε και θα εί...</td>\n      <td>ΠΟΛΙΤΙΚΗ</td>\n      <td>«Το απαραβίαστο των συνόρων είναι η βάση της σ...</td>\n      <td>False</td>\n      <td>0</td>\n      <td>NaN</td>\n      <td>https://www.kathimerini.gr/politics/561941488/...</td>\n      <td>2472</td>\n      <td>371</td>\n      <td>2022</td>\n      <td>7</td>\n      <td>5</td>\n      <td>απαραβίαστο συνόρων βάση συμβίωση 1945 δύναμη ...</td>\n      <td>positive</td>\n      <td>0.035</td>\n      <td>0.031</td>\n    </tr>\n    <tr>\n      <th>4</th>\n      <td>ΚΑΘΗΜΕΡΙΝΗ</td>\n      <td>2022-07-05</td>\n      <td>el</td>\n      <td>Ουκρανία: Το ρωσοκρατούμενο πυρηνικό εργοστάσι...</td>\n      <td>ΚΟΣΜΟΣ</td>\n      <td>Ο μεγαλύτερος πυρηνικός σταθμός της Ευρώπης, μ...</td>\n      <td>False</td>\n      <td>0</td>\n      <td>NaN</td>\n      <td>https://www.kathimerini.gr/world/561941377/oyk...</td>\n      <td>2829</td>\n      <td>418</td>\n      <td>2022</td>\n      <td>7</td>\n      <td>5</td>\n      <td>μεγαλύτερος πυρηνικός σταθμός ευρώπη έδρα ημικ...</td>\n      <td>positive</td>\n      <td>0.028</td>\n      <td>0.016</td>\n    </tr>\n  </tbody>\n</table>\n</div>"
     },
     "execution_count": 30,
     "metadata": {},
     "output_type": "execute_result"
    }
   ],
   "source": [
    "war.head()"
   ],
   "metadata": {
    "collapsed": false,
    "pycharm": {
     "name": "#%%\n"
    }
   }
  },
  {
   "cell_type": "code",
   "execution_count": 31,
   "outputs": [
    {
     "data": {
      "text/plain": "Publisher            object\nDate Formatted       object\nLang                 object\nHeading              object\nTag                  object\nText                 object\nComments exist         bool\nComments count        int64\nComments api key     object\nArticle url          object\nChars                 int64\nWords                 int64\nYear                  int64\nMonth                 int64\nDay                   int64\nLemma                object\nSentiments           object\nPositivity          float64\nNegativity          float64\ndtype: object"
     },
     "execution_count": 31,
     "metadata": {},
     "output_type": "execute_result"
    }
   ],
   "source": [
    "war.dtypes"
   ],
   "metadata": {
    "collapsed": false,
    "pycharm": {
     "name": "#%%\n"
    }
   }
  },
  {
   "cell_type": "code",
   "execution_count": null,
   "outputs": [],
   "source": [],
   "metadata": {
    "collapsed": false,
    "pycharm": {
     "name": "#%%\n"
    }
   }
  }
 ],
 "metadata": {
  "kernelspec": {
   "display_name": "Python 3",
   "language": "python",
   "name": "python3"
  },
  "language_info": {
   "codemirror_mode": {
    "name": "ipython",
    "version": 2
   },
   "file_extension": ".py",
   "mimetype": "text/x-python",
   "name": "python",
   "nbconvert_exporter": "python",
   "pygments_lexer": "ipython2",
   "version": "2.7.6"
  }
 },
 "nbformat": 4,
 "nbformat_minor": 0
}