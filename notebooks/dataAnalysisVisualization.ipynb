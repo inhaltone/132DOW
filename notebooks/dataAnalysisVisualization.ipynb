{
 "cells": [
  {
   "cell_type": "code",
   "execution_count": 2,
   "outputs": [],
   "source": [
    "import pandas as pd\n",
    "\n",
    "war_df = pd.read_csv('../data/final/132-war-days.csv',\n",
    "                     compression={'method': 'gzip', 'compresslevel': 1, 'mtime': 1},\n",
    "                     index_col=[0])"
   ],
   "metadata": {
    "collapsed": false,
    "pycharm": {
     "name": "#%%\n"
    }
   }
  },
  {
   "cell_type": "code",
   "execution_count": null,
   "outputs": [],
   "source": [
    "war_df.head()"
   ],
   "metadata": {
    "collapsed": false,
    "pycharm": {
     "name": "#%%\n",
     "is_executing": true
    }
   }
  },
  {
   "cell_type": "code",
   "execution_count": 394,
   "outputs": [
    {
     "data": {
      "text/plain": "ΝΑΥΤΕΜΠΟΡΙΚΗ               4628\nΚΑΘΗΜΕΡΙΝΗ                 3230\nTHE GUARDIAN               3205\nΕΦΗΜΕΡΙΔΑ ΤΩΝ ΣΥΝΤΑΚΤΩΝ    2400\nName: Publisher, dtype: int64"
     },
     "execution_count": 394,
     "metadata": {},
     "output_type": "execute_result"
    }
   ],
   "source": [
    "war_df[\"Publisher\"].value_counts()"
   ],
   "metadata": {
    "collapsed": false,
    "pycharm": {
     "name": "#%%\n"
    }
   }
  },
  {
   "cell_type": "code",
   "execution_count": 12,
   "outputs": [
    {
     "name": "stdout",
     "output_type": "stream",
     "text": [
      "174556111\n"
     ]
    }
   ],
   "source": [
    "ram = war_df.memory_usage(deep=True).sum()\n",
    "print(ram)"
   ],
   "metadata": {
    "collapsed": false,
    "pycharm": {
     "name": "#%%\n"
    }
   }
  },
  {
   "cell_type": "code",
   "execution_count": 3,
   "outputs": [],
   "source": [
    "import prototypes.datamodel as model\n",
    "from pandas.api.types import CategoricalDtype\n",
    "\n",
    "publisher_enum = CategoricalDtype(\n",
    "    categories=[model.Publishers.KATHIMERINI.value,\n",
    "                model.Publishers.EFSYN.value,\n",
    "                model.Publishers.NAFTEMPORIKI.value,\n",
    "                model.Publishers.THE_GUARDIAN.value],\n",
    "    ordered=True)\n",
    "\n",
    "lang_enum = CategoricalDtype(\n",
    "    categories=[model.Lang.GREEK.value,\n",
    "                model.Lang.ENGLISH.value],\n",
    "    ordered=True)\n",
    "\n",
    "sentiments_enum = CategoricalDtype(\n",
    "    categories=[model.Sentiments.NEGATIVE.value,\n",
    "                model.Sentiments.POSITIVE.value,\n",
    "                model.Sentiments.NEUTRAL.value],\n",
    "    ordered=True)"
   ],
   "metadata": {
    "collapsed": false,
    "pycharm": {
     "name": "#%%\n"
    }
   }
  },
  {
   "cell_type": "markdown",
   "source": [
    "## Casting & df Optimization\n",
    "`REDUCE MEMORY USAGE`"
   ],
   "metadata": {
    "collapsed": false,
    "pycharm": {
     "name": "#%% md\n"
    }
   }
  },
  {
   "cell_type": "code",
   "execution_count": 4,
   "outputs": [
    {
     "data": {
      "text/plain": "Publisher                 category\nDate Formatted      datetime64[ns]\nLang                      category\nHeading                     string\nTag                       category\nText                        string\nComments exist                bool\nComments count               int32\nComments api key            string\nArticle url                 string\nChars                        int64\nWords                        int64\nYear                         int16\nMonth                         int8\nDay                           int8\nLemma                       string\nLemma_unique                 int64\nSentiments                category\nPositivity                 float64\nNegativity                 float64\ndtype: object"
     },
     "execution_count": 4,
     "metadata": {},
     "output_type": "execute_result"
    }
   ],
   "source": [
    "war_df['Publisher'] = war_df['Publisher'].astype(publisher_enum)\n",
    "war_df['Date Formatted'] = pd.to_datetime(war_df['Date Formatted'], format=\"%Y-%m-%d\")\n",
    "war_df['Lang'] = war_df['Lang'].astype(lang_enum)\n",
    "war_df['Tag'] = war_df['Tag'].astype('category')\n",
    "war_df['Text'] = war_df['Text'].fillna('').astype('string')\n",
    "war_df['Comments count'] = war_df['Comments count'].astype('int32')\n",
    "war_df['Comments api key'] = war_df['Comments api key'].fillna('').astype('string')\n",
    "war_df['Article url'] = war_df['Comments api key'].astype('string')\n",
    "war_df['Heading'] = war_df['Heading'].astype('string')\n",
    "war_df['Year'] = war_df['Year'].astype('int16')\n",
    "war_df['Month'] = war_df['Month'].astype('int8')\n",
    "war_df['Day'] = war_df['Day'].astype('int8')\n",
    "war_df['Lemma'] = war_df['Lemma'].fillna('').astype('string')\n",
    "war_df['Sentiments'] = war_df['Sentiments'].astype(sentiments_enum)\n",
    "war_df.dtypes"
   ],
   "metadata": {
    "collapsed": false,
    "pycharm": {
     "name": "#%%\n"
    }
   }
  },
  {
   "cell_type": "code",
   "execution_count": 15,
   "outputs": [
    {
     "name": "stdout",
     "output_type": "stream",
     "text": [
      "168152401\n"
     ]
    }
   ],
   "source": [
    "ram_new = war_df.memory_usage(deep=True).sum()\n",
    "print(ram_new)"
   ],
   "metadata": {
    "collapsed": false,
    "pycharm": {
     "name": "#%%\n"
    }
   }
  },
  {
   "cell_type": "code",
   "execution_count": 7,
   "outputs": [
    {
     "data": {
      "text/plain": "<AxesSubplot:>"
     },
     "execution_count": 7,
     "metadata": {},
     "output_type": "execute_result"
    },
    {
     "data": {
      "text/plain": "<Figure size 792x648 with 2 Axes>",
      "image/png": "[encoded data removed]"
     },
     "metadata": {},
     "output_type": "display_data"
    }
   ],
   "source": [
    "import numpy as np\n",
    "import seaborn as sns\n",
    "import matplotlib.pyplot as plt\n",
    "\n",
    "sns.set_theme(style=\"white\")\n",
    "rs = np.random.RandomState(33)\n",
    "d = war_df\n",
    "corr = d.corr()\n",
    "mask = np.triu(np.ones_like(corr, dtype=bool))\n",
    "f, ax = plt.subplots(figsize=(11, 9))\n",
    "cmap = sns.diverging_palette(230, 20, as_cmap=True)\n",
    "sns.heatmap(corr, mask=mask, cmap=cmap, vmax=.3, center=0,\n",
    "            square=True, linewidths=.5, cbar_kws={\"shrink\": .5})"
   ],
   "metadata": {
    "collapsed": false,
    "pycharm": {
     "name": "#%%\n"
    }
   }
  },
  {
   "cell_type": "markdown",
   "source": [
    "## Data Visualization"
   ],
   "metadata": {
    "collapsed": false,
    "pycharm": {
     "name": "#%% md\n"
    }
   }
  },
  {
   "cell_type": "code",
   "execution_count": 17,
   "outputs": [
    {
     "data": {
      "text/plain": "negative    7264\npositive    5619\nneutral      580\nName: Sentiments, dtype: int64"
     },
     "execution_count": 17,
     "metadata": {},
     "output_type": "execute_result"
    }
   ],
   "source": [
    "war_df['Sentiments'].value_counts()"
   ],
   "metadata": {
    "collapsed": false,
    "pycharm": {
     "name": "#%%\n"
    }
   }
  },
  {
   "cell_type": "code",
   "execution_count": 7,
   "outputs": [],
   "source": [
    "from matplotlib import pyplot as plt\n",
    "import seaborn as sns"
   ],
   "metadata": {
    "collapsed": false,
    "pycharm": {
     "name": "#%%\n"
    }
   }
  },
  {
   "cell_type": "code",
   "execution_count": null,
   "outputs": [],
   "source": [
    "import datetime\n",
    "\n",
    "fig = plt.figure(figsize=(20, 10))\n",
    "ax = sns.scatterplot(x='Date Formatted',\n",
    "                     y='Words',\n",
    "                     hue='Publisher',\n",
    "                     legend='full',\n",
    "                     data=war_df,\n",
    "                     palette=sns.color_palette(\"Set1\", n_colors=4))\n",
    "max_transistors_per_year = war_df.groupby('Date Formatted')['Words'].max()\n",
    "sns.lineplot(data=max_transistors_per_year,\n",
    "             ax=ax.axes,\n",
    "             color='black')\n",
    "ax.set_xlim(datetime.date(2022, 2, 1), war_df['Date Formatted'].max())\n",
    "ax.set(title= 'Scatter plot - Word count by Day')\n",
    "plt.show()"
   ],
   "metadata": {
    "collapsed": false,
    "pycharm": {
     "name": "#%%\n",
     "is_executing": true
    }
   }
  },
  {
   "cell_type": "code",
   "execution_count": 52,
   "outputs": [],
   "source": [
    "from matplotlib.pyplot import savefig\n",
    "\n",
    "fig.savefig('../reports/1-words-date-trans.png',\n",
    "            format='png',\n",
    "            dpi=300,\n",
    "            bbox_inches='tight',\n",
    "            transparent=True,\n",
    "            pad_inches=0.5)"
   ],
   "metadata": {
    "collapsed": false,
    "pycharm": {
     "name": "#%%\n"
    }
   }
  },
  {
   "cell_type": "code",
   "execution_count": null,
   "outputs": [],
   "source": [
    "import datetime\n",
    "\n",
    "fig = plt.figure(figsize=(20, 10))\n",
    "ax = sns.scatterplot(x='Date Formatted',\n",
    "                     y='Words',\n",
    "                     hue='Sentiments',\n",
    "                     legend='full',\n",
    "                     data=war_df,\n",
    "                     palette=sns.color_palette(\"Set1\", n_colors=3))\n",
    "max_transistors_per_year = war_df.groupby('Date Formatted')['Words'].max()\n",
    "sns.lineplot(data=max_transistors_per_year,\n",
    "             ax=ax.axes,\n",
    "             color='black')\n",
    "ax.set_xlim(datetime.date(2022, 2,20), datetime.date(2022, 3,20))\n",
    "ax.set(title= 'Scatter plot - Sentiments from 20 February 2022 - 20 March 2022')\n",
    "plt.show()"
   ],
   "metadata": {
    "collapsed": false,
    "pycharm": {
     "name": "#%%\n",
     "is_executing": true
    }
   }
  },
  {
   "cell_type": "code",
   "execution_count": null,
   "outputs": [],
   "source": [
    "ax = sns.jointplot(x='Month',\n",
    "                y='Negativity',\n",
    "                data=war_df[war_df['Date Formatted'] > '2022-02-01'],\n",
    "                kind=\"reg\",\n",
    "                truncate=False,\n",
    "                marginal_kws={'bins': 14},\n",
    "                color=\"c\",\n",
    "                height=8,\n",
    "                   )\n",
    "plt.show()"
   ],
   "metadata": {
    "collapsed": false,
    "pycharm": {
     "name": "#%%\n",
     "is_executing": true
    }
   }
  },
  {
   "cell_type": "code",
   "execution_count": null,
   "outputs": [],
   "source": [
    "sns.set_theme(style=\"ticks\")\n",
    "\n",
    "g = sns.jointplot(\n",
    "    data=war_df[war_df['Date Formatted'] > '2022-02-01'],\n",
    "    x=\"Positivity\",\n",
    "    y=\"Negativity\",\n",
    "    hue=\"Publisher\",\n",
    "    kind=\"kde\",\n",
    "    height=10,\n",
    "    aspect=1,\n",
    "    marginal_ticks=True\n",
    ")\n",
    "g.ax_marg_x.set_xlim(0, 0.5)\n",
    "g.ax_marg_y.set_ylim(0, 0.5)"
   ],
   "metadata": {
    "collapsed": false,
    "pycharm": {
     "name": "#%%\n",
     "is_executing": true
    }
   }
  },
  {
   "cell_type": "code",
   "execution_count": null,
   "outputs": [],
   "source": [
    "sns.set_theme(style=\"ticks\")\n",
    "\n",
    "g = sns.jointplot(\n",
    "    data=war_df[war_df['Date Formatted'] > '2022-02-01'],\n",
    "    x=\"Positivity\",\n",
    "    y=\"Negativity\",\n",
    "    hue=\"Publisher\",\n",
    "    kind=\"kde\",\n",
    "    height=10,\n",
    "    aspect=1,\n",
    "    marginal_ticks=True\n",
    ")"
   ],
   "metadata": {
    "collapsed": false,
    "pycharm": {
     "name": "#%%\n",
     "is_executing": true
    }
   }
  },
  {
   "cell_type": "code",
   "execution_count": null,
   "outputs": [],
   "source": [
    "g.ax_marg_y.set_ylim(0, 0.5)\n",
    "sns.set_theme(style=\"ticks\")\n",
    "\n",
    "g = sns.jointplot(\n",
    "    data=war_df[war_df['Date Formatted'] > '2022-02-01'],\n",
    "    x=\"Positivity\",\n",
    "    y=\"Negativity\",\n",
    "    hue=\"Sentiments\",\n",
    "    kind=\"kde\",\n",
    "    height=10,\n",
    "    aspect=1,\n",
    "    marginal_ticks=True\n",
    ")"
   ],
   "metadata": {
    "collapsed": false,
    "pycharm": {
     "name": "#%%\n",
     "is_executing": true
    }
   }
  },
  {
   "cell_type": "code",
   "execution_count": null,
   "outputs": [],
   "source": [
    "efsyn = sns.relplot(x=\"Date Formatted\",\n",
    "            y=\"Words\",\n",
    "            size=\"Negativity\",\n",
    "            hue='Sentiments',\n",
    "            sizes=(0, 100),\n",
    "            height=8,\n",
    "            aspect=2,\n",
    "            data=war_df[(war_df['Date Formatted'] > '2022-02-01')\n",
    "                        & (war_df['Publisher'] == model.Publishers.EFSYN.value)])\\\n",
    "    .set(title= model.Publishers.EFSYN.value)"
   ],
   "metadata": {
    "collapsed": false,
    "pycharm": {
     "name": "#%%\n",
     "is_executing": true
    }
   }
  },
  {
   "cell_type": "code",
   "execution_count": null,
   "outputs": [],
   "source": [
    "guardian = sns.relplot(x=\"Date Formatted\",\n",
    "            y=\"Words\",\n",
    "            size=\"Negativity\",\n",
    "            hue='Sentiments',\n",
    "            sizes=(0, 100),\n",
    "            height=8,\n",
    "            aspect=2,\n",
    "            data=war_df[(war_df['Date Formatted'] > '2020-02-01')\n",
    "                        & (war_df['Publisher'] == model.Publishers.THE_GUARDIAN.value)])\\\n",
    "    .set(title= model.Publishers.THE_GUARDIAN.value)"
   ],
   "metadata": {
    "collapsed": false,
    "pycharm": {
     "name": "#%%\n",
     "is_executing": true
    }
   }
  },
  {
   "cell_type": "code",
   "execution_count": null,
   "outputs": [],
   "source": [
    "kathimerini = sns.relplot(x=\"Date Formatted\",\n",
    "            y=\"Words\",\n",
    "            size=\"Negativity\",\n",
    "            hue='Sentiments',\n",
    "            sizes=(0, 100),\n",
    "            height=8,\n",
    "            aspect=2,\n",
    "            data=war_df[(war_df['Date Formatted'] > '2020-02-01')\n",
    "                        & (war_df['Publisher'] == model.Publishers.KATHIMERINI.value)])\\\n",
    "    .set(title= model.Publishers.KATHIMERINI.value)"
   ],
   "metadata": {
    "collapsed": false,
    "pycharm": {
     "name": "#%%\n",
     "is_executing": true
    }
   }
  },
  {
   "cell_type": "code",
   "execution_count": null,
   "outputs": [],
   "source": [
    "naftemporiki = sns.relplot(\n",
    "    x=\"Date Formatted\",\n",
    "    y=\"Words\",\n",
    "    size=\"Negativity\",\n",
    "    hue='Sentiments',\n",
    "    sizes=(0, 100),\n",
    "    height=8,\n",
    "    aspect=2,\n",
    "    data=war_df[(war_df['Date Formatted'] > '2020-02-01')\n",
    "                        & (war_df['Publisher'] == model.Publishers.NAFTEMPORIKI.value)])\\\n",
    "    .set(title= model.Publishers.NAFTEMPORIKI.value)"
   ],
   "metadata": {
    "collapsed": false,
    "pycharm": {
     "name": "#%%\n",
     "is_executing": true
    }
   }
  },
  {
   "cell_type": "code",
   "execution_count": null,
   "outputs": [],
   "source": [
    "war_df['Publisher'].value_counts().sort_values().plot(kind='barh')"
   ],
   "metadata": {
    "collapsed": false,
    "pycharm": {
     "name": "#%%\n",
     "is_executing": true
    }
   }
  },
  {
   "cell_type": "code",
   "execution_count": null,
   "outputs": [],
   "source": [
    "war_df['Tag'].value_counts().head(10).sort_values().plot(kind='barh')"
   ],
   "metadata": {
    "collapsed": false,
    "pycharm": {
     "name": "#%%\n",
     "is_executing": true
    }
   }
  },
  {
   "cell_type": "code",
   "execution_count": null,
   "outputs": [],
   "source": [
    "ax = sns.catplot(x=\"Date Formatted\",\n",
    "                 y=\"Negativity\",\n",
    "                 hue=\"Publisher\",\n",
    "                 height=10, aspect=1.8,\n",
    "                 capsize=.2,\n",
    "                 kind=\"point\",\n",
    "                 data=war_df[war_df['Date Formatted'] > '2022-02-01'])\n",
    "ax.despine(left=True)\n",
    "ax.set(title= 'conditional relationships on Negativity values between publishers')\n",
    "plt.show()"
   ],
   "metadata": {
    "collapsed": false,
    "pycharm": {
     "name": "#%%\n",
     "is_executing": true
    }
   }
  },
  {
   "cell_type": "code",
   "execution_count": null,
   "outputs": [],
   "source": [
    "ax = sns.catplot(x=\"Publisher\",\n",
    "                 y=\"Words\",\n",
    "                 hue=\"Sentiments\",\n",
    "                 height=10, aspect=2,\n",
    "                 capsize=.2,\n",
    "                 kind=\"bar\",\n",
    "                 data=war_df[war_df['Date Formatted'] > '2022-02-01'])\n",
    "ax.despine(left=True)\n",
    "plt.show()"
   ],
   "metadata": {
    "collapsed": false,
    "pycharm": {
     "name": "#%%\n",
     "is_executing": true
    }
   }
  },
  {
   "cell_type": "code",
   "execution_count": null,
   "outputs": [],
   "source": [
    "ax = sns.catplot(x=\"Sentiments\",\n",
    "                 y=\"Words\",\n",
    "                 hue=\"Publisher\",\n",
    "                 height=10, aspect=2,\n",
    "                 capsize=.2,\n",
    "                 kind=\"bar\",\n",
    "                 data=war_df[war_df['Date Formatted'] > '2022-02-01'])\n",
    "ax.despine(left=True)\n",
    "plt.show()"
   ],
   "metadata": {
    "collapsed": false,
    "pycharm": {
     "name": "#%%\n",
     "is_executing": true
    }
   }
  },
  {
   "cell_type": "code",
   "execution_count": null,
   "outputs": [],
   "source": [
    "ax = sns.catplot(x=\"Day\",\n",
    "                 y=\"Publisher\",\n",
    "                 hue=\"Sentiments\",\n",
    "                 height=10, aspect=2,\n",
    "                 capsize=.2,\n",
    "                 kind=\"bar\",\n",
    "                 data=war_df[war_df['Date Formatted'] > '2022-02-01'])\n",
    "ax.despine(left=True)\n",
    "plt.show()"
   ],
   "metadata": {
    "collapsed": false,
    "pycharm": {
     "name": "#%%\n",
     "is_executing": true
    }
   }
  },
  {
   "cell_type": "markdown",
   "source": [
    "## Distribution plot"
   ],
   "metadata": {
    "collapsed": false,
    "pycharm": {
     "name": "#%% md\n"
    }
   }
  },
  {
   "cell_type": "code",
   "execution_count": null,
   "outputs": [],
   "source": [
    "sns.set_theme(style=\"darkgrid\")\n",
    "ax = sns.displot(war_df[war_df['Date Formatted'] > '2022-02-01'],\n",
    "            x=\"Date Formatted\",\n",
    "            hue=\"Sentiments\",\n",
    "            kind=\"kde\",\n",
    "            fill=True,\n",
    "            height=8,\n",
    "            aspect=1.8)"
   ],
   "metadata": {
    "collapsed": false,
    "pycharm": {
     "name": "#%%\n",
     "is_executing": true
    }
   }
  },
  {
   "cell_type": "code",
   "execution_count": null,
   "outputs": [],
   "source": [
    "sns.set_theme(style=\"darkgrid\")\n",
    "ax = sns.displot(war_df[war_df['Date Formatted'] > '2022-02-01'],\n",
    "            x=\"Date Formatted\",\n",
    "            hue=\"Publisher\",\n",
    "            kind=\"kde\",\n",
    "            fill=True,\n",
    "            height=8,\n",
    "            aspect=1.8)"
   ],
   "metadata": {
    "collapsed": false,
    "pycharm": {
     "name": "#%%\n",
     "is_executing": true
    }
   }
  },
  {
   "cell_type": "code",
   "execution_count": null,
   "outputs": [],
   "source": [
    "sns.set(style=\"white\",\n",
    "        palette=\"muted\",\n",
    "        color_codes=True)\n",
    "sns.displot(data=war_df[war_df['Date Formatted'] > '2022-02-01'],\n",
    "            x=\"Date Formatted\",\n",
    "            hue=\"Publisher\",\n",
    "            col=\"Publisher\",\n",
    "            kde=True)\n",
    "plt.show()"
   ],
   "metadata": {
    "collapsed": false,
    "pycharm": {
     "name": "#%%\n",
     "is_executing": true
    }
   }
  },
  {
   "cell_type": "code",
   "execution_count": null,
   "outputs": [],
   "source": [
    "sns.set(style=\"white\",\n",
    "        palette=\"muted\",\n",
    "        color_codes=True)\n",
    "sns.displot(data=war_df[war_df['Date Formatted'] > '2022-02-01'],\n",
    "            x=\"Date Formatted\",\n",
    "            hue=\"Sentiments\",\n",
    "            col=\"Publisher\",\n",
    "            kde=True)\n",
    "plt.show()"
   ],
   "metadata": {
    "collapsed": false,
    "pycharm": {
     "name": "#%%\n",
     "is_executing": true
    }
   }
  },
  {
   "cell_type": "code",
   "execution_count": null,
   "outputs": [],
   "source": [
    "sns.set(style=\"white\",\n",
    "        palette=\"muted\",\n",
    "        color_codes=True)\n",
    "sns.displot(data=war_df[war_df['Date Formatted'] > '2022-02-01'],\n",
    "            x=\"Date Formatted\",\n",
    "            hue=\"Publisher\",\n",
    "            col=\"Sentiments\",\n",
    "            kde=True)\n",
    "plt.show()"
   ],
   "metadata": {
    "collapsed": false,
    "pycharm": {
     "name": "#%%\n",
     "is_executing": true
    }
   }
  },
  {
   "cell_type": "markdown",
   "source": [
    "## Date as index"
   ],
   "metadata": {
    "collapsed": false,
    "pycharm": {
     "name": "#%% md\n"
    }
   }
  },
  {
   "cell_type": "code",
   "execution_count": 25,
   "outputs": [],
   "source": [
    "war_df.set_index('Date Formatted' , inplace=True)"
   ],
   "metadata": {
    "collapsed": false,
    "pycharm": {
     "name": "#%%\n"
    }
   }
  },
  {
   "cell_type": "code",
   "execution_count": null,
   "outputs": [],
   "source": [
    "import seaborn as sns\n",
    "\n",
    "correlation_matrix = war_df.corr().round(2)\n",
    "# annot = True to print the values inside the square\n",
    "sns.set(rc = {'figure.figsize':(15, 12)})\n",
    "sns.heatmap(data=correlation_matrix, annot=True)"
   ],
   "metadata": {
    "collapsed": false,
    "pycharm": {
     "name": "#%%\n",
     "is_executing": true
    }
   }
  },
  {
   "cell_type": "code",
   "execution_count": null,
   "outputs": [],
   "source": [
    "import seaborn as sns\n",
    "import matplotlib as plt\n",
    "\n",
    "sns.set_theme(style=\"whitegrid\")\n",
    "\n",
    "cmap = sns.cubehelix_palette(rot=-.2, as_cmap=True)\n",
    "g = sns.relplot(\n",
    "    data=war_df[war_df['Date Formatted'] > '2022-02-01'],\n",
    "    x=\"Positivity\", y=\"Negativity\",\n",
    "    hue=\"Month\", size=\"Words\",\n",
    "    palette=cmap, sizes=(10, 700),  height=10, aspect=1/1\n",
    ")\n",
    "g.set(xscale=\"linear\", yscale=\"linear\")\n",
    "g.ax.xaxis.grid(True, \"minor\", linewidth=.25)\n",
    "g.ax.yaxis.grid(True, \"minor\", linewidth=.25)\n",
    "g.despine(left=True, bottom=True)"
   ],
   "metadata": {
    "collapsed": false,
    "pycharm": {
     "name": "#%%\n",
     "is_executing": true
    }
   }
  },
  {
   "cell_type": "code",
   "execution_count": null,
   "outputs": [],
   "source": [
    "war_df['Words'].groupby(by=war_df.index.month).mean().plot()"
   ],
   "metadata": {
    "collapsed": false,
    "pycharm": {
     "name": "#%%\n",
     "is_executing": true
    }
   }
  },
  {
   "cell_type": "code",
   "execution_count": null,
   "outputs": [],
   "source": [
    "plt.style.use('ggplot')\n",
    "ax = war_df['Negativity']\\\n",
    "    .resample('M')\\\n",
    "    .mean()\\\n",
    "    .plot(figsize=(16,4),\n",
    "          color = 'g', label='pos')\n",
    "war_df['Positivity']\\\n",
    "    .resample('M')\\\n",
    "    .mean()\\\n",
    "    .plot(figsize=(16,4),\n",
    "          ax = ax,\n",
    "          label = 'neg', color = 'r').legend()"
   ],
   "metadata": {
    "collapsed": false,
    "pycharm": {
     "name": "#%%\n",
     "is_executing": true
    }
   }
  },
  {
   "cell_type": "code",
   "execution_count": null,
   "outputs": [],
   "source": [
    "ax = war_df['Negativity'].resample('M').sum().plot(figsize=(16,4), color = 'red')\n",
    "war_df['Positivity'].resample('M').sum().plot(figsize=(16,4), ax = ax, color = 'green')"
   ],
   "metadata": {
    "collapsed": false,
    "pycharm": {
     "name": "#%%\n",
     "is_executing": true
    }
   }
  },
  {
   "cell_type": "code",
   "execution_count": null,
   "outputs": [],
   "source": [
    "war_df['Negativity'].resample('A').sum().plot(color = 'b',label = 'neg').legend()"
   ],
   "metadata": {
    "collapsed": false,
    "pycharm": {
     "name": "#%%\n",
     "is_executing": true
    }
   }
  },
  {
   "cell_type": "code",
   "execution_count": 276,
   "outputs": [],
   "source": [
    "import spacy\n",
    "nlp_en = spacy.load(\"en_core_web_md\")\n",
    "nlp_el = spacy.load(\"el_core_news_md\")"
   ],
   "metadata": {
    "collapsed": false,
    "pycharm": {
     "name": "#%%\n"
    }
   }
  },
  {
   "cell_type": "code",
   "execution_count": 321,
   "outputs": [],
   "source": [
    "english_text = war_df[war_df['Lang'] == 'en']['Text'][9:10].str.cat(sep = '')\n",
    "greek_text = war_df[war_df['Lang'] == 'el']['Heading'][700:701].str.cat(sep = '')"
   ],
   "metadata": {
    "collapsed": false,
    "pycharm": {
     "name": "#%%\n"
    }
   }
  },
  {
   "cell_type": "code",
   "execution_count": 322,
   "outputs": [
    {
     "data": {
      "text/plain": "'Παιχνίδια πυρηνικού πολέμου στη Βαλτική'"
     },
     "execution_count": 322,
     "metadata": {},
     "output_type": "execute_result"
    }
   ],
   "source": [
    "greek_text"
   ],
   "metadata": {
    "collapsed": false,
    "pycharm": {
     "name": "#%%\n"
    }
   }
  },
  {
   "cell_type": "code",
   "execution_count": null,
   "outputs": [],
   "source": [
    "from pathlib import Path\n",
    "from spacy import displacy\n",
    "\n",
    "doc1 = nlp_en('Putin’s looming threat gives Johnson some breathing space')\n",
    "doc2 = nlp_en('Biden imposes sanctions on company behind Nord Stream 2 gas pipeline – as it happened')\n",
    "doc3 = nlp_en('Understanding Putin’s narrative about Ukraine is the master key to this crisis')\n",
    "text = nlp_en('With his incursion into Donetsk and Luhansk, Vladimir Putin has broken international law and destroyed the best negotiating track, the Minsk agreement. That is clear. What is also clear is why he did it. An increasing number of politicians and media analysts claim Putin may be mentally unstable, or that he is isolated in a bubble of yes-men who don’t warn him of dangers ahead. Many commentators say he is trying to restore the Soviet Union or recreate a Russian sphere of influence on his country’s borders, and that this week’s intrusion into eastern Ukraine is the first step towards an all-out attack on Kyiv to topple its government and even move against the Baltic states. None of these assertions is necessarily true. THE GUARDIAN')\n",
    "# displacy.render(doc, style=\"ent\")\n",
    "html = displacy.render([doc1, doc2, doc3, text], style=\"ent\", page=True, jupyter=True)"
   ],
   "metadata": {
    "collapsed": false,
    "pycharm": {
     "name": "#%%\n",
     "is_executing": true
    }
   }
  },
  {
   "cell_type": "code",
   "execution_count": null,
   "outputs": [],
   "source": [
    "from spacy import displacy\n",
    "\n",
    "doc1 = nlp_el('Ουκρανία: Βομβαρδισμός από αέρος της Οδησσού, έξι τραυματίες')\n",
    "doc2 = nlp_el('Οξύνεται η σύγκρουση Ε.Ε.-Ρωσίας: Η Πράγα κατηγορεί τη Μόσχα για οικονομικό πόλεμο')\n",
    "doc3 = nlp_el('Πολεμικά πλοία των ΗΠΑ στη Βαλτική για τα στρατιωτικά γυμνάσια BALTOPS')\n",
    "doc4 = nlp_el('Πουτίν: Καλεί επιχειρήσεις και τράπεζες στην... ')\n",
    "text = nlp_el('Καμία χώρα δεν πρέπει να βασίζεται στον ένα ή τον άλλο φίλο για να την υπερασπιστεί σε μια περίοδο κρίσης, ακόμα κι αν πρόκειται μόνο για αποτροπή», λέει στην «Κ» ο πρέσβης του Ισραήλ Γιόσι Αμράνι λίγο πριν ολοκληρώσει τη θητεία του στην Αθήνα. Ο κ. Αμράνι επισημαίνει τη στρατηγική σημασία της Ελλάδας, ωστόσο υπογραμμίζει ότι «καμία χώρα δεν πρέπει να αναθέτει σε άλλους την ασφάλειά της». Αναφορικά με τον EastMed σημειώνει ότι δεν υπάρχουν ακόμα δέκα χρόνια συζήτησης, ενώ προσθέτει ότι η λύση της εξαγωγής των κοιτασμάτων φυσικού αερίου στην Ανατολική Μεσόγειο πρέπει να περιλαμβάνει όσο περισσότερους παίκτες γίνεται. Μάλιστα εκτιμά ότι η εξομάλυνση των σχέσεων Ισραήλ – Τουρκίας θα αποβεί επωφελής και για τα ελληνοτουρκικά. – Επειτα από τρία χρόνια στην Ελλάδα αποχωρείτε. ΚΑΘΗΜΕΡΙΝΗ')\n",
    "# displacy.render(doc, style=\"ent\")\n",
    "html = displacy.render([doc1, doc2, doc3,doc4, text], style=\"ent\", page=True)"
   ],
   "metadata": {
    "collapsed": false,
    "pycharm": {
     "name": "#%%\n",
     "is_executing": true
    }
   }
  },
  {
   "cell_type": "code",
   "execution_count": null,
   "outputs": [],
   "source": [
    "doc = nlp_el('Οξύνεται η σύγκρουση Ε.Ε.- Ρωσίας: Η Πράγα κατηγορεί τη Μόσχα για οικονομικό πόλεμο')\n",
    "html = displacy.render(doc, style=\"dep\",\n",
    "                       minify=True,\n",
    "                       jupyter=True,\n",
    "                       options={'distance': 120,\n",
    "                                'bg': '#2B2B2B',\n",
    "                                'collapse_phrases': True,\n",
    "                                'color': '#fff'})"
   ],
   "metadata": {
    "collapsed": false,
    "pycharm": {
     "name": "#%%\n",
     "is_executing": true
    }
   }
  },
  {
   "cell_type": "code",
   "execution_count": 401,
   "outputs": [
    {
     "data": {
      "text/plain": "1503170"
     },
     "execution_count": 401,
     "metadata": {},
     "output_type": "execute_result"
    }
   ],
   "source": [
    "import scattertext as st\n",
    "\n",
    "corpus = st.CorpusFromPandas(war_df[war_df['Lang'] == 'en'][:200],\n",
    "                             category_col='Sentiments',\n",
    "                             text_col='Lemma',\n",
    "                             nlp=nlp_en).build()\n",
    "html = st.produce_scattertext_explorer(corpus,\n",
    "                                       category=\"positive\",\n",
    "                                       category_name=\"positive\",\n",
    "                                       not_category_name=\"negative\",\n",
    "                                       width_in_pixels=1000)\n",
    "open(\"../docs/Sentiment-Visualization-200.html\", 'wb').write(html.encode('utf-8'))"
   ],
   "metadata": {
    "collapsed": false,
    "pycharm": {
     "name": "#%%\n"
    }
   }
  }
 ],
 "metadata": {
  "kernelspec": {
   "display_name": "Python 3",
   "language": "python",
   "name": "python3"
  },
  "language_info": {
   "codemirror_mode": {
    "name": "ipython",
    "version": 2
   },
   "file_extension": ".py",
   "mimetype": "text/x-python",
   "name": "python",
   "nbconvert_exporter": "python",
   "pygments_lexer": "ipython2",
   "version": "2.7.6"
  }
 },
 "nbformat": 4,
 "nbformat_minor": 0
}