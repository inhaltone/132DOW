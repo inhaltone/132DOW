{
 "cells": [
  {
   "cell_type": "code",
   "execution_count": 1,
   "outputs": [],
   "source": [
    "import pandas as pd\n",
    "\n",
    "war_df = pd.read_csv('../data/final/war-ukraine-sentiment-zip.csv',\n",
    "                     compression={'method': 'gzip', 'compresslevel': 1, 'mtime': 1},\n",
    "                     index_col=[0])"
   ],
   "metadata": {
    "collapsed": false,
    "pycharm": {
     "name": "#%%\n"
    }
   }
  },
  {
   "cell_type": "code",
   "execution_count": 2,
   "outputs": [
    {
     "data": {
      "text/plain": "    Publisher Date Formatted Lang  \\\n0  ΚΑΘΗΜΕΡΙΝΗ     2022-07-05   el   \n1  ΚΑΘΗΜΕΡΙΝΗ     2022-07-05   el   \n2  ΚΑΘΗΜΕΡΙΝΗ     2022-07-05   el   \n3  ΚΑΘΗΜΕΡΙΝΗ     2022-07-05   el   \n4  ΚΑΘΗΜΕΡΙΝΗ     2022-07-05   el   \n\n                                             Heading                    Tag  \\\n0  Μπορέλ: O Πούτιν πρέπει να επιλέξει «ανάμεσα σ...                 ΚΟΣΜΟΣ   \n1  Μαριούπολη: Οι φιλορώσοι αυτονομιστές κατέσχεσ...  ΠΟΛΕΜΟΣ ΣΤΗΝ ΟΥΚΡΑΝΙΑ   \n2  Πρόβλεψη για αύξηση του εμπορίου μεταξύ Ρωσίας...      ΔΙΕΘΝΗΣ ΟΙΚΟΝΟΜΙΑ   \n3  Σακελλαροπούλου σε Ζελένσκι: Είμαστε και θα εί...               ΠΟΛΙΤΙΚΗ   \n4  Ουκρανία: Το ρωσοκρατούμενο πυρηνικό εργοστάσι...                 ΚΟΣΜΟΣ   \n\n                                                Text  Comments exist  \\\n0  Οι κυρώσεις, που έχουν επιβληθεί στην Ρωσία σε...           False   \n1  Οι φιλορώσοι αυτονομιστές κατέλαβαν δύο πλοία ...           False   \n2  Ο εμπορικός τζίρος μεταξύ Τουρκίας και Ρωσίας ...           False   \n3  «Το απαραβίαστο των συνόρων είναι η βάση της σ...           False   \n4  Ο μεγαλύτερος πυρηνικός σταθμός της Ευρώπης, μ...           False   \n\n   Comments count Comments api key  \\\n0               0              NaN   \n1               0              NaN   \n2               0              NaN   \n3               0              NaN   \n4               0              NaN   \n\n                                         Article url  Chars  Words  Year  \\\n0  https://www.kathimerini.gr/world/561942142/mpo...   4114    627  2022   \n1  https://www.kathimerini.gr/world/561942133/mar...   2548    360  2022   \n2  https://www.kathimerini.gr/economy/internation...   1848    274  2022   \n3  https://www.kathimerini.gr/politics/561941488/...   2472    371  2022   \n4  https://www.kathimerini.gr/world/561941377/oyk...   2829    418  2022   \n\n   Month  Day                                              Lemma Sentiments  \\\n0      7    5  κύρωση επιβάλλω Ρωσία σχέση εισβολή ουκρανία α...   negative   \n1      7    5  φιλορώσος αυτονομιστής κατέλαβαν δύο πλοίο ξέν...   positive   \n2      7    5  εμπορικός τζίρος τουρκία ρωσίας ενδέχεται αυξά...   positive   \n3      7    5  απαραβίαστο συνόρων βάση συμβίωση 1945 δύναμη ...   positive   \n4      7    5  μεγαλύτερος πυρηνικός σταθμός ευρώπη έδρα ημικ...   positive   \n\n   Positivity  Negativity  \n0       0.037       0.040  \n1       0.026       0.022  \n2       0.021       0.018  \n3       0.035       0.031  \n4       0.028       0.016  ",
      "text/html": "<div>\n<style scoped>\n    .dataframe tbody tr th:only-of-type {\n        vertical-align: middle;\n    }\n\n    .dataframe tbody tr th {\n        vertical-align: top;\n    }\n\n    .dataframe thead th {\n        text-align: right;\n    }\n</style>\n<table border=\"1\" class=\"dataframe\">\n  <thead>\n    <tr style=\"text-align: right;\">\n      <th></th>\n      <th>Publisher</th>\n      <th>Date Formatted</th>\n      <th>Lang</th>\n      <th>Heading</th>\n      <th>Tag</th>\n      <th>Text</th>\n      <th>Comments exist</th>\n      <th>Comments count</th>\n      <th>Comments api key</th>\n      <th>Article url</th>\n      <th>Chars</th>\n      <th>Words</th>\n      <th>Year</th>\n      <th>Month</th>\n      <th>Day</th>\n      <th>Lemma</th>\n      <th>Sentiments</th>\n      <th>Positivity</th>\n      <th>Negativity</th>\n    </tr>\n  </thead>\n  <tbody>\n    <tr>\n      <th>0</th>\n      <td>ΚΑΘΗΜΕΡΙΝΗ</td>\n      <td>2022-07-05</td>\n      <td>el</td>\n      <td>Μπορέλ: O Πούτιν πρέπει να επιλέξει «ανάμεσα σ...</td>\n      <td>ΚΟΣΜΟΣ</td>\n      <td>Οι κυρώσεις, που έχουν επιβληθεί στην Ρωσία σε...</td>\n      <td>False</td>\n      <td>0</td>\n      <td>NaN</td>\n      <td>https://www.kathimerini.gr/world/561942142/mpo...</td>\n      <td>4114</td>\n      <td>627</td>\n      <td>2022</td>\n      <td>7</td>\n      <td>5</td>\n      <td>κύρωση επιβάλλω Ρωσία σχέση εισβολή ουκρανία α...</td>\n      <td>negative</td>\n      <td>0.037</td>\n      <td>0.040</td>\n    </tr>\n    <tr>\n      <th>1</th>\n      <td>ΚΑΘΗΜΕΡΙΝΗ</td>\n      <td>2022-07-05</td>\n      <td>el</td>\n      <td>Μαριούπολη: Οι φιλορώσοι αυτονομιστές κατέσχεσ...</td>\n      <td>ΠΟΛΕΜΟΣ ΣΤΗΝ ΟΥΚΡΑΝΙΑ</td>\n      <td>Οι φιλορώσοι αυτονομιστές κατέλαβαν δύο πλοία ...</td>\n      <td>False</td>\n      <td>0</td>\n      <td>NaN</td>\n      <td>https://www.kathimerini.gr/world/561942133/mar...</td>\n      <td>2548</td>\n      <td>360</td>\n      <td>2022</td>\n      <td>7</td>\n      <td>5</td>\n      <td>φιλορώσος αυτονομιστής κατέλαβαν δύο πλοίο ξέν...</td>\n      <td>positive</td>\n      <td>0.026</td>\n      <td>0.022</td>\n    </tr>\n    <tr>\n      <th>2</th>\n      <td>ΚΑΘΗΜΕΡΙΝΗ</td>\n      <td>2022-07-05</td>\n      <td>el</td>\n      <td>Πρόβλεψη για αύξηση του εμπορίου μεταξύ Ρωσίας...</td>\n      <td>ΔΙΕΘΝΗΣ ΟΙΚΟΝΟΜΙΑ</td>\n      <td>Ο εμπορικός τζίρος μεταξύ Τουρκίας και Ρωσίας ...</td>\n      <td>False</td>\n      <td>0</td>\n      <td>NaN</td>\n      <td>https://www.kathimerini.gr/economy/internation...</td>\n      <td>1848</td>\n      <td>274</td>\n      <td>2022</td>\n      <td>7</td>\n      <td>5</td>\n      <td>εμπορικός τζίρος τουρκία ρωσίας ενδέχεται αυξά...</td>\n      <td>positive</td>\n      <td>0.021</td>\n      <td>0.018</td>\n    </tr>\n    <tr>\n      <th>3</th>\n      <td>ΚΑΘΗΜΕΡΙΝΗ</td>\n      <td>2022-07-05</td>\n      <td>el</td>\n      <td>Σακελλαροπούλου σε Ζελένσκι: Είμαστε και θα εί...</td>\n      <td>ΠΟΛΙΤΙΚΗ</td>\n      <td>«Το απαραβίαστο των συνόρων είναι η βάση της σ...</td>\n      <td>False</td>\n      <td>0</td>\n      <td>NaN</td>\n      <td>https://www.kathimerini.gr/politics/561941488/...</td>\n      <td>2472</td>\n      <td>371</td>\n      <td>2022</td>\n      <td>7</td>\n      <td>5</td>\n      <td>απαραβίαστο συνόρων βάση συμβίωση 1945 δύναμη ...</td>\n      <td>positive</td>\n      <td>0.035</td>\n      <td>0.031</td>\n    </tr>\n    <tr>\n      <th>4</th>\n      <td>ΚΑΘΗΜΕΡΙΝΗ</td>\n      <td>2022-07-05</td>\n      <td>el</td>\n      <td>Ουκρανία: Το ρωσοκρατούμενο πυρηνικό εργοστάσι...</td>\n      <td>ΚΟΣΜΟΣ</td>\n      <td>Ο μεγαλύτερος πυρηνικός σταθμός της Ευρώπης, μ...</td>\n      <td>False</td>\n      <td>0</td>\n      <td>NaN</td>\n      <td>https://www.kathimerini.gr/world/561941377/oyk...</td>\n      <td>2829</td>\n      <td>418</td>\n      <td>2022</td>\n      <td>7</td>\n      <td>5</td>\n      <td>μεγαλύτερος πυρηνικός σταθμός ευρώπη έδρα ημικ...</td>\n      <td>positive</td>\n      <td>0.028</td>\n      <td>0.016</td>\n    </tr>\n  </tbody>\n</table>\n</div>"
     },
     "execution_count": 2,
     "metadata": {},
     "output_type": "execute_result"
    }
   ],
   "source": [
    "war_df.head()"
   ],
   "metadata": {
    "collapsed": false,
    "pycharm": {
     "name": "#%%\n"
    }
   }
  },
  {
   "cell_type": "code",
   "execution_count": 12,
   "outputs": [
    {
     "data": {
      "text/plain": "negative    7264\npositive    5619\nneutral      580\nName: Sentiments, dtype: int64"
     },
     "execution_count": 12,
     "metadata": {},
     "output_type": "execute_result"
    }
   ],
   "source": [
    "war_df['Sentiments'].value_counts()"
   ],
   "metadata": {
    "collapsed": false,
    "pycharm": {
     "name": "#%%\n"
    }
   }
  },
  {
   "cell_type": "code",
   "execution_count": 11,
   "outputs": [
    {
     "data": {
      "text/plain": "Publisher            object\nDate Formatted       object\nLang                 object\nHeading              object\nTag                  object\nText                 object\nComments exist         bool\nComments count        int64\nComments api key     object\nArticle url          object\nChars                 int64\nWords                 int64\nYear                  int64\nMonth                 int64\nDay                   int64\nLemma                object\nSentiments           object\nPositivity          float64\nNegativity          float64\ndtype: object"
     },
     "execution_count": 11,
     "metadata": {},
     "output_type": "execute_result"
    }
   ],
   "source": [
    "war_df.dtypes"
   ],
   "metadata": {
    "collapsed": false,
    "pycharm": {
     "name": "#%%\n"
    }
   }
  },
  {
   "cell_type": "code",
   "execution_count": 14,
   "outputs": [
    {
     "data": {
      "text/plain": "Index                  107704\nPublisher             1348373\nDate Formatted         902021\nLang                   794317\nHeading               2771934\nTag                   1208459\nText                105855032\nComments exist          13463\nComments count         107704\nComments api key       437515\nArticle url           2256749\nChars                  107704\nWords                  107704\nYear                   107704\nMonth                  107704\nDay                    107704\nLemma                57124397\nSentiments             874515\nPositivity             107704\nNegativity             107704\ndtype: int64"
     },
     "execution_count": 14,
     "metadata": {},
     "output_type": "execute_result"
    }
   ],
   "source": [
    "war_df.memory_usage(deep=True)"
   ],
   "metadata": {
    "collapsed": false,
    "pycharm": {
     "name": "#%%\n"
    }
   }
  },
  {
   "cell_type": "code",
   "execution_count": 37,
   "outputs": [
    {
     "ename": "AttributeError",
     "evalue": "module 'prototypes.datamodel' has no attribute 'Sentiments'",
     "output_type": "error",
     "traceback": [
      "\u001B[0;31m---------------------------------------------------------------------------\u001B[0m",
      "\u001B[0;31mAttributeError\u001B[0m                            Traceback (most recent call last)",
      "Input \u001B[0;32mIn [37]\u001B[0m, in \u001B[0;36m<cell line: 3>\u001B[0;34m()\u001B[0m\n\u001B[1;32m      1\u001B[0m \u001B[38;5;28;01mimport\u001B[39;00m \u001B[38;5;21;01mprototypes\u001B[39;00m\u001B[38;5;21;01m.\u001B[39;00m\u001B[38;5;21;01mdatamodel\u001B[39;00m \u001B[38;5;28;01mas\u001B[39;00m \u001B[38;5;21;01mmodel\u001B[39;00m\n\u001B[0;32m----> 3\u001B[0m \u001B[38;5;28mprint\u001B[39m(\u001B[43mmodel\u001B[49m\u001B[38;5;241;43m.\u001B[39;49m\u001B[43mSentiments\u001B[49m\u001B[38;5;241m.\u001B[39mNEUTRAL)\n",
      "\u001B[0;31mAttributeError\u001B[0m: module 'prototypes.datamodel' has no attribute 'Sentiments'"
     ]
    }
   ],
   "source": [
    "import prototypes.datamodel as model\n",
    "\n",
    "print(model.Sentiments.NEUTRAL)"
   ],
   "metadata": {
    "collapsed": false,
    "pycharm": {
     "name": "#%%\n"
    }
   }
  },
  {
   "cell_type": "code",
   "execution_count": 16,
   "outputs": [
    {
     "ename": "ImportError",
     "evalue": "cannot import name 'Sentiments' from 'prototypes.datamodel' (/Users/inhalt/PycharmProjects/guardianScraper/src/prototypes/datamodel.py)",
     "output_type": "error",
     "traceback": [
      "\u001B[0;31m---------------------------------------------------------------------------\u001B[0m",
      "\u001B[0;31mImportError\u001B[0m                               Traceback (most recent call last)",
      "Input \u001B[0;32mIn [16]\u001B[0m, in \u001B[0;36m<cell line: 1>\u001B[0;34m()\u001B[0m\n\u001B[0;32m----> 1\u001B[0m \u001B[38;5;28;01mfrom\u001B[39;00m \u001B[38;5;21;01mprototypes\u001B[39;00m\u001B[38;5;21;01m.\u001B[39;00m\u001B[38;5;21;01mdatamodel\u001B[39;00m \u001B[38;5;28;01mimport\u001B[39;00m Publishers, Lang, Sentiments\n\u001B[1;32m      2\u001B[0m \u001B[38;5;28;01mfrom\u001B[39;00m \u001B[38;5;21;01mpandas\u001B[39;00m\u001B[38;5;21;01m.\u001B[39;00m\u001B[38;5;21;01mapi\u001B[39;00m\u001B[38;5;21;01m.\u001B[39;00m\u001B[38;5;21;01mtypes\u001B[39;00m \u001B[38;5;28;01mimport\u001B[39;00m CategoricalDtype\n\u001B[1;32m      4\u001B[0m publisher_enum \u001B[38;5;241m=\u001B[39m CategoricalDtype(\n\u001B[1;32m      5\u001B[0m     categories\u001B[38;5;241m=\u001B[39m[Publishers\u001B[38;5;241m.\u001B[39mKATHIMERINI\u001B[38;5;241m.\u001B[39mvalue,\n\u001B[1;32m      6\u001B[0m                 Publishers\u001B[38;5;241m.\u001B[39mEFSYN\u001B[38;5;241m.\u001B[39mvalue,\n\u001B[0;32m   (...)\u001B[0m\n\u001B[1;32m      9\u001B[0m                 ],\n\u001B[1;32m     10\u001B[0m     ordered\u001B[38;5;241m=\u001B[39m\u001B[38;5;28;01mTrue\u001B[39;00m)\n",
      "\u001B[0;31mImportError\u001B[0m: cannot import name 'Sentiments' from 'prototypes.datamodel' (/Users/inhalt/PycharmProjects/guardianScraper/src/prototypes/datamodel.py)"
     ]
    }
   ],
   "source": [
    "from prototypes.datamodel import Publishers, Lang, Sentiments\n",
    "from pandas.api.types import CategoricalDtype\n",
    "\n",
    "publisher_enum = CategoricalDtype(\n",
    "    categories=[Publishers.KATHIMERINI.value,\n",
    "                Publishers.EFSYN.value,\n",
    "                Publishers.NAFTEMPORIKI.value,\n",
    "                Publishers.THE_GUARDIAN.value\n",
    "                ],\n",
    "    ordered=True)\n",
    "\n",
    "lang_enum = CategoricalDtype(\n",
    "    categories=[Lang.GREEK.value,\n",
    "                Lang.ENGLISH.value\n",
    "                ],\n",
    "    ordered=True)\n",
    "\n",
    "sentiments_enum = CategoricalDtype(\n",
    "    categories=[Sentiments.NEGATIVE.value,\n",
    "                Sentiments.POSITIVE.value,\n",
    "                Sentiments.NEUTRAL.value\n",
    "                ],\n",
    "    ordered=True)\n",
    "\n",
    "# dataframe optimization with typed data\n"
   ],
   "metadata": {
    "collapsed": false,
    "pycharm": {
     "name": "#%%\n"
    }
   }
  },
  {
   "cell_type": "code",
   "execution_count": 15,
   "outputs": [
    {
     "ename": "NameError",
     "evalue": "name 'publisher_enum' is not defined",
     "output_type": "error",
     "traceback": [
      "\u001B[0;31m---------------------------------------------------------------------------\u001B[0m",
      "\u001B[0;31mNameError\u001B[0m                                 Traceback (most recent call last)",
      "Input \u001B[0;32mIn [15]\u001B[0m, in \u001B[0;36m<cell line: 1>\u001B[0;34m()\u001B[0m\n\u001B[1;32m      1\u001B[0m war_df \u001B[38;5;241m=\u001B[39m (war_df\n\u001B[0;32m----> 2\u001B[0m           \u001B[38;5;241m.\u001B[39mPublisher\u001B[38;5;241m.\u001B[39mastype(\u001B[43mpublisher_enum\u001B[49m))\n",
      "\u001B[0;31mNameError\u001B[0m: name 'publisher_enum' is not defined"
     ]
    }
   ],
   "source": [
    "war_df = (war_df\n",
    "          .Publisher.astype(publisher_enum))"
   ],
   "metadata": {
    "collapsed": false,
    "pycharm": {
     "name": "#%%\n"
    }
   }
  },
  {
   "cell_type": "code",
   "execution_count": null,
   "outputs": [],
   "source": [
    "war_df['Publisher'] = war_df['Publisher'].astype(publisher_enum)\n",
    "war_df['Date Formatted'] = pd.to_datetime(war_df['Date Formatted'], format=\"%Y-%m-%d\")\n",
    "war_df['Lang'] = war_df['Lang'].astype(lang_enum)\n",
    "war_df['Tag'] = war_df['Tag'].astype('category')\n",
    "war_df['Text'] = war_df['Text'].fillna('').astype('string')\n",
    "war_df['Comments count'] = war_df['Comments count'].astype('int32')\n",
    "war_df['Comments api key'] = war_df['Comments api key'].fillna('').astype('string')\n",
    "war_df['Article url'] = war_df['Comments api key'].astype('string')\n",
    "war_df['Heading'] = war_df['Heading'].astype('string')\n",
    "war_df['Year'] = war_df['Year'].astype('int16')\n",
    "war_df['Month'] = war_df['Month'].astype('int8')\n",
    "war_df['Day'] = war_df['Day'].astype('int8')\n",
    "war_df['Lemma'] = war_df['Lemma'].fillna('').astype('string')\n",
    "war_df['Sentiments'] = war_df['Sentiments'].astype(sentiments_enum)\n",
    "war_df.dtypes"
   ],
   "metadata": {
    "collapsed": false,
    "pycharm": {
     "name": "#%%\n"
    }
   }
  }
 ],
 "metadata": {
  "kernelspec": {
   "display_name": "Python 3",
   "language": "python",
   "name": "python3"
  },
  "language_info": {
   "codemirror_mode": {
    "name": "ipython",
    "version": 2
   },
   "file_extension": ".py",
   "mimetype": "text/x-python",
   "name": "python",
   "nbconvert_exporter": "python",
   "pygments_lexer": "ipython2",
   "version": "2.7.6"
  }
 },
 "nbformat": 4,
 "nbformat_minor": 0
}