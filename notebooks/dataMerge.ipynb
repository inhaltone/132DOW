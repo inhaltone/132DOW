{
 "cells": [
  {
   "cell_type": "code",
   "execution_count": 192,
   "outputs": [],
   "source": [
    "# data model\n",
    "from enum import Enum\n",
    "\n",
    "class Publishers(Enum):\n",
    "    KATHIMERINI = 'ΚΑΘΗΜΕΡΙΝΗ'\n",
    "    EFSYN = 'ΕΦΗΜΕΡΙΔΑ ΤΩΝ ΣΥΝΤΑΚΤΩΝ'\n",
    "    NAFTEMPORIKI = 'ΝΑΥΤΕΜΠΟΡΙΚΗ'\n",
    "    THE_GUARDIAN = 'THE GUARDIAN'\n",
    "\n",
    "class DataModel(Enum):\n",
    "    ARTICLE_PUBLISHER = 'Publisher'\n",
    "    ARTICLE_TAG = 'Tag'\n",
    "    ARTICLE_URL = 'Article url'\n",
    "    ARTICLE_HEADING = 'Heading'\n",
    "    ARTICLE_TEXT = 'Text'\n",
    "    ARTICLE_ABSTRACT = 'Summary'\n",
    "    ARTICLE_DATE_TIME = 'Date Formatted'\n",
    "    ARTICLE_IMAGE_URL = 'Image url'\n",
    "    ARTICLE_IMAGE_CAPTION = 'image caption'\n",
    "    ARTICLE_HAS_COMMENTS = 'Comments exist'\n",
    "    ARTICLE_COMMENT_COUNT = 'Comments count'\n",
    "    ARTICLE_COMMENT_API_KEY = 'Comments api key'\n",
    "    ARTICLE_COMMENT_URL = 'Comments url'\n",
    "    ARTICLE_LANG = 'Lang'\n",
    "    ARTICLE_DATE_FORMAT_READY = 'Date Formatted'\n",
    "\n",
    "class ArticleModel:\n",
    "    publisher =  DataModel.ARTICLE_PUBLISHER.value\n",
    "    date = DataModel.ARTICLE_DATE_FORMAT_READY.value\n",
    "    comments = DataModel.ARTICLE_HAS_COMMENTS.value\n",
    "    commentApiKey = DataModel.ARTICLE_COMMENT_API_KEY.value\n",
    "    commentsCount = DataModel.ARTICLE_COMMENT_COUNT.value\n",
    "    commentsUrl = DataModel.ARTICLE_COMMENT_URL.value\n",
    "    lang = DataModel.ARTICLE_LANG.value\n",
    "    url = DataModel.ARTICLE_URL.value\n",
    "    heading = DataModel.ARTICLE_HEADING.value\n",
    "    summary = DataModel.ARTICLE_ABSTRACT.value\n",
    "    tag = DataModel.ARTICLE_TAG.value\n",
    "    text = DataModel.ARTICLE_TEXT.value\n",
    "    imageUrl = DataModel.ARTICLE_IMAGE_URL.value\n"
   ],
   "metadata": {
    "collapsed": false,
    "pycharm": {
     "name": "#%%\n"
    }
   }
  },
  {
   "cell_type": "code",
   "execution_count": 193,
   "outputs": [],
   "source": [
    "import pandas as pd\n",
    "\n",
    "kathimerini_df = pd.read_csv('../data/intermediate/kathimerini-data-frame.csv',\n",
    "                             index_col=[0])\n",
    "efsyn_df = pd.read_csv('../data/intermediate/efsyn-data-frame.csv',\n",
    "                             index_col=[0])\n",
    "naftemporiki_df = pd.read_csv('../data/intermediate/naftemporiki-data-frame.csv',\n",
    "                             index_col=[0])\n",
    "guardian_df = pd.read_csv('../data/intermediate/guardian-ukraine-data-frame.csv',\n",
    "                             index_col=[0])"
   ],
   "metadata": {
    "collapsed": false,
    "pycharm": {
     "name": "#%%\n"
    }
   }
  },
  {
   "cell_type": "code",
   "execution_count": 194,
   "outputs": [
    {
     "data": {
      "text/plain": "  Lang  Comments api key  Comments count  Comments exist   Publisher  \\\n0   el               NaN               0           False  ΚΑΘΗΜΕΡΙΝΗ   \n1   el               NaN               0           False  ΚΑΘΗΜΕΡΙΝΗ   \n2   el               NaN               0           False  ΚΑΘΗΜΕΡΙΝΗ   \n3   el               NaN               0           False  ΚΑΘΗΜΕΡΙΝΗ   \n4   el               NaN               0           False  ΚΑΘΗΜΕΡΙΝΗ   \n\n                                         Article url  \\\n0  https://www.kathimerini.gr/world/561942142/mpo...   \n1  https://www.kathimerini.gr/world/561942133/mar...   \n2  https://www.kathimerini.gr/economy/internation...   \n3  https://www.kathimerini.gr/politics/561941488/...   \n4  https://www.kathimerini.gr/world/561941377/oyk...   \n\n                                             Heading  \\\n0  Μπορέλ: O Πούτιν πρέπει να επιλέξει «ανάμεσα σ...   \n1  Μαριούπολη: Οι φιλορώσοι αυτονομιστές κατέσχεσ...   \n2  Πρόβλεψη για αύξηση του εμπορίου μεταξύ Ρωσίας...   \n3  Σακελλαροπούλου σε Ζελένσκι: Είμαστε και θα εί...   \n4  Ουκρανία: Το ρωσοκρατούμενο πυρηνικό εργοστάσι...   \n\n                                             Summary                    Tag  \\\n0  Οι κυρώσεις, που έχουν επιβληθεί στην Ρωσία σε...                 ΚΟΣΜΟΣ   \n1  Πρόκειται για τις πρώτες τέτοιες ενέργειες σε ...  ΠΟΛΕΜΟΣ ΣΤΗΝ ΟΥΚΡΑΝΙΑ   \n2  Ο εμπορικός τζίρος μεταξύ Τουρκίας και Ρωσίας ...      ΔΙΕΘΝΗΣ ΟΙΚΟΝΟΜΙΑ   \n3  «Το απαραβίαστο των συνόρων είναι η βάση της σ...               ΠΟΛΙΤΙΚΗ   \n4  Ο μεγαλύτερος πυρηνικός σταθμός της Ευρώπης, μ...                 ΚΟΣΜΟΣ   \n\n                                                Text  \\\n0  Οι κυρώσεις, που έχουν επιβληθεί στην Ρωσία σε...   \n1  Οι φιλορώσοι αυτονομιστές κατέλαβαν δύο πλοία ...   \n2  Ο εμπορικός τζίρος μεταξύ Τουρκίας και Ρωσίας ...   \n3  «Το απαραβίαστο των συνόρων είναι η βάση της σ...   \n4  Ο μεγαλύτερος πυρηνικός σταθμός της Ευρώπης, μ...   \n\n                     dateUTC               date Date Formatted  \n0  2022-07-05T18:12:04+03:00  05.07.2022  18:12     05-07-2022  \n1  2022-07-05T17:52:12+03:00  05.07.2022  17:52     05-07-2022  \n2  2022-07-05T12:09:12+03:00  05.07.2022  12:09     05-07-2022  \n3  2022-07-05T10:32:34+03:00  05.07.2022  10:32     05-07-2022  \n4  2022-07-05T08:53:05+03:00  05.07.2022  08:53     05-07-2022  ",
      "text/html": "<div>\n<style scoped>\n    .dataframe tbody tr th:only-of-type {\n        vertical-align: middle;\n    }\n\n    .dataframe tbody tr th {\n        vertical-align: top;\n    }\n\n    .dataframe thead th {\n        text-align: right;\n    }\n</style>\n<table border=\"1\" class=\"dataframe\">\n  <thead>\n    <tr style=\"text-align: right;\">\n      <th></th>\n      <th>Lang</th>\n      <th>Comments api key</th>\n      <th>Comments count</th>\n      <th>Comments exist</th>\n      <th>Publisher</th>\n      <th>Article url</th>\n      <th>Heading</th>\n      <th>Summary</th>\n      <th>Tag</th>\n      <th>Text</th>\n      <th>dateUTC</th>\n      <th>date</th>\n      <th>Date Formatted</th>\n    </tr>\n  </thead>\n  <tbody>\n    <tr>\n      <th>0</th>\n      <td>el</td>\n      <td>NaN</td>\n      <td>0</td>\n      <td>False</td>\n      <td>ΚΑΘΗΜΕΡΙΝΗ</td>\n      <td>https://www.kathimerini.gr/world/561942142/mpo...</td>\n      <td>Μπορέλ: O Πούτιν πρέπει να επιλέξει «ανάμεσα σ...</td>\n      <td>Οι κυρώσεις, που έχουν επιβληθεί στην Ρωσία σε...</td>\n      <td>ΚΟΣΜΟΣ</td>\n      <td>Οι κυρώσεις, που έχουν επιβληθεί στην Ρωσία σε...</td>\n      <td>2022-07-05T18:12:04+03:00</td>\n      <td>05.07.2022  18:12</td>\n      <td>05-07-2022</td>\n    </tr>\n    <tr>\n      <th>1</th>\n      <td>el</td>\n      <td>NaN</td>\n      <td>0</td>\n      <td>False</td>\n      <td>ΚΑΘΗΜΕΡΙΝΗ</td>\n      <td>https://www.kathimerini.gr/world/561942133/mar...</td>\n      <td>Μαριούπολη: Οι φιλορώσοι αυτονομιστές κατέσχεσ...</td>\n      <td>Πρόκειται για τις πρώτες τέτοιες ενέργειες σε ...</td>\n      <td>ΠΟΛΕΜΟΣ ΣΤΗΝ ΟΥΚΡΑΝΙΑ</td>\n      <td>Οι φιλορώσοι αυτονομιστές κατέλαβαν δύο πλοία ...</td>\n      <td>2022-07-05T17:52:12+03:00</td>\n      <td>05.07.2022  17:52</td>\n      <td>05-07-2022</td>\n    </tr>\n    <tr>\n      <th>2</th>\n      <td>el</td>\n      <td>NaN</td>\n      <td>0</td>\n      <td>False</td>\n      <td>ΚΑΘΗΜΕΡΙΝΗ</td>\n      <td>https://www.kathimerini.gr/economy/internation...</td>\n      <td>Πρόβλεψη για αύξηση του εμπορίου μεταξύ Ρωσίας...</td>\n      <td>Ο εμπορικός τζίρος μεταξύ Τουρκίας και Ρωσίας ...</td>\n      <td>ΔΙΕΘΝΗΣ ΟΙΚΟΝΟΜΙΑ</td>\n      <td>Ο εμπορικός τζίρος μεταξύ Τουρκίας και Ρωσίας ...</td>\n      <td>2022-07-05T12:09:12+03:00</td>\n      <td>05.07.2022  12:09</td>\n      <td>05-07-2022</td>\n    </tr>\n    <tr>\n      <th>3</th>\n      <td>el</td>\n      <td>NaN</td>\n      <td>0</td>\n      <td>False</td>\n      <td>ΚΑΘΗΜΕΡΙΝΗ</td>\n      <td>https://www.kathimerini.gr/politics/561941488/...</td>\n      <td>Σακελλαροπούλου σε Ζελένσκι: Είμαστε και θα εί...</td>\n      <td>«Το απαραβίαστο των συνόρων είναι η βάση της σ...</td>\n      <td>ΠΟΛΙΤΙΚΗ</td>\n      <td>«Το απαραβίαστο των συνόρων είναι η βάση της σ...</td>\n      <td>2022-07-05T10:32:34+03:00</td>\n      <td>05.07.2022  10:32</td>\n      <td>05-07-2022</td>\n    </tr>\n    <tr>\n      <th>4</th>\n      <td>el</td>\n      <td>NaN</td>\n      <td>0</td>\n      <td>False</td>\n      <td>ΚΑΘΗΜΕΡΙΝΗ</td>\n      <td>https://www.kathimerini.gr/world/561941377/oyk...</td>\n      <td>Ουκρανία: Το ρωσοκρατούμενο πυρηνικό εργοστάσι...</td>\n      <td>Ο μεγαλύτερος πυρηνικός σταθμός της Ευρώπης, μ...</td>\n      <td>ΚΟΣΜΟΣ</td>\n      <td>Ο μεγαλύτερος πυρηνικός σταθμός της Ευρώπης, μ...</td>\n      <td>2022-07-05T08:53:05+03:00</td>\n      <td>05.07.2022  08:53</td>\n      <td>05-07-2022</td>\n    </tr>\n  </tbody>\n</table>\n</div>"
     },
     "execution_count": 194,
     "metadata": {},
     "output_type": "execute_result"
    }
   ],
   "source": [
    "kathimerini_df.head()"
   ],
   "metadata": {
    "collapsed": false,
    "pycharm": {
     "name": "#%%\n"
    }
   }
  },
  {
   "cell_type": "code",
   "execution_count": 195,
   "outputs": [
    {
     "data": {
      "text/plain": "  Lang  Comments api key  Comments count  Comments exist  \\\n0   el               NaN               0           False   \n1   el               NaN               0           False   \n2   el               NaN               0           False   \n3   el               NaN               0           False   \n4   el               NaN               0           False   \n\n                 Publisher                 Tag        date   time  \\\n0  ΕΦΗΜΕΡΙΔΑ ΤΩΝ ΣΥΝΤΑΚΤΩΝ  ΕΞΩΤΕΡΙΚΗ ΠΟΛΙΤΙΚΗ  06.07.2022  12:25   \n1  ΕΦΗΜΕΡΙΔΑ ΤΩΝ ΣΥΝΤΑΚΤΩΝ              ΕΥΡΩΠΗ  05.07.2022  06:00   \n2  ΕΦΗΜΕΡΙΔΑ ΤΩΝ ΣΥΝΤΑΚΤΩΝ             ΑΠΟΨΕΙΣ  04.07.2022  16:00   \n3  ΕΦΗΜΕΡΙΔΑ ΤΩΝ ΣΥΝΤΑΚΤΩΝ              ΕΥΡΩΠΗ  04.07.2022  06:00   \n4  ΕΦΗΜΕΡΙΔΑ ΤΩΝ ΣΥΝΤΑΚΤΩΝ             ΝΗΣΙΔΕΣ  03.07.2022  19:02   \n\n                                             Heading  \\\n0  Πυρά Ζελένσκι κατά Ελλήνων εφοπλιστών για τη μ...   \n1     «Πεθαίνουμε σαν τις μύγες, γιατί είμαστε εδώ;»   \n2    Ποιους βλάπτει η αντίσταση του ουκρανικού λαού;   \n3                             Καθυστερημένη εκκένωση   \n4  Ο πόλεμος στην Ουκρανία και η κομμουνιστική Αρ...   \n\n                                         Article url  \\\n0  https://www.efsyn.gr/politiki/exoteriki-politi...   \n1  https://www.efsyn.gr/kosmos/eyropi/350944_peth...   \n2  https://www.efsyn.gr/stiles/apopseis/350824_po...   \n3  https://www.efsyn.gr/kosmos/eyropi/350811_kath...   \n4  https://www.efsyn.gr/nisides/350623_o-polemos-...   \n\n                                                Text  \\\n0  Επίθεση στην Αθήνα μέσω του συνεδρίου του Econ...   \n1  Η κατάρρευση του ουκρανικού μετώπου στο Ντονμπ...   \n2  Μα, τι θέλει και αντιστέκεται επιτέλους αυτός ...   \n3  Πολύ νωρίτερα του αναμενόμενου από τους «ανεξά...   \n4  Ο πόλεμος στην Ουκρανία έθεσε σε σοβαρή δοκιμα...   \n\n                                           Image url Date Formatted  \n0  https://www.efsyn.gr/sites/default/files/style...     06-07-2022  \n1  https://www.efsyn.gr/sites/default/files/style...     05-07-2022  \n2  https://www.efsyn.gr/sites/default/files/style...     04-07-2022  \n3  https://www.efsyn.gr/sites/default/files/style...     04-07-2022  \n4  https://www.efsyn.gr/sites/default/files/style...     03-07-2022  ",
      "text/html": "<div>\n<style scoped>\n    .dataframe tbody tr th:only-of-type {\n        vertical-align: middle;\n    }\n\n    .dataframe tbody tr th {\n        vertical-align: top;\n    }\n\n    .dataframe thead th {\n        text-align: right;\n    }\n</style>\n<table border=\"1\" class=\"dataframe\">\n  <thead>\n    <tr style=\"text-align: right;\">\n      <th></th>\n      <th>Lang</th>\n      <th>Comments api key</th>\n      <th>Comments count</th>\n      <th>Comments exist</th>\n      <th>Publisher</th>\n      <th>Tag</th>\n      <th>date</th>\n      <th>time</th>\n      <th>Heading</th>\n      <th>Article url</th>\n      <th>Text</th>\n      <th>Image url</th>\n      <th>Date Formatted</th>\n    </tr>\n  </thead>\n  <tbody>\n    <tr>\n      <th>0</th>\n      <td>el</td>\n      <td>NaN</td>\n      <td>0</td>\n      <td>False</td>\n      <td>ΕΦΗΜΕΡΙΔΑ ΤΩΝ ΣΥΝΤΑΚΤΩΝ</td>\n      <td>ΕΞΩΤΕΡΙΚΗ ΠΟΛΙΤΙΚΗ</td>\n      <td>06.07.2022</td>\n      <td>12:25</td>\n      <td>Πυρά Ζελένσκι κατά Ελλήνων εφοπλιστών για τη μ...</td>\n      <td>https://www.efsyn.gr/politiki/exoteriki-politi...</td>\n      <td>Επίθεση στην Αθήνα μέσω του συνεδρίου του Econ...</td>\n      <td>https://www.efsyn.gr/sites/default/files/style...</td>\n      <td>06-07-2022</td>\n    </tr>\n    <tr>\n      <th>1</th>\n      <td>el</td>\n      <td>NaN</td>\n      <td>0</td>\n      <td>False</td>\n      <td>ΕΦΗΜΕΡΙΔΑ ΤΩΝ ΣΥΝΤΑΚΤΩΝ</td>\n      <td>ΕΥΡΩΠΗ</td>\n      <td>05.07.2022</td>\n      <td>06:00</td>\n      <td>«Πεθαίνουμε σαν τις μύγες, γιατί είμαστε εδώ;»</td>\n      <td>https://www.efsyn.gr/kosmos/eyropi/350944_peth...</td>\n      <td>Η κατάρρευση του ουκρανικού μετώπου στο Ντονμπ...</td>\n      <td>https://www.efsyn.gr/sites/default/files/style...</td>\n      <td>05-07-2022</td>\n    </tr>\n    <tr>\n      <th>2</th>\n      <td>el</td>\n      <td>NaN</td>\n      <td>0</td>\n      <td>False</td>\n      <td>ΕΦΗΜΕΡΙΔΑ ΤΩΝ ΣΥΝΤΑΚΤΩΝ</td>\n      <td>ΑΠΟΨΕΙΣ</td>\n      <td>04.07.2022</td>\n      <td>16:00</td>\n      <td>Ποιους βλάπτει η αντίσταση του ουκρανικού λαού;</td>\n      <td>https://www.efsyn.gr/stiles/apopseis/350824_po...</td>\n      <td>Μα, τι θέλει και αντιστέκεται επιτέλους αυτός ...</td>\n      <td>https://www.efsyn.gr/sites/default/files/style...</td>\n      <td>04-07-2022</td>\n    </tr>\n    <tr>\n      <th>3</th>\n      <td>el</td>\n      <td>NaN</td>\n      <td>0</td>\n      <td>False</td>\n      <td>ΕΦΗΜΕΡΙΔΑ ΤΩΝ ΣΥΝΤΑΚΤΩΝ</td>\n      <td>ΕΥΡΩΠΗ</td>\n      <td>04.07.2022</td>\n      <td>06:00</td>\n      <td>Καθυστερημένη εκκένωση</td>\n      <td>https://www.efsyn.gr/kosmos/eyropi/350811_kath...</td>\n      <td>Πολύ νωρίτερα του αναμενόμενου από τους «ανεξά...</td>\n      <td>https://www.efsyn.gr/sites/default/files/style...</td>\n      <td>04-07-2022</td>\n    </tr>\n    <tr>\n      <th>4</th>\n      <td>el</td>\n      <td>NaN</td>\n      <td>0</td>\n      <td>False</td>\n      <td>ΕΦΗΜΕΡΙΔΑ ΤΩΝ ΣΥΝΤΑΚΤΩΝ</td>\n      <td>ΝΗΣΙΔΕΣ</td>\n      <td>03.07.2022</td>\n      <td>19:02</td>\n      <td>Ο πόλεμος στην Ουκρανία και η κομμουνιστική Αρ...</td>\n      <td>https://www.efsyn.gr/nisides/350623_o-polemos-...</td>\n      <td>Ο πόλεμος στην Ουκρανία έθεσε σε σοβαρή δοκιμα...</td>\n      <td>https://www.efsyn.gr/sites/default/files/style...</td>\n      <td>03-07-2022</td>\n    </tr>\n  </tbody>\n</table>\n</div>"
     },
     "execution_count": 195,
     "metadata": {},
     "output_type": "execute_result"
    }
   ],
   "source": [
    "efsyn_df.head()"
   ],
   "metadata": {
    "collapsed": false,
    "pycharm": {
     "name": "#%%\n"
    }
   }
  },
  {
   "cell_type": "code",
   "execution_count": 196,
   "outputs": [
    {
     "data": {
      "text/plain": "  Lang  Comments api key  Comments count  Comments exist     Publisher  \\\n0   el               NaN               0           False  ΝΑΥΤΕΜΠΟΡΙΚΗ   \n1   el               NaN               0           False  ΝΑΥΤΕΜΠΟΡΙΚΗ   \n2   el               NaN               0           False  ΝΑΥΤΕΜΠΟΡΙΚΗ   \n3   el               NaN               0           False  ΝΑΥΤΕΜΠΟΡΙΚΗ   \n4   el               NaN               0           False  ΝΑΥΤΕΜΠΟΡΙΚΗ   \n\n                                         Article url  \\\n0  https://www.naftemporiki.gr//story/1880064/pol...   \n1  https://www.naftemporiki.gr//story/1880057/sit...   \n2  https://www.naftemporiki.gr//story/1880042/men...   \n3  https://www.naftemporiki.gr//story/1880040/pur...   \n4  https://www.naftemporiki.gr//finance/story/188...   \n\n                                             Heading               date  \\\n0  Πόλεμος στην Ουκρανία: Τι αποκάλυψε ο «πιο επι...  06/07/2022  14:30   \n1  Σιτηρά: Η Μόσχα αρνείται το περιστατικό με το ...  06/07/2022  14:16   \n2  Μεντβέντεφ: Παράλογη η ιδέα να τιμωρείται η χώ...  06/07/2022  13:35   \n3  Πυρά Λαβρόφ κατά Μακρόν για τη δημοσιοποίηση τ...  06/07/2022  13:34   \n4  «Η Ρωσία αντιμετωπίζει ένα οικονομικό σοκ» αλλ...  06/07/2022  13:17   \n\n                  Tag                                               Text  \\\n0              ΚΟΣΜΟΣ  Πριν από μία εβδομάδα η επικεφαλής των Υπηρεσι...   \n1              ΚΟΣΜΟΣ  Το ρωσικό υπουργείο Εξωτερικών ανακοίνωσε σήμε...   \n2              ΚΟΣΜΟΣ  Ο πρώην πρόεδρος της Ρωσίας Ντιμίτρι Μεντβέντε...   \n3              ΚΟΣΜΟΣ  Ο Ρώσος υπουργός Εξωτερικών Σεργκέι Λαβρόφ δήλ...   \n4  ΟΙΚΟΝΟΜΙΑ & ΑΓΟΡΕΣ  Η οικονομία της Ρωσίας αντιμετωπίζει καλύτερα ...   \n\n                                           Image url Date Formatted  \n0  https://www.naftemporiki.gr//fu/p/1876264/638/...     06-07-2022  \n1  https://www.naftemporiki.gr//fu/p/1880058/638/...     06-07-2022  \n2  https://www.naftemporiki.gr//fu/p/1880043/638/...     06-07-2022  \n3  https://www.naftemporiki.gr//fu/p/1838456/638/...     06-07-2022  \n4  https://www.naftemporiki.gr//fu/p/1877139/638/...     06-07-2022  ",
      "text/html": "<div>\n<style scoped>\n    .dataframe tbody tr th:only-of-type {\n        vertical-align: middle;\n    }\n\n    .dataframe tbody tr th {\n        vertical-align: top;\n    }\n\n    .dataframe thead th {\n        text-align: right;\n    }\n</style>\n<table border=\"1\" class=\"dataframe\">\n  <thead>\n    <tr style=\"text-align: right;\">\n      <th></th>\n      <th>Lang</th>\n      <th>Comments api key</th>\n      <th>Comments count</th>\n      <th>Comments exist</th>\n      <th>Publisher</th>\n      <th>Article url</th>\n      <th>Heading</th>\n      <th>date</th>\n      <th>Tag</th>\n      <th>Text</th>\n      <th>Image url</th>\n      <th>Date Formatted</th>\n    </tr>\n  </thead>\n  <tbody>\n    <tr>\n      <th>0</th>\n      <td>el</td>\n      <td>NaN</td>\n      <td>0</td>\n      <td>False</td>\n      <td>ΝΑΥΤΕΜΠΟΡΙΚΗ</td>\n      <td>https://www.naftemporiki.gr//story/1880064/pol...</td>\n      <td>Πόλεμος στην Ουκρανία: Τι αποκάλυψε ο «πιο επι...</td>\n      <td>06/07/2022  14:30</td>\n      <td>ΚΟΣΜΟΣ</td>\n      <td>Πριν από μία εβδομάδα η επικεφαλής των Υπηρεσι...</td>\n      <td>https://www.naftemporiki.gr//fu/p/1876264/638/...</td>\n      <td>06-07-2022</td>\n    </tr>\n    <tr>\n      <th>1</th>\n      <td>el</td>\n      <td>NaN</td>\n      <td>0</td>\n      <td>False</td>\n      <td>ΝΑΥΤΕΜΠΟΡΙΚΗ</td>\n      <td>https://www.naftemporiki.gr//story/1880057/sit...</td>\n      <td>Σιτηρά: Η Μόσχα αρνείται το περιστατικό με το ...</td>\n      <td>06/07/2022  14:16</td>\n      <td>ΚΟΣΜΟΣ</td>\n      <td>Το ρωσικό υπουργείο Εξωτερικών ανακοίνωσε σήμε...</td>\n      <td>https://www.naftemporiki.gr//fu/p/1880058/638/...</td>\n      <td>06-07-2022</td>\n    </tr>\n    <tr>\n      <th>2</th>\n      <td>el</td>\n      <td>NaN</td>\n      <td>0</td>\n      <td>False</td>\n      <td>ΝΑΥΤΕΜΠΟΡΙΚΗ</td>\n      <td>https://www.naftemporiki.gr//story/1880042/men...</td>\n      <td>Μεντβέντεφ: Παράλογη η ιδέα να τιμωρείται η χώ...</td>\n      <td>06/07/2022  13:35</td>\n      <td>ΚΟΣΜΟΣ</td>\n      <td>Ο πρώην πρόεδρος της Ρωσίας Ντιμίτρι Μεντβέντε...</td>\n      <td>https://www.naftemporiki.gr//fu/p/1880043/638/...</td>\n      <td>06-07-2022</td>\n    </tr>\n    <tr>\n      <th>3</th>\n      <td>el</td>\n      <td>NaN</td>\n      <td>0</td>\n      <td>False</td>\n      <td>ΝΑΥΤΕΜΠΟΡΙΚΗ</td>\n      <td>https://www.naftemporiki.gr//story/1880040/pur...</td>\n      <td>Πυρά Λαβρόφ κατά Μακρόν για τη δημοσιοποίηση τ...</td>\n      <td>06/07/2022  13:34</td>\n      <td>ΚΟΣΜΟΣ</td>\n      <td>Ο Ρώσος υπουργός Εξωτερικών Σεργκέι Λαβρόφ δήλ...</td>\n      <td>https://www.naftemporiki.gr//fu/p/1838456/638/...</td>\n      <td>06-07-2022</td>\n    </tr>\n    <tr>\n      <th>4</th>\n      <td>el</td>\n      <td>NaN</td>\n      <td>0</td>\n      <td>False</td>\n      <td>ΝΑΥΤΕΜΠΟΡΙΚΗ</td>\n      <td>https://www.naftemporiki.gr//finance/story/188...</td>\n      <td>«Η Ρωσία αντιμετωπίζει ένα οικονομικό σοκ» αλλ...</td>\n      <td>06/07/2022  13:17</td>\n      <td>ΟΙΚΟΝΟΜΙΑ &amp; ΑΓΟΡΕΣ</td>\n      <td>Η οικονομία της Ρωσίας αντιμετωπίζει καλύτερα ...</td>\n      <td>https://www.naftemporiki.gr//fu/p/1877139/638/...</td>\n      <td>06-07-2022</td>\n    </tr>\n  </tbody>\n</table>\n</div>"
     },
     "execution_count": 196,
     "metadata": {},
     "output_type": "execute_result"
    }
   ],
   "source": [
    "naftemporiki_df.head()"
   ],
   "metadata": {
    "collapsed": false,
    "pycharm": {
     "name": "#%%\n"
    }
   }
  },
  {
   "cell_type": "code",
   "execution_count": 197,
   "outputs": [
    {
     "data": {
      "text/plain": "  Lang     Publisher                                          Image Url  \\\n0   en  THE GUARDIAN  https://i.guim.co.uk/img/media/cf521f0cc79f03f...   \n1   en  THE GUARDIAN  https://i.guim.co.uk/img/media/ed78768125b0cc7...   \n2   en  THE GUARDIAN  https://i.guim.co.uk/img/media/050c522ae5cc5e3...   \n3   en  THE GUARDIAN  https://i.guim.co.uk/img/media/4e76cd7e65bb82f...   \n4   en  THE GUARDIAN  https://i.guim.co.uk/img/media/2fcbff1b38bdde0...   \n\n                                       Image Caption  \\\n0   Biden at the White House on Tuesday. The pres...   \n1   Boris Johnson’s lies are nothing to those bei...   \n2   Russia’s defence minister, Sergei Shoigu, app...   \n3           Illustration: Martin Rowson/The Guardian   \n4   Russia's defence minister, Sergei Shoigu, is ...   \n\n                                           Image Alt  \\\n0  Biden at the White House on Tuesday. The presi...   \n1        Boris Johnson at Prime Minister's Questions   \n2  Russia’s defence minister, Sergei Shoigu, appe...   \n3                              Martin Rowson 24.2.22   \n4           Russia's defence minister, Sergei Shoigu   \n\n                          Date Date Formatted  \\\n0  Wednesday, 23 February 2022     23-02-2022   \n1  Wednesday, 23 February 2022     23-02-2022   \n2  Wednesday, 23 February 2022     23-02-2022   \n3  Wednesday, 23 February 2022     23-02-2022   \n4  Wednesday, 23 February 2022     23-02-2022   \n\n                                             Heading  \\\n0  Biden imposes sanctions on company behind Nord...   \n1  Putin’s looming threat gives Johnson some brea...   \n2  From ‘Putin’s chef’ to the RT editor: names ex...   \n3  Martin Rowson on Russian donors to the Tory pa...   \n4  EU approves wide-ranging sanctions against Rus...   \n\n                                         Article Url  \\\n0  https://www.theguardian.com/us-news/live/2022/...   \n1  https://www.theguardian.com/politics/2022/feb/...   \n2  https://www.theguardian.com/world/2022/feb/23/...   \n3  https://www.theguardian.com/commentisfree/pict...   \n4  https://www.theguardian.com/world/2022/feb/23/...   \n\n                                                Text Comments api key  \\\n0  19.07Biden announces sanctions on Nord Stream ...              NaN   \n1  Boris Johnson is in his happy place. The Russi...         /p/kz3fp   \n2  The EU has approved asset freezes and travel b...              NaN   \n3                                                NaN              NaN   \n4  Russia’s defence minister, Sergei Shoigu, the ...              NaN   \n\n   Comments count                                       Comments url  \\\n0             NaN                                                NaN   \n1           528.0  https://www.theguardian.com/politics/2022/feb/...   \n2             NaN                                                NaN   \n3             NaN  https://www.theguardian.com/commentisfree/pict...   \n4             NaN                                                NaN   \n\n                                               Thumb  Comments exist  \\\n0  https://i.guim.co.uk/img/media/cf521f0cc79f03f...           False   \n1                                                NaN            True   \n2  https://i.guim.co.uk/img/media/050c522ae5cc5e3...           False   \n3  https://i.guim.co.uk/img/media/4e76cd7e65bb82f...           False   \n4                                                NaN           False   \n\n             Tag  \n0        US NEWS  \n1       POLITICS  \n2          WORLD  \n3  COMMENTISFREE  \n4          WORLD  ",
      "text/html": "<div>\n<style scoped>\n    .dataframe tbody tr th:only-of-type {\n        vertical-align: middle;\n    }\n\n    .dataframe tbody tr th {\n        vertical-align: top;\n    }\n\n    .dataframe thead th {\n        text-align: right;\n    }\n</style>\n<table border=\"1\" class=\"dataframe\">\n  <thead>\n    <tr style=\"text-align: right;\">\n      <th></th>\n      <th>Lang</th>\n      <th>Publisher</th>\n      <th>Image Url</th>\n      <th>Image Caption</th>\n      <th>Image Alt</th>\n      <th>Date</th>\n      <th>Date Formatted</th>\n      <th>Heading</th>\n      <th>Article Url</th>\n      <th>Text</th>\n      <th>Comments api key</th>\n      <th>Comments count</th>\n      <th>Comments url</th>\n      <th>Thumb</th>\n      <th>Comments exist</th>\n      <th>Tag</th>\n    </tr>\n  </thead>\n  <tbody>\n    <tr>\n      <th>0</th>\n      <td>en</td>\n      <td>THE GUARDIAN</td>\n      <td>https://i.guim.co.uk/img/media/cf521f0cc79f03f...</td>\n      <td>Biden at the White House on Tuesday. The pres...</td>\n      <td>Biden at the White House on Tuesday. The presi...</td>\n      <td>Wednesday, 23 February 2022</td>\n      <td>23-02-2022</td>\n      <td>Biden imposes sanctions on company behind Nord...</td>\n      <td>https://www.theguardian.com/us-news/live/2022/...</td>\n      <td>19.07Biden announces sanctions on Nord Stream ...</td>\n      <td>NaN</td>\n      <td>NaN</td>\n      <td>NaN</td>\n      <td>https://i.guim.co.uk/img/media/cf521f0cc79f03f...</td>\n      <td>False</td>\n      <td>US NEWS</td>\n    </tr>\n    <tr>\n      <th>1</th>\n      <td>en</td>\n      <td>THE GUARDIAN</td>\n      <td>https://i.guim.co.uk/img/media/ed78768125b0cc7...</td>\n      <td>Boris Johnson’s lies are nothing to those bei...</td>\n      <td>Boris Johnson at Prime Minister's Questions</td>\n      <td>Wednesday, 23 February 2022</td>\n      <td>23-02-2022</td>\n      <td>Putin’s looming threat gives Johnson some brea...</td>\n      <td>https://www.theguardian.com/politics/2022/feb/...</td>\n      <td>Boris Johnson is in his happy place. The Russi...</td>\n      <td>/p/kz3fp</td>\n      <td>528.0</td>\n      <td>https://www.theguardian.com/politics/2022/feb/...</td>\n      <td>NaN</td>\n      <td>True</td>\n      <td>POLITICS</td>\n    </tr>\n    <tr>\n      <th>2</th>\n      <td>en</td>\n      <td>THE GUARDIAN</td>\n      <td>https://i.guim.co.uk/img/media/050c522ae5cc5e3...</td>\n      <td>Russia’s defence minister, Sergei Shoigu, app...</td>\n      <td>Russia’s defence minister, Sergei Shoigu, appe...</td>\n      <td>Wednesday, 23 February 2022</td>\n      <td>23-02-2022</td>\n      <td>From ‘Putin’s chef’ to the RT editor: names ex...</td>\n      <td>https://www.theguardian.com/world/2022/feb/23/...</td>\n      <td>The EU has approved asset freezes and travel b...</td>\n      <td>NaN</td>\n      <td>NaN</td>\n      <td>NaN</td>\n      <td>https://i.guim.co.uk/img/media/050c522ae5cc5e3...</td>\n      <td>False</td>\n      <td>WORLD</td>\n    </tr>\n    <tr>\n      <th>3</th>\n      <td>en</td>\n      <td>THE GUARDIAN</td>\n      <td>https://i.guim.co.uk/img/media/4e76cd7e65bb82f...</td>\n      <td>Illustration: Martin Rowson/The Guardian</td>\n      <td>Martin Rowson 24.2.22</td>\n      <td>Wednesday, 23 February 2022</td>\n      <td>23-02-2022</td>\n      <td>Martin Rowson on Russian donors to the Tory pa...</td>\n      <td>https://www.theguardian.com/commentisfree/pict...</td>\n      <td>NaN</td>\n      <td>NaN</td>\n      <td>NaN</td>\n      <td>https://www.theguardian.com/commentisfree/pict...</td>\n      <td>https://i.guim.co.uk/img/media/4e76cd7e65bb82f...</td>\n      <td>False</td>\n      <td>COMMENTISFREE</td>\n    </tr>\n    <tr>\n      <th>4</th>\n      <td>en</td>\n      <td>THE GUARDIAN</td>\n      <td>https://i.guim.co.uk/img/media/2fcbff1b38bdde0...</td>\n      <td>Russia's defence minister, Sergei Shoigu, is ...</td>\n      <td>Russia's defence minister, Sergei Shoigu</td>\n      <td>Wednesday, 23 February 2022</td>\n      <td>23-02-2022</td>\n      <td>EU approves wide-ranging sanctions against Rus...</td>\n      <td>https://www.theguardian.com/world/2022/feb/23/...</td>\n      <td>Russia’s defence minister, Sergei Shoigu, the ...</td>\n      <td>NaN</td>\n      <td>NaN</td>\n      <td>NaN</td>\n      <td>NaN</td>\n      <td>False</td>\n      <td>WORLD</td>\n    </tr>\n  </tbody>\n</table>\n</div>"
     },
     "execution_count": 197,
     "metadata": {},
     "output_type": "execute_result"
    }
   ],
   "source": [
    "guardian_df.head()"
   ],
   "metadata": {
    "collapsed": false,
    "pycharm": {
     "name": "#%%\n"
    }
   }
  },
  {
   "cell_type": "code",
   "execution_count": 198,
   "outputs": [
    {
     "data": {
      "text/plain": "Index(['Lang', 'Comments api key', 'Comments count', 'Comments exist',\n       'Publisher', 'Article url', 'Heading', 'Summary', 'Tag', 'Text',\n       'dateUTC', 'date', 'Date Formatted'],\n      dtype='object')"
     },
     "execution_count": 198,
     "metadata": {},
     "output_type": "execute_result"
    }
   ],
   "source": [
    "kathimerini_df.keys()"
   ],
   "metadata": {
    "collapsed": false,
    "pycharm": {
     "name": "#%%\n"
    }
   }
  },
  {
   "cell_type": "code",
   "execution_count": 199,
   "outputs": [],
   "source": [
    "# reshape DF to match the ArticleModel properties\n",
    "kathimerini_df.drop(columns=['date', 'dateUTC', 'Summary'], axis=1, inplace=True)"
   ],
   "metadata": {
    "collapsed": false,
    "pycharm": {
     "name": "#%%\n"
    }
   }
  },
  {
   "cell_type": "markdown",
   "source": [
    "## EFSYN"
   ],
   "metadata": {
    "collapsed": false,
    "pycharm": {
     "name": "#%% md\n"
    }
   }
  },
  {
   "cell_type": "code",
   "execution_count": 200,
   "outputs": [
    {
     "data": {
      "text/plain": "Index(['Lang', 'Comments api key', 'Comments count', 'Comments exist',\n       'Publisher', 'Tag', 'date', 'time', 'Heading', 'Article url', 'Text',\n       'Image url', 'Date Formatted'],\n      dtype='object')"
     },
     "execution_count": 200,
     "metadata": {},
     "output_type": "execute_result"
    }
   ],
   "source": [
    "efsyn_df.keys()"
   ],
   "metadata": {
    "collapsed": false,
    "pycharm": {
     "name": "#%%\n"
    }
   }
  },
  {
   "cell_type": "code",
   "execution_count": 201,
   "outputs": [],
   "source": [
    "# reshape DF to match the ArticleModel properties\n",
    "efsyn_df.drop(columns=['date', 'time', 'Image url'], axis=1, inplace=True)"
   ],
   "metadata": {
    "collapsed": false,
    "pycharm": {
     "name": "#%%\n"
    }
   }
  },
  {
   "cell_type": "code",
   "execution_count": 202,
   "outputs": [
    {
     "data": {
      "text/plain": "Index(['Lang', 'Comments api key', 'Comments count', 'Comments exist',\n       'Publisher', 'Article url', 'Heading', 'date', 'Tag', 'Text',\n       'Image url', 'Date Formatted'],\n      dtype='object')"
     },
     "execution_count": 202,
     "metadata": {},
     "output_type": "execute_result"
    }
   ],
   "source": [
    "naftemporiki_df.keys()"
   ],
   "metadata": {
    "collapsed": false,
    "pycharm": {
     "name": "#%%\n"
    }
   }
  },
  {
   "cell_type": "code",
   "execution_count": 203,
   "outputs": [],
   "source": [
    "# reshape DF to match the ArticleModel properties\n",
    "naftemporiki_df.drop(columns=['Image url', 'date'], axis=1, inplace=True)"
   ],
   "metadata": {
    "collapsed": false,
    "pycharm": {
     "name": "#%%\n"
    }
   }
  },
  {
   "cell_type": "code",
   "execution_count": 204,
   "outputs": [
    {
     "data": {
      "text/plain": "Index(['Lang', 'Publisher', 'Image Url', 'Image Caption', 'Image Alt', 'Date',\n       'Date Formatted', 'Heading', 'Article Url', 'Text', 'Comments api key',\n       'Comments count', 'Comments url', 'Thumb', 'Comments exist', 'Tag'],\n      dtype='object')"
     },
     "execution_count": 204,
     "metadata": {},
     "output_type": "execute_result"
    }
   ],
   "source": [
    "guardian_df.keys()"
   ],
   "metadata": {
    "collapsed": false,
    "pycharm": {
     "name": "#%%\n"
    }
   }
  },
  {
   "cell_type": "code",
   "execution_count": 205,
   "outputs": [
    {
     "data": {
      "text/plain": "  Lang     Publisher                                          Image Url  \\\n0   en  THE GUARDIAN  https://i.guim.co.uk/img/media/cf521f0cc79f03f...   \n1   en  THE GUARDIAN  https://i.guim.co.uk/img/media/ed78768125b0cc7...   \n2   en  THE GUARDIAN  https://i.guim.co.uk/img/media/050c522ae5cc5e3...   \n3   en  THE GUARDIAN  https://i.guim.co.uk/img/media/4e76cd7e65bb82f...   \n4   en  THE GUARDIAN  https://i.guim.co.uk/img/media/2fcbff1b38bdde0...   \n\n                                       Image Caption  \\\n0   Biden at the White House on Tuesday. The pres...   \n1   Boris Johnson’s lies are nothing to those bei...   \n2   Russia’s defence minister, Sergei Shoigu, app...   \n3           Illustration: Martin Rowson/The Guardian   \n4   Russia's defence minister, Sergei Shoigu, is ...   \n\n                                           Image Alt  \\\n0  Biden at the White House on Tuesday. The presi...   \n1        Boris Johnson at Prime Minister's Questions   \n2  Russia’s defence minister, Sergei Shoigu, appe...   \n3                              Martin Rowson 24.2.22   \n4           Russia's defence minister, Sergei Shoigu   \n\n                          Date Date Formatted  \\\n0  Wednesday, 23 February 2022     23-02-2022   \n1  Wednesday, 23 February 2022     23-02-2022   \n2  Wednesday, 23 February 2022     23-02-2022   \n3  Wednesday, 23 February 2022     23-02-2022   \n4  Wednesday, 23 February 2022     23-02-2022   \n\n                                             Heading  \\\n0  Biden imposes sanctions on company behind Nord...   \n1  Putin’s looming threat gives Johnson some brea...   \n2  From ‘Putin’s chef’ to the RT editor: names ex...   \n3  Martin Rowson on Russian donors to the Tory pa...   \n4  EU approves wide-ranging sanctions against Rus...   \n\n                                         Article Url  \\\n0  https://www.theguardian.com/us-news/live/2022/...   \n1  https://www.theguardian.com/politics/2022/feb/...   \n2  https://www.theguardian.com/world/2022/feb/23/...   \n3  https://www.theguardian.com/commentisfree/pict...   \n4  https://www.theguardian.com/world/2022/feb/23/...   \n\n                                                Text Comments api key  \\\n0  19.07Biden announces sanctions on Nord Stream ...              NaN   \n1  Boris Johnson is in his happy place. The Russi...         /p/kz3fp   \n2  The EU has approved asset freezes and travel b...              NaN   \n3                                                NaN              NaN   \n4  Russia’s defence minister, Sergei Shoigu, the ...              NaN   \n\n   Comments count                                       Comments url  \\\n0             NaN                                                NaN   \n1           528.0  https://www.theguardian.com/politics/2022/feb/...   \n2             NaN                                                NaN   \n3             NaN  https://www.theguardian.com/commentisfree/pict...   \n4             NaN                                                NaN   \n\n                                               Thumb  Comments exist  \\\n0  https://i.guim.co.uk/img/media/cf521f0cc79f03f...           False   \n1                                                NaN            True   \n2  https://i.guim.co.uk/img/media/050c522ae5cc5e3...           False   \n3  https://i.guim.co.uk/img/media/4e76cd7e65bb82f...           False   \n4                                                NaN           False   \n\n             Tag  \n0        US NEWS  \n1       POLITICS  \n2          WORLD  \n3  COMMENTISFREE  \n4          WORLD  ",
      "text/html": "<div>\n<style scoped>\n    .dataframe tbody tr th:only-of-type {\n        vertical-align: middle;\n    }\n\n    .dataframe tbody tr th {\n        vertical-align: top;\n    }\n\n    .dataframe thead th {\n        text-align: right;\n    }\n</style>\n<table border=\"1\" class=\"dataframe\">\n  <thead>\n    <tr style=\"text-align: right;\">\n      <th></th>\n      <th>Lang</th>\n      <th>Publisher</th>\n      <th>Image Url</th>\n      <th>Image Caption</th>\n      <th>Image Alt</th>\n      <th>Date</th>\n      <th>Date Formatted</th>\n      <th>Heading</th>\n      <th>Article Url</th>\n      <th>Text</th>\n      <th>Comments api key</th>\n      <th>Comments count</th>\n      <th>Comments url</th>\n      <th>Thumb</th>\n      <th>Comments exist</th>\n      <th>Tag</th>\n    </tr>\n  </thead>\n  <tbody>\n    <tr>\n      <th>0</th>\n      <td>en</td>\n      <td>THE GUARDIAN</td>\n      <td>https://i.guim.co.uk/img/media/cf521f0cc79f03f...</td>\n      <td>Biden at the White House on Tuesday. The pres...</td>\n      <td>Biden at the White House on Tuesday. The presi...</td>\n      <td>Wednesday, 23 February 2022</td>\n      <td>23-02-2022</td>\n      <td>Biden imposes sanctions on company behind Nord...</td>\n      <td>https://www.theguardian.com/us-news/live/2022/...</td>\n      <td>19.07Biden announces sanctions on Nord Stream ...</td>\n      <td>NaN</td>\n      <td>NaN</td>\n      <td>NaN</td>\n      <td>https://i.guim.co.uk/img/media/cf521f0cc79f03f...</td>\n      <td>False</td>\n      <td>US NEWS</td>\n    </tr>\n    <tr>\n      <th>1</th>\n      <td>en</td>\n      <td>THE GUARDIAN</td>\n      <td>https://i.guim.co.uk/img/media/ed78768125b0cc7...</td>\n      <td>Boris Johnson’s lies are nothing to those bei...</td>\n      <td>Boris Johnson at Prime Minister's Questions</td>\n      <td>Wednesday, 23 February 2022</td>\n      <td>23-02-2022</td>\n      <td>Putin’s looming threat gives Johnson some brea...</td>\n      <td>https://www.theguardian.com/politics/2022/feb/...</td>\n      <td>Boris Johnson is in his happy place. The Russi...</td>\n      <td>/p/kz3fp</td>\n      <td>528.0</td>\n      <td>https://www.theguardian.com/politics/2022/feb/...</td>\n      <td>NaN</td>\n      <td>True</td>\n      <td>POLITICS</td>\n    </tr>\n    <tr>\n      <th>2</th>\n      <td>en</td>\n      <td>THE GUARDIAN</td>\n      <td>https://i.guim.co.uk/img/media/050c522ae5cc5e3...</td>\n      <td>Russia’s defence minister, Sergei Shoigu, app...</td>\n      <td>Russia’s defence minister, Sergei Shoigu, appe...</td>\n      <td>Wednesday, 23 February 2022</td>\n      <td>23-02-2022</td>\n      <td>From ‘Putin’s chef’ to the RT editor: names ex...</td>\n      <td>https://www.theguardian.com/world/2022/feb/23/...</td>\n      <td>The EU has approved asset freezes and travel b...</td>\n      <td>NaN</td>\n      <td>NaN</td>\n      <td>NaN</td>\n      <td>https://i.guim.co.uk/img/media/050c522ae5cc5e3...</td>\n      <td>False</td>\n      <td>WORLD</td>\n    </tr>\n    <tr>\n      <th>3</th>\n      <td>en</td>\n      <td>THE GUARDIAN</td>\n      <td>https://i.guim.co.uk/img/media/4e76cd7e65bb82f...</td>\n      <td>Illustration: Martin Rowson/The Guardian</td>\n      <td>Martin Rowson 24.2.22</td>\n      <td>Wednesday, 23 February 2022</td>\n      <td>23-02-2022</td>\n      <td>Martin Rowson on Russian donors to the Tory pa...</td>\n      <td>https://www.theguardian.com/commentisfree/pict...</td>\n      <td>NaN</td>\n      <td>NaN</td>\n      <td>NaN</td>\n      <td>https://www.theguardian.com/commentisfree/pict...</td>\n      <td>https://i.guim.co.uk/img/media/4e76cd7e65bb82f...</td>\n      <td>False</td>\n      <td>COMMENTISFREE</td>\n    </tr>\n    <tr>\n      <th>4</th>\n      <td>en</td>\n      <td>THE GUARDIAN</td>\n      <td>https://i.guim.co.uk/img/media/2fcbff1b38bdde0...</td>\n      <td>Russia's defence minister, Sergei Shoigu, is ...</td>\n      <td>Russia's defence minister, Sergei Shoigu</td>\n      <td>Wednesday, 23 February 2022</td>\n      <td>23-02-2022</td>\n      <td>EU approves wide-ranging sanctions against Rus...</td>\n      <td>https://www.theguardian.com/world/2022/feb/23/...</td>\n      <td>Russia’s defence minister, Sergei Shoigu, the ...</td>\n      <td>NaN</td>\n      <td>NaN</td>\n      <td>NaN</td>\n      <td>NaN</td>\n      <td>False</td>\n      <td>WORLD</td>\n    </tr>\n  </tbody>\n</table>\n</div>"
     },
     "execution_count": 205,
     "metadata": {},
     "output_type": "execute_result"
    }
   ],
   "source": [
    "guardian_df.head()"
   ],
   "metadata": {
    "collapsed": false,
    "pycharm": {
     "name": "#%%\n"
    }
   }
  },
  {
   "cell_type": "code",
   "execution_count": 206,
   "outputs": [],
   "source": [
    "# Casting df with ArticleModel class\n",
    "guardian_df.rename(\n",
    "    columns={\"Article Url\": ArticleModel.url},\n",
    "    inplace=True\n",
    "            )"
   ],
   "metadata": {
    "collapsed": false,
    "pycharm": {
     "name": "#%%\n"
    }
   }
  },
  {
   "cell_type": "code",
   "execution_count": 207,
   "outputs": [],
   "source": [
    "# reshape DF to match the ArticleModel properties\n",
    "guardian_df.drop(columns=['Image Caption', 'Thumb', 'Image Alt', 'Image Url', 'Date'], axis=1, inplace=True)"
   ],
   "metadata": {
    "collapsed": false,
    "pycharm": {
     "name": "#%%\n"
    }
   }
  },
  {
   "cell_type": "code",
   "execution_count": 208,
   "outputs": [],
   "source": [
    "war_df = pd.concat([kathimerini_df,\n",
    "                    efsyn_df,\n",
    "                    naftemporiki_df,\n",
    "                    guardian_df],\n",
    "                    ignore_index=True,\n",
    "                    axis=0,\n",
    "                    sort=False,\n",
    "                    verify_integrity=True)"
   ],
   "metadata": {
    "collapsed": false,
    "pycharm": {
     "name": "#%%\n"
    }
   }
  },
  {
   "cell_type": "code",
   "execution_count": 209,
   "outputs": [],
   "source": [
    "war_df_sort = war_df.reindex(columns=[ArticleModel.publisher,\n",
    "                                ArticleModel.date,\n",
    "                                ArticleModel.lang,\n",
    "                                ArticleModel.heading,\n",
    "                                ArticleModel.tag,\n",
    "                                ArticleModel.text,\n",
    "                                ArticleModel.comments,\n",
    "                                ArticleModel.commentsCount,\n",
    "                                ArticleModel.commentApiKey,\n",
    "                                ArticleModel.url])"
   ],
   "metadata": {
    "collapsed": false,
    "pycharm": {
     "name": "#%%\n"
    }
   }
  },
  {
   "cell_type": "code",
   "execution_count": 210,
   "outputs": [
    {
     "data": {
      "text/plain": "    Publisher Date Formatted Lang  \\\n0  ΚΑΘΗΜΕΡΙΝΗ     05-07-2022   el   \n1  ΚΑΘΗΜΕΡΙΝΗ     05-07-2022   el   \n2  ΚΑΘΗΜΕΡΙΝΗ     05-07-2022   el   \n3  ΚΑΘΗΜΕΡΙΝΗ     05-07-2022   el   \n4  ΚΑΘΗΜΕΡΙΝΗ     05-07-2022   el   \n\n                                             Heading                    Tag  \\\n0  Μπορέλ: O Πούτιν πρέπει να επιλέξει «ανάμεσα σ...                 ΚΟΣΜΟΣ   \n1  Μαριούπολη: Οι φιλορώσοι αυτονομιστές κατέσχεσ...  ΠΟΛΕΜΟΣ ΣΤΗΝ ΟΥΚΡΑΝΙΑ   \n2  Πρόβλεψη για αύξηση του εμπορίου μεταξύ Ρωσίας...      ΔΙΕΘΝΗΣ ΟΙΚΟΝΟΜΙΑ   \n3  Σακελλαροπούλου σε Ζελένσκι: Είμαστε και θα εί...               ΠΟΛΙΤΙΚΗ   \n4  Ουκρανία: Το ρωσοκρατούμενο πυρηνικό εργοστάσι...                 ΚΟΣΜΟΣ   \n\n                                                Text  Comments exist  \\\n0  Οι κυρώσεις, που έχουν επιβληθεί στην Ρωσία σε...           False   \n1  Οι φιλορώσοι αυτονομιστές κατέλαβαν δύο πλοία ...           False   \n2  Ο εμπορικός τζίρος μεταξύ Τουρκίας και Ρωσίας ...           False   \n3  «Το απαραβίαστο των συνόρων είναι η βάση της σ...           False   \n4  Ο μεγαλύτερος πυρηνικός σταθμός της Ευρώπης, μ...           False   \n\n   Comments count Comments api key  \\\n0             0.0              NaN   \n1             0.0              NaN   \n2             0.0              NaN   \n3             0.0              NaN   \n4             0.0              NaN   \n\n                                         Article url  \n0  https://www.kathimerini.gr/world/561942142/mpo...  \n1  https://www.kathimerini.gr/world/561942133/mar...  \n2  https://www.kathimerini.gr/economy/internation...  \n3  https://www.kathimerini.gr/politics/561941488/...  \n4  https://www.kathimerini.gr/world/561941377/oyk...  ",
      "text/html": "<div>\n<style scoped>\n    .dataframe tbody tr th:only-of-type {\n        vertical-align: middle;\n    }\n\n    .dataframe tbody tr th {\n        vertical-align: top;\n    }\n\n    .dataframe thead th {\n        text-align: right;\n    }\n</style>\n<table border=\"1\" class=\"dataframe\">\n  <thead>\n    <tr style=\"text-align: right;\">\n      <th></th>\n      <th>Publisher</th>\n      <th>Date Formatted</th>\n      <th>Lang</th>\n      <th>Heading</th>\n      <th>Tag</th>\n      <th>Text</th>\n      <th>Comments exist</th>\n      <th>Comments count</th>\n      <th>Comments api key</th>\n      <th>Article url</th>\n    </tr>\n  </thead>\n  <tbody>\n    <tr>\n      <th>0</th>\n      <td>ΚΑΘΗΜΕΡΙΝΗ</td>\n      <td>05-07-2022</td>\n      <td>el</td>\n      <td>Μπορέλ: O Πούτιν πρέπει να επιλέξει «ανάμεσα σ...</td>\n      <td>ΚΟΣΜΟΣ</td>\n      <td>Οι κυρώσεις, που έχουν επιβληθεί στην Ρωσία σε...</td>\n      <td>False</td>\n      <td>0.0</td>\n      <td>NaN</td>\n      <td>https://www.kathimerini.gr/world/561942142/mpo...</td>\n    </tr>\n    <tr>\n      <th>1</th>\n      <td>ΚΑΘΗΜΕΡΙΝΗ</td>\n      <td>05-07-2022</td>\n      <td>el</td>\n      <td>Μαριούπολη: Οι φιλορώσοι αυτονομιστές κατέσχεσ...</td>\n      <td>ΠΟΛΕΜΟΣ ΣΤΗΝ ΟΥΚΡΑΝΙΑ</td>\n      <td>Οι φιλορώσοι αυτονομιστές κατέλαβαν δύο πλοία ...</td>\n      <td>False</td>\n      <td>0.0</td>\n      <td>NaN</td>\n      <td>https://www.kathimerini.gr/world/561942133/mar...</td>\n    </tr>\n    <tr>\n      <th>2</th>\n      <td>ΚΑΘΗΜΕΡΙΝΗ</td>\n      <td>05-07-2022</td>\n      <td>el</td>\n      <td>Πρόβλεψη για αύξηση του εμπορίου μεταξύ Ρωσίας...</td>\n      <td>ΔΙΕΘΝΗΣ ΟΙΚΟΝΟΜΙΑ</td>\n      <td>Ο εμπορικός τζίρος μεταξύ Τουρκίας και Ρωσίας ...</td>\n      <td>False</td>\n      <td>0.0</td>\n      <td>NaN</td>\n      <td>https://www.kathimerini.gr/economy/internation...</td>\n    </tr>\n    <tr>\n      <th>3</th>\n      <td>ΚΑΘΗΜΕΡΙΝΗ</td>\n      <td>05-07-2022</td>\n      <td>el</td>\n      <td>Σακελλαροπούλου σε Ζελένσκι: Είμαστε και θα εί...</td>\n      <td>ΠΟΛΙΤΙΚΗ</td>\n      <td>«Το απαραβίαστο των συνόρων είναι η βάση της σ...</td>\n      <td>False</td>\n      <td>0.0</td>\n      <td>NaN</td>\n      <td>https://www.kathimerini.gr/politics/561941488/...</td>\n    </tr>\n    <tr>\n      <th>4</th>\n      <td>ΚΑΘΗΜΕΡΙΝΗ</td>\n      <td>05-07-2022</td>\n      <td>el</td>\n      <td>Ουκρανία: Το ρωσοκρατούμενο πυρηνικό εργοστάσι...</td>\n      <td>ΚΟΣΜΟΣ</td>\n      <td>Ο μεγαλύτερος πυρηνικός σταθμός της Ευρώπης, μ...</td>\n      <td>False</td>\n      <td>0.0</td>\n      <td>NaN</td>\n      <td>https://www.kathimerini.gr/world/561941377/oyk...</td>\n    </tr>\n  </tbody>\n</table>\n</div>"
     },
     "execution_count": 210,
     "metadata": {},
     "output_type": "execute_result"
    }
   ],
   "source": [
    "war_df_sort.head()"
   ],
   "metadata": {
    "collapsed": false,
    "pycharm": {
     "name": "#%%\n"
    }
   }
  },
  {
   "cell_type": "code",
   "execution_count": 211,
   "outputs": [
    {
     "data": {
      "text/plain": "Publisher               0\nDate Formatted        273\nLang                    0\nHeading               270\nTag                   270\nText                  418\nComments exist          0\nComments count       3003\nComments api key    13533\nArticle url           270\ndtype: int64"
     },
     "execution_count": 211,
     "metadata": {},
     "output_type": "execute_result"
    }
   ],
   "source": [
    "war_df_sort.isna().sum()"
   ],
   "metadata": {
    "collapsed": false,
    "pycharm": {
     "name": "#%%\n"
    }
   }
  },
  {
   "cell_type": "code",
   "execution_count": 212,
   "outputs": [
    {
     "data": {
      "text/plain": "(13736, 10)"
     },
     "execution_count": 212,
     "metadata": {},
     "output_type": "execute_result"
    }
   ],
   "source": [
    "war_df_sort.shape"
   ],
   "metadata": {
    "collapsed": false,
    "pycharm": {
     "name": "#%%\n"
    }
   }
  },
  {
   "cell_type": "code",
   "execution_count": 214,
   "outputs": [
    {
     "data": {
      "text/plain": "          Publisher Date Formatted Lang  \\\n13731  THE GUARDIAN     02-07-2022   en   \n13732  THE GUARDIAN     03-07-2022   en   \n13733  THE GUARDIAN     03-07-2022   en   \n13734  THE GUARDIAN     03-07-2022   en   \n13735  THE GUARDIAN     03-07-2022   en   \n\n                                                 Heading            Tag  \\\n13731  Russia-Ukraine war: what we know on day 129 of...          WORLD   \n13732  Russia-Ukraine war: ‘Many killed’ in attack on...          WORLD   \n13733  Russia-Ukraine war: what we know on day 130 of...          WORLD   \n13734  Medics battle relentless wave of trauma in Ukr...          WORLD   \n13735  Yes, Nato has a new vitality. But its united f...  COMMENTISFREE   \n\n                                                    Text  Comments exist  \\\n13731  Powerful explosions shook Ukraine’s southern c...           False   \n13732  13.44'Many killed' in attack on eastern Ukrain...           False   \n13733  Russia claims it has taken full control of Lys...           False   \n13734  Ludmilla Boiko can’t sleep. Every night, befor...           False   \n13735  Most summits bill themselves as “historic” and...           False   \n\n       Comments count Comments api key  \\\n13731             NaN              NaN   \n13732             NaN              NaN   \n13733             NaN              NaN   \n13734             NaN              NaN   \n13735             NaN              NaN   \n\n                                             Article url  \n13731  https://www.theguardian.com/world/2022/jul/02/...  \n13732  https://www.theguardian.com/world/live/2022/ju...  \n13733  https://www.theguardian.com/world/2022/jul/03/...  \n13734  https://www.theguardian.com/world/2022/jul/03/...  \n13735  https://www.theguardian.com/commentisfree/2022...  ",
      "text/html": "<div>\n<style scoped>\n    .dataframe tbody tr th:only-of-type {\n        vertical-align: middle;\n    }\n\n    .dataframe tbody tr th {\n        vertical-align: top;\n    }\n\n    .dataframe thead th {\n        text-align: right;\n    }\n</style>\n<table border=\"1\" class=\"dataframe\">\n  <thead>\n    <tr style=\"text-align: right;\">\n      <th></th>\n      <th>Publisher</th>\n      <th>Date Formatted</th>\n      <th>Lang</th>\n      <th>Heading</th>\n      <th>Tag</th>\n      <th>Text</th>\n      <th>Comments exist</th>\n      <th>Comments count</th>\n      <th>Comments api key</th>\n      <th>Article url</th>\n    </tr>\n  </thead>\n  <tbody>\n    <tr>\n      <th>13731</th>\n      <td>THE GUARDIAN</td>\n      <td>02-07-2022</td>\n      <td>en</td>\n      <td>Russia-Ukraine war: what we know on day 129 of...</td>\n      <td>WORLD</td>\n      <td>Powerful explosions shook Ukraine’s southern c...</td>\n      <td>False</td>\n      <td>NaN</td>\n      <td>NaN</td>\n      <td>https://www.theguardian.com/world/2022/jul/02/...</td>\n    </tr>\n    <tr>\n      <th>13732</th>\n      <td>THE GUARDIAN</td>\n      <td>03-07-2022</td>\n      <td>en</td>\n      <td>Russia-Ukraine war: ‘Many killed’ in attack on...</td>\n      <td>WORLD</td>\n      <td>13.44'Many killed' in attack on eastern Ukrain...</td>\n      <td>False</td>\n      <td>NaN</td>\n      <td>NaN</td>\n      <td>https://www.theguardian.com/world/live/2022/ju...</td>\n    </tr>\n    <tr>\n      <th>13733</th>\n      <td>THE GUARDIAN</td>\n      <td>03-07-2022</td>\n      <td>en</td>\n      <td>Russia-Ukraine war: what we know on day 130 of...</td>\n      <td>WORLD</td>\n      <td>Russia claims it has taken full control of Lys...</td>\n      <td>False</td>\n      <td>NaN</td>\n      <td>NaN</td>\n      <td>https://www.theguardian.com/world/2022/jul/03/...</td>\n    </tr>\n    <tr>\n      <th>13734</th>\n      <td>THE GUARDIAN</td>\n      <td>03-07-2022</td>\n      <td>en</td>\n      <td>Medics battle relentless wave of trauma in Ukr...</td>\n      <td>WORLD</td>\n      <td>Ludmilla Boiko can’t sleep. Every night, befor...</td>\n      <td>False</td>\n      <td>NaN</td>\n      <td>NaN</td>\n      <td>https://www.theguardian.com/world/2022/jul/03/...</td>\n    </tr>\n    <tr>\n      <th>13735</th>\n      <td>THE GUARDIAN</td>\n      <td>03-07-2022</td>\n      <td>en</td>\n      <td>Yes, Nato has a new vitality. But its united f...</td>\n      <td>COMMENTISFREE</td>\n      <td>Most summits bill themselves as “historic” and...</td>\n      <td>False</td>\n      <td>NaN</td>\n      <td>NaN</td>\n      <td>https://www.theguardian.com/commentisfree/2022...</td>\n    </tr>\n  </tbody>\n</table>\n</div>"
     },
     "execution_count": 214,
     "metadata": {},
     "output_type": "execute_result"
    }
   ],
   "source": [
    "war_df_sort.tail()"
   ],
   "metadata": {
    "collapsed": false,
    "pycharm": {
     "name": "#%%\n"
    }
   }
  },
  {
   "cell_type": "code",
   "execution_count": 216,
   "outputs": [],
   "source": [
    "war_df_sort.to_csv('../data/processed/war-ukraine-merged-nan.csv')"
   ],
   "metadata": {
    "collapsed": false,
    "pycharm": {
     "name": "#%%\n"
    }
   }
  }
 ],
 "metadata": {
  "kernelspec": {
   "display_name": "Python 3",
   "language": "python",
   "name": "python3"
  },
  "language_info": {
   "codemirror_mode": {
    "name": "ipython",
    "version": 2
   },
   "file_extension": ".py",
   "mimetype": "text/x-python",
   "name": "python",
   "nbconvert_exporter": "python",
   "pygments_lexer": "ipython2",
   "version": "2.7.6"
  }
 },
 "nbformat": 4,
 "nbformat_minor": 0
}