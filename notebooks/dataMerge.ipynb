{
 "cells": [
  {
   "cell_type": "code",
   "execution_count": 9,
   "outputs": [
    {
     "data": {
      "text/plain": "  Lang  Comments api key  Comments count  Comments exist   Publisher  \\\n0   el               NaN               0           False  ΚΑΘΗΜΕΡΙΝΗ   \n1   el               NaN               0           False  ΚΑΘΗΜΕΡΙΝΗ   \n2   el               NaN               0           False  ΚΑΘΗΜΕΡΙΝΗ   \n3   el               NaN               0           False  ΚΑΘΗΜΕΡΙΝΗ   \n4   el               NaN               0           False  ΚΑΘΗΜΕΡΙΝΗ   \n\n                                         Article url  \\\n0  https://www.kathimerini.gr/world/561942142/mpo...   \n1  https://www.kathimerini.gr/world/561942133/mar...   \n2  https://www.kathimerini.gr/economy/internation...   \n3  https://www.kathimerini.gr/politics/561941488/...   \n4  https://www.kathimerini.gr/world/561941377/oyk...   \n\n                                             Heading  \\\n0  Μπορέλ: O Πούτιν πρέπει να επιλέξει «ανάμεσα σ...   \n1  Μαριούπολη: Οι φιλορώσοι αυτονομιστές κατέσχεσ...   \n2  Πρόβλεψη για αύξηση του εμπορίου μεταξύ Ρωσίας...   \n3  Σακελλαροπούλου σε Ζελένσκι: Είμαστε και θα εί...   \n4  Ουκρανία: Το ρωσοκρατούμενο πυρηνικό εργοστάσι...   \n\n                                             Summary                    Tag  \\\n0  Οι κυρώσεις, που έχουν επιβληθεί στην Ρωσία σε...                 ΚΟΣΜΟΣ   \n1  Πρόκειται για τις πρώτες τέτοιες ενέργειες σε ...  ΠΟΛΕΜΟΣ ΣΤΗΝ ΟΥΚΡΑΝΙΑ   \n2  Ο εμπορικός τζίρος μεταξύ Τουρκίας και Ρωσίας ...      ΔΙΕΘΝΗΣ ΟΙΚΟΝΟΜΙΑ   \n3  «Το απαραβίαστο των συνόρων είναι η βάση της σ...               ΠΟΛΙΤΙΚΗ   \n4  Ο μεγαλύτερος πυρηνικός σταθμός της Ευρώπης, μ...                 ΚΟΣΜΟΣ   \n\n                                                Text  \\\n0  Οι κυρώσεις, που έχουν επιβληθεί στην Ρωσία σε...   \n1  Οι φιλορώσοι αυτονομιστές κατέλαβαν δύο πλοία ...   \n2  Ο εμπορικός τζίρος μεταξύ Τουρκίας και Ρωσίας ...   \n3  «Το απαραβίαστο των συνόρων είναι η βάση της σ...   \n4  Ο μεγαλύτερος πυρηνικός σταθμός της Ευρώπης, μ...   \n\n                     dateUTC               date Date Formatted  \n0  2022-07-05T18:12:04+03:00  05.07.2022  18:12     05-07-2022  \n1  2022-07-05T17:52:12+03:00  05.07.2022  17:52     05-07-2022  \n2  2022-07-05T12:09:12+03:00  05.07.2022  12:09     05-07-2022  \n3  2022-07-05T10:32:34+03:00  05.07.2022  10:32     05-07-2022  \n4  2022-07-05T08:53:05+03:00  05.07.2022  08:53     05-07-2022  ",
      "text/html": "<div>\n<style scoped>\n    .dataframe tbody tr th:only-of-type {\n        vertical-align: middle;\n    }\n\n    .dataframe tbody tr th {\n        vertical-align: top;\n    }\n\n    .dataframe thead th {\n        text-align: right;\n    }\n</style>\n<table border=\"1\" class=\"dataframe\">\n  <thead>\n    <tr style=\"text-align: right;\">\n      <th></th>\n      <th>Lang</th>\n      <th>Comments api key</th>\n      <th>Comments count</th>\n      <th>Comments exist</th>\n      <th>Publisher</th>\n      <th>Article url</th>\n      <th>Heading</th>\n      <th>Summary</th>\n      <th>Tag</th>\n      <th>Text</th>\n      <th>dateUTC</th>\n      <th>date</th>\n      <th>Date Formatted</th>\n    </tr>\n  </thead>\n  <tbody>\n    <tr>\n      <th>0</th>\n      <td>el</td>\n      <td>NaN</td>\n      <td>0</td>\n      <td>False</td>\n      <td>ΚΑΘΗΜΕΡΙΝΗ</td>\n      <td>https://www.kathimerini.gr/world/561942142/mpo...</td>\n      <td>Μπορέλ: O Πούτιν πρέπει να επιλέξει «ανάμεσα σ...</td>\n      <td>Οι κυρώσεις, που έχουν επιβληθεί στην Ρωσία σε...</td>\n      <td>ΚΟΣΜΟΣ</td>\n      <td>Οι κυρώσεις, που έχουν επιβληθεί στην Ρωσία σε...</td>\n      <td>2022-07-05T18:12:04+03:00</td>\n      <td>05.07.2022  18:12</td>\n      <td>05-07-2022</td>\n    </tr>\n    <tr>\n      <th>1</th>\n      <td>el</td>\n      <td>NaN</td>\n      <td>0</td>\n      <td>False</td>\n      <td>ΚΑΘΗΜΕΡΙΝΗ</td>\n      <td>https://www.kathimerini.gr/world/561942133/mar...</td>\n      <td>Μαριούπολη: Οι φιλορώσοι αυτονομιστές κατέσχεσ...</td>\n      <td>Πρόκειται για τις πρώτες τέτοιες ενέργειες σε ...</td>\n      <td>ΠΟΛΕΜΟΣ ΣΤΗΝ ΟΥΚΡΑΝΙΑ</td>\n      <td>Οι φιλορώσοι αυτονομιστές κατέλαβαν δύο πλοία ...</td>\n      <td>2022-07-05T17:52:12+03:00</td>\n      <td>05.07.2022  17:52</td>\n      <td>05-07-2022</td>\n    </tr>\n    <tr>\n      <th>2</th>\n      <td>el</td>\n      <td>NaN</td>\n      <td>0</td>\n      <td>False</td>\n      <td>ΚΑΘΗΜΕΡΙΝΗ</td>\n      <td>https://www.kathimerini.gr/economy/internation...</td>\n      <td>Πρόβλεψη για αύξηση του εμπορίου μεταξύ Ρωσίας...</td>\n      <td>Ο εμπορικός τζίρος μεταξύ Τουρκίας και Ρωσίας ...</td>\n      <td>ΔΙΕΘΝΗΣ ΟΙΚΟΝΟΜΙΑ</td>\n      <td>Ο εμπορικός τζίρος μεταξύ Τουρκίας και Ρωσίας ...</td>\n      <td>2022-07-05T12:09:12+03:00</td>\n      <td>05.07.2022  12:09</td>\n      <td>05-07-2022</td>\n    </tr>\n    <tr>\n      <th>3</th>\n      <td>el</td>\n      <td>NaN</td>\n      <td>0</td>\n      <td>False</td>\n      <td>ΚΑΘΗΜΕΡΙΝΗ</td>\n      <td>https://www.kathimerini.gr/politics/561941488/...</td>\n      <td>Σακελλαροπούλου σε Ζελένσκι: Είμαστε και θα εί...</td>\n      <td>«Το απαραβίαστο των συνόρων είναι η βάση της σ...</td>\n      <td>ΠΟΛΙΤΙΚΗ</td>\n      <td>«Το απαραβίαστο των συνόρων είναι η βάση της σ...</td>\n      <td>2022-07-05T10:32:34+03:00</td>\n      <td>05.07.2022  10:32</td>\n      <td>05-07-2022</td>\n    </tr>\n    <tr>\n      <th>4</th>\n      <td>el</td>\n      <td>NaN</td>\n      <td>0</td>\n      <td>False</td>\n      <td>ΚΑΘΗΜΕΡΙΝΗ</td>\n      <td>https://www.kathimerini.gr/world/561941377/oyk...</td>\n      <td>Ουκρανία: Το ρωσοκρατούμενο πυρηνικό εργοστάσι...</td>\n      <td>Ο μεγαλύτερος πυρηνικός σταθμός της Ευρώπης, μ...</td>\n      <td>ΚΟΣΜΟΣ</td>\n      <td>Ο μεγαλύτερος πυρηνικός σταθμός της Ευρώπης, μ...</td>\n      <td>2022-07-05T08:53:05+03:00</td>\n      <td>05.07.2022  08:53</td>\n      <td>05-07-2022</td>\n    </tr>\n  </tbody>\n</table>\n</div>"
     },
     "execution_count": 9,
     "metadata": {},
     "output_type": "execute_result"
    }
   ],
   "source": [
    "import pandas as pd\n",
    "from datetime import datetime\n",
    "\n",
    "kathimerini_df = pd.read_csv('../data/intermediate/kathimerini-data-frame.csv',\n",
    "                             index_col=[0])\n",
    "kathimerini_df.head()"
   ],
   "metadata": {
    "collapsed": false,
    "pycharm": {
     "name": "#%%\n"
    }
   }
  },
  {
   "cell_type": "code",
   "execution_count": 8,
   "outputs": [
    {
     "data": {
      "text/plain": "comments         bool\nPublisher      object\nurl            object\nheading        object\nsummary        object\ntag            object\nfull_text      object\ndateUTC        object\ndate           object\ndate_format    object\ndtype: object"
     },
     "execution_count": 8,
     "metadata": {},
     "output_type": "execute_result"
    }
   ],
   "source": [
    "kathimerini_df.dtypes"
   ],
   "metadata": {
    "collapsed": false,
    "pycharm": {
     "name": "#%%\n"
    }
   }
  },
  {
   "cell_type": "code",
   "execution_count": null,
   "outputs": [],
   "source": [],
   "metadata": {
    "collapsed": false,
    "pycharm": {
     "name": "#%%\n"
    }
   }
  }
 ],
 "metadata": {
  "kernelspec": {
   "display_name": "Python 3",
   "language": "python",
   "name": "python3"
  },
  "language_info": {
   "codemirror_mode": {
    "name": "ipython",
    "version": 2
   },
   "file_extension": ".py",
   "mimetype": "text/x-python",
   "name": "python",
   "nbconvert_exporter": "python",
   "pygments_lexer": "ipython2",
   "version": "2.7.6"
  }
 },
 "nbformat": 4,
 "nbformat_minor": 0
}