{
 "cells": [
  {
   "cell_type": "code",
   "execution_count": 3,
   "outputs": [
    {
     "data": {
      "text/plain": "      Unnamed: 0                 tag        date   time  \\\n2380        2380              ΕΥΡΩΠΗ  22.01.2015  11:08   \n2381        2381              ΕΥΡΩΠΗ  21.01.2015  06:45   \n2382        2382          ΑΣΤΥΝΟΜΙΚΟ  20.01.2015  06:03   \n2383        2383              ΕΥΡΩΠΗ  19.01.2015  09:51   \n2384        2384              ΕΥΡΩΠΗ  16.01.2015  06:58   \n2385        2385  ΕΛΛΗΝΙΚΗ ΟΙΚΟΝΟΜΙΑ  09.01.2015  06:12   \n2386        2386          ΑΘΛΗΤΙΣΜΟΣ  02.01.2015  06:15   \n2387        2387              ΕΥΡΩΠΗ  01.01.2015  23:35   \n2388        2388              ΕΥΡΩΠΗ  30.12.2014  06:00   \n2389        2389              ΕΥΡΩΠΗ  29.12.2014  06:00   \n2390        2390         ΔΡΟΜΟ-ΛΟΓΙΑ  28.12.2014  06:00   \n2391        2391           ΟΙΚΟΝΟΜΙΑ  27.12.2014  11:28   \n2392        2392              ΕΥΡΩΠΗ  26.12.2014  18:51   \n2393        2393              ΕΥΡΩΠΗ  25.12.2014  17:52   \n2394        2394              ΕΥΡΩΠΗ  24.12.2014  23:59   \n2395        2395              ΕΥΡΩΠΗ  23.12.2014  06:00   \n2396        2396              ΕΥΡΩΠΗ  22.12.2014  20:15   \n2397        2397          ΠΟΔΟΣΦΑΙΡΟ  20.12.2014  22:00   \n2398        2398          ΠΟΔΟΣΦΑΙΡΟ  19.12.2014  06:51   \n2399        2399              ΕΥΡΩΠΗ  19.12.2014  06:00   \n\n                                                heading  \\\n2380            Δεκατρείς νεκροί από οβίδα στο Ντονέτσκ   \n2381               Σφαίρες... επιρροής για την Ουκρανία   \n2382       Προκήρυξη για τον εμπρησμό Ι.Χ. στα Εξάρχεια   \n2383  Ανησυχία για την κλιμάκωση της έντασης στην Ου...   \n2384                              Ημέρα εθνικού πένθους   \n2385          Ρεκόρ επιβατών στο «Ελευθέριος Βενιζέλος»   \n2386                                Λόρδος vs τσάρος...   \n2387                        Έκρηξη εθνικισμού στο Κίεβο   \n2388                                   «Καυτό» ραντεβού   \n2389    Το ΝΑΤΟ, κορυφαία εξωτερική απειλή για τη Ρωσία   \n2390                                  Ουκρανική ρουλέτα   \n2391  Η Ελλάδα στον «χάρτη απαισιοδοξίας του 2015» γ...   \n2392          Ουκρανία: Ξεκίνησε η ανταλλαγή αιχμαλώτων   \n2393  Ουκρανία: Συμφωνία για ανταλλαγή αιχμαλώτων επ...   \n2394                   Απειλή και ευκαιρία για τη Μόσχα   \n2395              Κακοί «οιωνοί» για Ουκρανία και Ρωσία   \n2396            Χρεοκοπεί η Ουκρανία - σε κρίση η Ρωσία   \n2397          «Σκληρή ομάδα με υπάκουους στρατιώτες...»   \n2398                              Η χρεοκοπία των Ρώσων   \n2399                        Υποσχέθηκε ανάκαμψη το 2015   \n\n                                                    url  \\\n2380  https://www.efsyn.gr/kosmos/eyropi/12215_dekat...   \n2381  https://www.efsyn.gr/kosmos/eyropi/12095_sfair...   \n2382  https://www.efsyn.gr/ellada/astynomiko/11922_p...   \n2383  https://www.efsyn.gr/kosmos/eyropi/11735_anisy...   \n2384  https://www.efsyn.gr/kosmos/eyropi/11509_imera...   \n2385  https://www.efsyn.gr/oikonomia/elliniki-oikono...   \n2386  https://www.efsyn.gr/athlitismos/9761_lordos-v...   \n2387  https://www.efsyn.gr/kosmos/eyropi/9729_ekrixi...   \n2388  https://www.efsyn.gr/kosmos/eyropi/9576_kayto-...   \n2389  https://www.efsyn.gr/kosmos/eyropi/9358_nato-k...   \n2390  https://www.efsyn.gr/kosmos/maties-ston-kosmo/...   \n2391  https://www.efsyn.gr/oikonomia/9168_i-ellada-s...   \n2392  https://www.efsyn.gr/kosmos/eyropi/9126_oykran...   \n2393  https://www.efsyn.gr/kosmos/eyropi/9086_oykran...   \n2394  https://www.efsyn.gr/kosmos/eyropi/9048_apeili...   \n2395  https://www.efsyn.gr/kosmos/eyropi/8915_kakoi-...   \n2396  https://www.efsyn.gr/kosmos/eyropi/8791_hreoko...   \n2397  https://www.efsyn.gr/athlitismos/podosfairo/85...   \n2398  https://www.efsyn.gr/athlitismos/podosfairo/83...   \n2399  https://www.efsyn.gr/kosmos/eyropi/8406_yposhe...   \n\n                                                   text  \\\n2380  Δεκατρείς άνθρωποι σκοτώθηκαν σήμερα το πρωί σ...   \n2381  Για πολλοστή φορά, οι «οιωνοί» ενός ακόμη γύρο...   \n2382  Επί περίπου τρεις ώρες έμεινε κλειστή χθες η ο...   \n2383  Καμπανάκι από το γενικό γραμματέα του ΟΗΕ Μπαν...   \n2384  Υπό κανονικές συνθήκες τη χθεσινή ημέρα θα είχ...   \n2385  Με αύξηση-ρεκόρ που έφθασε το 21,2% έκλεισε η ...   \n2386  Αμφότεροι ήταν εντός και παραμένουν εκτός αγων...   \n2387  Επίδειξη δύναμης έκαναν οι ακροδεξιοί στο Κίεβ...   \n2388  Αφού πρώτα υπέγραψε τον νόμο για άρση του καθε...   \n2389  To NATO μπορεί να φεύγει (λέμε τώρα) από το Αφ...   \n2390  Αν κάποιο από τα μεγάλα θέματα της χρονιάς ξεχ...   \n2391  Στον «απαισιόδοξο οδηγό για τον κόσμο το 2015»...   \n2392  Άρχισε σύμφωνα με πληροφορίες η πολυσυζητημένη...   \n2393  Σύμφωνα με τους φιλορώσους αυτονομιστές αντάρτ...   \n2394  Η περιοχή του βορείου Καυκάσου έπειτα μια περί...   \n2395  Καθώς τα προγραμματισμένα ραντεβού της «ομάδας...   \n2396  Την απειλή της χρεοκοπίας αντιμετωπίζει άμεσα ...   \n2397  Υλοποιήσαμε την ανάγκη που νιώσαμε ακαριαία μό...   \n2398  Η κρίση της ρωσικής οικονομίας δεν άφησε ανεπη...   \n2399  Ενας Ευρωπαίος φίλος, ένας σημαντικός ηγέτης, ...   \n\n                                              image_url  \n2380  https://www.efsyn.gr/sites/default/files/style...  \n2381  https://www.efsyn.gr/sites/default/files/style...  \n2382  https://www.efsyn.gr/sites/default/files/style...  \n2383  https://www.efsyn.gr/sites/default/files/style...  \n2384  https://www.efsyn.gr/sites/default/files/style...  \n2385  https://www.efsyn.gr/sites/default/files/style...  \n2386  https://www.efsyn.gr/sites/default/files/style...  \n2387  https://www.efsyn.gr/sites/default/files/style...  \n2388  https://www.efsyn.gr/sites/default/files/style...  \n2389  https://www.efsyn.gr/sites/default/files/style...  \n2390  https://www.efsyn.gr/sites/default/files/style...  \n2391  https://www.efsyn.gr/sites/default/files/style...  \n2392  https://www.efsyn.gr/sites/default/files/style...  \n2393  https://www.efsyn.gr/sites/default/files/style...  \n2394  https://www.efsyn.gr/sites/default/files/style...  \n2395  https://www.efsyn.gr/sites/default/files/style...  \n2396  https://www.efsyn.gr/sites/default/files/style...  \n2397  https://www.efsyn.gr/sites/default/files/style...  \n2398  https://www.efsyn.gr/sites/default/files/style...  \n2399  https://www.efsyn.gr/sites/default/files/style...  ",
      "text/html": "<div>\n<style scoped>\n    .dataframe tbody tr th:only-of-type {\n        vertical-align: middle;\n    }\n\n    .dataframe tbody tr th {\n        vertical-align: top;\n    }\n\n    .dataframe thead th {\n        text-align: right;\n    }\n</style>\n<table border=\"1\" class=\"dataframe\">\n  <thead>\n    <tr style=\"text-align: right;\">\n      <th></th>\n      <th>Unnamed: 0</th>\n      <th>tag</th>\n      <th>date</th>\n      <th>time</th>\n      <th>heading</th>\n      <th>url</th>\n      <th>text</th>\n      <th>image_url</th>\n    </tr>\n  </thead>\n  <tbody>\n    <tr>\n      <th>2380</th>\n      <td>2380</td>\n      <td>ΕΥΡΩΠΗ</td>\n      <td>22.01.2015</td>\n      <td>11:08</td>\n      <td>Δεκατρείς νεκροί από οβίδα στο Ντονέτσκ</td>\n      <td>https://www.efsyn.gr/kosmos/eyropi/12215_dekat...</td>\n      <td>Δεκατρείς άνθρωποι σκοτώθηκαν σήμερα το πρωί σ...</td>\n      <td>https://www.efsyn.gr/sites/default/files/style...</td>\n    </tr>\n    <tr>\n      <th>2381</th>\n      <td>2381</td>\n      <td>ΕΥΡΩΠΗ</td>\n      <td>21.01.2015</td>\n      <td>06:45</td>\n      <td>Σφαίρες... επιρροής για την Ουκρανία</td>\n      <td>https://www.efsyn.gr/kosmos/eyropi/12095_sfair...</td>\n      <td>Για πολλοστή φορά, οι «οιωνοί» ενός ακόμη γύρο...</td>\n      <td>https://www.efsyn.gr/sites/default/files/style...</td>\n    </tr>\n    <tr>\n      <th>2382</th>\n      <td>2382</td>\n      <td>ΑΣΤΥΝΟΜΙΚΟ</td>\n      <td>20.01.2015</td>\n      <td>06:03</td>\n      <td>Προκήρυξη για τον εμπρησμό Ι.Χ. στα Εξάρχεια</td>\n      <td>https://www.efsyn.gr/ellada/astynomiko/11922_p...</td>\n      <td>Επί περίπου τρεις ώρες έμεινε κλειστή χθες η ο...</td>\n      <td>https://www.efsyn.gr/sites/default/files/style...</td>\n    </tr>\n    <tr>\n      <th>2383</th>\n      <td>2383</td>\n      <td>ΕΥΡΩΠΗ</td>\n      <td>19.01.2015</td>\n      <td>09:51</td>\n      <td>Ανησυχία για την κλιμάκωση της έντασης στην Ου...</td>\n      <td>https://www.efsyn.gr/kosmos/eyropi/11735_anisy...</td>\n      <td>Καμπανάκι από το γενικό γραμματέα του ΟΗΕ Μπαν...</td>\n      <td>https://www.efsyn.gr/sites/default/files/style...</td>\n    </tr>\n    <tr>\n      <th>2384</th>\n      <td>2384</td>\n      <td>ΕΥΡΩΠΗ</td>\n      <td>16.01.2015</td>\n      <td>06:58</td>\n      <td>Ημέρα εθνικού πένθους</td>\n      <td>https://www.efsyn.gr/kosmos/eyropi/11509_imera...</td>\n      <td>Υπό κανονικές συνθήκες τη χθεσινή ημέρα θα είχ...</td>\n      <td>https://www.efsyn.gr/sites/default/files/style...</td>\n    </tr>\n    <tr>\n      <th>2385</th>\n      <td>2385</td>\n      <td>ΕΛΛΗΝΙΚΗ ΟΙΚΟΝΟΜΙΑ</td>\n      <td>09.01.2015</td>\n      <td>06:12</td>\n      <td>Ρεκόρ επιβατών στο «Ελευθέριος Βενιζέλος»</td>\n      <td>https://www.efsyn.gr/oikonomia/elliniki-oikono...</td>\n      <td>Με αύξηση-ρεκόρ που έφθασε το 21,2% έκλεισε η ...</td>\n      <td>https://www.efsyn.gr/sites/default/files/style...</td>\n    </tr>\n    <tr>\n      <th>2386</th>\n      <td>2386</td>\n      <td>ΑΘΛΗΤΙΣΜΟΣ</td>\n      <td>02.01.2015</td>\n      <td>06:15</td>\n      <td>Λόρδος vs τσάρος...</td>\n      <td>https://www.efsyn.gr/athlitismos/9761_lordos-v...</td>\n      <td>Αμφότεροι ήταν εντός και παραμένουν εκτός αγων...</td>\n      <td>https://www.efsyn.gr/sites/default/files/style...</td>\n    </tr>\n    <tr>\n      <th>2387</th>\n      <td>2387</td>\n      <td>ΕΥΡΩΠΗ</td>\n      <td>01.01.2015</td>\n      <td>23:35</td>\n      <td>Έκρηξη εθνικισμού στο Κίεβο</td>\n      <td>https://www.efsyn.gr/kosmos/eyropi/9729_ekrixi...</td>\n      <td>Επίδειξη δύναμης έκαναν οι ακροδεξιοί στο Κίεβ...</td>\n      <td>https://www.efsyn.gr/sites/default/files/style...</td>\n    </tr>\n    <tr>\n      <th>2388</th>\n      <td>2388</td>\n      <td>ΕΥΡΩΠΗ</td>\n      <td>30.12.2014</td>\n      <td>06:00</td>\n      <td>«Καυτό» ραντεβού</td>\n      <td>https://www.efsyn.gr/kosmos/eyropi/9576_kayto-...</td>\n      <td>Αφού πρώτα υπέγραψε τον νόμο για άρση του καθε...</td>\n      <td>https://www.efsyn.gr/sites/default/files/style...</td>\n    </tr>\n    <tr>\n      <th>2389</th>\n      <td>2389</td>\n      <td>ΕΥΡΩΠΗ</td>\n      <td>29.12.2014</td>\n      <td>06:00</td>\n      <td>Το ΝΑΤΟ, κορυφαία εξωτερική απειλή για τη Ρωσία</td>\n      <td>https://www.efsyn.gr/kosmos/eyropi/9358_nato-k...</td>\n      <td>To NATO μπορεί να φεύγει (λέμε τώρα) από το Αφ...</td>\n      <td>https://www.efsyn.gr/sites/default/files/style...</td>\n    </tr>\n    <tr>\n      <th>2390</th>\n      <td>2390</td>\n      <td>ΔΡΟΜΟ-ΛΟΓΙΑ</td>\n      <td>28.12.2014</td>\n      <td>06:00</td>\n      <td>Ουκρανική ρουλέτα</td>\n      <td>https://www.efsyn.gr/kosmos/maties-ston-kosmo/...</td>\n      <td>Αν κάποιο από τα μεγάλα θέματα της χρονιάς ξεχ...</td>\n      <td>https://www.efsyn.gr/sites/default/files/style...</td>\n    </tr>\n    <tr>\n      <th>2391</th>\n      <td>2391</td>\n      <td>ΟΙΚΟΝΟΜΙΑ</td>\n      <td>27.12.2014</td>\n      <td>11:28</td>\n      <td>Η Ελλάδα στον «χάρτη απαισιοδοξίας του 2015» γ...</td>\n      <td>https://www.efsyn.gr/oikonomia/9168_i-ellada-s...</td>\n      <td>Στον «απαισιόδοξο οδηγό για τον κόσμο το 2015»...</td>\n      <td>https://www.efsyn.gr/sites/default/files/style...</td>\n    </tr>\n    <tr>\n      <th>2392</th>\n      <td>2392</td>\n      <td>ΕΥΡΩΠΗ</td>\n      <td>26.12.2014</td>\n      <td>18:51</td>\n      <td>Ουκρανία: Ξεκίνησε η ανταλλαγή αιχμαλώτων</td>\n      <td>https://www.efsyn.gr/kosmos/eyropi/9126_oykran...</td>\n      <td>Άρχισε σύμφωνα με πληροφορίες η πολυσυζητημένη...</td>\n      <td>https://www.efsyn.gr/sites/default/files/style...</td>\n    </tr>\n    <tr>\n      <th>2393</th>\n      <td>2393</td>\n      <td>ΕΥΡΩΠΗ</td>\n      <td>25.12.2014</td>\n      <td>17:52</td>\n      <td>Ουκρανία: Συμφωνία για ανταλλαγή αιχμαλώτων επ...</td>\n      <td>https://www.efsyn.gr/kosmos/eyropi/9086_oykran...</td>\n      <td>Σύμφωνα με τους φιλορώσους αυτονομιστές αντάρτ...</td>\n      <td>https://www.efsyn.gr/sites/default/files/style...</td>\n    </tr>\n    <tr>\n      <th>2394</th>\n      <td>2394</td>\n      <td>ΕΥΡΩΠΗ</td>\n      <td>24.12.2014</td>\n      <td>23:59</td>\n      <td>Απειλή και ευκαιρία για τη Μόσχα</td>\n      <td>https://www.efsyn.gr/kosmos/eyropi/9048_apeili...</td>\n      <td>Η περιοχή του βορείου Καυκάσου έπειτα μια περί...</td>\n      <td>https://www.efsyn.gr/sites/default/files/style...</td>\n    </tr>\n    <tr>\n      <th>2395</th>\n      <td>2395</td>\n      <td>ΕΥΡΩΠΗ</td>\n      <td>23.12.2014</td>\n      <td>06:00</td>\n      <td>Κακοί «οιωνοί» για Ουκρανία και Ρωσία</td>\n      <td>https://www.efsyn.gr/kosmos/eyropi/8915_kakoi-...</td>\n      <td>Καθώς τα προγραμματισμένα ραντεβού της «ομάδας...</td>\n      <td>https://www.efsyn.gr/sites/default/files/style...</td>\n    </tr>\n    <tr>\n      <th>2396</th>\n      <td>2396</td>\n      <td>ΕΥΡΩΠΗ</td>\n      <td>22.12.2014</td>\n      <td>20:15</td>\n      <td>Χρεοκοπεί η Ουκρανία - σε κρίση η Ρωσία</td>\n      <td>https://www.efsyn.gr/kosmos/eyropi/8791_hreoko...</td>\n      <td>Την απειλή της χρεοκοπίας αντιμετωπίζει άμεσα ...</td>\n      <td>https://www.efsyn.gr/sites/default/files/style...</td>\n    </tr>\n    <tr>\n      <th>2397</th>\n      <td>2397</td>\n      <td>ΠΟΔΟΣΦΑΙΡΟ</td>\n      <td>20.12.2014</td>\n      <td>22:00</td>\n      <td>«Σκληρή ομάδα με υπάκουους στρατιώτες...»</td>\n      <td>https://www.efsyn.gr/athlitismos/podosfairo/85...</td>\n      <td>Υλοποιήσαμε την ανάγκη που νιώσαμε ακαριαία μό...</td>\n      <td>https://www.efsyn.gr/sites/default/files/style...</td>\n    </tr>\n    <tr>\n      <th>2398</th>\n      <td>2398</td>\n      <td>ΠΟΔΟΣΦΑΙΡΟ</td>\n      <td>19.12.2014</td>\n      <td>06:51</td>\n      <td>Η χρεοκοπία των Ρώσων</td>\n      <td>https://www.efsyn.gr/athlitismos/podosfairo/83...</td>\n      <td>Η κρίση της ρωσικής οικονομίας δεν άφησε ανεπη...</td>\n      <td>https://www.efsyn.gr/sites/default/files/style...</td>\n    </tr>\n    <tr>\n      <th>2399</th>\n      <td>2399</td>\n      <td>ΕΥΡΩΠΗ</td>\n      <td>19.12.2014</td>\n      <td>06:00</td>\n      <td>Υποσχέθηκε ανάκαμψη το 2015</td>\n      <td>https://www.efsyn.gr/kosmos/eyropi/8406_yposhe...</td>\n      <td>Ενας Ευρωπαίος φίλος, ένας σημαντικός ηγέτης, ...</td>\n      <td>https://www.efsyn.gr/sites/default/files/style...</td>\n    </tr>\n  </tbody>\n</table>\n</div>"
     },
     "execution_count": 3,
     "metadata": {},
     "output_type": "execute_result"
    }
   ],
   "source": [
    "import pandas as pd\n",
    "\n",
    "df_test = pd.read_csv('../data/raw/efsyn/efsyn-oukrania.csv')\n",
    "df_test.tail(20)"
   ],
   "metadata": {
    "collapsed": false,
    "pycharm": {
     "name": "#%%\n"
    }
   }
  },
  {
   "cell_type": "code",
   "execution_count": 47,
   "outputs": [
    {
     "data": {
      "text/plain": "(17450, 7)"
     },
     "execution_count": 47,
     "metadata": {},
     "output_type": "execute_result"
    }
   ],
   "source": [
    "df_test.shape"
   ],
   "metadata": {
    "collapsed": false,
    "pycharm": {
     "name": "#%%\n"
    }
   }
  },
  {
   "cell_type": "code",
   "execution_count": 26,
   "outputs": [],
   "source": [
    "df_test['date-yolo'] =  pd.to_datetime(df_test['Date'], format=\"%Y-%m-%d\")"
   ],
   "metadata": {
    "collapsed": false,
    "pycharm": {
     "name": "#%%\n"
    }
   }
  },
  {
   "cell_type": "code",
   "execution_count": 37,
   "outputs": [
    {
     "data": {
      "text/plain": "(250, 13)"
     },
     "execution_count": 37,
     "metadata": {},
     "output_type": "execute_result"
    }
   ],
   "source": [
    "df_test.shape"
   ],
   "metadata": {
    "collapsed": false,
    "pycharm": {
     "name": "#%%\n"
    }
   }
  },
  {
   "cell_type": "code",
   "execution_count": 50,
   "outputs": [
    {
     "data": {
      "text/plain": "282895.0"
     },
     "execution_count": 50,
     "metadata": {},
     "output_type": "execute_result"
    }
   ],
   "source": [
    "df_test[~df_test['Comments Count'].isnull()]['Comments Count'].sum()"
   ],
   "metadata": {
    "collapsed": false,
    "pycharm": {
     "name": "#%%\n"
    }
   }
  },
  {
   "cell_type": "code",
   "execution_count": 58,
   "outputs": [
    {
     "data": {
      "text/plain": "   Unnamed: 0 Image Url Image Caption Image Alt                         Date  \\\n5           5       NaN           NaN       NaN  Wednesday, 23 February 2022   \n\n  Date Formatted                                            Heading  \\\n5     2022-02-23  Keir Starmer urges Boris Johnson to end ‘era o...   \n\n                                         Article Url  \\\n5  https://www.theguardian.com/politics/live/2022...   \n\n                                                Text Comments key  \\\n5  13.27PMQs – snap verdictPMQs has never been a ...     /p/knqpm   \n\n   Comments Count                                       Comments Url Thumb  \n5          7064.0  https://www.theguardian.com/politics/live/2022...   NaN  ",
      "text/html": "<div>\n<style scoped>\n    .dataframe tbody tr th:only-of-type {\n        vertical-align: middle;\n    }\n\n    .dataframe tbody tr th {\n        vertical-align: top;\n    }\n\n    .dataframe thead th {\n        text-align: right;\n    }\n</style>\n<table border=\"1\" class=\"dataframe\">\n  <thead>\n    <tr style=\"text-align: right;\">\n      <th></th>\n      <th>Unnamed: 0</th>\n      <th>Image Url</th>\n      <th>Image Caption</th>\n      <th>Image Alt</th>\n      <th>Date</th>\n      <th>Date Formatted</th>\n      <th>Heading</th>\n      <th>Article Url</th>\n      <th>Text</th>\n      <th>Comments key</th>\n      <th>Comments Count</th>\n      <th>Comments Url</th>\n      <th>Thumb</th>\n    </tr>\n  </thead>\n  <tbody>\n    <tr>\n      <th>5</th>\n      <td>5</td>\n      <td>NaN</td>\n      <td>NaN</td>\n      <td>NaN</td>\n      <td>Wednesday, 23 February 2022</td>\n      <td>2022-02-23</td>\n      <td>Keir Starmer urges Boris Johnson to end ‘era o...</td>\n      <td>https://www.theguardian.com/politics/live/2022...</td>\n      <td>13.27PMQs – snap verdictPMQs has never been a ...</td>\n      <td>/p/knqpm</td>\n      <td>7064.0</td>\n      <td>https://www.theguardian.com/politics/live/2022...</td>\n      <td>NaN</td>\n    </tr>\n  </tbody>\n</table>\n</div>"
     },
     "execution_count": 58,
     "metadata": {},
     "output_type": "execute_result"
    }
   ],
   "source": [
    "df_test[df_test['Comments key'] == '/p/knqpm']\n"
   ],
   "metadata": {
    "collapsed": false,
    "pycharm": {
     "name": "#%%\n"
    }
   }
  },
  {
   "cell_type": "code",
   "execution_count": 55,
   "outputs": [
    {
     "data": {
      "text/plain": "1     /p/kz3fp\n5     /p/knqpm\n6     /p/kz2dj\n9     /p/kzv8x\n18    /p/kzv8c\nName: Comments key, dtype: object"
     },
     "execution_count": 55,
     "metadata": {},
     "output_type": "execute_result"
    }
   ],
   "source": [
    "df_test[~df_test['Comments key'].isnull()]['Comments key'].head()\n"
   ],
   "metadata": {
    "collapsed": false,
    "pycharm": {
     "name": "#%%\n"
    }
   }
  },
  {
   "cell_type": "code",
   "execution_count": 22,
   "outputs": [
    {
     "data": {
      "text/plain": "0       Biden at the White House on Tuesday. The pres...\n1       Boris Johnson’s lies are nothing to those bei...\n2       Russia’s defence minister, Sergei Shoigu, app...\n3               Illustration: Martin Rowson/The Guardian\n4       Russia's defence minister, Sergei Shoigu, is ...\n                             ...                        \n122     Russian oligarch Roman Abramovich owns Chelse...\n123     Still from an RT broadcast as Russian troops ...\n124     Independence Square in the city formerly know...\n125     Demonstration at the Russian embassy in Warsa...\n126                                                  NaN\nName: Article Image Caption, Length: 127, dtype: object"
     },
     "execution_count": 22,
     "metadata": {},
     "output_type": "execute_result"
    }
   ],
   "source": [
    "df_test['Article Image Caption']"
   ],
   "metadata": {
    "collapsed": false,
    "pycharm": {
     "name": "#%%\n"
    }
   }
  },
  {
   "cell_type": "code",
   "execution_count": 42,
   "outputs": [
    {
     "data": {
      "text/plain": "     Unnamed: 0 Image Url Image Caption Image Alt                    Date  \\\n242         242       NaN           NaN       NaN  Thursday, 30 June 2022   \n\n    Date Formatted                                            Heading  \\\n242     2022-06-30  Putin says Russia will respond to Nato infrast...   \n\n                                           Article Url  \\\n242  https://www.theguardian.com/world/video/2022/j...   \n\n                                                  Text Comments key  \\\n242  Vladimir Putin has issued fresh warnings that ...          NaN   \n\n     Comments Count Comments Url Thumb  \n242             NaN          NaN   NaN  ",
      "text/html": "<div>\n<style scoped>\n    .dataframe tbody tr th:only-of-type {\n        vertical-align: middle;\n    }\n\n    .dataframe tbody tr th {\n        vertical-align: top;\n    }\n\n    .dataframe thead th {\n        text-align: right;\n    }\n</style>\n<table border=\"1\" class=\"dataframe\">\n  <thead>\n    <tr style=\"text-align: right;\">\n      <th></th>\n      <th>Unnamed: 0</th>\n      <th>Image Url</th>\n      <th>Image Caption</th>\n      <th>Image Alt</th>\n      <th>Date</th>\n      <th>Date Formatted</th>\n      <th>Heading</th>\n      <th>Article Url</th>\n      <th>Text</th>\n      <th>Comments key</th>\n      <th>Comments Count</th>\n      <th>Comments Url</th>\n      <th>Thumb</th>\n    </tr>\n  </thead>\n  <tbody>\n    <tr>\n      <th>242</th>\n      <td>242</td>\n      <td>NaN</td>\n      <td>NaN</td>\n      <td>NaN</td>\n      <td>Thursday, 30 June 2022</td>\n      <td>2022-06-30</td>\n      <td>Putin says Russia will respond to Nato infrast...</td>\n      <td>https://www.theguardian.com/world/video/2022/j...</td>\n      <td>Vladimir Putin has issued fresh warnings that ...</td>\n      <td>NaN</td>\n      <td>NaN</td>\n      <td>NaN</td>\n      <td>NaN</td>\n    </tr>\n  </tbody>\n</table>\n</div>"
     },
     "execution_count": 42,
     "metadata": {},
     "output_type": "execute_result"
    }
   ],
   "source": [
    "df_test[df_test['Heading'].str.contains('putin says', case=False)]"
   ],
   "metadata": {
    "collapsed": false,
    "pycharm": {
     "name": "#%%\n"
    }
   }
  },
  {
   "cell_type": "code",
   "execution_count": null,
   "outputs": [],
   "source": [],
   "metadata": {
    "collapsed": false,
    "pycharm": {
     "name": "#%%\n"
    }
   }
  }
 ],
 "metadata": {
  "kernelspec": {
   "display_name": "Python 3",
   "language": "python",
   "name": "python3"
  },
  "language_info": {
   "codemirror_mode": {
    "name": "ipython",
    "version": 2
   },
   "file_extension": ".py",
   "mimetype": "text/x-python",
   "name": "python",
   "nbconvert_exporter": "python",
   "pygments_lexer": "ipython2",
   "version": "2.7.6"
  }
 },
 "nbformat": 4,
 "nbformat_minor": 0
}