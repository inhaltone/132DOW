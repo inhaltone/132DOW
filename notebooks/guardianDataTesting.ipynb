{
 "cells": [
  {
   "cell_type": "code",
   "execution_count": 8,
   "outputs": [
    {
     "data": {
      "text/plain": "      Unnamed: 0                                                url  \\\n4878        4878  https://www.naftemporiki.gr//story/1835630/ee-...   \n4879        4879  https://www.naftemporiki.gr//story/1835626/kle...   \n4880        4880                                                NaN   \n4881        4881  https://www.naftemporiki.gr//story/1835620/kie...   \n4882        4882  https://www.naftemporiki.gr//story/1835618/cnn...   \n4883        4883  https://www.naftemporiki.gr//story/1835617/to-...   \n4884        4884                                                NaN   \n4885        4885  https://www.naftemporiki.gr//story/1835615/pol...   \n4886        4886                                                NaN   \n4887        4887  https://www.naftemporiki.gr//story/1835608/fon...   \n4888        4888                                                NaN   \n4889        4889                                                NaN   \n4890        4890                                                NaN   \n4891        4891                                                NaN   \n4892        4892  https://www.naftemporiki.gr//story/1835607/ros...   \n4893        4893  https://www.naftemporiki.gr//story/1835605/zel...   \n4894        4894  https://www.naftemporiki.gr//story/1835604/ros...   \n4895        4895  https://www.naftemporiki.gr//story/1835601/kie...   \n4896        4896  https://www.naftemporiki.gr//story/1835599/ouk...   \n4897        4897  https://www.naftemporiki.gr//story/1835598/pol...   \n\n                                                heading               date  \\\n4878  ΕΕ: Ετοιμάζει δεύτερο πακέτο κυρώσεων μετά τη ...  24/02/2022  09:04   \n4879  Κλείνει ο εναέριος χώρος της Ουκρανίας για την...  24/02/2022  08:51   \n4880                                                NaN                NaN   \n4881  Κίεβο: Καταρρίφθηκαν πέντε ρωσικά αεροσκάφη κα...  24/02/2022  08:24   \n4882                CNN: Επίθεση και από την Λευκορωσία  24/02/2022  08:13   \n4883  Το Ουκρανικό «κουτί της Πανδώρας» για την αλλα...  24/02/2022  08:12   \n4884                                                NaN                NaN   \n4885        Κίεβο: Ηχούν σειρήνες αεροπορικής επιδρομής  24/02/2022  07:51   \n4886                                                NaN                NaN   \n4887         Φον ντερ Λάιεν: Το Κρεμλίνο θα λογοδοτήσει  24/02/2022  07:20   \n4888                                                NaN                NaN   \n4889                                                NaN                NaN   \n4890                                                NaN                NaN   \n4891                                                NaN                NaN   \n4892  Ρώσος πρέσβης στον ΟΗΕ: Το Κίεβο δεν άκουσε τι...  24/02/2022  07:13   \n4893  Ζελένσκι: Στρατιωτικός νόμος στην Ουκρανία- Επ...  24/02/2022  07:02   \n4894         Ρωσία:  Δεν επλήγησαν πόλεις της Ουκρανίας  24/02/2022  06:57   \n4895  Κίεβο: Ρωσικά στρατεύματα στην Οδησσό και τη Μ...  24/02/2022  06:46   \n4896  Έκτακτη συνεδρίαση του ΣΑ του ΟΗΕ, την ώρα του...  24/02/2022  06:38   \n4897  Ουκρανία: «Πλήρους κλίμακας εισβολή» της Ρωσία...  24/02/2022  06:34   \n\n         tag                                               text  \\\n4878  ΚΟΣΜΟΣ  Δεύτερο πακέτο κυρώσεων, πιο σκληρών, κατά της...   \n4879  ΚΟΣΜΟΣ  Η κυβέρνηση της Ουκρανίας ανακοίνωσε πως κλείν...   \n4880     NaN                                                NaN   \n4881  ΚΟΣΜΟΣ  Το υπουργείο Άμυνας της Ουκρανίας αναφέρει- σε...   \n4882  ΚΟΣΜΟΣ  Το υπουργείο Άμυνας των  ΗΠΑ  εξετάζει τις ανα...   \n4883  ΚΟΣΜΟΣ  Του Μιχάλη Ψύλου [email protected] «Ο κόσμος τ...   \n4884     NaN                                                NaN   \n4885  ΚΟΣΜΟΣ  Αναφορές για εκρήξεις από το Κίεβο μεταδίδουν ...   \n4886     NaN                                                NaN   \n4887  ΚΟΣΜΟΣ  Η Ευρωπαϊκή Ένωση «θα θεωρήσει υπεύθυνη τη Μόσ...   \n4888     NaN                                                NaN   \n4889     NaN                                                NaN   \n4890     NaN                                                NaN   \n4891     NaN                                                NaN   \n4892  ΚΟΣΜΟΣ  «Το Κίεβο δεν άκουσε τις εκκλήσεις να σταματήσ...   \n4893  ΚΟΣΜΟΣ  Στρατιωτικός νόμος κηρύχθηκε στην Ουκρανία μετ...   \n4894  ΚΟΣΜΟΣ  Το ρωσικό Υπουργείο Άμυνας υποστήριξε με ανακο...   \n4895  ΚΟΣΜΟΣ  Ουκρανοί αξιωματούχοι ανέφεραν ότι ρωσικά στρα...   \n4896  ΚΟΣΜΟΣ  Το Συμβούλιο Ασφαλείας του  ΟΗΕ  πραγματοποιού...   \n4897  ΚΟΣΜΟΣ  Σε εξέλιξη είναι από τα ξημερώματα η ρωσική ει...   \n\n                                                  image   0  \n4878  https://www.naftemporiki.gr//fu/p/1571563/638/... NaN  \n4879  https://www.naftemporiki.gr//fu/p/1835628/638/... NaN  \n4880                                                NaN NaN  \n4881  https://www.naftemporiki.gr//fu/p/1835622/638/... NaN  \n4882  https://www.naftemporiki.gr//fu/p/1835139/638/... NaN  \n4883  https://www.naftemporiki.gr//fu/p/1835597/638/... NaN  \n4884                                                NaN NaN  \n4885  https://www.naftemporiki.gr//fu/p/1835616/638/... NaN  \n4886                                                NaN NaN  \n4887  https://www.naftemporiki.gr//fu/p/1813419/638/... NaN  \n4888                                                NaN NaN  \n4889                                                NaN NaN  \n4890                                                NaN NaN  \n4891                                                NaN NaN  \n4892                                                NaN NaN  \n4893  https://www.naftemporiki.gr//fu/p/1834045/638/... NaN  \n4894                                                NaN NaN  \n4895  https://www.naftemporiki.gr//fu/p/1835602/638/... NaN  \n4896                                                NaN NaN  \n4897  https://www.naftemporiki.gr//fu/p/1835600/638/... NaN  ",
      "text/html": "<div>\n<style scoped>\n    .dataframe tbody tr th:only-of-type {\n        vertical-align: middle;\n    }\n\n    .dataframe tbody tr th {\n        vertical-align: top;\n    }\n\n    .dataframe thead th {\n        text-align: right;\n    }\n</style>\n<table border=\"1\" class=\"dataframe\">\n  <thead>\n    <tr style=\"text-align: right;\">\n      <th></th>\n      <th>Unnamed: 0</th>\n      <th>url</th>\n      <th>heading</th>\n      <th>date</th>\n      <th>tag</th>\n      <th>text</th>\n      <th>image</th>\n      <th>0</th>\n    </tr>\n  </thead>\n  <tbody>\n    <tr>\n      <th>4878</th>\n      <td>4878</td>\n      <td>https://www.naftemporiki.gr//story/1835630/ee-...</td>\n      <td>ΕΕ: Ετοιμάζει δεύτερο πακέτο κυρώσεων μετά τη ...</td>\n      <td>24/02/2022  09:04</td>\n      <td>ΚΟΣΜΟΣ</td>\n      <td>Δεύτερο πακέτο κυρώσεων, πιο σκληρών, κατά της...</td>\n      <td>https://www.naftemporiki.gr//fu/p/1571563/638/...</td>\n      <td>NaN</td>\n    </tr>\n    <tr>\n      <th>4879</th>\n      <td>4879</td>\n      <td>https://www.naftemporiki.gr//story/1835626/kle...</td>\n      <td>Κλείνει ο εναέριος χώρος της Ουκρανίας για την...</td>\n      <td>24/02/2022  08:51</td>\n      <td>ΚΟΣΜΟΣ</td>\n      <td>Η κυβέρνηση της Ουκρανίας ανακοίνωσε πως κλείν...</td>\n      <td>https://www.naftemporiki.gr//fu/p/1835628/638/...</td>\n      <td>NaN</td>\n    </tr>\n    <tr>\n      <th>4880</th>\n      <td>4880</td>\n      <td>NaN</td>\n      <td>NaN</td>\n      <td>NaN</td>\n      <td>NaN</td>\n      <td>NaN</td>\n      <td>NaN</td>\n      <td>NaN</td>\n    </tr>\n    <tr>\n      <th>4881</th>\n      <td>4881</td>\n      <td>https://www.naftemporiki.gr//story/1835620/kie...</td>\n      <td>Κίεβο: Καταρρίφθηκαν πέντε ρωσικά αεροσκάφη κα...</td>\n      <td>24/02/2022  08:24</td>\n      <td>ΚΟΣΜΟΣ</td>\n      <td>Το υπουργείο Άμυνας της Ουκρανίας αναφέρει- σε...</td>\n      <td>https://www.naftemporiki.gr//fu/p/1835622/638/...</td>\n      <td>NaN</td>\n    </tr>\n    <tr>\n      <th>4882</th>\n      <td>4882</td>\n      <td>https://www.naftemporiki.gr//story/1835618/cnn...</td>\n      <td>CNN: Επίθεση και από την Λευκορωσία</td>\n      <td>24/02/2022  08:13</td>\n      <td>ΚΟΣΜΟΣ</td>\n      <td>Το υπουργείο Άμυνας των  ΗΠΑ  εξετάζει τις ανα...</td>\n      <td>https://www.naftemporiki.gr//fu/p/1835139/638/...</td>\n      <td>NaN</td>\n    </tr>\n    <tr>\n      <th>4883</th>\n      <td>4883</td>\n      <td>https://www.naftemporiki.gr//story/1835617/to-...</td>\n      <td>Το Ουκρανικό «κουτί της Πανδώρας» για την αλλα...</td>\n      <td>24/02/2022  08:12</td>\n      <td>ΚΟΣΜΟΣ</td>\n      <td>Του Μιχάλη Ψύλου [email protected] «Ο κόσμος τ...</td>\n      <td>https://www.naftemporiki.gr//fu/p/1835597/638/...</td>\n      <td>NaN</td>\n    </tr>\n    <tr>\n      <th>4884</th>\n      <td>4884</td>\n      <td>NaN</td>\n      <td>NaN</td>\n      <td>NaN</td>\n      <td>NaN</td>\n      <td>NaN</td>\n      <td>NaN</td>\n      <td>NaN</td>\n    </tr>\n    <tr>\n      <th>4885</th>\n      <td>4885</td>\n      <td>https://www.naftemporiki.gr//story/1835615/pol...</td>\n      <td>Κίεβο: Ηχούν σειρήνες αεροπορικής επιδρομής</td>\n      <td>24/02/2022  07:51</td>\n      <td>ΚΟΣΜΟΣ</td>\n      <td>Αναφορές για εκρήξεις από το Κίεβο μεταδίδουν ...</td>\n      <td>https://www.naftemporiki.gr//fu/p/1835616/638/...</td>\n      <td>NaN</td>\n    </tr>\n    <tr>\n      <th>4886</th>\n      <td>4886</td>\n      <td>NaN</td>\n      <td>NaN</td>\n      <td>NaN</td>\n      <td>NaN</td>\n      <td>NaN</td>\n      <td>NaN</td>\n      <td>NaN</td>\n    </tr>\n    <tr>\n      <th>4887</th>\n      <td>4887</td>\n      <td>https://www.naftemporiki.gr//story/1835608/fon...</td>\n      <td>Φον ντερ Λάιεν: Το Κρεμλίνο θα λογοδοτήσει</td>\n      <td>24/02/2022  07:20</td>\n      <td>ΚΟΣΜΟΣ</td>\n      <td>Η Ευρωπαϊκή Ένωση «θα θεωρήσει υπεύθυνη τη Μόσ...</td>\n      <td>https://www.naftemporiki.gr//fu/p/1813419/638/...</td>\n      <td>NaN</td>\n    </tr>\n    <tr>\n      <th>4888</th>\n      <td>4888</td>\n      <td>NaN</td>\n      <td>NaN</td>\n      <td>NaN</td>\n      <td>NaN</td>\n      <td>NaN</td>\n      <td>NaN</td>\n      <td>NaN</td>\n    </tr>\n    <tr>\n      <th>4889</th>\n      <td>4889</td>\n      <td>NaN</td>\n      <td>NaN</td>\n      <td>NaN</td>\n      <td>NaN</td>\n      <td>NaN</td>\n      <td>NaN</td>\n      <td>NaN</td>\n    </tr>\n    <tr>\n      <th>4890</th>\n      <td>4890</td>\n      <td>NaN</td>\n      <td>NaN</td>\n      <td>NaN</td>\n      <td>NaN</td>\n      <td>NaN</td>\n      <td>NaN</td>\n      <td>NaN</td>\n    </tr>\n    <tr>\n      <th>4891</th>\n      <td>4891</td>\n      <td>NaN</td>\n      <td>NaN</td>\n      <td>NaN</td>\n      <td>NaN</td>\n      <td>NaN</td>\n      <td>NaN</td>\n      <td>NaN</td>\n    </tr>\n    <tr>\n      <th>4892</th>\n      <td>4892</td>\n      <td>https://www.naftemporiki.gr//story/1835607/ros...</td>\n      <td>Ρώσος πρέσβης στον ΟΗΕ: Το Κίεβο δεν άκουσε τι...</td>\n      <td>24/02/2022  07:13</td>\n      <td>ΚΟΣΜΟΣ</td>\n      <td>«Το Κίεβο δεν άκουσε τις εκκλήσεις να σταματήσ...</td>\n      <td>NaN</td>\n      <td>NaN</td>\n    </tr>\n    <tr>\n      <th>4893</th>\n      <td>4893</td>\n      <td>https://www.naftemporiki.gr//story/1835605/zel...</td>\n      <td>Ζελένσκι: Στρατιωτικός νόμος στην Ουκρανία- Επ...</td>\n      <td>24/02/2022  07:02</td>\n      <td>ΚΟΣΜΟΣ</td>\n      <td>Στρατιωτικός νόμος κηρύχθηκε στην Ουκρανία μετ...</td>\n      <td>https://www.naftemporiki.gr//fu/p/1834045/638/...</td>\n      <td>NaN</td>\n    </tr>\n    <tr>\n      <th>4894</th>\n      <td>4894</td>\n      <td>https://www.naftemporiki.gr//story/1835604/ros...</td>\n      <td>Ρωσία:  Δεν επλήγησαν πόλεις της Ουκρανίας</td>\n      <td>24/02/2022  06:57</td>\n      <td>ΚΟΣΜΟΣ</td>\n      <td>Το ρωσικό Υπουργείο Άμυνας υποστήριξε με ανακο...</td>\n      <td>NaN</td>\n      <td>NaN</td>\n    </tr>\n    <tr>\n      <th>4895</th>\n      <td>4895</td>\n      <td>https://www.naftemporiki.gr//story/1835601/kie...</td>\n      <td>Κίεβο: Ρωσικά στρατεύματα στην Οδησσό και τη Μ...</td>\n      <td>24/02/2022  06:46</td>\n      <td>ΚΟΣΜΟΣ</td>\n      <td>Ουκρανοί αξιωματούχοι ανέφεραν ότι ρωσικά στρα...</td>\n      <td>https://www.naftemporiki.gr//fu/p/1835602/638/...</td>\n      <td>NaN</td>\n    </tr>\n    <tr>\n      <th>4896</th>\n      <td>4896</td>\n      <td>https://www.naftemporiki.gr//story/1835599/ouk...</td>\n      <td>Έκτακτη συνεδρίαση του ΣΑ του ΟΗΕ, την ώρα του...</td>\n      <td>24/02/2022  06:38</td>\n      <td>ΚΟΣΜΟΣ</td>\n      <td>Το Συμβούλιο Ασφαλείας του  ΟΗΕ  πραγματοποιού...</td>\n      <td>NaN</td>\n      <td>NaN</td>\n    </tr>\n    <tr>\n      <th>4897</th>\n      <td>4897</td>\n      <td>https://www.naftemporiki.gr//story/1835598/pol...</td>\n      <td>Ουκρανία: «Πλήρους κλίμακας εισβολή» της Ρωσία...</td>\n      <td>24/02/2022  06:34</td>\n      <td>ΚΟΣΜΟΣ</td>\n      <td>Σε εξέλιξη είναι από τα ξημερώματα η ρωσική ει...</td>\n      <td>https://www.naftemporiki.gr//fu/p/1835600/638/...</td>\n      <td>NaN</td>\n    </tr>\n  </tbody>\n</table>\n</div>"
     },
     "execution_count": 8,
     "metadata": {},
     "output_type": "execute_result"
    }
   ],
   "source": [
    "import pandas as pd\n",
    "\n",
    "df_test = pd.read_csv('../data/raw/naftemporiki/naftemporiki-polemos-stin-oukrania.csv')\n",
    "df_test.tail(20)"
   ],
   "metadata": {
    "collapsed": false,
    "pycharm": {
     "name": "#%%\n"
    }
   }
  },
  {
   "cell_type": "code",
   "execution_count": 47,
   "outputs": [
    {
     "data": {
      "text/plain": "(17450, 7)"
     },
     "execution_count": 47,
     "metadata": {},
     "output_type": "execute_result"
    }
   ],
   "source": [
    "df_test.shape"
   ],
   "metadata": {
    "collapsed": false,
    "pycharm": {
     "name": "#%%\n"
    }
   }
  },
  {
   "cell_type": "code",
   "execution_count": 26,
   "outputs": [],
   "source": [
    "df_test['date-yolo'] =  pd.to_datetime(df_test['Date'], format=\"%Y-%m-%d\")"
   ],
   "metadata": {
    "collapsed": false,
    "pycharm": {
     "name": "#%%\n"
    }
   }
  },
  {
   "cell_type": "code",
   "execution_count": 37,
   "outputs": [
    {
     "data": {
      "text/plain": "(250, 13)"
     },
     "execution_count": 37,
     "metadata": {},
     "output_type": "execute_result"
    }
   ],
   "source": [
    "df_test.shape"
   ],
   "metadata": {
    "collapsed": false,
    "pycharm": {
     "name": "#%%\n"
    }
   }
  },
  {
   "cell_type": "code",
   "execution_count": 50,
   "outputs": [
    {
     "data": {
      "text/plain": "282895.0"
     },
     "execution_count": 50,
     "metadata": {},
     "output_type": "execute_result"
    }
   ],
   "source": [
    "df_test[~df_test['Comments Count'].isnull()]['Comments Count'].sum()"
   ],
   "metadata": {
    "collapsed": false,
    "pycharm": {
     "name": "#%%\n"
    }
   }
  },
  {
   "cell_type": "code",
   "execution_count": 58,
   "outputs": [
    {
     "data": {
      "text/plain": "   Unnamed: 0 Image Url Image Caption Image Alt                         Date  \\\n5           5       NaN           NaN       NaN  Wednesday, 23 February 2022   \n\n  Date Formatted                                            Heading  \\\n5     2022-02-23  Keir Starmer urges Boris Johnson to end ‘era o...   \n\n                                         Article Url  \\\n5  https://www.theguardian.com/politics/live/2022...   \n\n                                                Text Comments key  \\\n5  13.27PMQs – snap verdictPMQs has never been a ...     /p/knqpm   \n\n   Comments Count                                       Comments Url Thumb  \n5          7064.0  https://www.theguardian.com/politics/live/2022...   NaN  ",
      "text/html": "<div>\n<style scoped>\n    .dataframe tbody tr th:only-of-type {\n        vertical-align: middle;\n    }\n\n    .dataframe tbody tr th {\n        vertical-align: top;\n    }\n\n    .dataframe thead th {\n        text-align: right;\n    }\n</style>\n<table border=\"1\" class=\"dataframe\">\n  <thead>\n    <tr style=\"text-align: right;\">\n      <th></th>\n      <th>Unnamed: 0</th>\n      <th>Image Url</th>\n      <th>Image Caption</th>\n      <th>Image Alt</th>\n      <th>Date</th>\n      <th>Date Formatted</th>\n      <th>Heading</th>\n      <th>Article Url</th>\n      <th>Text</th>\n      <th>Comments key</th>\n      <th>Comments Count</th>\n      <th>Comments Url</th>\n      <th>Thumb</th>\n    </tr>\n  </thead>\n  <tbody>\n    <tr>\n      <th>5</th>\n      <td>5</td>\n      <td>NaN</td>\n      <td>NaN</td>\n      <td>NaN</td>\n      <td>Wednesday, 23 February 2022</td>\n      <td>2022-02-23</td>\n      <td>Keir Starmer urges Boris Johnson to end ‘era o...</td>\n      <td>https://www.theguardian.com/politics/live/2022...</td>\n      <td>13.27PMQs – snap verdictPMQs has never been a ...</td>\n      <td>/p/knqpm</td>\n      <td>7064.0</td>\n      <td>https://www.theguardian.com/politics/live/2022...</td>\n      <td>NaN</td>\n    </tr>\n  </tbody>\n</table>\n</div>"
     },
     "execution_count": 58,
     "metadata": {},
     "output_type": "execute_result"
    }
   ],
   "source": [
    "df_test[df_test['Comments key'] == '/p/knqpm']\n"
   ],
   "metadata": {
    "collapsed": false,
    "pycharm": {
     "name": "#%%\n"
    }
   }
  },
  {
   "cell_type": "code",
   "execution_count": 55,
   "outputs": [
    {
     "data": {
      "text/plain": "1     /p/kz3fp\n5     /p/knqpm\n6     /p/kz2dj\n9     /p/kzv8x\n18    /p/kzv8c\nName: Comments key, dtype: object"
     },
     "execution_count": 55,
     "metadata": {},
     "output_type": "execute_result"
    }
   ],
   "source": [
    "df_test[~df_test['Comments key'].isnull()]['Comments key'].head()\n"
   ],
   "metadata": {
    "collapsed": false,
    "pycharm": {
     "name": "#%%\n"
    }
   }
  },
  {
   "cell_type": "code",
   "execution_count": 22,
   "outputs": [
    {
     "data": {
      "text/plain": "0       Biden at the White House on Tuesday. The pres...\n1       Boris Johnson’s lies are nothing to those bei...\n2       Russia’s defence minister, Sergei Shoigu, app...\n3               Illustration: Martin Rowson/The Guardian\n4       Russia's defence minister, Sergei Shoigu, is ...\n                             ...                        \n122     Russian oligarch Roman Abramovich owns Chelse...\n123     Still from an RT broadcast as Russian troops ...\n124     Independence Square in the city formerly know...\n125     Demonstration at the Russian embassy in Warsa...\n126                                                  NaN\nName: Article Image Caption, Length: 127, dtype: object"
     },
     "execution_count": 22,
     "metadata": {},
     "output_type": "execute_result"
    }
   ],
   "source": [
    "df_test['Article Image Caption']"
   ],
   "metadata": {
    "collapsed": false,
    "pycharm": {
     "name": "#%%\n"
    }
   }
  },
  {
   "cell_type": "code",
   "execution_count": 42,
   "outputs": [
    {
     "data": {
      "text/plain": "     Unnamed: 0 Image Url Image Caption Image Alt                    Date  \\\n242         242       NaN           NaN       NaN  Thursday, 30 June 2022   \n\n    Date Formatted                                            Heading  \\\n242     2022-06-30  Putin says Russia will respond to Nato infrast...   \n\n                                           Article Url  \\\n242  https://www.theguardian.com/world/video/2022/j...   \n\n                                                  Text Comments key  \\\n242  Vladimir Putin has issued fresh warnings that ...          NaN   \n\n     Comments Count Comments Url Thumb  \n242             NaN          NaN   NaN  ",
      "text/html": "<div>\n<style scoped>\n    .dataframe tbody tr th:only-of-type {\n        vertical-align: middle;\n    }\n\n    .dataframe tbody tr th {\n        vertical-align: top;\n    }\n\n    .dataframe thead th {\n        text-align: right;\n    }\n</style>\n<table border=\"1\" class=\"dataframe\">\n  <thead>\n    <tr style=\"text-align: right;\">\n      <th></th>\n      <th>Unnamed: 0</th>\n      <th>Image Url</th>\n      <th>Image Caption</th>\n      <th>Image Alt</th>\n      <th>Date</th>\n      <th>Date Formatted</th>\n      <th>Heading</th>\n      <th>Article Url</th>\n      <th>Text</th>\n      <th>Comments key</th>\n      <th>Comments Count</th>\n      <th>Comments Url</th>\n      <th>Thumb</th>\n    </tr>\n  </thead>\n  <tbody>\n    <tr>\n      <th>242</th>\n      <td>242</td>\n      <td>NaN</td>\n      <td>NaN</td>\n      <td>NaN</td>\n      <td>Thursday, 30 June 2022</td>\n      <td>2022-06-30</td>\n      <td>Putin says Russia will respond to Nato infrast...</td>\n      <td>https://www.theguardian.com/world/video/2022/j...</td>\n      <td>Vladimir Putin has issued fresh warnings that ...</td>\n      <td>NaN</td>\n      <td>NaN</td>\n      <td>NaN</td>\n      <td>NaN</td>\n    </tr>\n  </tbody>\n</table>\n</div>"
     },
     "execution_count": 42,
     "metadata": {},
     "output_type": "execute_result"
    }
   ],
   "source": [
    "df_test[df_test['Heading'].str.contains('putin says', case=False)]"
   ],
   "metadata": {
    "collapsed": false,
    "pycharm": {
     "name": "#%%\n"
    }
   }
  },
  {
   "cell_type": "code",
   "execution_count": null,
   "outputs": [],
   "source": [],
   "metadata": {
    "collapsed": false,
    "pycharm": {
     "name": "#%%\n"
    }
   }
  }
 ],
 "metadata": {
  "kernelspec": {
   "display_name": "Python 3",
   "language": "python",
   "name": "python3"
  },
  "language_info": {
   "codemirror_mode": {
    "name": "ipython",
    "version": 2
   },
   "file_extension": ".py",
   "mimetype": "text/x-python",
   "name": "python",
   "nbconvert_exporter": "python",
   "pygments_lexer": "ipython2",
   "version": "2.7.6"
  }
 },
 "nbformat": 4,
 "nbformat_minor": 0
}