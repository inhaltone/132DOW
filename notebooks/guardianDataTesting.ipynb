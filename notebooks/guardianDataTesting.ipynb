{
 "cells": [
  {
   "cell_type": "code",
   "execution_count": 49,
   "outputs": [
    {
     "data": {
      "text/plain": "      Unnamed: 0                                          Image Url  \\\n3185        3185  https://i.guim.co.uk/img/media/caccfcef3960f63...   \n3186        3186                                                NaN   \n3187        3187  https://i.guim.co.uk/img/media/ee5a0d2ed2d4745...   \n3188        3188                                                NaN   \n3189        3189                                                NaN   \n3190        3190                                                NaN   \n3191        3191                                                NaN   \n3192        3192  https://i.guim.co.uk/img/media/f368013644df578...   \n3193        3193  https://i.guim.co.uk/img/media/6a852391cbe2cea...   \n3194        3194  https://i.guim.co.uk/img/media/4812315978a3a53...   \n3195        3195  https://i.guim.co.uk/img/media/7815d01a2f82cad...   \n3196        3196  https://i.guim.co.uk/img/media/5f8a7caf9709b97...   \n3197        3197                                                NaN   \n3198        3198                                                NaN   \n3199        3199                                                NaN   \n3200        3200  https://i.guim.co.uk/img/media/62cf40d22149cbe...   \n3201        3201  https://i.guim.co.uk/img/media/ace0b57657c2b4c...   \n3202        3202  https://i.guim.co.uk/img/media/c5bad936ecea845...   \n3203        3203  https://i.guim.co.uk/img/media/5c72467f76e71bf...   \n3204        3204  https://i.guim.co.uk/img/media/6334fb118bcb259...   \n\n                                          Image Caption  \\\n3185   The centenary celebrations will take place on...   \n3186                                                NaN   \n3187   The Sakhalin-2 project's liquefied natural ga...   \n3188                                                NaN   \n3189                                                NaN   \n3190                                                NaN   \n3191                                                NaN   \n3192   A shell crater in front of a damaged resident...   \n3193   A soldier’s family mourns at a mass funeral f...   \n3194   Plumes of smoke caused by heavy fighting in L...   \n3195   Andrew Hill and Dylan Healy. Photograph: east...   \n3196   In March, editor Marina Ovsyannikova interrup...   \n3197                                                NaN   \n3198                                                NaN   \n3199                                                NaN   \n3200   Rescue workers at an apartment block in Serhi...   \n3201   A man walks next to a crater from a missile h...   \n3202   A local resident walks in front of a crater f...   \n3203   Children play against a backdrop of destroyed...   \n3204        Illustration: Dominic McKenzie/The Observer   \n\n                                              Image Alt  \\\n3185                    A general view of Centre Court.   \n3186                                                NaN   \n3187  The Sakhalin-2 project's liquefied natural gas...   \n3188                                                NaN   \n3189                                                NaN   \n3190                                                NaN   \n3191                                                NaN   \n3192  A shell crater in front of a damaged residenti...   \n3193  A soldier’s family mourns at a mass funeral fo...   \n3194  Plumes of smoke caused by heavy fighting in Ly...   \n3195                       Andrew Hill and Dylan Healy.   \n3196  In March, editor Marina Ovsyannikova interrupt...   \n3197                                                NaN   \n3198                                                NaN   \n3199                                                NaN   \n3200  Rescue workers at an apartment block in Serhii...   \n3201  A man walks next to a crater from a missile hi...   \n3202  A local resident walks in front of a crater fr...   \n3203  Children on roundabout. Multistorey blocks in ...   \n3204                                                NaN   \n\n                       Date Date Formatted  \\\n3185    Friday, 1 July 2022     2022-07-01   \n3186    Friday, 1 July 2022     2022-07-01   \n3187    Friday, 1 July 2022     2022-07-01   \n3188    Friday, 1 July 2022     2022-07-01   \n3189    Friday, 1 July 2022     2022-07-01   \n3190    Friday, 1 July 2022     2022-07-01   \n3191    Friday, 1 July 2022     2022-07-01   \n3192    Friday, 1 July 2022     2022-07-01   \n3193  Saturday, 2 July 2022     2022-07-02   \n3194  Saturday, 2 July 2022     2022-07-02   \n3195  Saturday, 2 July 2022     2022-07-02   \n3196  Saturday, 2 July 2022     2022-07-02   \n3197  Saturday, 2 July 2022     2022-07-02   \n3198  Saturday, 2 July 2022     2022-07-02   \n3199  Saturday, 2 July 2022     2022-07-02   \n3200  Saturday, 2 July 2022     2022-07-02   \n3201    Sunday, 3 July 2022     2022-07-03   \n3202    Sunday, 3 July 2022     2022-07-03   \n3203    Sunday, 3 July 2022     2022-07-03   \n3204    Sunday, 3 July 2022     2022-07-03   \n\n                                                Heading  \\\n3185  More than 1,500 refugees invited to Wimbledon ...   \n3186  Russia-Ukraine war: what we know on day 128 of...   \n3187  Shell may have to abandon £3bn stake in Russia...   \n3188  Drone footage shows aftermath of Russian missi...   \n3189    EU flag hoisted in Ukraine's parliament – video   \n3190  Rescue operation at Odesa apartment block afte...   \n3191  'Significant' Snake Island victory changes sit...   \n3192  A new ‘iron curtain’ is descending between Rus...   \n3193  Ukrainian officials say Lysychansk remains in ...   \n3194  Russian forces increase assault on Ukrainian c...   \n3195  Two more British men captured in Ukraine could...   \n3196  Taking on Putin through porn: how Russians are...   \n3197  Volodymyr Zelenskiy condemns Russian strike on...   \n3198                      Original Observer Photography   \n3199  ‘It felt like history itself’ – 48 protest pho...   \n3200  Russia-Ukraine war: what we know on day 129 of...   \n3201  Russia-Ukraine war: ‘Many killed’ in attack on...   \n3202  Russia-Ukraine war: what we know on day 130 of...   \n3203  Medics battle relentless wave of trauma in Ukr...   \n3204  Yes, Nato has a new vitality. But its united f...   \n\n                                            Article Url  \\\n3185  https://www.theguardian.com/sport/2022/jul/01/...   \n3186  https://www.theguardian.com/world/2022/jul/01/...   \n3187  https://www.theguardian.com/business/2022/jul/...   \n3188  https://www.theguardian.com/world/video/2022/j...   \n3189  https://www.theguardian.com/world/video/2022/j...   \n3190  https://www.theguardian.com/world/video/2022/j...   \n3191  https://www.theguardian.com/world/video/2022/j...   \n3192  https://www.theguardian.com/world/live/2022/ju...   \n3193  https://www.theguardian.com/world/live/2022/ju...   \n3194  https://www.theguardian.com/world/2022/jul/02/...   \n3195  https://www.theguardian.com/world/2022/jul/02/...   \n3196  https://www.theguardian.com/commentisfree/2022...   \n3197  https://www.theguardian.com/world/video/2022/j...   \n3198  https://www.theguardian.com/artanddesign/galle...   \n3199  https://www.theguardian.com/world/2022/jul/02/...   \n3200  https://www.theguardian.com/world/2022/jul/02/...   \n3201  https://www.theguardian.com/world/live/2022/ju...   \n3202  https://www.theguardian.com/world/2022/jul/03/...   \n3203  https://www.theguardian.com/world/2022/jul/03/...   \n3204  https://www.theguardian.com/commentisfree/2022...   \n\n                                                   Text Comments key  \\\n3185  More than 1,500 refugees from Ukraine, Afghani...          NaN   \n3186  At least 19 people, including two children, ha...          NaN   \n3187  Shell could be forced to abandon a £3bn invest...          NaN   \n3188  The aftermath of a Russian missile strike on O...          NaN   \n3189  The EU's flag was hoisted in the plenary hall ...          NaN   \n3190  At least 18 people have been killed and dozens...          NaN   \n3191  Ukrainian President Volodymyr Zelenskiy hails ...          NaN   \n3192  17.43New ‘iron curtain’ already descending bet...          NaN   \n3193  14h ago00.47This blog is closed. All the Guard...          NaN   \n3194  Russian forces stepped up their assault on the...          NaN   \n3195  Two more British men who fought for the Ukrain...          NaN   \n3196  Six weeks into the invasion of her country, An...          NaN   \n3197  The Ukrainian president, Volodymyr Zekenskiy, ...          NaN   \n3198                                                NaN          NaN   \n3199  Governments tend to define democracy as narrow...          NaN   \n3200  Powerful explosions shook Ukraine’s southern c...          NaN   \n3201  13.44'Many killed' in attack on eastern Ukrain...          NaN   \n3202  Russia claims it has taken full control of Lys...          NaN   \n3203  Ludmilla Boiko can’t sleep. Every night, befor...          NaN   \n3204  Most summits bill themselves as “historic” and...          NaN   \n\n      Comments Count Comments Url  \\\n3185             NaN          NaN   \n3186             NaN          NaN   \n3187             NaN          NaN   \n3188             NaN          NaN   \n3189             NaN          NaN   \n3190             NaN          NaN   \n3191             NaN          NaN   \n3192             NaN          NaN   \n3193             NaN          NaN   \n3194             NaN          NaN   \n3195             NaN          NaN   \n3196             NaN          NaN   \n3197             NaN          NaN   \n3198             NaN          NaN   \n3199             NaN          NaN   \n3200             NaN          NaN   \n3201             NaN          NaN   \n3202             NaN          NaN   \n3203             NaN          NaN   \n3204             NaN          NaN   \n\n                                                  Thumb  \n3185                                                NaN  \n3186                                                NaN  \n3187                                                NaN  \n3188                                                NaN  \n3189                                                NaN  \n3190                                                NaN  \n3191                                                NaN  \n3192                                                NaN  \n3193  https://i.guim.co.uk/img/media/6a852391cbe2cea...  \n3194  https://i.guim.co.uk/img/media/4812315978a3a53...  \n3195  https://i.guim.co.uk/img/media/7815d01a2f82cad...  \n3196  https://i.guim.co.uk/img/media/5f8a7caf9709b97...  \n3197                                                NaN  \n3198                                                NaN  \n3199                                                NaN  \n3200                                                NaN  \n3201  https://i.guim.co.uk/img/media/ace0b57657c2b4c...  \n3202  https://i.guim.co.uk/img/media/c5bad936ecea845...  \n3203  https://i.guim.co.uk/img/media/5c72467f76e71bf...  \n3204  https://i.guim.co.uk/img/media/6334fb118bcb259...  ",
      "text/html": "<div>\n<style scoped>\n    .dataframe tbody tr th:only-of-type {\n        vertical-align: middle;\n    }\n\n    .dataframe tbody tr th {\n        vertical-align: top;\n    }\n\n    .dataframe thead th {\n        text-align: right;\n    }\n</style>\n<table border=\"1\" class=\"dataframe\">\n  <thead>\n    <tr style=\"text-align: right;\">\n      <th></th>\n      <th>Unnamed: 0</th>\n      <th>Image Url</th>\n      <th>Image Caption</th>\n      <th>Image Alt</th>\n      <th>Date</th>\n      <th>Date Formatted</th>\n      <th>Heading</th>\n      <th>Article Url</th>\n      <th>Text</th>\n      <th>Comments key</th>\n      <th>Comments Count</th>\n      <th>Comments Url</th>\n      <th>Thumb</th>\n    </tr>\n  </thead>\n  <tbody>\n    <tr>\n      <th>3185</th>\n      <td>3185</td>\n      <td>https://i.guim.co.uk/img/media/caccfcef3960f63...</td>\n      <td>The centenary celebrations will take place on...</td>\n      <td>A general view of Centre Court.</td>\n      <td>Friday, 1 July 2022</td>\n      <td>2022-07-01</td>\n      <td>More than 1,500 refugees invited to Wimbledon ...</td>\n      <td>https://www.theguardian.com/sport/2022/jul/01/...</td>\n      <td>More than 1,500 refugees from Ukraine, Afghani...</td>\n      <td>NaN</td>\n      <td>NaN</td>\n      <td>NaN</td>\n      <td>NaN</td>\n    </tr>\n    <tr>\n      <th>3186</th>\n      <td>3186</td>\n      <td>NaN</td>\n      <td>NaN</td>\n      <td>NaN</td>\n      <td>Friday, 1 July 2022</td>\n      <td>2022-07-01</td>\n      <td>Russia-Ukraine war: what we know on day 128 of...</td>\n      <td>https://www.theguardian.com/world/2022/jul/01/...</td>\n      <td>At least 19 people, including two children, ha...</td>\n      <td>NaN</td>\n      <td>NaN</td>\n      <td>NaN</td>\n      <td>NaN</td>\n    </tr>\n    <tr>\n      <th>3187</th>\n      <td>3187</td>\n      <td>https://i.guim.co.uk/img/media/ee5a0d2ed2d4745...</td>\n      <td>The Sakhalin-2 project's liquefied natural ga...</td>\n      <td>The Sakhalin-2 project's liquefied natural gas...</td>\n      <td>Friday, 1 July 2022</td>\n      <td>2022-07-01</td>\n      <td>Shell may have to abandon £3bn stake in Russia...</td>\n      <td>https://www.theguardian.com/business/2022/jul/...</td>\n      <td>Shell could be forced to abandon a £3bn invest...</td>\n      <td>NaN</td>\n      <td>NaN</td>\n      <td>NaN</td>\n      <td>NaN</td>\n    </tr>\n    <tr>\n      <th>3188</th>\n      <td>3188</td>\n      <td>NaN</td>\n      <td>NaN</td>\n      <td>NaN</td>\n      <td>Friday, 1 July 2022</td>\n      <td>2022-07-01</td>\n      <td>Drone footage shows aftermath of Russian missi...</td>\n      <td>https://www.theguardian.com/world/video/2022/j...</td>\n      <td>The aftermath of a Russian missile strike on O...</td>\n      <td>NaN</td>\n      <td>NaN</td>\n      <td>NaN</td>\n      <td>NaN</td>\n    </tr>\n    <tr>\n      <th>3189</th>\n      <td>3189</td>\n      <td>NaN</td>\n      <td>NaN</td>\n      <td>NaN</td>\n      <td>Friday, 1 July 2022</td>\n      <td>2022-07-01</td>\n      <td>EU flag hoisted in Ukraine's parliament – video</td>\n      <td>https://www.theguardian.com/world/video/2022/j...</td>\n      <td>The EU's flag was hoisted in the plenary hall ...</td>\n      <td>NaN</td>\n      <td>NaN</td>\n      <td>NaN</td>\n      <td>NaN</td>\n    </tr>\n    <tr>\n      <th>3190</th>\n      <td>3190</td>\n      <td>NaN</td>\n      <td>NaN</td>\n      <td>NaN</td>\n      <td>Friday, 1 July 2022</td>\n      <td>2022-07-01</td>\n      <td>Rescue operation at Odesa apartment block afte...</td>\n      <td>https://www.theguardian.com/world/video/2022/j...</td>\n      <td>At least 18 people have been killed and dozens...</td>\n      <td>NaN</td>\n      <td>NaN</td>\n      <td>NaN</td>\n      <td>NaN</td>\n    </tr>\n    <tr>\n      <th>3191</th>\n      <td>3191</td>\n      <td>NaN</td>\n      <td>NaN</td>\n      <td>NaN</td>\n      <td>Friday, 1 July 2022</td>\n      <td>2022-07-01</td>\n      <td>'Significant' Snake Island victory changes sit...</td>\n      <td>https://www.theguardian.com/world/video/2022/j...</td>\n      <td>Ukrainian President Volodymyr Zelenskiy hails ...</td>\n      <td>NaN</td>\n      <td>NaN</td>\n      <td>NaN</td>\n      <td>NaN</td>\n    </tr>\n    <tr>\n      <th>3192</th>\n      <td>3192</td>\n      <td>https://i.guim.co.uk/img/media/f368013644df578...</td>\n      <td>A shell crater in front of a damaged resident...</td>\n      <td>A shell crater in front of a damaged residenti...</td>\n      <td>Friday, 1 July 2022</td>\n      <td>2022-07-01</td>\n      <td>A new ‘iron curtain’ is descending between Rus...</td>\n      <td>https://www.theguardian.com/world/live/2022/ju...</td>\n      <td>17.43New ‘iron curtain’ already descending bet...</td>\n      <td>NaN</td>\n      <td>NaN</td>\n      <td>NaN</td>\n      <td>NaN</td>\n    </tr>\n    <tr>\n      <th>3193</th>\n      <td>3193</td>\n      <td>https://i.guim.co.uk/img/media/6a852391cbe2cea...</td>\n      <td>A soldier’s family mourns at a mass funeral f...</td>\n      <td>A soldier’s family mourns at a mass funeral fo...</td>\n      <td>Saturday, 2 July 2022</td>\n      <td>2022-07-02</td>\n      <td>Ukrainian officials say Lysychansk remains in ...</td>\n      <td>https://www.theguardian.com/world/live/2022/ju...</td>\n      <td>14h ago00.47This blog is closed. All the Guard...</td>\n      <td>NaN</td>\n      <td>NaN</td>\n      <td>NaN</td>\n      <td>https://i.guim.co.uk/img/media/6a852391cbe2cea...</td>\n    </tr>\n    <tr>\n      <th>3194</th>\n      <td>3194</td>\n      <td>https://i.guim.co.uk/img/media/4812315978a3a53...</td>\n      <td>Plumes of smoke caused by heavy fighting in L...</td>\n      <td>Plumes of smoke caused by heavy fighting in Ly...</td>\n      <td>Saturday, 2 July 2022</td>\n      <td>2022-07-02</td>\n      <td>Russian forces increase assault on Ukrainian c...</td>\n      <td>https://www.theguardian.com/world/2022/jul/02/...</td>\n      <td>Russian forces stepped up their assault on the...</td>\n      <td>NaN</td>\n      <td>NaN</td>\n      <td>NaN</td>\n      <td>https://i.guim.co.uk/img/media/4812315978a3a53...</td>\n    </tr>\n    <tr>\n      <th>3195</th>\n      <td>3195</td>\n      <td>https://i.guim.co.uk/img/media/7815d01a2f82cad...</td>\n      <td>Andrew Hill and Dylan Healy. Photograph: east...</td>\n      <td>Andrew Hill and Dylan Healy.</td>\n      <td>Saturday, 2 July 2022</td>\n      <td>2022-07-02</td>\n      <td>Two more British men captured in Ukraine could...</td>\n      <td>https://www.theguardian.com/world/2022/jul/02/...</td>\n      <td>Two more British men who fought for the Ukrain...</td>\n      <td>NaN</td>\n      <td>NaN</td>\n      <td>NaN</td>\n      <td>https://i.guim.co.uk/img/media/7815d01a2f82cad...</td>\n    </tr>\n    <tr>\n      <th>3196</th>\n      <td>3196</td>\n      <td>https://i.guim.co.uk/img/media/5f8a7caf9709b97...</td>\n      <td>In March, editor Marina Ovsyannikova interrup...</td>\n      <td>In March, editor Marina Ovsyannikova interrupt...</td>\n      <td>Saturday, 2 July 2022</td>\n      <td>2022-07-02</td>\n      <td>Taking on Putin through porn: how Russians are...</td>\n      <td>https://www.theguardian.com/commentisfree/2022...</td>\n      <td>Six weeks into the invasion of her country, An...</td>\n      <td>NaN</td>\n      <td>NaN</td>\n      <td>NaN</td>\n      <td>https://i.guim.co.uk/img/media/5f8a7caf9709b97...</td>\n    </tr>\n    <tr>\n      <th>3197</th>\n      <td>3197</td>\n      <td>NaN</td>\n      <td>NaN</td>\n      <td>NaN</td>\n      <td>Saturday, 2 July 2022</td>\n      <td>2022-07-02</td>\n      <td>Volodymyr Zelenskiy condemns Russian strike on...</td>\n      <td>https://www.theguardian.com/world/video/2022/j...</td>\n      <td>The Ukrainian president, Volodymyr Zekenskiy, ...</td>\n      <td>NaN</td>\n      <td>NaN</td>\n      <td>NaN</td>\n      <td>NaN</td>\n    </tr>\n    <tr>\n      <th>3198</th>\n      <td>3198</td>\n      <td>NaN</td>\n      <td>NaN</td>\n      <td>NaN</td>\n      <td>Saturday, 2 July 2022</td>\n      <td>2022-07-02</td>\n      <td>Original Observer Photography</td>\n      <td>https://www.theguardian.com/artanddesign/galle...</td>\n      <td>NaN</td>\n      <td>NaN</td>\n      <td>NaN</td>\n      <td>NaN</td>\n      <td>NaN</td>\n    </tr>\n    <tr>\n      <th>3199</th>\n      <td>3199</td>\n      <td>NaN</td>\n      <td>NaN</td>\n      <td>NaN</td>\n      <td>Saturday, 2 July 2022</td>\n      <td>2022-07-02</td>\n      <td>‘It felt like history itself’ – 48 protest pho...</td>\n      <td>https://www.theguardian.com/world/2022/jul/02/...</td>\n      <td>Governments tend to define democracy as narrow...</td>\n      <td>NaN</td>\n      <td>NaN</td>\n      <td>NaN</td>\n      <td>NaN</td>\n    </tr>\n    <tr>\n      <th>3200</th>\n      <td>3200</td>\n      <td>https://i.guim.co.uk/img/media/62cf40d22149cbe...</td>\n      <td>Rescue workers at an apartment block in Serhi...</td>\n      <td>Rescue workers at an apartment block in Serhii...</td>\n      <td>Saturday, 2 July 2022</td>\n      <td>2022-07-02</td>\n      <td>Russia-Ukraine war: what we know on day 129 of...</td>\n      <td>https://www.theguardian.com/world/2022/jul/02/...</td>\n      <td>Powerful explosions shook Ukraine’s southern c...</td>\n      <td>NaN</td>\n      <td>NaN</td>\n      <td>NaN</td>\n      <td>NaN</td>\n    </tr>\n    <tr>\n      <th>3201</th>\n      <td>3201</td>\n      <td>https://i.guim.co.uk/img/media/ace0b57657c2b4c...</td>\n      <td>A man walks next to a crater from a missile h...</td>\n      <td>A man walks next to a crater from a missile hi...</td>\n      <td>Sunday, 3 July 2022</td>\n      <td>2022-07-03</td>\n      <td>Russia-Ukraine war: ‘Many killed’ in attack on...</td>\n      <td>https://www.theguardian.com/world/live/2022/ju...</td>\n      <td>13.44'Many killed' in attack on eastern Ukrain...</td>\n      <td>NaN</td>\n      <td>NaN</td>\n      <td>NaN</td>\n      <td>https://i.guim.co.uk/img/media/ace0b57657c2b4c...</td>\n    </tr>\n    <tr>\n      <th>3202</th>\n      <td>3202</td>\n      <td>https://i.guim.co.uk/img/media/c5bad936ecea845...</td>\n      <td>A local resident walks in front of a crater f...</td>\n      <td>A local resident walks in front of a crater fr...</td>\n      <td>Sunday, 3 July 2022</td>\n      <td>2022-07-03</td>\n      <td>Russia-Ukraine war: what we know on day 130 of...</td>\n      <td>https://www.theguardian.com/world/2022/jul/03/...</td>\n      <td>Russia claims it has taken full control of Lys...</td>\n      <td>NaN</td>\n      <td>NaN</td>\n      <td>NaN</td>\n      <td>https://i.guim.co.uk/img/media/c5bad936ecea845...</td>\n    </tr>\n    <tr>\n      <th>3203</th>\n      <td>3203</td>\n      <td>https://i.guim.co.uk/img/media/5c72467f76e71bf...</td>\n      <td>Children play against a backdrop of destroyed...</td>\n      <td>Children on roundabout. Multistorey blocks in ...</td>\n      <td>Sunday, 3 July 2022</td>\n      <td>2022-07-03</td>\n      <td>Medics battle relentless wave of trauma in Ukr...</td>\n      <td>https://www.theguardian.com/world/2022/jul/03/...</td>\n      <td>Ludmilla Boiko can’t sleep. Every night, befor...</td>\n      <td>NaN</td>\n      <td>NaN</td>\n      <td>NaN</td>\n      <td>https://i.guim.co.uk/img/media/5c72467f76e71bf...</td>\n    </tr>\n    <tr>\n      <th>3204</th>\n      <td>3204</td>\n      <td>https://i.guim.co.uk/img/media/6334fb118bcb259...</td>\n      <td>Illustration: Dominic McKenzie/The Observer</td>\n      <td>NaN</td>\n      <td>Sunday, 3 July 2022</td>\n      <td>2022-07-03</td>\n      <td>Yes, Nato has a new vitality. But its united f...</td>\n      <td>https://www.theguardian.com/commentisfree/2022...</td>\n      <td>Most summits bill themselves as “historic” and...</td>\n      <td>NaN</td>\n      <td>NaN</td>\n      <td>NaN</td>\n      <td>https://i.guim.co.uk/img/media/6334fb118bcb259...</td>\n    </tr>\n  </tbody>\n</table>\n</div>"
     },
     "execution_count": 49,
     "metadata": {},
     "output_type": "execute_result"
    }
   ],
   "source": [
    "import pandas as pd\n",
    "\n",
    "df_test = pd.read_csv('../data/raw/guardian/guard-articles-ukraine.csv')\n",
    "df_test.tail(20)"
   ],
   "metadata": {
    "collapsed": false,
    "pycharm": {
     "name": "#%%\n"
    }
   }
  },
  {
   "cell_type": "code",
   "execution_count": 47,
   "outputs": [
    {
     "data": {
      "text/plain": "(17450, 7)"
     },
     "execution_count": 47,
     "metadata": {},
     "output_type": "execute_result"
    }
   ],
   "source": [
    "df_test.shape"
   ],
   "metadata": {
    "collapsed": false,
    "pycharm": {
     "name": "#%%\n"
    }
   }
  },
  {
   "cell_type": "code",
   "execution_count": 26,
   "outputs": [],
   "source": [
    "df_test['date-yolo'] =  pd.to_datetime(df_test['Date'], format=\"%Y-%m-%d\")"
   ],
   "metadata": {
    "collapsed": false,
    "pycharm": {
     "name": "#%%\n"
    }
   }
  },
  {
   "cell_type": "code",
   "execution_count": 37,
   "outputs": [
    {
     "data": {
      "text/plain": "(250, 13)"
     },
     "execution_count": 37,
     "metadata": {},
     "output_type": "execute_result"
    }
   ],
   "source": [
    "df_test.shape"
   ],
   "metadata": {
    "collapsed": false,
    "pycharm": {
     "name": "#%%\n"
    }
   }
  },
  {
   "cell_type": "code",
   "execution_count": 50,
   "outputs": [
    {
     "data": {
      "text/plain": "282895.0"
     },
     "execution_count": 50,
     "metadata": {},
     "output_type": "execute_result"
    }
   ],
   "source": [
    "df_test[~df_test['Comments Count'].isnull()]['Comments Count'].sum()"
   ],
   "metadata": {
    "collapsed": false,
    "pycharm": {
     "name": "#%%\n"
    }
   }
  },
  {
   "cell_type": "code",
   "execution_count": 58,
   "outputs": [
    {
     "data": {
      "text/plain": "   Unnamed: 0 Image Url Image Caption Image Alt                         Date  \\\n5           5       NaN           NaN       NaN  Wednesday, 23 February 2022   \n\n  Date Formatted                                            Heading  \\\n5     2022-02-23  Keir Starmer urges Boris Johnson to end ‘era o...   \n\n                                         Article Url  \\\n5  https://www.theguardian.com/politics/live/2022...   \n\n                                                Text Comments key  \\\n5  13.27PMQs – snap verdictPMQs has never been a ...     /p/knqpm   \n\n   Comments Count                                       Comments Url Thumb  \n5          7064.0  https://www.theguardian.com/politics/live/2022...   NaN  ",
      "text/html": "<div>\n<style scoped>\n    .dataframe tbody tr th:only-of-type {\n        vertical-align: middle;\n    }\n\n    .dataframe tbody tr th {\n        vertical-align: top;\n    }\n\n    .dataframe thead th {\n        text-align: right;\n    }\n</style>\n<table border=\"1\" class=\"dataframe\">\n  <thead>\n    <tr style=\"text-align: right;\">\n      <th></th>\n      <th>Unnamed: 0</th>\n      <th>Image Url</th>\n      <th>Image Caption</th>\n      <th>Image Alt</th>\n      <th>Date</th>\n      <th>Date Formatted</th>\n      <th>Heading</th>\n      <th>Article Url</th>\n      <th>Text</th>\n      <th>Comments key</th>\n      <th>Comments Count</th>\n      <th>Comments Url</th>\n      <th>Thumb</th>\n    </tr>\n  </thead>\n  <tbody>\n    <tr>\n      <th>5</th>\n      <td>5</td>\n      <td>NaN</td>\n      <td>NaN</td>\n      <td>NaN</td>\n      <td>Wednesday, 23 February 2022</td>\n      <td>2022-02-23</td>\n      <td>Keir Starmer urges Boris Johnson to end ‘era o...</td>\n      <td>https://www.theguardian.com/politics/live/2022...</td>\n      <td>13.27PMQs – snap verdictPMQs has never been a ...</td>\n      <td>/p/knqpm</td>\n      <td>7064.0</td>\n      <td>https://www.theguardian.com/politics/live/2022...</td>\n      <td>NaN</td>\n    </tr>\n  </tbody>\n</table>\n</div>"
     },
     "execution_count": 58,
     "metadata": {},
     "output_type": "execute_result"
    }
   ],
   "source": [
    "df_test[df_test['Comments key'] == '/p/knqpm']\n"
   ],
   "metadata": {
    "collapsed": false,
    "pycharm": {
     "name": "#%%\n"
    }
   }
  },
  {
   "cell_type": "code",
   "execution_count": 55,
   "outputs": [
    {
     "data": {
      "text/plain": "1     /p/kz3fp\n5     /p/knqpm\n6     /p/kz2dj\n9     /p/kzv8x\n18    /p/kzv8c\nName: Comments key, dtype: object"
     },
     "execution_count": 55,
     "metadata": {},
     "output_type": "execute_result"
    }
   ],
   "source": [
    "df_test[~df_test['Comments key'].isnull()]['Comments key'].head()\n"
   ],
   "metadata": {
    "collapsed": false,
    "pycharm": {
     "name": "#%%\n"
    }
   }
  },
  {
   "cell_type": "code",
   "execution_count": 22,
   "outputs": [
    {
     "data": {
      "text/plain": "0       Biden at the White House on Tuesday. The pres...\n1       Boris Johnson’s lies are nothing to those bei...\n2       Russia’s defence minister, Sergei Shoigu, app...\n3               Illustration: Martin Rowson/The Guardian\n4       Russia's defence minister, Sergei Shoigu, is ...\n                             ...                        \n122     Russian oligarch Roman Abramovich owns Chelse...\n123     Still from an RT broadcast as Russian troops ...\n124     Independence Square in the city formerly know...\n125     Demonstration at the Russian embassy in Warsa...\n126                                                  NaN\nName: Article Image Caption, Length: 127, dtype: object"
     },
     "execution_count": 22,
     "metadata": {},
     "output_type": "execute_result"
    }
   ],
   "source": [
    "df_test['Article Image Caption']"
   ],
   "metadata": {
    "collapsed": false,
    "pycharm": {
     "name": "#%%\n"
    }
   }
  },
  {
   "cell_type": "code",
   "execution_count": 42,
   "outputs": [
    {
     "data": {
      "text/plain": "     Unnamed: 0 Image Url Image Caption Image Alt                    Date  \\\n242         242       NaN           NaN       NaN  Thursday, 30 June 2022   \n\n    Date Formatted                                            Heading  \\\n242     2022-06-30  Putin says Russia will respond to Nato infrast...   \n\n                                           Article Url  \\\n242  https://www.theguardian.com/world/video/2022/j...   \n\n                                                  Text Comments key  \\\n242  Vladimir Putin has issued fresh warnings that ...          NaN   \n\n     Comments Count Comments Url Thumb  \n242             NaN          NaN   NaN  ",
      "text/html": "<div>\n<style scoped>\n    .dataframe tbody tr th:only-of-type {\n        vertical-align: middle;\n    }\n\n    .dataframe tbody tr th {\n        vertical-align: top;\n    }\n\n    .dataframe thead th {\n        text-align: right;\n    }\n</style>\n<table border=\"1\" class=\"dataframe\">\n  <thead>\n    <tr style=\"text-align: right;\">\n      <th></th>\n      <th>Unnamed: 0</th>\n      <th>Image Url</th>\n      <th>Image Caption</th>\n      <th>Image Alt</th>\n      <th>Date</th>\n      <th>Date Formatted</th>\n      <th>Heading</th>\n      <th>Article Url</th>\n      <th>Text</th>\n      <th>Comments key</th>\n      <th>Comments Count</th>\n      <th>Comments Url</th>\n      <th>Thumb</th>\n    </tr>\n  </thead>\n  <tbody>\n    <tr>\n      <th>242</th>\n      <td>242</td>\n      <td>NaN</td>\n      <td>NaN</td>\n      <td>NaN</td>\n      <td>Thursday, 30 June 2022</td>\n      <td>2022-06-30</td>\n      <td>Putin says Russia will respond to Nato infrast...</td>\n      <td>https://www.theguardian.com/world/video/2022/j...</td>\n      <td>Vladimir Putin has issued fresh warnings that ...</td>\n      <td>NaN</td>\n      <td>NaN</td>\n      <td>NaN</td>\n      <td>NaN</td>\n    </tr>\n  </tbody>\n</table>\n</div>"
     },
     "execution_count": 42,
     "metadata": {},
     "output_type": "execute_result"
    }
   ],
   "source": [
    "df_test[df_test['Heading'].str.contains('putin says', case=False)]"
   ],
   "metadata": {
    "collapsed": false,
    "pycharm": {
     "name": "#%%\n"
    }
   }
  },
  {
   "cell_type": "code",
   "execution_count": null,
   "outputs": [],
   "source": [],
   "metadata": {
    "collapsed": false,
    "pycharm": {
     "name": "#%%\n"
    }
   }
  }
 ],
 "metadata": {
  "kernelspec": {
   "display_name": "Python 3",
   "language": "python",
   "name": "python3"
  },
  "language_info": {
   "codemirror_mode": {
    "name": "ipython",
    "version": 2
   },
   "file_extension": ".py",
   "mimetype": "text/x-python",
   "name": "python",
   "nbconvert_exporter": "python",
   "pygments_lexer": "ipython2",
   "version": "2.7.6"
  }
 },
 "nbformat": 4,
 "nbformat_minor": 0
}