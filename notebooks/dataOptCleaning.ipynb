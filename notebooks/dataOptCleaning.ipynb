{
 "cells": [
  {
   "cell_type": "code",
   "execution_count": 423,
   "outputs": [],
   "source": [
    "import pandas as pd\n",
    "\n",
    "war_df = pd.read_csv('../data/processed/war-ukraine-merged-nan.csv', index_col=[0])"
   ],
   "metadata": {
    "collapsed": false,
    "pycharm": {
     "name": "#%%\n"
    }
   }
  },
  {
   "cell_type": "code",
   "execution_count": 424,
   "outputs": [
    {
     "data": {
      "text/plain": "          Publisher Date Formatted Lang  \\\n13676  THE GUARDIAN     29-06-2022   en   \n13677  THE GUARDIAN     29-06-2022   en   \n13678  THE GUARDIAN     29-06-2022   en   \n13679  THE GUARDIAN     29-06-2022   en   \n13680  THE GUARDIAN     29-06-2022   en   \n13681  THE GUARDIAN     29-06-2022   en   \n13682  THE GUARDIAN     29-06-2022   en   \n13683  THE GUARDIAN     29-06-2022   en   \n13684  THE GUARDIAN     29-06-2022   en   \n13685  THE GUARDIAN     29-06-2022   en   \n13686  THE GUARDIAN     29-06-2022   en   \n13687  THE GUARDIAN     29-06-2022   en   \n13688  THE GUARDIAN     29-06-2022   en   \n13689  THE GUARDIAN     29-06-2022   en   \n13690  THE GUARDIAN     30-06-2022   en   \n13691  THE GUARDIAN     30-06-2022   en   \n13692  THE GUARDIAN     30-06-2022   en   \n13693  THE GUARDIAN     30-06-2022   en   \n13694  THE GUARDIAN     30-06-2022   en   \n13695  THE GUARDIAN     30-06-2022   en   \n13696  THE GUARDIAN     30-06-2022   en   \n13697  THE GUARDIAN     30-06-2022   en   \n13698  THE GUARDIAN     30-06-2022   en   \n13699  THE GUARDIAN     30-06-2022   en   \n13700  THE GUARDIAN     30-06-2022   en   \n13701  THE GUARDIAN     30-06-2022   en   \n13702  THE GUARDIAN     30-06-2022   en   \n13703  THE GUARDIAN     30-06-2022   en   \n13704  THE GUARDIAN     30-06-2022   en   \n13705  THE GUARDIAN     30-06-2022   en   \n13706  THE GUARDIAN     30-06-2022   en   \n13707  THE GUARDIAN     30-06-2022   en   \n13708  THE GUARDIAN     30-06-2022   en   \n13709  THE GUARDIAN     01-07-2022   en   \n13710  THE GUARDIAN     01-07-2022   en   \n13711  THE GUARDIAN     01-07-2022   en   \n13712  THE GUARDIAN     01-07-2022   en   \n13713  THE GUARDIAN     01-07-2022   en   \n13714  THE GUARDIAN     01-07-2022   en   \n13715  THE GUARDIAN     01-07-2022   en   \n13716  THE GUARDIAN     01-07-2022   en   \n13717  THE GUARDIAN     01-07-2022   en   \n13718  THE GUARDIAN     01-07-2022   en   \n13719  THE GUARDIAN     01-07-2022   en   \n13720  THE GUARDIAN     01-07-2022   en   \n13721  THE GUARDIAN     01-07-2022   en   \n13722  THE GUARDIAN     01-07-2022   en   \n13723  THE GUARDIAN     01-07-2022   en   \n13724  THE GUARDIAN     02-07-2022   en   \n13725  THE GUARDIAN     02-07-2022   en   \n13726  THE GUARDIAN     02-07-2022   en   \n13727  THE GUARDIAN     02-07-2022   en   \n13728  THE GUARDIAN     02-07-2022   en   \n13729  THE GUARDIAN     02-07-2022   en   \n13730  THE GUARDIAN     02-07-2022   en   \n13731  THE GUARDIAN     02-07-2022   en   \n13732  THE GUARDIAN     03-07-2022   en   \n13733  THE GUARDIAN     03-07-2022   en   \n13734  THE GUARDIAN     03-07-2022   en   \n13735  THE GUARDIAN     03-07-2022   en   \n\n                                                 Heading            Tag  \\\n13676  The Guardian view on Boris Johnson abroad: mor...  COMMENTISFREE   \n13677  Tsurenko wins all-Ukraine match and backs Wimb...          SPORT   \n13678  Evidence contradicts Russian claims about Krem...          WORLD   \n13679  Ukrainian villages ‘wiped from face of earth’ ...          WORLD   \n13680  Britain to commit 1,000 extra troops to Nato’s...        UK NEWS   \n13681  No 10 staff will be able to give evidence conf...       POLITICS   \n13682  Britain may stop supplying gas to mainland Eur...       BUSINESS   \n13683  Russia-Ukraine war: what we know on day 126 of...          WORLD   \n13684  Zelenskiy releases footage of 'deliberate' Rus...          WORLD   \n13685  UK imposes sanctions against ‘Nickel King’, Ru...          WORLD   \n13686  Finland and Sweden to join Nato 'as quickly as...          WORLD   \n13687  Zelensky: A Biography; Putin: His Life and Tim...          BOOKS   \n13688  A Ukraine reboot / Liberty, undone: Inside the...           NEWS   \n13689           Ukraine: counting the cost of a long war           NEWS   \n13690  ‘I was praying: don’t let anybody kill me’ – O...          SPORT   \n13691  Boris Johnson faces tax questions after signal...       POLITICS   \n13692  Lewis Hamilton condemns Ecclestone’s comments ...          SPORT   \n13693  Calls for more funding for English classes for...          WORLD   \n13694  The Guardian view on the Nato summit: new role...  COMMENTISFREE   \n13695  What did the G7 and Nato summits really mean f...          WORLD   \n13696  Nato will stick with Ukraine as long as it tak...          WORLD   \n13697  Boris Johnson’s new ‘golden rule’: the bunker ...       POLITICS   \n13698  Boris Johnson says UK defence spending set to ...       POLITICS   \n13699  Ukraine pushes Russian forces from strategic S...          WORLD   \n13700  Putin’s war is also a crime – the world must p...  COMMENTISFREE   \n13701  Russia-Ukraine war: what we know on day 127 of...          WORLD   \n13702  ‘Even under war, we must live’: the Kyiv art s...          MUSIC   \n13703  Boris Johnson pledges to increase defence spen...       POLITICS   \n13704  Putin says G7 leaders undressing would be a 'd...          WORLD   \n13705     Nato 2022 Madrid summit: what has been agreed?          WORLD   \n13706  ‘I’m a little surprised’: Nato summit venue in...          WORLD   \n13707  Liz Truss defends plans to cut British army by...       POLITICS   \n13708  Captured US veteran told mom captors were ‘anx...        US NEWS   \n13709  Two more Britons captured in Ukraine could fac...        UK NEWS   \n13710  What happened in the Russia-Ukraine war this w...          WORLD   \n13711  Ukrainian borscht recognised by Unesco with en...          WORLD   \n13712  The Guardian view on Biden’s risky gamble: bet...  COMMENTISFREE   \n13713  Russian missile strikes on town near Odesa kil...          WORLD   \n13714  The informal volunteer groups leading Ukraine’...          WORLD   \n13715  Moscow forcing teachers in occupied Ukraine to...          WORLD   \n13716  More than 1,500 refugees invited to Wimbledon ...          SPORT   \n13717  Russia-Ukraine war: what we know on day 128 of...          WORLD   \n13718  Shell may have to abandon £3bn stake in Russia...       BUSINESS   \n13719  Drone footage shows aftermath of Russian missi...          WORLD   \n13720    EU flag hoisted in Ukraine's parliament – video          WORLD   \n13721  Rescue operation at Odesa apartment block afte...          WORLD   \n13722  'Significant' Snake Island victory changes sit...          WORLD   \n13723  A new ‘iron curtain’ is descending between Rus...          WORLD   \n13724  Ukrainian officials say Lysychansk remains in ...          WORLD   \n13725  Russian forces increase assault on Ukrainian c...          WORLD   \n13726  Two more British men captured in Ukraine could...          WORLD   \n13727  Taking on Putin through porn: how Russians are...  COMMENTISFREE   \n13728  Volodymyr Zelenskiy condemns Russian strike on...          WORLD   \n13729                      Original Observer Photography   ARTANDDESIGN   \n13730  ‘It felt like history itself’ – 48 protest pho...          WORLD   \n13731  Russia-Ukraine war: what we know on day 129 of...          WORLD   \n13732  Russia-Ukraine war: ‘Many killed’ in attack on...          WORLD   \n13733  Russia-Ukraine war: what we know on day 130 of...          WORLD   \n13734  Medics battle relentless wave of trauma in Ukr...          WORLD   \n13735  Yes, Nato has a new vitality. But its united f...  COMMENTISFREE   \n\n                                                    Text  Comments exist  \\\n13676  Boris Johnson’s domestic troubles are so relen...            True   \n13677  The Ukrainian tennis player Lesia Tsurenko sai...           False   \n13678  First-hand accounts from survivors and expert ...           False   \n13679  Russian missiles continued to rain down on Ukr...           False   \n13680  Britain will commit an extra 1,000 troops and ...           False   \n13681  14.54No 10 staff will be able to give evidence...            True   \n13682  Britain may stop supplying gas to mainland Eur...           False   \n13683  Nato leaders have announced a new “strategic c...           False   \n13684  Ukraine's president has shared CCTV footage of...           False   \n13685  Vladimir Potanin, known as the “Nickel King” a...           False   \n13686  A last-minute agreement has been reached betwe...           False   \n13687  Volodymyr Zelenskiy is perhaps the closest thi...           False   \n13688  The Guardian Weekly has a split cover focus th...           False   \n13689                                                NaN           False   \n13690  Oleksandr Usyk, the IBF, WBA and WBO world hea...           False   \n13691  Boris Johnson has signalled a significant incr...           False   \n13692  Lewis Hamilton has condemned the former Formul...           False   \n13693  Language schools and community groups have cal...           False   \n13694  After the fall of the Berlin Wall, the North A...            True   \n13695  Over five days, the leaders of the G7 and Nato...           False   \n13696  Joe Biden has declared that the US and Nato al...           False   \n13697  It began last Sunday when Boris Johnson, newly...           False   \n13698  12.48Johnson says defence spending set to rise...            True   \n13699  Ukrainian forces have pushed Russian forces fr...           False   \n13700  As I write, rescuers are still searching the r...            True   \n13701  Ukraine’s armed forces claim to have expelled ...           False   \n13702  Nestled in a peaceful green dell, hidden benea...           False   \n13703  Speaking at the Nato conference in Madrid, the...           False   \n13704  Vladimir Putin says the G7 leaders would be a ...           False   \n13705  At the Nato summit in Madrid this week sweepin...           False   \n13706  As Nato leaders gather in Madrid for a summit ...           False   \n13707  Liz Truss has defended plans to cut the Britis...           False   \n13708  An Alabama army veteran who was captured in Uk...           False   \n13709  Two more Britons held by Russian proxies in ea...           False   \n13710  Every week we wrap up the must-reads from our ...           False   \n13711  The UN’s cultural body has added the cooking o...           False   \n13712  Joe Biden’s trip to Saudi Arabia this month hi...           False   \n13713  At least 21 people including two children have...           False   \n13714  Talina Zharikova first met people who had fled...           False   \n13715  Moscow has told Ukrainian teachers in occupied...           False   \n13716  More than 1,500 refugees from Ukraine, Afghani...           False   \n13717  At least 19 people, including two children, ha...           False   \n13718  Shell could be forced to abandon a £3bn invest...           False   \n13719  The aftermath of a Russian missile strike on O...           False   \n13720  The EU's flag was hoisted in the plenary hall ...           False   \n13721  At least 18 people have been killed and dozens...           False   \n13722  Ukrainian President Volodymyr Zelenskiy hails ...           False   \n13723  17.43New ‘iron curtain’ already descending bet...           False   \n13724  14h ago00.47This blog is closed. All the Guard...           False   \n13725  Russian forces stepped up their assault on the...           False   \n13726  Two more British men who fought for the Ukrain...           False   \n13727  Six weeks into the invasion of her country, An...           False   \n13728  The Ukrainian president, Volodymyr Zekenskiy, ...           False   \n13729                                                NaN           False   \n13730  Governments tend to define democracy as narrow...           False   \n13731  Powerful explosions shook Ukraine’s southern c...           False   \n13732  13.44'Many killed' in attack on eastern Ukrain...           False   \n13733  Russia claims it has taken full control of Lys...           False   \n13734  Ludmilla Boiko can’t sleep. Every night, befor...           False   \n13735  Most summits bill themselves as “historic” and...           False   \n\n       Comments count Comments api key  \\\n13676           181.0         /p/ymdcx   \n13677             NaN              NaN   \n13678             NaN              NaN   \n13679             NaN              NaN   \n13680             NaN              NaN   \n13681          6573.0         /p/ymca8   \n13682             NaN              NaN   \n13683             NaN              NaN   \n13684             NaN              NaN   \n13685             NaN              NaN   \n13686             NaN              NaN   \n13687             NaN              NaN   \n13688             NaN              NaN   \n13689             NaN              NaN   \n13690             NaN              NaN   \n13691             NaN              NaN   \n13692             NaN              NaN   \n13693             NaN              NaN   \n13694            39.0         /p/ymtqe   \n13695             NaN              NaN   \n13696             NaN              NaN   \n13697             NaN              NaN   \n13698          7155.0         /p/ymh5a   \n13699             NaN              NaN   \n13700           309.0         /p/ymcnh   \n13701             NaN              NaN   \n13702             NaN              NaN   \n13703             NaN              NaN   \n13704             NaN              NaN   \n13705             NaN              NaN   \n13706             NaN              NaN   \n13707             NaN              NaN   \n13708             NaN              NaN   \n13709             NaN              NaN   \n13710             NaN              NaN   \n13711             NaN              NaN   \n13712             NaN              NaN   \n13713             NaN              NaN   \n13714             NaN              NaN   \n13715             NaN              NaN   \n13716             NaN              NaN   \n13717             NaN              NaN   \n13718             NaN              NaN   \n13719             NaN              NaN   \n13720             NaN              NaN   \n13721             NaN              NaN   \n13722             NaN              NaN   \n13723             NaN              NaN   \n13724             NaN              NaN   \n13725             NaN              NaN   \n13726             NaN              NaN   \n13727             NaN              NaN   \n13728             NaN              NaN   \n13729             NaN              NaN   \n13730             NaN              NaN   \n13731             NaN              NaN   \n13732             NaN              NaN   \n13733             NaN              NaN   \n13734             NaN              NaN   \n13735             NaN              NaN   \n\n                                             Article url  \n13676  https://www.theguardian.com/commentisfree/2022...  \n13677  https://www.theguardian.com/sport/2022/jun/29/...  \n13678  https://www.theguardian.com/world/2022/jun/29/...  \n13679  https://www.theguardian.com/world/2022/jun/29/...  \n13680  https://www.theguardian.com/uk-news/2022/jun/2...  \n13681  https://www.theguardian.com/politics/live/2022...  \n13682  https://www.theguardian.com/business/2022/jun/...  \n13683  https://www.theguardian.com/world/2022/jun/29/...  \n13684  https://www.theguardian.com/world/video/2022/j...  \n13685  https://www.theguardian.com/world/2022/jun/29/...  \n13686  https://www.theguardian.com/world/video/2022/j...  \n13687  https://www.theguardian.com/books/2022/jun/29/...  \n13688  https://www.theguardian.com/news/2022/jun/29/a...  \n13689  https://www.theguardian.com/news/audio/2022/ju...  \n13690  https://www.theguardian.com/sport/2022/jun/30/...  \n13691  https://www.theguardian.com/politics/2022/jun/...  \n13692  https://www.theguardian.com/sport/2022/jun/30/...  \n13693  https://www.theguardian.com/world/2022/jun/30/...  \n13694  https://www.theguardian.com/commentisfree/2022...  \n13695  https://www.theguardian.com/world/2022/jun/30/...  \n13696  https://www.theguardian.com/world/2022/jun/30/...  \n13697  https://www.theguardian.com/politics/2022/jun/...  \n13698  https://www.theguardian.com/politics/live/2022...  \n13699  https://www.theguardian.com/world/2022/jun/30/...  \n13700  https://www.theguardian.com/commentisfree/2022...  \n13701  https://www.theguardian.com/world/2022/jun/30/...  \n13702  https://www.theguardian.com/music/2022/jun/30/...  \n13703  https://www.theguardian.com/politics/video/202...  \n13704  https://www.theguardian.com/world/video/2022/j...  \n13705  https://www.theguardian.com/world/2022/jun/30/...  \n13706  https://www.theguardian.com/world/2022/jun/30/...  \n13707  https://www.theguardian.com/politics/2022/jun/...  \n13708  https://www.theguardian.com/us-news/2022/jun/2...  \n13709  https://www.theguardian.com/uk-news/2022/jul/0...  \n13710  https://www.theguardian.com/world/2022/jul/02/...  \n13711  https://www.theguardian.com/world/2022/jul/01/...  \n13712  https://www.theguardian.com/commentisfree/2022...  \n13713  https://www.theguardian.com/world/2022/jul/01/...  \n13714  https://www.theguardian.com/world/2022/jul/01/...  \n13715  https://www.theguardian.com/world/2022/jul/01/...  \n13716  https://www.theguardian.com/sport/2022/jul/01/...  \n13717  https://www.theguardian.com/world/2022/jul/01/...  \n13718  https://www.theguardian.com/business/2022/jul/...  \n13719  https://www.theguardian.com/world/video/2022/j...  \n13720  https://www.theguardian.com/world/video/2022/j...  \n13721  https://www.theguardian.com/world/video/2022/j...  \n13722  https://www.theguardian.com/world/video/2022/j...  \n13723  https://www.theguardian.com/world/live/2022/ju...  \n13724  https://www.theguardian.com/world/live/2022/ju...  \n13725  https://www.theguardian.com/world/2022/jul/02/...  \n13726  https://www.theguardian.com/world/2022/jul/02/...  \n13727  https://www.theguardian.com/commentisfree/2022...  \n13728  https://www.theguardian.com/world/video/2022/j...  \n13729  https://www.theguardian.com/artanddesign/galle...  \n13730  https://www.theguardian.com/world/2022/jul/02/...  \n13731  https://www.theguardian.com/world/2022/jul/02/...  \n13732  https://www.theguardian.com/world/live/2022/ju...  \n13733  https://www.theguardian.com/world/2022/jul/03/...  \n13734  https://www.theguardian.com/world/2022/jul/03/...  \n13735  https://www.theguardian.com/commentisfree/2022...  ",
      "text/html": "<div>\n<style scoped>\n    .dataframe tbody tr th:only-of-type {\n        vertical-align: middle;\n    }\n\n    .dataframe tbody tr th {\n        vertical-align: top;\n    }\n\n    .dataframe thead th {\n        text-align: right;\n    }\n</style>\n<table border=\"1\" class=\"dataframe\">\n  <thead>\n    <tr style=\"text-align: right;\">\n      <th></th>\n      <th>Publisher</th>\n      <th>Date Formatted</th>\n      <th>Lang</th>\n      <th>Heading</th>\n      <th>Tag</th>\n      <th>Text</th>\n      <th>Comments exist</th>\n      <th>Comments count</th>\n      <th>Comments api key</th>\n      <th>Article url</th>\n    </tr>\n  </thead>\n  <tbody>\n    <tr>\n      <th>13676</th>\n      <td>THE GUARDIAN</td>\n      <td>29-06-2022</td>\n      <td>en</td>\n      <td>The Guardian view on Boris Johnson abroad: mor...</td>\n      <td>COMMENTISFREE</td>\n      <td>Boris Johnson’s domestic troubles are so relen...</td>\n      <td>True</td>\n      <td>181.0</td>\n      <td>/p/ymdcx</td>\n      <td>https://www.theguardian.com/commentisfree/2022...</td>\n    </tr>\n    <tr>\n      <th>13677</th>\n      <td>THE GUARDIAN</td>\n      <td>29-06-2022</td>\n      <td>en</td>\n      <td>Tsurenko wins all-Ukraine match and backs Wimb...</td>\n      <td>SPORT</td>\n      <td>The Ukrainian tennis player Lesia Tsurenko sai...</td>\n      <td>False</td>\n      <td>NaN</td>\n      <td>NaN</td>\n      <td>https://www.theguardian.com/sport/2022/jun/29/...</td>\n    </tr>\n    <tr>\n      <th>13678</th>\n      <td>THE GUARDIAN</td>\n      <td>29-06-2022</td>\n      <td>en</td>\n      <td>Evidence contradicts Russian claims about Krem...</td>\n      <td>WORLD</td>\n      <td>First-hand accounts from survivors and expert ...</td>\n      <td>False</td>\n      <td>NaN</td>\n      <td>NaN</td>\n      <td>https://www.theguardian.com/world/2022/jun/29/...</td>\n    </tr>\n    <tr>\n      <th>13679</th>\n      <td>THE GUARDIAN</td>\n      <td>29-06-2022</td>\n      <td>en</td>\n      <td>Ukrainian villages ‘wiped from face of earth’ ...</td>\n      <td>WORLD</td>\n      <td>Russian missiles continued to rain down on Ukr...</td>\n      <td>False</td>\n      <td>NaN</td>\n      <td>NaN</td>\n      <td>https://www.theguardian.com/world/2022/jun/29/...</td>\n    </tr>\n    <tr>\n      <th>13680</th>\n      <td>THE GUARDIAN</td>\n      <td>29-06-2022</td>\n      <td>en</td>\n      <td>Britain to commit 1,000 extra troops to Nato’s...</td>\n      <td>UK NEWS</td>\n      <td>Britain will commit an extra 1,000 troops and ...</td>\n      <td>False</td>\n      <td>NaN</td>\n      <td>NaN</td>\n      <td>https://www.theguardian.com/uk-news/2022/jun/2...</td>\n    </tr>\n    <tr>\n      <th>13681</th>\n      <td>THE GUARDIAN</td>\n      <td>29-06-2022</td>\n      <td>en</td>\n      <td>No 10 staff will be able to give evidence conf...</td>\n      <td>POLITICS</td>\n      <td>14.54No 10 staff will be able to give evidence...</td>\n      <td>True</td>\n      <td>6573.0</td>\n      <td>/p/ymca8</td>\n      <td>https://www.theguardian.com/politics/live/2022...</td>\n    </tr>\n    <tr>\n      <th>13682</th>\n      <td>THE GUARDIAN</td>\n      <td>29-06-2022</td>\n      <td>en</td>\n      <td>Britain may stop supplying gas to mainland Eur...</td>\n      <td>BUSINESS</td>\n      <td>Britain may stop supplying gas to mainland Eur...</td>\n      <td>False</td>\n      <td>NaN</td>\n      <td>NaN</td>\n      <td>https://www.theguardian.com/business/2022/jun/...</td>\n    </tr>\n    <tr>\n      <th>13683</th>\n      <td>THE GUARDIAN</td>\n      <td>29-06-2022</td>\n      <td>en</td>\n      <td>Russia-Ukraine war: what we know on day 126 of...</td>\n      <td>WORLD</td>\n      <td>Nato leaders have announced a new “strategic c...</td>\n      <td>False</td>\n      <td>NaN</td>\n      <td>NaN</td>\n      <td>https://www.theguardian.com/world/2022/jun/29/...</td>\n    </tr>\n    <tr>\n      <th>13684</th>\n      <td>THE GUARDIAN</td>\n      <td>29-06-2022</td>\n      <td>en</td>\n      <td>Zelenskiy releases footage of 'deliberate' Rus...</td>\n      <td>WORLD</td>\n      <td>Ukraine's president has shared CCTV footage of...</td>\n      <td>False</td>\n      <td>NaN</td>\n      <td>NaN</td>\n      <td>https://www.theguardian.com/world/video/2022/j...</td>\n    </tr>\n    <tr>\n      <th>13685</th>\n      <td>THE GUARDIAN</td>\n      <td>29-06-2022</td>\n      <td>en</td>\n      <td>UK imposes sanctions against ‘Nickel King’, Ru...</td>\n      <td>WORLD</td>\n      <td>Vladimir Potanin, known as the “Nickel King” a...</td>\n      <td>False</td>\n      <td>NaN</td>\n      <td>NaN</td>\n      <td>https://www.theguardian.com/world/2022/jun/29/...</td>\n    </tr>\n    <tr>\n      <th>13686</th>\n      <td>THE GUARDIAN</td>\n      <td>29-06-2022</td>\n      <td>en</td>\n      <td>Finland and Sweden to join Nato 'as quickly as...</td>\n      <td>WORLD</td>\n      <td>A last-minute agreement has been reached betwe...</td>\n      <td>False</td>\n      <td>NaN</td>\n      <td>NaN</td>\n      <td>https://www.theguardian.com/world/video/2022/j...</td>\n    </tr>\n    <tr>\n      <th>13687</th>\n      <td>THE GUARDIAN</td>\n      <td>29-06-2022</td>\n      <td>en</td>\n      <td>Zelensky: A Biography; Putin: His Life and Tim...</td>\n      <td>BOOKS</td>\n      <td>Volodymyr Zelenskiy is perhaps the closest thi...</td>\n      <td>False</td>\n      <td>NaN</td>\n      <td>NaN</td>\n      <td>https://www.theguardian.com/books/2022/jun/29/...</td>\n    </tr>\n    <tr>\n      <th>13688</th>\n      <td>THE GUARDIAN</td>\n      <td>29-06-2022</td>\n      <td>en</td>\n      <td>A Ukraine reboot / Liberty, undone: Inside the...</td>\n      <td>NEWS</td>\n      <td>The Guardian Weekly has a split cover focus th...</td>\n      <td>False</td>\n      <td>NaN</td>\n      <td>NaN</td>\n      <td>https://www.theguardian.com/news/2022/jun/29/a...</td>\n    </tr>\n    <tr>\n      <th>13689</th>\n      <td>THE GUARDIAN</td>\n      <td>29-06-2022</td>\n      <td>en</td>\n      <td>Ukraine: counting the cost of a long war</td>\n      <td>NEWS</td>\n      <td>NaN</td>\n      <td>False</td>\n      <td>NaN</td>\n      <td>NaN</td>\n      <td>https://www.theguardian.com/news/audio/2022/ju...</td>\n    </tr>\n    <tr>\n      <th>13690</th>\n      <td>THE GUARDIAN</td>\n      <td>30-06-2022</td>\n      <td>en</td>\n      <td>‘I was praying: don’t let anybody kill me’ – O...</td>\n      <td>SPORT</td>\n      <td>Oleksandr Usyk, the IBF, WBA and WBO world hea...</td>\n      <td>False</td>\n      <td>NaN</td>\n      <td>NaN</td>\n      <td>https://www.theguardian.com/sport/2022/jun/30/...</td>\n    </tr>\n    <tr>\n      <th>13691</th>\n      <td>THE GUARDIAN</td>\n      <td>30-06-2022</td>\n      <td>en</td>\n      <td>Boris Johnson faces tax questions after signal...</td>\n      <td>POLITICS</td>\n      <td>Boris Johnson has signalled a significant incr...</td>\n      <td>False</td>\n      <td>NaN</td>\n      <td>NaN</td>\n      <td>https://www.theguardian.com/politics/2022/jun/...</td>\n    </tr>\n    <tr>\n      <th>13692</th>\n      <td>THE GUARDIAN</td>\n      <td>30-06-2022</td>\n      <td>en</td>\n      <td>Lewis Hamilton condemns Ecclestone’s comments ...</td>\n      <td>SPORT</td>\n      <td>Lewis Hamilton has condemned the former Formul...</td>\n      <td>False</td>\n      <td>NaN</td>\n      <td>NaN</td>\n      <td>https://www.theguardian.com/sport/2022/jun/30/...</td>\n    </tr>\n    <tr>\n      <th>13693</th>\n      <td>THE GUARDIAN</td>\n      <td>30-06-2022</td>\n      <td>en</td>\n      <td>Calls for more funding for English classes for...</td>\n      <td>WORLD</td>\n      <td>Language schools and community groups have cal...</td>\n      <td>False</td>\n      <td>NaN</td>\n      <td>NaN</td>\n      <td>https://www.theguardian.com/world/2022/jun/30/...</td>\n    </tr>\n    <tr>\n      <th>13694</th>\n      <td>THE GUARDIAN</td>\n      <td>30-06-2022</td>\n      <td>en</td>\n      <td>The Guardian view on the Nato summit: new role...</td>\n      <td>COMMENTISFREE</td>\n      <td>After the fall of the Berlin Wall, the North A...</td>\n      <td>True</td>\n      <td>39.0</td>\n      <td>/p/ymtqe</td>\n      <td>https://www.theguardian.com/commentisfree/2022...</td>\n    </tr>\n    <tr>\n      <th>13695</th>\n      <td>THE GUARDIAN</td>\n      <td>30-06-2022</td>\n      <td>en</td>\n      <td>What did the G7 and Nato summits really mean f...</td>\n      <td>WORLD</td>\n      <td>Over five days, the leaders of the G7 and Nato...</td>\n      <td>False</td>\n      <td>NaN</td>\n      <td>NaN</td>\n      <td>https://www.theguardian.com/world/2022/jun/30/...</td>\n    </tr>\n    <tr>\n      <th>13696</th>\n      <td>THE GUARDIAN</td>\n      <td>30-06-2022</td>\n      <td>en</td>\n      <td>Nato will stick with Ukraine as long as it tak...</td>\n      <td>WORLD</td>\n      <td>Joe Biden has declared that the US and Nato al...</td>\n      <td>False</td>\n      <td>NaN</td>\n      <td>NaN</td>\n      <td>https://www.theguardian.com/world/2022/jun/30/...</td>\n    </tr>\n    <tr>\n      <th>13697</th>\n      <td>THE GUARDIAN</td>\n      <td>30-06-2022</td>\n      <td>en</td>\n      <td>Boris Johnson’s new ‘golden rule’: the bunker ...</td>\n      <td>POLITICS</td>\n      <td>It began last Sunday when Boris Johnson, newly...</td>\n      <td>False</td>\n      <td>NaN</td>\n      <td>NaN</td>\n      <td>https://www.theguardian.com/politics/2022/jun/...</td>\n    </tr>\n    <tr>\n      <th>13698</th>\n      <td>THE GUARDIAN</td>\n      <td>30-06-2022</td>\n      <td>en</td>\n      <td>Boris Johnson says UK defence spending set to ...</td>\n      <td>POLITICS</td>\n      <td>12.48Johnson says defence spending set to rise...</td>\n      <td>True</td>\n      <td>7155.0</td>\n      <td>/p/ymh5a</td>\n      <td>https://www.theguardian.com/politics/live/2022...</td>\n    </tr>\n    <tr>\n      <th>13699</th>\n      <td>THE GUARDIAN</td>\n      <td>30-06-2022</td>\n      <td>en</td>\n      <td>Ukraine pushes Russian forces from strategic S...</td>\n      <td>WORLD</td>\n      <td>Ukrainian forces have pushed Russian forces fr...</td>\n      <td>False</td>\n      <td>NaN</td>\n      <td>NaN</td>\n      <td>https://www.theguardian.com/world/2022/jun/30/...</td>\n    </tr>\n    <tr>\n      <th>13700</th>\n      <td>THE GUARDIAN</td>\n      <td>30-06-2022</td>\n      <td>en</td>\n      <td>Putin’s war is also a crime – the world must p...</td>\n      <td>COMMENTISFREE</td>\n      <td>As I write, rescuers are still searching the r...</td>\n      <td>True</td>\n      <td>309.0</td>\n      <td>/p/ymcnh</td>\n      <td>https://www.theguardian.com/commentisfree/2022...</td>\n    </tr>\n    <tr>\n      <th>13701</th>\n      <td>THE GUARDIAN</td>\n      <td>30-06-2022</td>\n      <td>en</td>\n      <td>Russia-Ukraine war: what we know on day 127 of...</td>\n      <td>WORLD</td>\n      <td>Ukraine’s armed forces claim to have expelled ...</td>\n      <td>False</td>\n      <td>NaN</td>\n      <td>NaN</td>\n      <td>https://www.theguardian.com/world/2022/jun/30/...</td>\n    </tr>\n    <tr>\n      <th>13702</th>\n      <td>THE GUARDIAN</td>\n      <td>30-06-2022</td>\n      <td>en</td>\n      <td>‘Even under war, we must live’: the Kyiv art s...</td>\n      <td>MUSIC</td>\n      <td>Nestled in a peaceful green dell, hidden benea...</td>\n      <td>False</td>\n      <td>NaN</td>\n      <td>NaN</td>\n      <td>https://www.theguardian.com/music/2022/jun/30/...</td>\n    </tr>\n    <tr>\n      <th>13703</th>\n      <td>THE GUARDIAN</td>\n      <td>30-06-2022</td>\n      <td>en</td>\n      <td>Boris Johnson pledges to increase defence spen...</td>\n      <td>POLITICS</td>\n      <td>Speaking at the Nato conference in Madrid, the...</td>\n      <td>False</td>\n      <td>NaN</td>\n      <td>NaN</td>\n      <td>https://www.theguardian.com/politics/video/202...</td>\n    </tr>\n    <tr>\n      <th>13704</th>\n      <td>THE GUARDIAN</td>\n      <td>30-06-2022</td>\n      <td>en</td>\n      <td>Putin says G7 leaders undressing would be a 'd...</td>\n      <td>WORLD</td>\n      <td>Vladimir Putin says the G7 leaders would be a ...</td>\n      <td>False</td>\n      <td>NaN</td>\n      <td>NaN</td>\n      <td>https://www.theguardian.com/world/video/2022/j...</td>\n    </tr>\n    <tr>\n      <th>13705</th>\n      <td>THE GUARDIAN</td>\n      <td>30-06-2022</td>\n      <td>en</td>\n      <td>Nato 2022 Madrid summit: what has been agreed?</td>\n      <td>WORLD</td>\n      <td>At the Nato summit in Madrid this week sweepin...</td>\n      <td>False</td>\n      <td>NaN</td>\n      <td>NaN</td>\n      <td>https://www.theguardian.com/world/2022/jun/30/...</td>\n    </tr>\n    <tr>\n      <th>13706</th>\n      <td>THE GUARDIAN</td>\n      <td>30-06-2022</td>\n      <td>en</td>\n      <td>‘I’m a little surprised’: Nato summit venue in...</td>\n      <td>WORLD</td>\n      <td>As Nato leaders gather in Madrid for a summit ...</td>\n      <td>False</td>\n      <td>NaN</td>\n      <td>NaN</td>\n      <td>https://www.theguardian.com/world/2022/jun/30/...</td>\n    </tr>\n    <tr>\n      <th>13707</th>\n      <td>THE GUARDIAN</td>\n      <td>30-06-2022</td>\n      <td>en</td>\n      <td>Liz Truss defends plans to cut British army by...</td>\n      <td>POLITICS</td>\n      <td>Liz Truss has defended plans to cut the Britis...</td>\n      <td>False</td>\n      <td>NaN</td>\n      <td>NaN</td>\n      <td>https://www.theguardian.com/politics/2022/jun/...</td>\n    </tr>\n    <tr>\n      <th>13708</th>\n      <td>THE GUARDIAN</td>\n      <td>30-06-2022</td>\n      <td>en</td>\n      <td>Captured US veteran told mom captors were ‘anx...</td>\n      <td>US NEWS</td>\n      <td>An Alabama army veteran who was captured in Uk...</td>\n      <td>False</td>\n      <td>NaN</td>\n      <td>NaN</td>\n      <td>https://www.theguardian.com/us-news/2022/jun/2...</td>\n    </tr>\n    <tr>\n      <th>13709</th>\n      <td>THE GUARDIAN</td>\n      <td>01-07-2022</td>\n      <td>en</td>\n      <td>Two more Britons captured in Ukraine could fac...</td>\n      <td>UK NEWS</td>\n      <td>Two more Britons held by Russian proxies in ea...</td>\n      <td>False</td>\n      <td>NaN</td>\n      <td>NaN</td>\n      <td>https://www.theguardian.com/uk-news/2022/jul/0...</td>\n    </tr>\n    <tr>\n      <th>13710</th>\n      <td>THE GUARDIAN</td>\n      <td>01-07-2022</td>\n      <td>en</td>\n      <td>What happened in the Russia-Ukraine war this w...</td>\n      <td>WORLD</td>\n      <td>Every week we wrap up the must-reads from our ...</td>\n      <td>False</td>\n      <td>NaN</td>\n      <td>NaN</td>\n      <td>https://www.theguardian.com/world/2022/jul/02/...</td>\n    </tr>\n    <tr>\n      <th>13711</th>\n      <td>THE GUARDIAN</td>\n      <td>01-07-2022</td>\n      <td>en</td>\n      <td>Ukrainian borscht recognised by Unesco with en...</td>\n      <td>WORLD</td>\n      <td>The UN’s cultural body has added the cooking o...</td>\n      <td>False</td>\n      <td>NaN</td>\n      <td>NaN</td>\n      <td>https://www.theguardian.com/world/2022/jul/01/...</td>\n    </tr>\n    <tr>\n      <th>13712</th>\n      <td>THE GUARDIAN</td>\n      <td>01-07-2022</td>\n      <td>en</td>\n      <td>The Guardian view on Biden’s risky gamble: bet...</td>\n      <td>COMMENTISFREE</td>\n      <td>Joe Biden’s trip to Saudi Arabia this month hi...</td>\n      <td>False</td>\n      <td>NaN</td>\n      <td>NaN</td>\n      <td>https://www.theguardian.com/commentisfree/2022...</td>\n    </tr>\n    <tr>\n      <th>13713</th>\n      <td>THE GUARDIAN</td>\n      <td>01-07-2022</td>\n      <td>en</td>\n      <td>Russian missile strikes on town near Odesa kil...</td>\n      <td>WORLD</td>\n      <td>At least 21 people including two children have...</td>\n      <td>False</td>\n      <td>NaN</td>\n      <td>NaN</td>\n      <td>https://www.theguardian.com/world/2022/jul/01/...</td>\n    </tr>\n    <tr>\n      <th>13714</th>\n      <td>THE GUARDIAN</td>\n      <td>01-07-2022</td>\n      <td>en</td>\n      <td>The informal volunteer groups leading Ukraine’...</td>\n      <td>WORLD</td>\n      <td>Talina Zharikova first met people who had fled...</td>\n      <td>False</td>\n      <td>NaN</td>\n      <td>NaN</td>\n      <td>https://www.theguardian.com/world/2022/jul/01/...</td>\n    </tr>\n    <tr>\n      <th>13715</th>\n      <td>THE GUARDIAN</td>\n      <td>01-07-2022</td>\n      <td>en</td>\n      <td>Moscow forcing teachers in occupied Ukraine to...</td>\n      <td>WORLD</td>\n      <td>Moscow has told Ukrainian teachers in occupied...</td>\n      <td>False</td>\n      <td>NaN</td>\n      <td>NaN</td>\n      <td>https://www.theguardian.com/world/2022/jul/01/...</td>\n    </tr>\n    <tr>\n      <th>13716</th>\n      <td>THE GUARDIAN</td>\n      <td>01-07-2022</td>\n      <td>en</td>\n      <td>More than 1,500 refugees invited to Wimbledon ...</td>\n      <td>SPORT</td>\n      <td>More than 1,500 refugees from Ukraine, Afghani...</td>\n      <td>False</td>\n      <td>NaN</td>\n      <td>NaN</td>\n      <td>https://www.theguardian.com/sport/2022/jul/01/...</td>\n    </tr>\n    <tr>\n      <th>13717</th>\n      <td>THE GUARDIAN</td>\n      <td>01-07-2022</td>\n      <td>en</td>\n      <td>Russia-Ukraine war: what we know on day 128 of...</td>\n      <td>WORLD</td>\n      <td>At least 19 people, including two children, ha...</td>\n      <td>False</td>\n      <td>NaN</td>\n      <td>NaN</td>\n      <td>https://www.theguardian.com/world/2022/jul/01/...</td>\n    </tr>\n    <tr>\n      <th>13718</th>\n      <td>THE GUARDIAN</td>\n      <td>01-07-2022</td>\n      <td>en</td>\n      <td>Shell may have to abandon £3bn stake in Russia...</td>\n      <td>BUSINESS</td>\n      <td>Shell could be forced to abandon a £3bn invest...</td>\n      <td>False</td>\n      <td>NaN</td>\n      <td>NaN</td>\n      <td>https://www.theguardian.com/business/2022/jul/...</td>\n    </tr>\n    <tr>\n      <th>13719</th>\n      <td>THE GUARDIAN</td>\n      <td>01-07-2022</td>\n      <td>en</td>\n      <td>Drone footage shows aftermath of Russian missi...</td>\n      <td>WORLD</td>\n      <td>The aftermath of a Russian missile strike on O...</td>\n      <td>False</td>\n      <td>NaN</td>\n      <td>NaN</td>\n      <td>https://www.theguardian.com/world/video/2022/j...</td>\n    </tr>\n    <tr>\n      <th>13720</th>\n      <td>THE GUARDIAN</td>\n      <td>01-07-2022</td>\n      <td>en</td>\n      <td>EU flag hoisted in Ukraine's parliament – video</td>\n      <td>WORLD</td>\n      <td>The EU's flag was hoisted in the plenary hall ...</td>\n      <td>False</td>\n      <td>NaN</td>\n      <td>NaN</td>\n      <td>https://www.theguardian.com/world/video/2022/j...</td>\n    </tr>\n    <tr>\n      <th>13721</th>\n      <td>THE GUARDIAN</td>\n      <td>01-07-2022</td>\n      <td>en</td>\n      <td>Rescue operation at Odesa apartment block afte...</td>\n      <td>WORLD</td>\n      <td>At least 18 people have been killed and dozens...</td>\n      <td>False</td>\n      <td>NaN</td>\n      <td>NaN</td>\n      <td>https://www.theguardian.com/world/video/2022/j...</td>\n    </tr>\n    <tr>\n      <th>13722</th>\n      <td>THE GUARDIAN</td>\n      <td>01-07-2022</td>\n      <td>en</td>\n      <td>'Significant' Snake Island victory changes sit...</td>\n      <td>WORLD</td>\n      <td>Ukrainian President Volodymyr Zelenskiy hails ...</td>\n      <td>False</td>\n      <td>NaN</td>\n      <td>NaN</td>\n      <td>https://www.theguardian.com/world/video/2022/j...</td>\n    </tr>\n    <tr>\n      <th>13723</th>\n      <td>THE GUARDIAN</td>\n      <td>01-07-2022</td>\n      <td>en</td>\n      <td>A new ‘iron curtain’ is descending between Rus...</td>\n      <td>WORLD</td>\n      <td>17.43New ‘iron curtain’ already descending bet...</td>\n      <td>False</td>\n      <td>NaN</td>\n      <td>NaN</td>\n      <td>https://www.theguardian.com/world/live/2022/ju...</td>\n    </tr>\n    <tr>\n      <th>13724</th>\n      <td>THE GUARDIAN</td>\n      <td>02-07-2022</td>\n      <td>en</td>\n      <td>Ukrainian officials say Lysychansk remains in ...</td>\n      <td>WORLD</td>\n      <td>14h ago00.47This blog is closed. All the Guard...</td>\n      <td>False</td>\n      <td>NaN</td>\n      <td>NaN</td>\n      <td>https://www.theguardian.com/world/live/2022/ju...</td>\n    </tr>\n    <tr>\n      <th>13725</th>\n      <td>THE GUARDIAN</td>\n      <td>02-07-2022</td>\n      <td>en</td>\n      <td>Russian forces increase assault on Ukrainian c...</td>\n      <td>WORLD</td>\n      <td>Russian forces stepped up their assault on the...</td>\n      <td>False</td>\n      <td>NaN</td>\n      <td>NaN</td>\n      <td>https://www.theguardian.com/world/2022/jul/02/...</td>\n    </tr>\n    <tr>\n      <th>13726</th>\n      <td>THE GUARDIAN</td>\n      <td>02-07-2022</td>\n      <td>en</td>\n      <td>Two more British men captured in Ukraine could...</td>\n      <td>WORLD</td>\n      <td>Two more British men who fought for the Ukrain...</td>\n      <td>False</td>\n      <td>NaN</td>\n      <td>NaN</td>\n      <td>https://www.theguardian.com/world/2022/jul/02/...</td>\n    </tr>\n    <tr>\n      <th>13727</th>\n      <td>THE GUARDIAN</td>\n      <td>02-07-2022</td>\n      <td>en</td>\n      <td>Taking on Putin through porn: how Russians are...</td>\n      <td>COMMENTISFREE</td>\n      <td>Six weeks into the invasion of her country, An...</td>\n      <td>False</td>\n      <td>NaN</td>\n      <td>NaN</td>\n      <td>https://www.theguardian.com/commentisfree/2022...</td>\n    </tr>\n    <tr>\n      <th>13728</th>\n      <td>THE GUARDIAN</td>\n      <td>02-07-2022</td>\n      <td>en</td>\n      <td>Volodymyr Zelenskiy condemns Russian strike on...</td>\n      <td>WORLD</td>\n      <td>The Ukrainian president, Volodymyr Zekenskiy, ...</td>\n      <td>False</td>\n      <td>NaN</td>\n      <td>NaN</td>\n      <td>https://www.theguardian.com/world/video/2022/j...</td>\n    </tr>\n    <tr>\n      <th>13729</th>\n      <td>THE GUARDIAN</td>\n      <td>02-07-2022</td>\n      <td>en</td>\n      <td>Original Observer Photography</td>\n      <td>ARTANDDESIGN</td>\n      <td>NaN</td>\n      <td>False</td>\n      <td>NaN</td>\n      <td>NaN</td>\n      <td>https://www.theguardian.com/artanddesign/galle...</td>\n    </tr>\n    <tr>\n      <th>13730</th>\n      <td>THE GUARDIAN</td>\n      <td>02-07-2022</td>\n      <td>en</td>\n      <td>‘It felt like history itself’ – 48 protest pho...</td>\n      <td>WORLD</td>\n      <td>Governments tend to define democracy as narrow...</td>\n      <td>False</td>\n      <td>NaN</td>\n      <td>NaN</td>\n      <td>https://www.theguardian.com/world/2022/jul/02/...</td>\n    </tr>\n    <tr>\n      <th>13731</th>\n      <td>THE GUARDIAN</td>\n      <td>02-07-2022</td>\n      <td>en</td>\n      <td>Russia-Ukraine war: what we know on day 129 of...</td>\n      <td>WORLD</td>\n      <td>Powerful explosions shook Ukraine’s southern c...</td>\n      <td>False</td>\n      <td>NaN</td>\n      <td>NaN</td>\n      <td>https://www.theguardian.com/world/2022/jul/02/...</td>\n    </tr>\n    <tr>\n      <th>13732</th>\n      <td>THE GUARDIAN</td>\n      <td>03-07-2022</td>\n      <td>en</td>\n      <td>Russia-Ukraine war: ‘Many killed’ in attack on...</td>\n      <td>WORLD</td>\n      <td>13.44'Many killed' in attack on eastern Ukrain...</td>\n      <td>False</td>\n      <td>NaN</td>\n      <td>NaN</td>\n      <td>https://www.theguardian.com/world/live/2022/ju...</td>\n    </tr>\n    <tr>\n      <th>13733</th>\n      <td>THE GUARDIAN</td>\n      <td>03-07-2022</td>\n      <td>en</td>\n      <td>Russia-Ukraine war: what we know on day 130 of...</td>\n      <td>WORLD</td>\n      <td>Russia claims it has taken full control of Lys...</td>\n      <td>False</td>\n      <td>NaN</td>\n      <td>NaN</td>\n      <td>https://www.theguardian.com/world/2022/jul/03/...</td>\n    </tr>\n    <tr>\n      <th>13734</th>\n      <td>THE GUARDIAN</td>\n      <td>03-07-2022</td>\n      <td>en</td>\n      <td>Medics battle relentless wave of trauma in Ukr...</td>\n      <td>WORLD</td>\n      <td>Ludmilla Boiko can’t sleep. Every night, befor...</td>\n      <td>False</td>\n      <td>NaN</td>\n      <td>NaN</td>\n      <td>https://www.theguardian.com/world/2022/jul/03/...</td>\n    </tr>\n    <tr>\n      <th>13735</th>\n      <td>THE GUARDIAN</td>\n      <td>03-07-2022</td>\n      <td>en</td>\n      <td>Yes, Nato has a new vitality. But its united f...</td>\n      <td>COMMENTISFREE</td>\n      <td>Most summits bill themselves as “historic” and...</td>\n      <td>False</td>\n      <td>NaN</td>\n      <td>NaN</td>\n      <td>https://www.theguardian.com/commentisfree/2022...</td>\n    </tr>\n  </tbody>\n</table>\n</div>"
     },
     "execution_count": 424,
     "metadata": {},
     "output_type": "execute_result"
    }
   ],
   "source": [
    "war_df.tail(60)"
   ],
   "metadata": {
    "collapsed": false,
    "pycharm": {
     "name": "#%%\n"
    }
   }
  },
  {
   "cell_type": "markdown",
   "source": [
    "## Clean & Cast"
   ],
   "metadata": {
    "collapsed": false,
    "pycharm": {
     "name": "#%% md\n"
    }
   }
  },
  {
   "cell_type": "code",
   "execution_count": 383,
   "outputs": [
    {
     "data": {
      "text/plain": "Publisher               0\nDate Formatted        273\nLang                    0\nHeading               270\nTag                   270\nText                  418\nComments exist          0\nComments count       3003\nComments api key    13533\nArticle url           270\ndtype: int64"
     },
     "execution_count": 383,
     "metadata": {},
     "output_type": "execute_result"
    }
   ],
   "source": [
    "war_df.isna().sum()"
   ],
   "metadata": {
    "collapsed": false,
    "pycharm": {
     "name": "#%%\n"
    }
   }
  },
  {
   "cell_type": "code",
   "execution_count": 384,
   "outputs": [
    {
     "data": {
      "text/plain": "115968824"
     },
     "execution_count": 384,
     "metadata": {},
     "output_type": "execute_result"
    }
   ],
   "source": [
    "war_df.memory_usage(deep=True).sum()"
   ],
   "metadata": {
    "collapsed": false,
    "pycharm": {
     "name": "#%%\n"
    }
   }
  },
  {
   "cell_type": "code",
   "execution_count": 385,
   "outputs": [
    {
     "data": {
      "text/plain": "          Publisher Date Formatted Lang  \\\n10531  THE GUARDIAN     23-02-2022   en   \n10532  THE GUARDIAN     23-02-2022   en   \n10533  THE GUARDIAN     23-02-2022   en   \n10534  THE GUARDIAN     23-02-2022   en   \n10535  THE GUARDIAN     23-02-2022   en   \n...             ...            ...  ...   \n13731  THE GUARDIAN     02-07-2022   en   \n13732  THE GUARDIAN     03-07-2022   en   \n13733  THE GUARDIAN     03-07-2022   en   \n13734  THE GUARDIAN     03-07-2022   en   \n13735  THE GUARDIAN     03-07-2022   en   \n\n                                                 Heading            Tag  \\\n10531  Biden imposes sanctions on company behind Nord...        US NEWS   \n10532  Putin’s looming threat gives Johnson some brea...       POLITICS   \n10533  From ‘Putin’s chef’ to the RT editor: names ex...          WORLD   \n10534  Martin Rowson on Russian donors to the Tory pa...  COMMENTISFREE   \n10535  EU approves wide-ranging sanctions against Rus...          WORLD   \n...                                                  ...            ...   \n13731  Russia-Ukraine war: what we know on day 129 of...          WORLD   \n13732  Russia-Ukraine war: ‘Many killed’ in attack on...          WORLD   \n13733  Russia-Ukraine war: what we know on day 130 of...          WORLD   \n13734  Medics battle relentless wave of trauma in Ukr...          WORLD   \n13735  Yes, Nato has a new vitality. But its united f...  COMMENTISFREE   \n\n                                                    Text  Comments exist  \\\n10531  19.07Biden announces sanctions on Nord Stream ...           False   \n10532  Boris Johnson is in his happy place. The Russi...            True   \n10533  The EU has approved asset freezes and travel b...           False   \n10534                                                NaN           False   \n10535  Russia’s defence minister, Sergei Shoigu, the ...           False   \n...                                                  ...             ...   \n13731  Powerful explosions shook Ukraine’s southern c...           False   \n13732  13.44'Many killed' in attack on eastern Ukrain...           False   \n13733  Russia claims it has taken full control of Lys...           False   \n13734  Ludmilla Boiko can’t sleep. Every night, befor...           False   \n13735  Most summits bill themselves as “historic” and...           False   \n\n       Comments count Comments api key  \\\n10531             NaN              NaN   \n10532           528.0         /p/kz3fp   \n10533             NaN              NaN   \n10534             NaN              NaN   \n10535             NaN              NaN   \n...               ...              ...   \n13731             NaN              NaN   \n13732             NaN              NaN   \n13733             NaN              NaN   \n13734             NaN              NaN   \n13735             NaN              NaN   \n\n                                             Article url  \n10531  https://www.theguardian.com/us-news/live/2022/...  \n10532  https://www.theguardian.com/politics/2022/feb/...  \n10533  https://www.theguardian.com/world/2022/feb/23/...  \n10534  https://www.theguardian.com/commentisfree/pict...  \n10535  https://www.theguardian.com/world/2022/feb/23/...  \n...                                                  ...  \n13731  https://www.theguardian.com/world/2022/jul/02/...  \n13732  https://www.theguardian.com/world/live/2022/ju...  \n13733  https://www.theguardian.com/world/2022/jul/03/...  \n13734  https://www.theguardian.com/world/2022/jul/03/...  \n13735  https://www.theguardian.com/commentisfree/2022...  \n\n[3205 rows x 10 columns]",
      "text/html": "<div>\n<style scoped>\n    .dataframe tbody tr th:only-of-type {\n        vertical-align: middle;\n    }\n\n    .dataframe tbody tr th {\n        vertical-align: top;\n    }\n\n    .dataframe thead th {\n        text-align: right;\n    }\n</style>\n<table border=\"1\" class=\"dataframe\">\n  <thead>\n    <tr style=\"text-align: right;\">\n      <th></th>\n      <th>Publisher</th>\n      <th>Date Formatted</th>\n      <th>Lang</th>\n      <th>Heading</th>\n      <th>Tag</th>\n      <th>Text</th>\n      <th>Comments exist</th>\n      <th>Comments count</th>\n      <th>Comments api key</th>\n      <th>Article url</th>\n    </tr>\n  </thead>\n  <tbody>\n    <tr>\n      <th>10531</th>\n      <td>THE GUARDIAN</td>\n      <td>23-02-2022</td>\n      <td>en</td>\n      <td>Biden imposes sanctions on company behind Nord...</td>\n      <td>US NEWS</td>\n      <td>19.07Biden announces sanctions on Nord Stream ...</td>\n      <td>False</td>\n      <td>NaN</td>\n      <td>NaN</td>\n      <td>https://www.theguardian.com/us-news/live/2022/...</td>\n    </tr>\n    <tr>\n      <th>10532</th>\n      <td>THE GUARDIAN</td>\n      <td>23-02-2022</td>\n      <td>en</td>\n      <td>Putin’s looming threat gives Johnson some brea...</td>\n      <td>POLITICS</td>\n      <td>Boris Johnson is in his happy place. The Russi...</td>\n      <td>True</td>\n      <td>528.0</td>\n      <td>/p/kz3fp</td>\n      <td>https://www.theguardian.com/politics/2022/feb/...</td>\n    </tr>\n    <tr>\n      <th>10533</th>\n      <td>THE GUARDIAN</td>\n      <td>23-02-2022</td>\n      <td>en</td>\n      <td>From ‘Putin’s chef’ to the RT editor: names ex...</td>\n      <td>WORLD</td>\n      <td>The EU has approved asset freezes and travel b...</td>\n      <td>False</td>\n      <td>NaN</td>\n      <td>NaN</td>\n      <td>https://www.theguardian.com/world/2022/feb/23/...</td>\n    </tr>\n    <tr>\n      <th>10534</th>\n      <td>THE GUARDIAN</td>\n      <td>23-02-2022</td>\n      <td>en</td>\n      <td>Martin Rowson on Russian donors to the Tory pa...</td>\n      <td>COMMENTISFREE</td>\n      <td>NaN</td>\n      <td>False</td>\n      <td>NaN</td>\n      <td>NaN</td>\n      <td>https://www.theguardian.com/commentisfree/pict...</td>\n    </tr>\n    <tr>\n      <th>10535</th>\n      <td>THE GUARDIAN</td>\n      <td>23-02-2022</td>\n      <td>en</td>\n      <td>EU approves wide-ranging sanctions against Rus...</td>\n      <td>WORLD</td>\n      <td>Russia’s defence minister, Sergei Shoigu, the ...</td>\n      <td>False</td>\n      <td>NaN</td>\n      <td>NaN</td>\n      <td>https://www.theguardian.com/world/2022/feb/23/...</td>\n    </tr>\n    <tr>\n      <th>...</th>\n      <td>...</td>\n      <td>...</td>\n      <td>...</td>\n      <td>...</td>\n      <td>...</td>\n      <td>...</td>\n      <td>...</td>\n      <td>...</td>\n      <td>...</td>\n      <td>...</td>\n    </tr>\n    <tr>\n      <th>13731</th>\n      <td>THE GUARDIAN</td>\n      <td>02-07-2022</td>\n      <td>en</td>\n      <td>Russia-Ukraine war: what we know on day 129 of...</td>\n      <td>WORLD</td>\n      <td>Powerful explosions shook Ukraine’s southern c...</td>\n      <td>False</td>\n      <td>NaN</td>\n      <td>NaN</td>\n      <td>https://www.theguardian.com/world/2022/jul/02/...</td>\n    </tr>\n    <tr>\n      <th>13732</th>\n      <td>THE GUARDIAN</td>\n      <td>03-07-2022</td>\n      <td>en</td>\n      <td>Russia-Ukraine war: ‘Many killed’ in attack on...</td>\n      <td>WORLD</td>\n      <td>13.44'Many killed' in attack on eastern Ukrain...</td>\n      <td>False</td>\n      <td>NaN</td>\n      <td>NaN</td>\n      <td>https://www.theguardian.com/world/live/2022/ju...</td>\n    </tr>\n    <tr>\n      <th>13733</th>\n      <td>THE GUARDIAN</td>\n      <td>03-07-2022</td>\n      <td>en</td>\n      <td>Russia-Ukraine war: what we know on day 130 of...</td>\n      <td>WORLD</td>\n      <td>Russia claims it has taken full control of Lys...</td>\n      <td>False</td>\n      <td>NaN</td>\n      <td>NaN</td>\n      <td>https://www.theguardian.com/world/2022/jul/03/...</td>\n    </tr>\n    <tr>\n      <th>13734</th>\n      <td>THE GUARDIAN</td>\n      <td>03-07-2022</td>\n      <td>en</td>\n      <td>Medics battle relentless wave of trauma in Ukr...</td>\n      <td>WORLD</td>\n      <td>Ludmilla Boiko can’t sleep. Every night, befor...</td>\n      <td>False</td>\n      <td>NaN</td>\n      <td>NaN</td>\n      <td>https://www.theguardian.com/world/2022/jul/03/...</td>\n    </tr>\n    <tr>\n      <th>13735</th>\n      <td>THE GUARDIAN</td>\n      <td>03-07-2022</td>\n      <td>en</td>\n      <td>Yes, Nato has a new vitality. But its united f...</td>\n      <td>COMMENTISFREE</td>\n      <td>Most summits bill themselves as “historic” and...</td>\n      <td>False</td>\n      <td>NaN</td>\n      <td>NaN</td>\n      <td>https://www.theguardian.com/commentisfree/2022...</td>\n    </tr>\n  </tbody>\n</table>\n<p>3205 rows × 10 columns</p>\n</div>"
     },
     "execution_count": 385,
     "metadata": {},
     "output_type": "execute_result"
    }
   ],
   "source": [
    "war_df[war_df['Publisher'] == 'THE GUARDIAN']"
   ],
   "metadata": {
    "collapsed": false,
    "pycharm": {
     "name": "#%%\n"
    }
   }
  },
  {
   "cell_type": "code",
   "execution_count": 406,
   "outputs": [],
   "source": [
    "# kill rows at Date Formatted series where value is NaN\n",
    "# during scraping process there were a lot of articles without text and date info\n",
    "(war_df\n",
    " .dropna(subset=['Date Formatted'], how='all', inplace=True)\n",
    " )"
   ],
   "metadata": {
    "collapsed": false,
    "pycharm": {
     "name": "#%%\n"
    }
   }
  },
  {
   "cell_type": "code",
   "execution_count": 407,
   "outputs": [
    {
     "data": {
      "text/plain": "          Publisher Date Formatted Lang  \\\n13731  THE GUARDIAN     02-07-2022   en   \n13732  THE GUARDIAN     03-07-2022   en   \n13733  THE GUARDIAN     03-07-2022   en   \n13734  THE GUARDIAN     03-07-2022   en   \n13735  THE GUARDIAN     03-07-2022   en   \n\n                                                 Heading            Tag  \\\n13731  Russia-Ukraine war: what we know on day 129 of...          WORLD   \n13732  Russia-Ukraine war: ‘Many killed’ in attack on...          WORLD   \n13733  Russia-Ukraine war: what we know on day 130 of...          WORLD   \n13734  Medics battle relentless wave of trauma in Ukr...          WORLD   \n13735  Yes, Nato has a new vitality. But its united f...  COMMENTISFREE   \n\n                                                    Text  Comments exist  \\\n13731  Powerful explosions shook Ukraine’s southern c...           False   \n13732  13.44'Many killed' in attack on eastern Ukrain...           False   \n13733  Russia claims it has taken full control of Lys...           False   \n13734  Ludmilla Boiko can’t sleep. Every night, befor...           False   \n13735  Most summits bill themselves as “historic” and...           False   \n\n       Comments count Comments api key  \\\n13731             NaN              NaN   \n13732             NaN              NaN   \n13733             NaN              NaN   \n13734             NaN              NaN   \n13735             NaN              NaN   \n\n                                             Article url  \n13731  https://www.theguardian.com/world/2022/jul/02/...  \n13732  https://www.theguardian.com/world/live/2022/ju...  \n13733  https://www.theguardian.com/world/2022/jul/03/...  \n13734  https://www.theguardian.com/world/2022/jul/03/...  \n13735  https://www.theguardian.com/commentisfree/2022...  ",
      "text/html": "<div>\n<style scoped>\n    .dataframe tbody tr th:only-of-type {\n        vertical-align: middle;\n    }\n\n    .dataframe tbody tr th {\n        vertical-align: top;\n    }\n\n    .dataframe thead th {\n        text-align: right;\n    }\n</style>\n<table border=\"1\" class=\"dataframe\">\n  <thead>\n    <tr style=\"text-align: right;\">\n      <th></th>\n      <th>Publisher</th>\n      <th>Date Formatted</th>\n      <th>Lang</th>\n      <th>Heading</th>\n      <th>Tag</th>\n      <th>Text</th>\n      <th>Comments exist</th>\n      <th>Comments count</th>\n      <th>Comments api key</th>\n      <th>Article url</th>\n    </tr>\n  </thead>\n  <tbody>\n    <tr>\n      <th>13731</th>\n      <td>THE GUARDIAN</td>\n      <td>02-07-2022</td>\n      <td>en</td>\n      <td>Russia-Ukraine war: what we know on day 129 of...</td>\n      <td>WORLD</td>\n      <td>Powerful explosions shook Ukraine’s southern c...</td>\n      <td>False</td>\n      <td>NaN</td>\n      <td>NaN</td>\n      <td>https://www.theguardian.com/world/2022/jul/02/...</td>\n    </tr>\n    <tr>\n      <th>13732</th>\n      <td>THE GUARDIAN</td>\n      <td>03-07-2022</td>\n      <td>en</td>\n      <td>Russia-Ukraine war: ‘Many killed’ in attack on...</td>\n      <td>WORLD</td>\n      <td>13.44'Many killed' in attack on eastern Ukrain...</td>\n      <td>False</td>\n      <td>NaN</td>\n      <td>NaN</td>\n      <td>https://www.theguardian.com/world/live/2022/ju...</td>\n    </tr>\n    <tr>\n      <th>13733</th>\n      <td>THE GUARDIAN</td>\n      <td>03-07-2022</td>\n      <td>en</td>\n      <td>Russia-Ukraine war: what we know on day 130 of...</td>\n      <td>WORLD</td>\n      <td>Russia claims it has taken full control of Lys...</td>\n      <td>False</td>\n      <td>NaN</td>\n      <td>NaN</td>\n      <td>https://www.theguardian.com/world/2022/jul/03/...</td>\n    </tr>\n    <tr>\n      <th>13734</th>\n      <td>THE GUARDIAN</td>\n      <td>03-07-2022</td>\n      <td>en</td>\n      <td>Medics battle relentless wave of trauma in Ukr...</td>\n      <td>WORLD</td>\n      <td>Ludmilla Boiko can’t sleep. Every night, befor...</td>\n      <td>False</td>\n      <td>NaN</td>\n      <td>NaN</td>\n      <td>https://www.theguardian.com/world/2022/jul/03/...</td>\n    </tr>\n    <tr>\n      <th>13735</th>\n      <td>THE GUARDIAN</td>\n      <td>03-07-2022</td>\n      <td>en</td>\n      <td>Yes, Nato has a new vitality. But its united f...</td>\n      <td>COMMENTISFREE</td>\n      <td>Most summits bill themselves as “historic” and...</td>\n      <td>False</td>\n      <td>NaN</td>\n      <td>NaN</td>\n      <td>https://www.theguardian.com/commentisfree/2022...</td>\n    </tr>\n  </tbody>\n</table>\n</div>"
     },
     "execution_count": 407,
     "metadata": {},
     "output_type": "execute_result"
    }
   ],
   "source": [
    "war_df.tail()"
   ],
   "metadata": {
    "collapsed": false,
    "pycharm": {
     "name": "#%%\n"
    }
   }
  },
  {
   "cell_type": "code",
   "execution_count": 408,
   "outputs": [],
   "source": [
    "war_df['Text'] = war_df['Text'].fillna('').astype('string')\n",
    "war_df['Comments api key'] = war_df['Comments api key'].fillna('').astype('string')\n",
    "war_df['Comments count'] = war_df['Comments count'].fillna(0).astype('int32')\n",
    "war_df['Heading'] = war_df['Heading'].astype('string')"
   ],
   "metadata": {
    "collapsed": false,
    "pycharm": {
     "name": "#%%\n"
    }
   }
  },
  {
   "cell_type": "code",
   "execution_count": 412,
   "outputs": [],
   "source": [
    "# remove url from text if present\n",
    "import re\n",
    "def removeURL(string: str) -> str:\n",
    "    try:\n",
    "        clean = re.sub('http://\\S+|https://\\S+', '', string)\n",
    "    except:\n",
    "        clean = ''\n",
    "    finally:\n",
    "        return clean\n",
    "\n",
    "\n",
    "# Create new col based on comment counts\n",
    "war_df['Text'] = war_df['Text'].apply(removeURL)"
   ],
   "metadata": {
    "collapsed": false,
    "pycharm": {
     "name": "#%%\n"
    }
   }
  },
  {
   "cell_type": "code",
   "execution_count": 418,
   "outputs": [],
   "source": [
    "war_df = (war_df\n",
    " .assign(Chars=war_df['Text'].str.len().astype(int))\n",
    " .assign(Words=war_df['Text'].str.split(\" \").str.len().astype(int))\n",
    " )"
   ],
   "metadata": {
    "collapsed": false,
    "pycharm": {
     "name": "#%%\n"
    }
   }
  },
  {
   "cell_type": "code",
   "execution_count": 398,
   "outputs": [
    {
     "data": {
      "text/plain": "          Publisher Date Formatted Lang  \\\n0        ΚΑΘΗΜΕΡΙΝΗ     05-07-2022   el   \n1        ΚΑΘΗΜΕΡΙΝΗ     05-07-2022   el   \n2        ΚΑΘΗΜΕΡΙΝΗ     05-07-2022   el   \n3        ΚΑΘΗΜΕΡΙΝΗ     05-07-2022   el   \n4        ΚΑΘΗΜΕΡΙΝΗ     05-07-2022   el   \n...             ...            ...  ...   \n13731  THE GUARDIAN     02-07-2022   en   \n13732  THE GUARDIAN     03-07-2022   en   \n13733  THE GUARDIAN     03-07-2022   en   \n13734  THE GUARDIAN     03-07-2022   en   \n13735  THE GUARDIAN     03-07-2022   en   \n\n                                                 Heading  \\\n0      Μπορέλ: O Πούτιν πρέπει να επιλέξει «ανάμεσα σ...   \n1      Μαριούπολη: Οι φιλορώσοι αυτονομιστές κατέσχεσ...   \n2      Πρόβλεψη για αύξηση του εμπορίου μεταξύ Ρωσίας...   \n3      Σακελλαροπούλου σε Ζελένσκι: Είμαστε και θα εί...   \n4      Ουκρανία: Το ρωσοκρατούμενο πυρηνικό εργοστάσι...   \n...                                                  ...   \n13731  Russia-Ukraine war: what we know on day 129 of...   \n13732  Russia-Ukraine war: ‘Many killed’ in attack on...   \n13733  Russia-Ukraine war: what we know on day 130 of...   \n13734  Medics battle relentless wave of trauma in Ukr...   \n13735  Yes, Nato has a new vitality. But its united f...   \n\n                         Tag  \\\n0                     ΚΟΣΜΟΣ   \n1      ΠΟΛΕΜΟΣ ΣΤΗΝ ΟΥΚΡΑΝΙΑ   \n2          ΔΙΕΘΝΗΣ ΟΙΚΟΝΟΜΙΑ   \n3                   ΠΟΛΙΤΙΚΗ   \n4                     ΚΟΣΜΟΣ   \n...                      ...   \n13731                  WORLD   \n13732                  WORLD   \n13733                  WORLD   \n13734                  WORLD   \n13735          COMMENTISFREE   \n\n                                                    Text  Comments exist  \\\n0      Οι κυρώσεις, που έχουν επιβληθεί στην Ρωσία σε...           False   \n1      Οι φιλορώσοι αυτονομιστές κατέλαβαν δύο πλοία ...           False   \n2      Ο εμπορικός τζίρος μεταξύ Τουρκίας και Ρωσίας ...           False   \n3      «Το απαραβίαστο των συνόρων είναι η βάση της σ...           False   \n4      Ο μεγαλύτερος πυρηνικός σταθμός της Ευρώπης, μ...           False   \n...                                                  ...             ...   \n13731  Powerful explosions shook Ukraine’s southern c...           False   \n13732  13.44'Many killed' in attack on eastern Ukrain...           False   \n13733  Russia claims it has taken full control of Lys...           False   \n13734  Ludmilla Boiko can’t sleep. Every night, befor...           False   \n13735  Most summits bill themselves as “historic” and...           False   \n\n       Comments count Comments api key  \\\n0                   0                    \n1                   0                    \n2                   0                    \n3                   0                    \n4                   0                    \n...               ...              ...   \n13731               0                    \n13732               0                    \n13733               0                    \n13734               0                    \n13735               0                    \n\n                                             Article url  Chars  Words  \n0      https://www.kathimerini.gr/world/561942142/mpo...   4114    627  \n1      https://www.kathimerini.gr/world/561942133/mar...   2548    360  \n2      https://www.kathimerini.gr/economy/internation...   1848    274  \n3      https://www.kathimerini.gr/politics/561941488/...   2472    371  \n4      https://www.kathimerini.gr/world/561941377/oyk...   2829    418  \n...                                                  ...    ...    ...  \n13731  https://www.theguardian.com/world/2022/jul/02/...   4197    632  \n13732  https://www.theguardian.com/world/live/2022/ju...  18068   2729  \n13733  https://www.theguardian.com/world/2022/jul/03/...   3597    546  \n13734  https://www.theguardian.com/world/2022/jul/03/...   8698   1473  \n13735  https://www.theguardian.com/commentisfree/2022...   7195   1183  \n\n[13261 rows x 12 columns]",
      "text/html": "<div>\n<style scoped>\n    .dataframe tbody tr th:only-of-type {\n        vertical-align: middle;\n    }\n\n    .dataframe tbody tr th {\n        vertical-align: top;\n    }\n\n    .dataframe thead th {\n        text-align: right;\n    }\n</style>\n<table border=\"1\" class=\"dataframe\">\n  <thead>\n    <tr style=\"text-align: right;\">\n      <th></th>\n      <th>Publisher</th>\n      <th>Date Formatted</th>\n      <th>Lang</th>\n      <th>Heading</th>\n      <th>Tag</th>\n      <th>Text</th>\n      <th>Comments exist</th>\n      <th>Comments count</th>\n      <th>Comments api key</th>\n      <th>Article url</th>\n      <th>Chars</th>\n      <th>Words</th>\n    </tr>\n  </thead>\n  <tbody>\n    <tr>\n      <th>0</th>\n      <td>ΚΑΘΗΜΕΡΙΝΗ</td>\n      <td>05-07-2022</td>\n      <td>el</td>\n      <td>Μπορέλ: O Πούτιν πρέπει να επιλέξει «ανάμεσα σ...</td>\n      <td>ΚΟΣΜΟΣ</td>\n      <td>Οι κυρώσεις, που έχουν επιβληθεί στην Ρωσία σε...</td>\n      <td>False</td>\n      <td>0</td>\n      <td></td>\n      <td>https://www.kathimerini.gr/world/561942142/mpo...</td>\n      <td>4114</td>\n      <td>627</td>\n    </tr>\n    <tr>\n      <th>1</th>\n      <td>ΚΑΘΗΜΕΡΙΝΗ</td>\n      <td>05-07-2022</td>\n      <td>el</td>\n      <td>Μαριούπολη: Οι φιλορώσοι αυτονομιστές κατέσχεσ...</td>\n      <td>ΠΟΛΕΜΟΣ ΣΤΗΝ ΟΥΚΡΑΝΙΑ</td>\n      <td>Οι φιλορώσοι αυτονομιστές κατέλαβαν δύο πλοία ...</td>\n      <td>False</td>\n      <td>0</td>\n      <td></td>\n      <td>https://www.kathimerini.gr/world/561942133/mar...</td>\n      <td>2548</td>\n      <td>360</td>\n    </tr>\n    <tr>\n      <th>2</th>\n      <td>ΚΑΘΗΜΕΡΙΝΗ</td>\n      <td>05-07-2022</td>\n      <td>el</td>\n      <td>Πρόβλεψη για αύξηση του εμπορίου μεταξύ Ρωσίας...</td>\n      <td>ΔΙΕΘΝΗΣ ΟΙΚΟΝΟΜΙΑ</td>\n      <td>Ο εμπορικός τζίρος μεταξύ Τουρκίας και Ρωσίας ...</td>\n      <td>False</td>\n      <td>0</td>\n      <td></td>\n      <td>https://www.kathimerini.gr/economy/internation...</td>\n      <td>1848</td>\n      <td>274</td>\n    </tr>\n    <tr>\n      <th>3</th>\n      <td>ΚΑΘΗΜΕΡΙΝΗ</td>\n      <td>05-07-2022</td>\n      <td>el</td>\n      <td>Σακελλαροπούλου σε Ζελένσκι: Είμαστε και θα εί...</td>\n      <td>ΠΟΛΙΤΙΚΗ</td>\n      <td>«Το απαραβίαστο των συνόρων είναι η βάση της σ...</td>\n      <td>False</td>\n      <td>0</td>\n      <td></td>\n      <td>https://www.kathimerini.gr/politics/561941488/...</td>\n      <td>2472</td>\n      <td>371</td>\n    </tr>\n    <tr>\n      <th>4</th>\n      <td>ΚΑΘΗΜΕΡΙΝΗ</td>\n      <td>05-07-2022</td>\n      <td>el</td>\n      <td>Ουκρανία: Το ρωσοκρατούμενο πυρηνικό εργοστάσι...</td>\n      <td>ΚΟΣΜΟΣ</td>\n      <td>Ο μεγαλύτερος πυρηνικός σταθμός της Ευρώπης, μ...</td>\n      <td>False</td>\n      <td>0</td>\n      <td></td>\n      <td>https://www.kathimerini.gr/world/561941377/oyk...</td>\n      <td>2829</td>\n      <td>418</td>\n    </tr>\n    <tr>\n      <th>...</th>\n      <td>...</td>\n      <td>...</td>\n      <td>...</td>\n      <td>...</td>\n      <td>...</td>\n      <td>...</td>\n      <td>...</td>\n      <td>...</td>\n      <td>...</td>\n      <td>...</td>\n      <td>...</td>\n      <td>...</td>\n    </tr>\n    <tr>\n      <th>13731</th>\n      <td>THE GUARDIAN</td>\n      <td>02-07-2022</td>\n      <td>en</td>\n      <td>Russia-Ukraine war: what we know on day 129 of...</td>\n      <td>WORLD</td>\n      <td>Powerful explosions shook Ukraine’s southern c...</td>\n      <td>False</td>\n      <td>0</td>\n      <td></td>\n      <td>https://www.theguardian.com/world/2022/jul/02/...</td>\n      <td>4197</td>\n      <td>632</td>\n    </tr>\n    <tr>\n      <th>13732</th>\n      <td>THE GUARDIAN</td>\n      <td>03-07-2022</td>\n      <td>en</td>\n      <td>Russia-Ukraine war: ‘Many killed’ in attack on...</td>\n      <td>WORLD</td>\n      <td>13.44'Many killed' in attack on eastern Ukrain...</td>\n      <td>False</td>\n      <td>0</td>\n      <td></td>\n      <td>https://www.theguardian.com/world/live/2022/ju...</td>\n      <td>18068</td>\n      <td>2729</td>\n    </tr>\n    <tr>\n      <th>13733</th>\n      <td>THE GUARDIAN</td>\n      <td>03-07-2022</td>\n      <td>en</td>\n      <td>Russia-Ukraine war: what we know on day 130 of...</td>\n      <td>WORLD</td>\n      <td>Russia claims it has taken full control of Lys...</td>\n      <td>False</td>\n      <td>0</td>\n      <td></td>\n      <td>https://www.theguardian.com/world/2022/jul/03/...</td>\n      <td>3597</td>\n      <td>546</td>\n    </tr>\n    <tr>\n      <th>13734</th>\n      <td>THE GUARDIAN</td>\n      <td>03-07-2022</td>\n      <td>en</td>\n      <td>Medics battle relentless wave of trauma in Ukr...</td>\n      <td>WORLD</td>\n      <td>Ludmilla Boiko can’t sleep. Every night, befor...</td>\n      <td>False</td>\n      <td>0</td>\n      <td></td>\n      <td>https://www.theguardian.com/world/2022/jul/03/...</td>\n      <td>8698</td>\n      <td>1473</td>\n    </tr>\n    <tr>\n      <th>13735</th>\n      <td>THE GUARDIAN</td>\n      <td>03-07-2022</td>\n      <td>en</td>\n      <td>Yes, Nato has a new vitality. But its united f...</td>\n      <td>COMMENTISFREE</td>\n      <td>Most summits bill themselves as “historic” and...</td>\n      <td>False</td>\n      <td>0</td>\n      <td></td>\n      <td>https://www.theguardian.com/commentisfree/2022...</td>\n      <td>7195</td>\n      <td>1183</td>\n    </tr>\n  </tbody>\n</table>\n<p>13261 rows × 12 columns</p>\n</div>"
     },
     "execution_count": 398,
     "metadata": {},
     "output_type": "execute_result"
    }
   ],
   "source": [
    "war_df[war_df['Comments count'] == 0]"
   ],
   "metadata": {
    "collapsed": false,
    "pycharm": {
     "name": "#%%\n"
    }
   }
  },
  {
   "cell_type": "code",
   "execution_count": 399,
   "outputs": [
    {
     "data": {
      "text/plain": "     Publisher Date Formatted Lang  \\\n14  ΚΑΘΗΜΕΡΙΝΗ     04-07-2022   el   \n\n                                              Heading     Tag  \\\n14  Γερμανία: D-Day η 22η Ιουλίου για το ρωσικό φυ...  ΚΟΣΜΟΣ   \n\n                                                 Text  Comments exist  \\\n14  Η Γιασμίν Φαχίμι, πάλαι ποτέ γενική γραμματέας...           False   \n\n    Comments count Comments api key  \\\n14               0                    \n\n                                          Article url  Chars  Words  \n14  https://www.kathimerini.gr/world/561939931/ger...   4979    725  ",
      "text/html": "<div>\n<style scoped>\n    .dataframe tbody tr th:only-of-type {\n        vertical-align: middle;\n    }\n\n    .dataframe tbody tr th {\n        vertical-align: top;\n    }\n\n    .dataframe thead th {\n        text-align: right;\n    }\n</style>\n<table border=\"1\" class=\"dataframe\">\n  <thead>\n    <tr style=\"text-align: right;\">\n      <th></th>\n      <th>Publisher</th>\n      <th>Date Formatted</th>\n      <th>Lang</th>\n      <th>Heading</th>\n      <th>Tag</th>\n      <th>Text</th>\n      <th>Comments exist</th>\n      <th>Comments count</th>\n      <th>Comments api key</th>\n      <th>Article url</th>\n      <th>Chars</th>\n      <th>Words</th>\n    </tr>\n  </thead>\n  <tbody>\n    <tr>\n      <th>14</th>\n      <td>ΚΑΘΗΜΕΡΙΝΗ</td>\n      <td>04-07-2022</td>\n      <td>el</td>\n      <td>Γερμανία: D-Day η 22η Ιουλίου για το ρωσικό φυ...</td>\n      <td>ΚΟΣΜΟΣ</td>\n      <td>Η Γιασμίν Φαχίμι, πάλαι ποτέ γενική γραμματέας...</td>\n      <td>False</td>\n      <td>0</td>\n      <td></td>\n      <td>https://www.kathimerini.gr/world/561939931/ger...</td>\n      <td>4979</td>\n      <td>725</td>\n    </tr>\n  </tbody>\n</table>\n</div>"
     },
     "execution_count": 399,
     "metadata": {},
     "output_type": "execute_result"
    }
   ],
   "source": [
    "# check for duplicates\n",
    "war_df[war_df['Heading'].str.contains(\"D-Day\", case=False)]"
   ],
   "metadata": {
    "collapsed": false,
    "pycharm": {
     "name": "#%%\n"
    }
   }
  },
  {
   "cell_type": "code",
   "execution_count": 400,
   "outputs": [
    {
     "data": {
      "text/plain": "113023405"
     },
     "execution_count": 400,
     "metadata": {},
     "output_type": "execute_result"
    }
   ],
   "source": [
    "war_df.memory_usage(deep=True).sum()"
   ],
   "metadata": {
    "collapsed": false,
    "pycharm": {
     "name": "#%%\n"
    }
   }
  },
  {
   "cell_type": "code",
   "execution_count": 419,
   "outputs": [
    {
     "data": {
      "text/plain": "          Publisher Date Formatted Lang  \\\n13731  THE GUARDIAN     02-07-2022   en   \n13732  THE GUARDIAN     03-07-2022   en   \n13733  THE GUARDIAN     03-07-2022   en   \n13734  THE GUARDIAN     03-07-2022   en   \n13735  THE GUARDIAN     03-07-2022   en   \n\n                                                 Heading            Tag  \\\n13731  Russia-Ukraine war: what we know on day 129 of...          WORLD   \n13732  Russia-Ukraine war: ‘Many killed’ in attack on...          WORLD   \n13733  Russia-Ukraine war: what we know on day 130 of...          WORLD   \n13734  Medics battle relentless wave of trauma in Ukr...          WORLD   \n13735  Yes, Nato has a new vitality. But its united f...  COMMENTISFREE   \n\n                                                    Text  Comments exist  \\\n13731  Powerful explosions shook Ukraine’s southern c...           False   \n13732  13.44'Many killed' in attack on eastern Ukrain...           False   \n13733  Russia claims it has taken full control of Lys...           False   \n13734  Ludmilla Boiko can’t sleep. Every night, befor...           False   \n13735  Most summits bill themselves as “historic” and...           False   \n\n       Comments count Comments api key  \\\n13731               0                    \n13732               0                    \n13733               0                    \n13734               0                    \n13735               0                    \n\n                                             Article url  Chars  Words  \n13731  https://www.theguardian.com/world/2022/jul/02/...   4197    632  \n13732  https://www.theguardian.com/world/live/2022/ju...  18068   2729  \n13733  https://www.theguardian.com/world/2022/jul/03/...   3597    546  \n13734  https://www.theguardian.com/world/2022/jul/03/...   8698   1473  \n13735  https://www.theguardian.com/commentisfree/2022...   7195   1183  ",
      "text/html": "<div>\n<style scoped>\n    .dataframe tbody tr th:only-of-type {\n        vertical-align: middle;\n    }\n\n    .dataframe tbody tr th {\n        vertical-align: top;\n    }\n\n    .dataframe thead th {\n        text-align: right;\n    }\n</style>\n<table border=\"1\" class=\"dataframe\">\n  <thead>\n    <tr style=\"text-align: right;\">\n      <th></th>\n      <th>Publisher</th>\n      <th>Date Formatted</th>\n      <th>Lang</th>\n      <th>Heading</th>\n      <th>Tag</th>\n      <th>Text</th>\n      <th>Comments exist</th>\n      <th>Comments count</th>\n      <th>Comments api key</th>\n      <th>Article url</th>\n      <th>Chars</th>\n      <th>Words</th>\n    </tr>\n  </thead>\n  <tbody>\n    <tr>\n      <th>13731</th>\n      <td>THE GUARDIAN</td>\n      <td>02-07-2022</td>\n      <td>en</td>\n      <td>Russia-Ukraine war: what we know on day 129 of...</td>\n      <td>WORLD</td>\n      <td>Powerful explosions shook Ukraine’s southern c...</td>\n      <td>False</td>\n      <td>0</td>\n      <td></td>\n      <td>https://www.theguardian.com/world/2022/jul/02/...</td>\n      <td>4197</td>\n      <td>632</td>\n    </tr>\n    <tr>\n      <th>13732</th>\n      <td>THE GUARDIAN</td>\n      <td>03-07-2022</td>\n      <td>en</td>\n      <td>Russia-Ukraine war: ‘Many killed’ in attack on...</td>\n      <td>WORLD</td>\n      <td>13.44'Many killed' in attack on eastern Ukrain...</td>\n      <td>False</td>\n      <td>0</td>\n      <td></td>\n      <td>https://www.theguardian.com/world/live/2022/ju...</td>\n      <td>18068</td>\n      <td>2729</td>\n    </tr>\n    <tr>\n      <th>13733</th>\n      <td>THE GUARDIAN</td>\n      <td>03-07-2022</td>\n      <td>en</td>\n      <td>Russia-Ukraine war: what we know on day 130 of...</td>\n      <td>WORLD</td>\n      <td>Russia claims it has taken full control of Lys...</td>\n      <td>False</td>\n      <td>0</td>\n      <td></td>\n      <td>https://www.theguardian.com/world/2022/jul/03/...</td>\n      <td>3597</td>\n      <td>546</td>\n    </tr>\n    <tr>\n      <th>13734</th>\n      <td>THE GUARDIAN</td>\n      <td>03-07-2022</td>\n      <td>en</td>\n      <td>Medics battle relentless wave of trauma in Ukr...</td>\n      <td>WORLD</td>\n      <td>Ludmilla Boiko can’t sleep. Every night, befor...</td>\n      <td>False</td>\n      <td>0</td>\n      <td></td>\n      <td>https://www.theguardian.com/world/2022/jul/03/...</td>\n      <td>8698</td>\n      <td>1473</td>\n    </tr>\n    <tr>\n      <th>13735</th>\n      <td>THE GUARDIAN</td>\n      <td>03-07-2022</td>\n      <td>en</td>\n      <td>Yes, Nato has a new vitality. But its united f...</td>\n      <td>COMMENTISFREE</td>\n      <td>Most summits bill themselves as “historic” and...</td>\n      <td>False</td>\n      <td>0</td>\n      <td></td>\n      <td>https://www.theguardian.com/commentisfree/2022...</td>\n      <td>7195</td>\n      <td>1183</td>\n    </tr>\n  </tbody>\n</table>\n</div>"
     },
     "execution_count": 419,
     "metadata": {},
     "output_type": "execute_result"
    }
   ],
   "source": [
    "war_df.tail()"
   ],
   "metadata": {
    "collapsed": false,
    "pycharm": {
     "name": "#%%\n"
    }
   }
  },
  {
   "cell_type": "code",
   "execution_count": 333,
   "outputs": [
    {
     "data": {
      "text/plain": "Publisher                 category\nDate Formatted      datetime64[ns]\nLang                      category\nHeading                     string\nTag                       category\nText                        object\nComments exist                bool\nComments count               int32\nComments api key            string\nArticle url                 object\nChars                        int64\nWords                        int64\nYear                         int64\nMonth                        int64\nDay                          int64\ndtype: object"
     },
     "execution_count": 333,
     "metadata": {},
     "output_type": "execute_result"
    }
   ],
   "source": [
    "war_df.dtypes"
   ],
   "metadata": {
    "collapsed": false,
    "pycharm": {
     "name": "#%%\n"
    }
   }
  },
  {
   "cell_type": "code",
   "execution_count": 334,
   "outputs": [
    {
     "data": {
      "text/plain": "Publisher           0\nDate Formatted      0\nLang                0\nHeading             0\nTag                 0\nText                0\nComments exist      0\nComments count      0\nComments api key    0\nArticle url         0\nChars               0\nWords               0\nYear                0\nMonth               0\nDay                 0\ndtype: int64"
     },
     "execution_count": 334,
     "metadata": {},
     "output_type": "execute_result"
    }
   ],
   "source": [
    "war_df.isnull().sum()"
   ],
   "metadata": {
    "collapsed": false,
    "pycharm": {
     "name": "#%%\n"
    }
   }
  },
  {
   "cell_type": "code",
   "execution_count": 335,
   "outputs": [
    {
     "data": {
      "text/plain": "Publisher           0\nDate Formatted      0\nLang                0\nHeading             0\nTag                 0\nText                0\nComments exist      0\nComments count      0\nComments api key    0\nArticle url         0\nChars               0\nWords               0\nYear                0\nMonth               0\nDay                 0\ndtype: int64"
     },
     "execution_count": 335,
     "metadata": {},
     "output_type": "execute_result"
    }
   ],
   "source": [
    "war_df.isna().sum()"
   ],
   "metadata": {
    "collapsed": false,
    "pycharm": {
     "name": "#%%\n"
    }
   }
  },
  {
   "cell_type": "code",
   "execution_count": 293,
   "outputs": [
    {
     "data": {
      "text/plain": "    Publisher Date Formatted Lang  \\\n0  ΚΑΘΗΜΕΡΙΝΗ     2022-07-05   el   \n1  ΚΑΘΗΜΕΡΙΝΗ     2022-07-05   el   \n2  ΚΑΘΗΜΕΡΙΝΗ     2022-07-05   el   \n3  ΚΑΘΗΜΕΡΙΝΗ     2022-07-05   el   \n4  ΚΑΘΗΜΕΡΙΝΗ     2022-07-05   el   \n\n                                             Heading                    Tag  \\\n0  Μπορέλ: O Πούτιν πρέπει να επιλέξει «ανάμεσα σ...                 ΚΟΣΜΟΣ   \n1  Μαριούπολη: Οι φιλορώσοι αυτονομιστές κατέσχεσ...  ΠΟΛΕΜΟΣ ΣΤΗΝ ΟΥΚΡΑΝΙΑ   \n2  Πρόβλεψη για αύξηση του εμπορίου μεταξύ Ρωσίας...      ΔΙΕΘΝΗΣ ΟΙΚΟΝΟΜΙΑ   \n3  Σακελλαροπούλου σε Ζελένσκι: Είμαστε και θα εί...               ΠΟΛΙΤΙΚΗ   \n4  Ουκρανία: Το ρωσοκρατούμενο πυρηνικό εργοστάσι...                 ΚΟΣΜΟΣ   \n\n                                                Text  Comments exist  \\\n0  Οι κυρώσεις, που έχουν επιβληθεί στην Ρωσία σε...           False   \n1  Οι φιλορώσοι αυτονομιστές κατέλαβαν δύο πλοία ...           False   \n2  Ο εμπορικός τζίρος μεταξύ Τουρκίας και Ρωσίας ...           False   \n3  «Το απαραβίαστο των συνόρων είναι η βάση της σ...           False   \n4  Ο μεγαλύτερος πυρηνικός σταθμός της Ευρώπης, μ...           False   \n\n   Comments count Comments api key  \\\n0               0                    \n1               0                    \n2               0                    \n3               0                    \n4               0                    \n\n                                         Article url  Chars  Words  Year  \\\n0  https://www.kathimerini.gr/world/561942142/mpo...   4114    627  2022   \n1  https://www.kathimerini.gr/world/561942133/mar...   2548    360  2022   \n2  https://www.kathimerini.gr/economy/internation...   1848    274  2022   \n3  https://www.kathimerini.gr/politics/561941488/...   2472    371  2022   \n4  https://www.kathimerini.gr/world/561941377/oyk...   2829    418  2022   \n\n   Month  Day  \n0      7    5  \n1      7    5  \n2      7    5  \n3      7    5  \n4      7    5  ",
      "text/html": "<div>\n<style scoped>\n    .dataframe tbody tr th:only-of-type {\n        vertical-align: middle;\n    }\n\n    .dataframe tbody tr th {\n        vertical-align: top;\n    }\n\n    .dataframe thead th {\n        text-align: right;\n    }\n</style>\n<table border=\"1\" class=\"dataframe\">\n  <thead>\n    <tr style=\"text-align: right;\">\n      <th></th>\n      <th>Publisher</th>\n      <th>Date Formatted</th>\n      <th>Lang</th>\n      <th>Heading</th>\n      <th>Tag</th>\n      <th>Text</th>\n      <th>Comments exist</th>\n      <th>Comments count</th>\n      <th>Comments api key</th>\n      <th>Article url</th>\n      <th>Chars</th>\n      <th>Words</th>\n      <th>Year</th>\n      <th>Month</th>\n      <th>Day</th>\n    </tr>\n  </thead>\n  <tbody>\n    <tr>\n      <th>0</th>\n      <td>ΚΑΘΗΜΕΡΙΝΗ</td>\n      <td>2022-07-05</td>\n      <td>el</td>\n      <td>Μπορέλ: O Πούτιν πρέπει να επιλέξει «ανάμεσα σ...</td>\n      <td>ΚΟΣΜΟΣ</td>\n      <td>Οι κυρώσεις, που έχουν επιβληθεί στην Ρωσία σε...</td>\n      <td>False</td>\n      <td>0</td>\n      <td></td>\n      <td>https://www.kathimerini.gr/world/561942142/mpo...</td>\n      <td>4114</td>\n      <td>627</td>\n      <td>2022</td>\n      <td>7</td>\n      <td>5</td>\n    </tr>\n    <tr>\n      <th>1</th>\n      <td>ΚΑΘΗΜΕΡΙΝΗ</td>\n      <td>2022-07-05</td>\n      <td>el</td>\n      <td>Μαριούπολη: Οι φιλορώσοι αυτονομιστές κατέσχεσ...</td>\n      <td>ΠΟΛΕΜΟΣ ΣΤΗΝ ΟΥΚΡΑΝΙΑ</td>\n      <td>Οι φιλορώσοι αυτονομιστές κατέλαβαν δύο πλοία ...</td>\n      <td>False</td>\n      <td>0</td>\n      <td></td>\n      <td>https://www.kathimerini.gr/world/561942133/mar...</td>\n      <td>2548</td>\n      <td>360</td>\n      <td>2022</td>\n      <td>7</td>\n      <td>5</td>\n    </tr>\n    <tr>\n      <th>2</th>\n      <td>ΚΑΘΗΜΕΡΙΝΗ</td>\n      <td>2022-07-05</td>\n      <td>el</td>\n      <td>Πρόβλεψη για αύξηση του εμπορίου μεταξύ Ρωσίας...</td>\n      <td>ΔΙΕΘΝΗΣ ΟΙΚΟΝΟΜΙΑ</td>\n      <td>Ο εμπορικός τζίρος μεταξύ Τουρκίας και Ρωσίας ...</td>\n      <td>False</td>\n      <td>0</td>\n      <td></td>\n      <td>https://www.kathimerini.gr/economy/internation...</td>\n      <td>1848</td>\n      <td>274</td>\n      <td>2022</td>\n      <td>7</td>\n      <td>5</td>\n    </tr>\n    <tr>\n      <th>3</th>\n      <td>ΚΑΘΗΜΕΡΙΝΗ</td>\n      <td>2022-07-05</td>\n      <td>el</td>\n      <td>Σακελλαροπούλου σε Ζελένσκι: Είμαστε και θα εί...</td>\n      <td>ΠΟΛΙΤΙΚΗ</td>\n      <td>«Το απαραβίαστο των συνόρων είναι η βάση της σ...</td>\n      <td>False</td>\n      <td>0</td>\n      <td></td>\n      <td>https://www.kathimerini.gr/politics/561941488/...</td>\n      <td>2472</td>\n      <td>371</td>\n      <td>2022</td>\n      <td>7</td>\n      <td>5</td>\n    </tr>\n    <tr>\n      <th>4</th>\n      <td>ΚΑΘΗΜΕΡΙΝΗ</td>\n      <td>2022-07-05</td>\n      <td>el</td>\n      <td>Ουκρανία: Το ρωσοκρατούμενο πυρηνικό εργοστάσι...</td>\n      <td>ΚΟΣΜΟΣ</td>\n      <td>Ο μεγαλύτερος πυρηνικός σταθμός της Ευρώπης, μ...</td>\n      <td>False</td>\n      <td>0</td>\n      <td></td>\n      <td>https://www.kathimerini.gr/world/561941377/oyk...</td>\n      <td>2829</td>\n      <td>418</td>\n      <td>2022</td>\n      <td>7</td>\n      <td>5</td>\n    </tr>\n  </tbody>\n</table>\n</div>"
     },
     "execution_count": 293,
     "metadata": {},
     "output_type": "execute_result"
    }
   ],
   "source": [
    "war_df.head()"
   ],
   "metadata": {
    "collapsed": false,
    "pycharm": {
     "name": "#%%\n"
    }
   }
  },
  {
   "cell_type": "code",
   "execution_count": 336,
   "outputs": [
    {
     "data": {
      "text/plain": "Empty DataFrame\nColumns: [Publisher, Date Formatted, Lang, Heading, Tag, Text, Comments exist, Comments count, Comments api key, Article url, Chars, Words, Year, Month, Day]\nIndex: []",
      "text/html": "<div>\n<style scoped>\n    .dataframe tbody tr th:only-of-type {\n        vertical-align: middle;\n    }\n\n    .dataframe tbody tr th {\n        vertical-align: top;\n    }\n\n    .dataframe thead th {\n        text-align: right;\n    }\n</style>\n<table border=\"1\" class=\"dataframe\">\n  <thead>\n    <tr style=\"text-align: right;\">\n      <th></th>\n      <th>Publisher</th>\n      <th>Date Formatted</th>\n      <th>Lang</th>\n      <th>Heading</th>\n      <th>Tag</th>\n      <th>Text</th>\n      <th>Comments exist</th>\n      <th>Comments count</th>\n      <th>Comments api key</th>\n      <th>Article url</th>\n      <th>Chars</th>\n      <th>Words</th>\n      <th>Year</th>\n      <th>Month</th>\n      <th>Day</th>\n    </tr>\n  </thead>\n  <tbody>\n  </tbody>\n</table>\n</div>"
     },
     "execution_count": 336,
     "metadata": {},
     "output_type": "execute_result"
    }
   ],
   "source": [
    "war_df[war_df['Text'].str.contains('http')]"
   ],
   "metadata": {
    "collapsed": false,
    "pycharm": {
     "name": "#%%\n"
    }
   }
  },
  {
   "cell_type": "code",
   "execution_count": 420,
   "outputs": [],
   "source": [
    "war_df.to_csv('../data/processed/war-ukraine-extended-ordered.csv')"
   ],
   "metadata": {
    "collapsed": false,
    "pycharm": {
     "name": "#%%\n"
    }
   }
  }
 ],
 "metadata": {
  "kernelspec": {
   "display_name": "Python 3",
   "language": "python",
   "name": "python3"
  },
  "language_info": {
   "codemirror_mode": {
    "name": "ipython",
    "version": 2
   },
   "file_extension": ".py",
   "mimetype": "text/x-python",
   "name": "python",
   "nbconvert_exporter": "python",
   "pygments_lexer": "ipython2",
   "version": "2.7.6"
  }
 },
 "nbformat": 4,
 "nbformat_minor": 0
}