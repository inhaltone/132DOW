{
 "cells": [
  {
   "cell_type": "code",
   "execution_count": 470,
   "outputs": [],
   "source": [
    "import pandas as pd"
   ],
   "metadata": {
    "collapsed": false,
    "pycharm": {
     "name": "#%%\n"
    }
   }
  },
  {
   "cell_type": "code",
   "execution_count": 471,
   "outputs": [
    {
     "name": "stdout",
     "output_type": "stream",
     "text": [
      "Publisher\n"
     ]
    }
   ],
   "source": [
    "# data model\n",
    "from enum import Enum\n",
    "\n",
    "class Publishers(Enum):\n",
    "    KATHIMERINI = 'ΚΑΘΗΜΕΡΙΝΗ'\n",
    "    EFSYN = 'ΕΦΗΜΕΡΙΔΑ ΤΩΝ ΣΥΝΤΑΚΤΩΝ'\n",
    "    NAFTEMPORIKI = 'ΝΑΥΤΕΜΠΟΡΙΚΗ'\n",
    "    THE_GUARDIAN = 'THE GUARDIAN'\n",
    "\n",
    "class DataModel(Enum):\n",
    "    ARTICLE_PUBLISHER = 'Publisher'\n",
    "    ARTICLE_TAG = 'Tag'\n",
    "    ARTICLE_URL = 'Article url'\n",
    "    ARTICLE_HEADING = 'Heading'\n",
    "    ARTICLE_TEXT = 'Text'\n",
    "    ARTICLE_ABSTRACT = 'Summary'\n",
    "    ARTICLE_DATE_TIME = 'Date Formatted'\n",
    "    ARTICLE_IMAGE_URL = 'Image url'\n",
    "    ARTICLE_IMAGE_CAPTION = 'image caption'\n",
    "    ARTICLE_HAS_COMMENTS = 'Comments exist'\n",
    "    ARTICLE_COMMENT_COUNT = 'Comments count'\n",
    "    ARTICLE_COMMENT_API_KEY = 'Comments api key'\n",
    "    ARTICLE_COMMENT_URL = 'Comments url'\n",
    "    ARTICLE_LANG = 'Lang'\n",
    "    ARTICLE_DATE_FORMAT_READY = 'Date Formatted'\n",
    "\n",
    "class ArticleModel:\n",
    "    publisher =  DataModel.ARTICLE_PUBLISHER.value\n",
    "    date = DataModel.ARTICLE_DATE_FORMAT_READY.value\n",
    "    comments = DataModel.ARTICLE_HAS_COMMENTS.value\n",
    "    commentApiKey = DataModel.ARTICLE_COMMENT_API_KEY.value\n",
    "    commentsCount = DataModel.ARTICLE_COMMENT_COUNT.value\n",
    "    commentsUrl = DataModel.ARTICLE_COMMENT_URL.value\n",
    "    lang = DataModel.ARTICLE_LANG.value\n",
    "    url = DataModel.ARTICLE_URL.value\n",
    "    heading = DataModel.ARTICLE_HEADING.value\n",
    "    summary = DataModel.ARTICLE_ABSTRACT.value\n",
    "    tag = DataModel.ARTICLE_TAG.value\n",
    "    text = DataModel.ARTICLE_TEXT.value\n",
    "    imageUrl = DataModel.ARTICLE_IMAGE_URL.value\n",
    "\n",
    "\n",
    "print(ArticleModel.publisher)"
   ],
   "metadata": {
    "collapsed": false,
    "pycharm": {
     "name": "#%%\n"
    }
   }
  },
  {
   "cell_type": "markdown",
   "source": [
    "## kathimerini"
   ],
   "metadata": {
    "collapsed": false,
    "pycharm": {
     "name": "#%% md\n"
    }
   }
  },
  {
   "cell_type": "code",
   "execution_count": 472,
   "outputs": [],
   "source": [
    "kathimerini_df = pd.read_csv('../data/raw/kathimerini/kathimerini-polemos-stin-oukrania.csv', index_col=[0])"
   ],
   "metadata": {
    "collapsed": false,
    "pycharm": {
     "name": "#%%\n"
    }
   }
  },
  {
   "cell_type": "code",
   "execution_count": 473,
   "outputs": [
    {
     "data": {
      "text/plain": "                                                 url  \\\n0  https://www.kathimerini.gr/world/561942142/mpo...   \n1  https://www.kathimerini.gr/world/561942133/mar...   \n2  https://www.kathimerini.gr/economy/internation...   \n3  https://www.kathimerini.gr/politics/561941488/...   \n4  https://www.kathimerini.gr/world/561941377/oyk...   \n\n                                             heading  \\\n0  Μπορέλ: O Πούτιν πρέπει να επιλέξει «ανάμεσα σ...   \n1  Μαριούπολη: Οι φιλορώσοι αυτονομιστές κατέσχεσ...   \n2  Πρόβλεψη για αύξηση του εμπορίου μεταξύ Ρωσίας...   \n3  Σακελλαροπούλου σε Ζελένσκι: Είμαστε και θα εί...   \n4  Ουκρανία: Το ρωσοκρατούμενο πυρηνικό εργοστάσι...   \n\n                                             summary                    tag  \\\n0  Οι κυρώσεις, που έχουν επιβληθεί στην Ρωσία σε...                 ΚΟΣΜΟΣ   \n1  Πρόκειται για τις πρώτες τέτοιες ενέργειες σε ...  ΠΟΛΕΜΟΣ ΣΤΗΝ ΟΥΚΡΑΝΙΑ   \n2  Ο εμπορικός τζίρος μεταξύ Τουρκίας και Ρωσίας ...      ΔΙΕΘΝΗΣ ΟΙΚΟΝΟΜΙΑ   \n3  «Το απαραβίαστο των συνόρων είναι η βάση της σ...               ΠΟΛΙΤΙΚΗ   \n4  Ο μεγαλύτερος πυρηνικός σταθμός της Ευρώπης, μ...                 ΚΟΣΜΟΣ   \n\n                                           full_text  \\\n0  Οι κυρώσεις, που έχουν επιβληθεί στην Ρωσία σε...   \n1  Οι φιλορώσοι αυτονομιστές κατέλαβαν δύο πλοία ...   \n2  Ο εμπορικός τζίρος μεταξύ Τουρκίας και Ρωσίας ...   \n3  «Το απαραβίαστο των συνόρων είναι η βάση της σ...   \n4  Ο μεγαλύτερος πυρηνικός σταθμός της Ευρώπης, μ...   \n\n                     dateUTC               date  \n0  2022-07-05T18:12:04+03:00  05.07.2022  18:12  \n1  2022-07-05T17:52:12+03:00  05.07.2022  17:52  \n2  2022-07-05T12:09:12+03:00  05.07.2022  12:09  \n3  2022-07-05T10:32:34+03:00  05.07.2022  10:32  \n4  2022-07-05T08:53:05+03:00  05.07.2022  08:53  ",
      "text/html": "<div>\n<style scoped>\n    .dataframe tbody tr th:only-of-type {\n        vertical-align: middle;\n    }\n\n    .dataframe tbody tr th {\n        vertical-align: top;\n    }\n\n    .dataframe thead th {\n        text-align: right;\n    }\n</style>\n<table border=\"1\" class=\"dataframe\">\n  <thead>\n    <tr style=\"text-align: right;\">\n      <th></th>\n      <th>url</th>\n      <th>heading</th>\n      <th>summary</th>\n      <th>tag</th>\n      <th>full_text</th>\n      <th>dateUTC</th>\n      <th>date</th>\n    </tr>\n  </thead>\n  <tbody>\n    <tr>\n      <th>0</th>\n      <td>https://www.kathimerini.gr/world/561942142/mpo...</td>\n      <td>Μπορέλ: O Πούτιν πρέπει να επιλέξει «ανάμεσα σ...</td>\n      <td>Οι κυρώσεις, που έχουν επιβληθεί στην Ρωσία σε...</td>\n      <td>ΚΟΣΜΟΣ</td>\n      <td>Οι κυρώσεις, που έχουν επιβληθεί στην Ρωσία σε...</td>\n      <td>2022-07-05T18:12:04+03:00</td>\n      <td>05.07.2022  18:12</td>\n    </tr>\n    <tr>\n      <th>1</th>\n      <td>https://www.kathimerini.gr/world/561942133/mar...</td>\n      <td>Μαριούπολη: Οι φιλορώσοι αυτονομιστές κατέσχεσ...</td>\n      <td>Πρόκειται για τις πρώτες τέτοιες ενέργειες σε ...</td>\n      <td>ΠΟΛΕΜΟΣ ΣΤΗΝ ΟΥΚΡΑΝΙΑ</td>\n      <td>Οι φιλορώσοι αυτονομιστές κατέλαβαν δύο πλοία ...</td>\n      <td>2022-07-05T17:52:12+03:00</td>\n      <td>05.07.2022  17:52</td>\n    </tr>\n    <tr>\n      <th>2</th>\n      <td>https://www.kathimerini.gr/economy/internation...</td>\n      <td>Πρόβλεψη για αύξηση του εμπορίου μεταξύ Ρωσίας...</td>\n      <td>Ο εμπορικός τζίρος μεταξύ Τουρκίας και Ρωσίας ...</td>\n      <td>ΔΙΕΘΝΗΣ ΟΙΚΟΝΟΜΙΑ</td>\n      <td>Ο εμπορικός τζίρος μεταξύ Τουρκίας και Ρωσίας ...</td>\n      <td>2022-07-05T12:09:12+03:00</td>\n      <td>05.07.2022  12:09</td>\n    </tr>\n    <tr>\n      <th>3</th>\n      <td>https://www.kathimerini.gr/politics/561941488/...</td>\n      <td>Σακελλαροπούλου σε Ζελένσκι: Είμαστε και θα εί...</td>\n      <td>«Το απαραβίαστο των συνόρων είναι η βάση της σ...</td>\n      <td>ΠΟΛΙΤΙΚΗ</td>\n      <td>«Το απαραβίαστο των συνόρων είναι η βάση της σ...</td>\n      <td>2022-07-05T10:32:34+03:00</td>\n      <td>05.07.2022  10:32</td>\n    </tr>\n    <tr>\n      <th>4</th>\n      <td>https://www.kathimerini.gr/world/561941377/oyk...</td>\n      <td>Ουκρανία: Το ρωσοκρατούμενο πυρηνικό εργοστάσι...</td>\n      <td>Ο μεγαλύτερος πυρηνικός σταθμός της Ευρώπης, μ...</td>\n      <td>ΚΟΣΜΟΣ</td>\n      <td>Ο μεγαλύτερος πυρηνικός σταθμός της Ευρώπης, μ...</td>\n      <td>2022-07-05T08:53:05+03:00</td>\n      <td>05.07.2022  08:53</td>\n    </tr>\n  </tbody>\n</table>\n</div>"
     },
     "execution_count": 473,
     "metadata": {},
     "output_type": "execute_result"
    }
   ],
   "source": [
    "kathimerini_df.head()"
   ],
   "metadata": {
    "collapsed": false,
    "pycharm": {
     "name": "#%%\n"
    }
   }
  },
  {
   "cell_type": "code",
   "execution_count": 474,
   "outputs": [
    {
     "data": {
      "text/plain": "30792373"
     },
     "execution_count": 474,
     "metadata": {},
     "output_type": "execute_result"
    }
   ],
   "source": [
    "kathimerini_df.memory_usage(deep=True).sum()"
   ],
   "metadata": {
    "collapsed": false,
    "pycharm": {
     "name": "#%%\n"
    }
   }
  },
  {
   "cell_type": "code",
   "execution_count": 475,
   "outputs": [
    {
     "data": {
      "text/plain": "url          object\nheading      object\nsummary      object\ntag          object\nfull_text    object\ndateUTC      object\ndate         string\ndtype: object"
     },
     "execution_count": 475,
     "metadata": {},
     "output_type": "execute_result"
    }
   ],
   "source": [
    "# date series to string type\n",
    "kathimerini_df.astype({'date': 'string'}).dtypes"
   ],
   "metadata": {
    "collapsed": false,
    "pycharm": {
     "name": "#%%\n"
    }
   }
  },
  {
   "cell_type": "code",
   "execution_count": 476,
   "outputs": [],
   "source": [
    "import re\n",
    "def extractDateFromDatetime(string: str) -> str:\n",
    "    try:\n",
    "        match = re.search(r'\\d{2}(?:.|-|/)\\d{2}(?:.|-|/)\\d{4}', string)\n",
    "        date = match.group() \\\n",
    "            .replace(\".\", \"-\") \\\n",
    "            .replace(\"/\", \"-\")\n",
    "    except:\n",
    "        date = None\n",
    "    finally:\n",
    "        return date\n",
    "\n",
    "# Create new column with universal date format for further analysis\n",
    "kathimerini_df[ArticleModel.date] = kathimerini_df['date'].apply(extractDateFromDatetime)"
   ],
   "metadata": {
    "collapsed": false,
    "pycharm": {
     "name": "#%%\n"
    }
   }
  },
  {
   "cell_type": "code",
   "execution_count": 477,
   "outputs": [],
   "source": [
    "kathimerini_df.insert(0, ArticleModel.publisher, Publishers.KATHIMERINI.value)"
   ],
   "metadata": {
    "collapsed": false,
    "pycharm": {
     "name": "#%%\n"
    }
   }
  },
  {
   "cell_type": "code",
   "execution_count": 478,
   "outputs": [],
   "source": [
    "# create comments col as type Boolean\n",
    "kathimerini_df.insert(0, ArticleModel.comments, False)"
   ],
   "metadata": {
    "collapsed": false,
    "pycharm": {
     "name": "#%%\n"
    }
   }
  },
  {
   "cell_type": "code",
   "execution_count": 479,
   "outputs": [],
   "source": [
    "# create comment count property with default value of 0\n",
    "kathimerini_df.insert(0, ArticleModel.commentsCount, 0)"
   ],
   "metadata": {
    "collapsed": false,
    "pycharm": {
     "name": "#%%\n"
    }
   }
  },
  {
   "cell_type": "code",
   "execution_count": 480,
   "outputs": [],
   "source": [
    "# create comment key property\n",
    "kathimerini_df.insert(0, ArticleModel.commentApiKey, None)"
   ],
   "metadata": {
    "collapsed": false,
    "pycharm": {
     "name": "#%%\n"
    }
   }
  },
  {
   "cell_type": "code",
   "execution_count": 481,
   "outputs": [],
   "source": [
    "# create lang property\n",
    "kathimerini_df.insert(0, ArticleModel.lang, 'el')"
   ],
   "metadata": {
    "collapsed": false,
    "pycharm": {
     "name": "#%%\n"
    }
   }
  },
  {
   "cell_type": "code",
   "execution_count": 482,
   "outputs": [
    {
     "data": {
      "text/plain": "Lang                object\nComments api key    object\nComments count       int64\nComments exist        bool\nPublisher           object\nurl                 object\nheading             object\nsummary             object\ntag                 object\nfull_text           object\ndateUTC             object\ndate                object\nDate Formatted      object\ndtype: object"
     },
     "execution_count": 482,
     "metadata": {},
     "output_type": "execute_result"
    }
   ],
   "source": [
    "kathimerini_df.astype({ArticleModel.comments: 'bool'}).dtypes"
   ],
   "metadata": {
    "collapsed": false,
    "pycharm": {
     "name": "#%%\n"
    }
   }
  },
  {
   "cell_type": "code",
   "execution_count": 483,
   "outputs": [
    {
     "data": {
      "text/plain": "Index(['Lang', 'Comments api key', 'Comments count', 'Comments exist',\n       'Publisher', 'url', 'heading', 'summary', 'tag', 'full_text', 'dateUTC',\n       'date', 'Date Formatted'],\n      dtype='object')"
     },
     "execution_count": 483,
     "metadata": {},
     "output_type": "execute_result"
    }
   ],
   "source": [
    "kathimerini_df.keys()"
   ],
   "metadata": {
    "collapsed": false,
    "pycharm": {
     "name": "#%%\n"
    }
   }
  },
  {
   "cell_type": "code",
   "execution_count": 484,
   "outputs": [],
   "source": [
    "# reshape DF to match the ArticleModel properties\n",
    "kathimerini_df.rename(\n",
    "    columns={\"url\": ArticleModel.url,\n",
    "             \"heading\": ArticleModel.heading,\n",
    "             \"summary\": ArticleModel.summary,\n",
    "             \"tag\": ArticleModel.tag,\n",
    "             \"full_text\": ArticleModel.text\n",
    "             },\n",
    "    inplace=True\n",
    "            )"
   ],
   "metadata": {
    "collapsed": false,
    "pycharm": {
     "name": "#%%\n"
    }
   }
  },
  {
   "cell_type": "code",
   "execution_count": 485,
   "outputs": [
    {
     "data": {
      "text/plain": "  Lang Comments api key  Comments count  Comments exist   Publisher  \\\n0   el             None               0           False  ΚΑΘΗΜΕΡΙΝΗ   \n1   el             None               0           False  ΚΑΘΗΜΕΡΙΝΗ   \n2   el             None               0           False  ΚΑΘΗΜΕΡΙΝΗ   \n3   el             None               0           False  ΚΑΘΗΜΕΡΙΝΗ   \n4   el             None               0           False  ΚΑΘΗΜΕΡΙΝΗ   \n\n                                         Article url  \\\n0  https://www.kathimerini.gr/world/561942142/mpo...   \n1  https://www.kathimerini.gr/world/561942133/mar...   \n2  https://www.kathimerini.gr/economy/internation...   \n3  https://www.kathimerini.gr/politics/561941488/...   \n4  https://www.kathimerini.gr/world/561941377/oyk...   \n\n                                             Heading  \\\n0  Μπορέλ: O Πούτιν πρέπει να επιλέξει «ανάμεσα σ...   \n1  Μαριούπολη: Οι φιλορώσοι αυτονομιστές κατέσχεσ...   \n2  Πρόβλεψη για αύξηση του εμπορίου μεταξύ Ρωσίας...   \n3  Σακελλαροπούλου σε Ζελένσκι: Είμαστε και θα εί...   \n4  Ουκρανία: Το ρωσοκρατούμενο πυρηνικό εργοστάσι...   \n\n                                             Summary                    Tag  \\\n0  Οι κυρώσεις, που έχουν επιβληθεί στην Ρωσία σε...                 ΚΟΣΜΟΣ   \n1  Πρόκειται για τις πρώτες τέτοιες ενέργειες σε ...  ΠΟΛΕΜΟΣ ΣΤΗΝ ΟΥΚΡΑΝΙΑ   \n2  Ο εμπορικός τζίρος μεταξύ Τουρκίας και Ρωσίας ...      ΔΙΕΘΝΗΣ ΟΙΚΟΝΟΜΙΑ   \n3  «Το απαραβίαστο των συνόρων είναι η βάση της σ...               ΠΟΛΙΤΙΚΗ   \n4  Ο μεγαλύτερος πυρηνικός σταθμός της Ευρώπης, μ...                 ΚΟΣΜΟΣ   \n\n                                                Text  \\\n0  Οι κυρώσεις, που έχουν επιβληθεί στην Ρωσία σε...   \n1  Οι φιλορώσοι αυτονομιστές κατέλαβαν δύο πλοία ...   \n2  Ο εμπορικός τζίρος μεταξύ Τουρκίας και Ρωσίας ...   \n3  «Το απαραβίαστο των συνόρων είναι η βάση της σ...   \n4  Ο μεγαλύτερος πυρηνικός σταθμός της Ευρώπης, μ...   \n\n                     dateUTC               date Date Formatted  \n0  2022-07-05T18:12:04+03:00  05.07.2022  18:12     05-07-2022  \n1  2022-07-05T17:52:12+03:00  05.07.2022  17:52     05-07-2022  \n2  2022-07-05T12:09:12+03:00  05.07.2022  12:09     05-07-2022  \n3  2022-07-05T10:32:34+03:00  05.07.2022  10:32     05-07-2022  \n4  2022-07-05T08:53:05+03:00  05.07.2022  08:53     05-07-2022  ",
      "text/html": "<div>\n<style scoped>\n    .dataframe tbody tr th:only-of-type {\n        vertical-align: middle;\n    }\n\n    .dataframe tbody tr th {\n        vertical-align: top;\n    }\n\n    .dataframe thead th {\n        text-align: right;\n    }\n</style>\n<table border=\"1\" class=\"dataframe\">\n  <thead>\n    <tr style=\"text-align: right;\">\n      <th></th>\n      <th>Lang</th>\n      <th>Comments api key</th>\n      <th>Comments count</th>\n      <th>Comments exist</th>\n      <th>Publisher</th>\n      <th>Article url</th>\n      <th>Heading</th>\n      <th>Summary</th>\n      <th>Tag</th>\n      <th>Text</th>\n      <th>dateUTC</th>\n      <th>date</th>\n      <th>Date Formatted</th>\n    </tr>\n  </thead>\n  <tbody>\n    <tr>\n      <th>0</th>\n      <td>el</td>\n      <td>None</td>\n      <td>0</td>\n      <td>False</td>\n      <td>ΚΑΘΗΜΕΡΙΝΗ</td>\n      <td>https://www.kathimerini.gr/world/561942142/mpo...</td>\n      <td>Μπορέλ: O Πούτιν πρέπει να επιλέξει «ανάμεσα σ...</td>\n      <td>Οι κυρώσεις, που έχουν επιβληθεί στην Ρωσία σε...</td>\n      <td>ΚΟΣΜΟΣ</td>\n      <td>Οι κυρώσεις, που έχουν επιβληθεί στην Ρωσία σε...</td>\n      <td>2022-07-05T18:12:04+03:00</td>\n      <td>05.07.2022  18:12</td>\n      <td>05-07-2022</td>\n    </tr>\n    <tr>\n      <th>1</th>\n      <td>el</td>\n      <td>None</td>\n      <td>0</td>\n      <td>False</td>\n      <td>ΚΑΘΗΜΕΡΙΝΗ</td>\n      <td>https://www.kathimerini.gr/world/561942133/mar...</td>\n      <td>Μαριούπολη: Οι φιλορώσοι αυτονομιστές κατέσχεσ...</td>\n      <td>Πρόκειται για τις πρώτες τέτοιες ενέργειες σε ...</td>\n      <td>ΠΟΛΕΜΟΣ ΣΤΗΝ ΟΥΚΡΑΝΙΑ</td>\n      <td>Οι φιλορώσοι αυτονομιστές κατέλαβαν δύο πλοία ...</td>\n      <td>2022-07-05T17:52:12+03:00</td>\n      <td>05.07.2022  17:52</td>\n      <td>05-07-2022</td>\n    </tr>\n    <tr>\n      <th>2</th>\n      <td>el</td>\n      <td>None</td>\n      <td>0</td>\n      <td>False</td>\n      <td>ΚΑΘΗΜΕΡΙΝΗ</td>\n      <td>https://www.kathimerini.gr/economy/internation...</td>\n      <td>Πρόβλεψη για αύξηση του εμπορίου μεταξύ Ρωσίας...</td>\n      <td>Ο εμπορικός τζίρος μεταξύ Τουρκίας και Ρωσίας ...</td>\n      <td>ΔΙΕΘΝΗΣ ΟΙΚΟΝΟΜΙΑ</td>\n      <td>Ο εμπορικός τζίρος μεταξύ Τουρκίας και Ρωσίας ...</td>\n      <td>2022-07-05T12:09:12+03:00</td>\n      <td>05.07.2022  12:09</td>\n      <td>05-07-2022</td>\n    </tr>\n    <tr>\n      <th>3</th>\n      <td>el</td>\n      <td>None</td>\n      <td>0</td>\n      <td>False</td>\n      <td>ΚΑΘΗΜΕΡΙΝΗ</td>\n      <td>https://www.kathimerini.gr/politics/561941488/...</td>\n      <td>Σακελλαροπούλου σε Ζελένσκι: Είμαστε και θα εί...</td>\n      <td>«Το απαραβίαστο των συνόρων είναι η βάση της σ...</td>\n      <td>ΠΟΛΙΤΙΚΗ</td>\n      <td>«Το απαραβίαστο των συνόρων είναι η βάση της σ...</td>\n      <td>2022-07-05T10:32:34+03:00</td>\n      <td>05.07.2022  10:32</td>\n      <td>05-07-2022</td>\n    </tr>\n    <tr>\n      <th>4</th>\n      <td>el</td>\n      <td>None</td>\n      <td>0</td>\n      <td>False</td>\n      <td>ΚΑΘΗΜΕΡΙΝΗ</td>\n      <td>https://www.kathimerini.gr/world/561941377/oyk...</td>\n      <td>Ουκρανία: Το ρωσοκρατούμενο πυρηνικό εργοστάσι...</td>\n      <td>Ο μεγαλύτερος πυρηνικός σταθμός της Ευρώπης, μ...</td>\n      <td>ΚΟΣΜΟΣ</td>\n      <td>Ο μεγαλύτερος πυρηνικός σταθμός της Ευρώπης, μ...</td>\n      <td>2022-07-05T08:53:05+03:00</td>\n      <td>05.07.2022  08:53</td>\n      <td>05-07-2022</td>\n    </tr>\n  </tbody>\n</table>\n</div>"
     },
     "execution_count": 485,
     "metadata": {},
     "output_type": "execute_result"
    }
   ],
   "source": [
    "kathimerini_df.head()"
   ],
   "metadata": {
    "collapsed": false,
    "pycharm": {
     "name": "#%%\n"
    }
   }
  },
  {
   "cell_type": "code",
   "execution_count": 487,
   "outputs": [],
   "source": [
    "#save as csv to intermediate stage\n",
    "kathimerini_df.to_csv('../data/intermediate/kathimerini-data-frame.csv')"
   ],
   "metadata": {
    "collapsed": false,
    "pycharm": {
     "name": "#%%\n"
    }
   }
  },
  {
   "cell_type": "markdown",
   "source": [
    "===== end of kathimerini ====="
   ],
   "metadata": {
    "collapsed": false,
    "pycharm": {
     "name": "#%% md\n"
    }
   }
  },
  {
   "cell_type": "markdown",
   "source": [
    "## EFSYN"
   ],
   "metadata": {
    "collapsed": false,
    "pycharm": {
     "name": "#%% md\n"
    }
   }
  },
  {
   "cell_type": "code",
   "execution_count": 488,
   "outputs": [
    {
     "data": {
      "text/plain": "                  tag        date   time  \\\n0  ΕΞΩΤΕΡΙΚΗ ΠΟΛΙΤΙΚΗ  06.07.2022  12:25   \n1              ΕΥΡΩΠΗ  05.07.2022  06:00   \n2             ΑΠΟΨΕΙΣ  04.07.2022  16:00   \n3              ΕΥΡΩΠΗ  04.07.2022  06:00   \n4             ΝΗΣΙΔΕΣ  03.07.2022  19:02   \n5              ΕΥΡΩΠΗ  03.07.2022  15:18   \n6             ΝΗΣΙΔΕΣ  03.07.2022  11:20   \n7              ΕΥΡΩΠΗ  03.07.2022  10:07   \n8              ΕΥΡΩΠΗ  02.07.2022  21:44   \n9              ΕΥΡΩΠΗ  02.07.2022  19:21   \n\n                                             heading  \\\n0  Πυρά Ζελένσκι κατά Ελλήνων εφοπλιστών για τη μ...   \n1     «Πεθαίνουμε σαν τις μύγες, γιατί είμαστε εδώ;»   \n2    Ποιους βλάπτει η αντίσταση του ουκρανικού λαού;   \n3                             Καθυστερημένη εκκένωση   \n4  Ο πόλεμος στην Ουκρανία και η κομμουνιστική Αρ...   \n5  «Ελευθερώθηκε» πλήρως το Λουγκάνσκ, λέει η Μόσ...   \n6                    Μια Ευρώπη φτωχή και εξαρτημένη   \n7  Εκρήξεις με θύματα στο Μπέλγκοροντ - Ρωσική υπ...   \n8  Πέφτει και το τελευταίο ουκρανικό προπύργιο το...   \n9  Τι συμβαίνει με τις στρατολογήσεις στον ουκραν...   \n\n                                                 url  \\\n0  https://www.efsyn.gr/politiki/exoteriki-politi...   \n1  https://www.efsyn.gr/kosmos/eyropi/350944_peth...   \n2  https://www.efsyn.gr/stiles/apopseis/350824_po...   \n3  https://www.efsyn.gr/kosmos/eyropi/350811_kath...   \n4  https://www.efsyn.gr/nisides/350623_o-polemos-...   \n5  https://www.efsyn.gr/kosmos/eyropi/350735_eley...   \n6  https://www.efsyn.gr/nisides/350594_mia-eyropi...   \n7  https://www.efsyn.gr/kosmos/eyropi/350722_ekri...   \n8  https://www.efsyn.gr/kosmos/eyropi/350708_peft...   \n9  https://www.efsyn.gr/kosmos/eyropi/350687_ti-s...   \n\n                                                text  \\\n0  Επίθεση στην Αθήνα μέσω του συνεδρίου του Econ...   \n1  Η κατάρρευση του ουκρανικού μετώπου στο Ντονμπ...   \n2  Μα, τι θέλει και αντιστέκεται επιτέλους αυτός ...   \n3  Πολύ νωρίτερα του αναμενόμενου από τους «ανεξά...   \n4  Ο πόλεμος στην Ουκρανία έθεσε σε σοβαρή δοκιμα...   \n5  Ο Ρώσος υπουργός Άμυνας Σεργκέι Σοϊγκού ενημέρ...   \n6  Ονειρο και όραμα αυτών που υλοποίησαν την ιδέα...   \n7  Εκρήξεις στο Μπέλγκοροντ, κοντά στα σύνορα με ...   \n8  Την απελευθέρωση του Λισιχάνσκ, στην ανατολική...   \n9  Ισραηλινός υπήκοος πιάστηκε αιχμάλωτος από φιλ...   \n\n                                           image_url  \n0  https://www.efsyn.gr/sites/default/files/style...  \n1  https://www.efsyn.gr/sites/default/files/style...  \n2  https://www.efsyn.gr/sites/default/files/style...  \n3  https://www.efsyn.gr/sites/default/files/style...  \n4  https://www.efsyn.gr/sites/default/files/style...  \n5  https://www.efsyn.gr/sites/default/files/style...  \n6  https://www.efsyn.gr/sites/default/files/style...  \n7  https://www.efsyn.gr/sites/default/files/style...  \n8  https://www.efsyn.gr/sites/default/files/style...  \n9  https://www.efsyn.gr/sites/default/files/style...  ",
      "text/html": "<div>\n<style scoped>\n    .dataframe tbody tr th:only-of-type {\n        vertical-align: middle;\n    }\n\n    .dataframe tbody tr th {\n        vertical-align: top;\n    }\n\n    .dataframe thead th {\n        text-align: right;\n    }\n</style>\n<table border=\"1\" class=\"dataframe\">\n  <thead>\n    <tr style=\"text-align: right;\">\n      <th></th>\n      <th>tag</th>\n      <th>date</th>\n      <th>time</th>\n      <th>heading</th>\n      <th>url</th>\n      <th>text</th>\n      <th>image_url</th>\n    </tr>\n  </thead>\n  <tbody>\n    <tr>\n      <th>0</th>\n      <td>ΕΞΩΤΕΡΙΚΗ ΠΟΛΙΤΙΚΗ</td>\n      <td>06.07.2022</td>\n      <td>12:25</td>\n      <td>Πυρά Ζελένσκι κατά Ελλήνων εφοπλιστών για τη μ...</td>\n      <td>https://www.efsyn.gr/politiki/exoteriki-politi...</td>\n      <td>Επίθεση στην Αθήνα μέσω του συνεδρίου του Econ...</td>\n      <td>https://www.efsyn.gr/sites/default/files/style...</td>\n    </tr>\n    <tr>\n      <th>1</th>\n      <td>ΕΥΡΩΠΗ</td>\n      <td>05.07.2022</td>\n      <td>06:00</td>\n      <td>«Πεθαίνουμε σαν τις μύγες, γιατί είμαστε εδώ;»</td>\n      <td>https://www.efsyn.gr/kosmos/eyropi/350944_peth...</td>\n      <td>Η κατάρρευση του ουκρανικού μετώπου στο Ντονμπ...</td>\n      <td>https://www.efsyn.gr/sites/default/files/style...</td>\n    </tr>\n    <tr>\n      <th>2</th>\n      <td>ΑΠΟΨΕΙΣ</td>\n      <td>04.07.2022</td>\n      <td>16:00</td>\n      <td>Ποιους βλάπτει η αντίσταση του ουκρανικού λαού;</td>\n      <td>https://www.efsyn.gr/stiles/apopseis/350824_po...</td>\n      <td>Μα, τι θέλει και αντιστέκεται επιτέλους αυτός ...</td>\n      <td>https://www.efsyn.gr/sites/default/files/style...</td>\n    </tr>\n    <tr>\n      <th>3</th>\n      <td>ΕΥΡΩΠΗ</td>\n      <td>04.07.2022</td>\n      <td>06:00</td>\n      <td>Καθυστερημένη εκκένωση</td>\n      <td>https://www.efsyn.gr/kosmos/eyropi/350811_kath...</td>\n      <td>Πολύ νωρίτερα του αναμενόμενου από τους «ανεξά...</td>\n      <td>https://www.efsyn.gr/sites/default/files/style...</td>\n    </tr>\n    <tr>\n      <th>4</th>\n      <td>ΝΗΣΙΔΕΣ</td>\n      <td>03.07.2022</td>\n      <td>19:02</td>\n      <td>Ο πόλεμος στην Ουκρανία και η κομμουνιστική Αρ...</td>\n      <td>https://www.efsyn.gr/nisides/350623_o-polemos-...</td>\n      <td>Ο πόλεμος στην Ουκρανία έθεσε σε σοβαρή δοκιμα...</td>\n      <td>https://www.efsyn.gr/sites/default/files/style...</td>\n    </tr>\n    <tr>\n      <th>5</th>\n      <td>ΕΥΡΩΠΗ</td>\n      <td>03.07.2022</td>\n      <td>15:18</td>\n      <td>«Ελευθερώθηκε» πλήρως το Λουγκάνσκ, λέει η Μόσ...</td>\n      <td>https://www.efsyn.gr/kosmos/eyropi/350735_eley...</td>\n      <td>Ο Ρώσος υπουργός Άμυνας Σεργκέι Σοϊγκού ενημέρ...</td>\n      <td>https://www.efsyn.gr/sites/default/files/style...</td>\n    </tr>\n    <tr>\n      <th>6</th>\n      <td>ΝΗΣΙΔΕΣ</td>\n      <td>03.07.2022</td>\n      <td>11:20</td>\n      <td>Μια Ευρώπη φτωχή και εξαρτημένη</td>\n      <td>https://www.efsyn.gr/nisides/350594_mia-eyropi...</td>\n      <td>Ονειρο και όραμα αυτών που υλοποίησαν την ιδέα...</td>\n      <td>https://www.efsyn.gr/sites/default/files/style...</td>\n    </tr>\n    <tr>\n      <th>7</th>\n      <td>ΕΥΡΩΠΗ</td>\n      <td>03.07.2022</td>\n      <td>10:07</td>\n      <td>Εκρήξεις με θύματα στο Μπέλγκοροντ - Ρωσική υπ...</td>\n      <td>https://www.efsyn.gr/kosmos/eyropi/350722_ekri...</td>\n      <td>Εκρήξεις στο Μπέλγκοροντ, κοντά στα σύνορα με ...</td>\n      <td>https://www.efsyn.gr/sites/default/files/style...</td>\n    </tr>\n    <tr>\n      <th>8</th>\n      <td>ΕΥΡΩΠΗ</td>\n      <td>02.07.2022</td>\n      <td>21:44</td>\n      <td>Πέφτει και το τελευταίο ουκρανικό προπύργιο το...</td>\n      <td>https://www.efsyn.gr/kosmos/eyropi/350708_peft...</td>\n      <td>Την απελευθέρωση του Λισιχάνσκ, στην ανατολική...</td>\n      <td>https://www.efsyn.gr/sites/default/files/style...</td>\n    </tr>\n    <tr>\n      <th>9</th>\n      <td>ΕΥΡΩΠΗ</td>\n      <td>02.07.2022</td>\n      <td>19:21</td>\n      <td>Τι συμβαίνει με τις στρατολογήσεις στον ουκραν...</td>\n      <td>https://www.efsyn.gr/kosmos/eyropi/350687_ti-s...</td>\n      <td>Ισραηλινός υπήκοος πιάστηκε αιχμάλωτος από φιλ...</td>\n      <td>https://www.efsyn.gr/sites/default/files/style...</td>\n    </tr>\n  </tbody>\n</table>\n</div>"
     },
     "execution_count": 488,
     "metadata": {},
     "output_type": "execute_result"
    }
   ],
   "source": [
    "efsyn_df = pd.read_csv('../data/raw/efsyn/efsyn-oukrania.csv', index_col=[0])\n",
    "efsyn_df.head(10)"
   ],
   "metadata": {
    "collapsed": false,
    "pycharm": {
     "name": "#%%\n"
    }
   }
  },
  {
   "cell_type": "code",
   "execution_count": 489,
   "outputs": [
    {
     "data": {
      "text/plain": "tag          object\ndate         string\ntime         object\nheading      object\nurl          object\ntext         object\nimage_url    object\ndtype: object"
     },
     "execution_count": 489,
     "metadata": {},
     "output_type": "execute_result"
    }
   ],
   "source": [
    "# date series to string type\n",
    "efsyn_df.astype({'date': 'string'}).dtypes"
   ],
   "metadata": {
    "collapsed": false,
    "pycharm": {
     "name": "#%%\n"
    }
   }
  },
  {
   "cell_type": "code",
   "execution_count": 490,
   "outputs": [],
   "source": [
    "import re\n",
    "def extractDateFromDatetime(string: str) -> str:\n",
    "    try:\n",
    "        match = re.search(r'\\d{2}(?:.|-|/)\\d{2}(?:.|-|/)\\d{4}', string)\n",
    "        date = match.group() \\\n",
    "            .replace(\".\", \"-\") \\\n",
    "            .replace(\"/\", \"-\")\n",
    "    except:\n",
    "        date = None\n",
    "    finally:\n",
    "        return date\n",
    "\n",
    "# Create new col with universal date format for further analysis\n",
    "efsyn_df[ArticleModel.date] = kathimerini_df['date'].apply(extractDateFromDatetime)"
   ],
   "metadata": {
    "collapsed": false,
    "pycharm": {
     "name": "#%%\n"
    }
   }
  },
  {
   "cell_type": "code",
   "execution_count": 491,
   "outputs": [],
   "source": [
    "efsyn_df.insert(0, ArticleModel.publisher, Publishers.EFSYN.value)"
   ],
   "metadata": {
    "collapsed": false,
    "pycharm": {
     "name": "#%%\n"
    }
   }
  },
  {
   "cell_type": "code",
   "execution_count": 492,
   "outputs": [],
   "source": [
    "# create comments col as type Boolean\n",
    "efsyn_df.insert(0, ArticleModel.comments, False)"
   ],
   "metadata": {
    "collapsed": false,
    "pycharm": {
     "name": "#%%\n"
    }
   }
  },
  {
   "cell_type": "code",
   "execution_count": 493,
   "outputs": [],
   "source": [
    "# create comment count property with default value of 0\n",
    "efsyn_df.insert(0, ArticleModel.commentsCount, 0)"
   ],
   "metadata": {
    "collapsed": false,
    "pycharm": {
     "name": "#%%\n"
    }
   }
  },
  {
   "cell_type": "code",
   "execution_count": 494,
   "outputs": [],
   "source": [
    "# create comment key property\n",
    "efsyn_df.insert(0, ArticleModel.commentApiKey, None)"
   ],
   "metadata": {
    "collapsed": false,
    "pycharm": {
     "name": "#%%\n"
    }
   }
  },
  {
   "cell_type": "code",
   "execution_count": 495,
   "outputs": [],
   "source": [
    "# create lang property\n",
    "efsyn_df.insert(0, ArticleModel.lang, 'el')"
   ],
   "metadata": {
    "collapsed": false,
    "pycharm": {
     "name": "#%%\n"
    }
   }
  },
  {
   "cell_type": "code",
   "execution_count": 496,
   "outputs": [
    {
     "data": {
      "text/plain": "23433160"
     },
     "execution_count": 496,
     "metadata": {},
     "output_type": "execute_result"
    }
   ],
   "source": [
    "efsyn_df.memory_usage(deep=True).sum()"
   ],
   "metadata": {
    "collapsed": false,
    "pycharm": {
     "name": "#%%\n"
    }
   }
  },
  {
   "cell_type": "code",
   "execution_count": 497,
   "outputs": [
    {
     "data": {
      "text/plain": "Index(['Lang', 'Comments api key', 'Comments count', 'Comments exist',\n       'Publisher', 'tag', 'date', 'time', 'heading', 'url', 'text',\n       'image_url', 'Date Formatted'],\n      dtype='object')"
     },
     "execution_count": 497,
     "metadata": {},
     "output_type": "execute_result"
    }
   ],
   "source": [
    "efsyn_df.keys()"
   ],
   "metadata": {
    "collapsed": false,
    "pycharm": {
     "name": "#%%\n"
    }
   }
  },
  {
   "cell_type": "code",
   "execution_count": 498,
   "outputs": [],
   "source": [
    "# Casting df with ArticleModel class\n",
    "efsyn_df.rename(\n",
    "    columns={\"url\": ArticleModel.url,\n",
    "             \"heading\": ArticleModel.heading,\n",
    "             \"summary\": ArticleModel.summary,\n",
    "             \"tag\": ArticleModel.tag,\n",
    "             \"text\": ArticleModel.text,\n",
    "             \"image_url\": ArticleModel.imageUrl\n",
    "             },\n",
    "    inplace=True\n",
    "            )"
   ],
   "metadata": {
    "collapsed": false,
    "pycharm": {
     "name": "#%%\n"
    }
   }
  },
  {
   "cell_type": "code",
   "execution_count": 499,
   "outputs": [
    {
     "data": {
      "text/plain": "  Lang Comments api key  Comments count  Comments exist  \\\n0   el             None               0           False   \n1   el             None               0           False   \n2   el             None               0           False   \n3   el             None               0           False   \n4   el             None               0           False   \n\n                 Publisher                 Tag        date   time  \\\n0  ΕΦΗΜΕΡΙΔΑ ΤΩΝ ΣΥΝΤΑΚΤΩΝ  ΕΞΩΤΕΡΙΚΗ ΠΟΛΙΤΙΚΗ  06.07.2022  12:25   \n1  ΕΦΗΜΕΡΙΔΑ ΤΩΝ ΣΥΝΤΑΚΤΩΝ              ΕΥΡΩΠΗ  05.07.2022  06:00   \n2  ΕΦΗΜΕΡΙΔΑ ΤΩΝ ΣΥΝΤΑΚΤΩΝ             ΑΠΟΨΕΙΣ  04.07.2022  16:00   \n3  ΕΦΗΜΕΡΙΔΑ ΤΩΝ ΣΥΝΤΑΚΤΩΝ              ΕΥΡΩΠΗ  04.07.2022  06:00   \n4  ΕΦΗΜΕΡΙΔΑ ΤΩΝ ΣΥΝΤΑΚΤΩΝ             ΝΗΣΙΔΕΣ  03.07.2022  19:02   \n\n                                             Heading  \\\n0  Πυρά Ζελένσκι κατά Ελλήνων εφοπλιστών για τη μ...   \n1     «Πεθαίνουμε σαν τις μύγες, γιατί είμαστε εδώ;»   \n2    Ποιους βλάπτει η αντίσταση του ουκρανικού λαού;   \n3                             Καθυστερημένη εκκένωση   \n4  Ο πόλεμος στην Ουκρανία και η κομμουνιστική Αρ...   \n\n                                         Article url  \\\n0  https://www.efsyn.gr/politiki/exoteriki-politi...   \n1  https://www.efsyn.gr/kosmos/eyropi/350944_peth...   \n2  https://www.efsyn.gr/stiles/apopseis/350824_po...   \n3  https://www.efsyn.gr/kosmos/eyropi/350811_kath...   \n4  https://www.efsyn.gr/nisides/350623_o-polemos-...   \n\n                                                Text  \\\n0  Επίθεση στην Αθήνα μέσω του συνεδρίου του Econ...   \n1  Η κατάρρευση του ουκρανικού μετώπου στο Ντονμπ...   \n2  Μα, τι θέλει και αντιστέκεται επιτέλους αυτός ...   \n3  Πολύ νωρίτερα του αναμενόμενου από τους «ανεξά...   \n4  Ο πόλεμος στην Ουκρανία έθεσε σε σοβαρή δοκιμα...   \n\n                                           Image url Date Formatted  \n0  https://www.efsyn.gr/sites/default/files/style...     05-07-2022  \n1  https://www.efsyn.gr/sites/default/files/style...     05-07-2022  \n2  https://www.efsyn.gr/sites/default/files/style...     05-07-2022  \n3  https://www.efsyn.gr/sites/default/files/style...     05-07-2022  \n4  https://www.efsyn.gr/sites/default/files/style...     05-07-2022  ",
      "text/html": "<div>\n<style scoped>\n    .dataframe tbody tr th:only-of-type {\n        vertical-align: middle;\n    }\n\n    .dataframe tbody tr th {\n        vertical-align: top;\n    }\n\n    .dataframe thead th {\n        text-align: right;\n    }\n</style>\n<table border=\"1\" class=\"dataframe\">\n  <thead>\n    <tr style=\"text-align: right;\">\n      <th></th>\n      <th>Lang</th>\n      <th>Comments api key</th>\n      <th>Comments count</th>\n      <th>Comments exist</th>\n      <th>Publisher</th>\n      <th>Tag</th>\n      <th>date</th>\n      <th>time</th>\n      <th>Heading</th>\n      <th>Article url</th>\n      <th>Text</th>\n      <th>Image url</th>\n      <th>Date Formatted</th>\n    </tr>\n  </thead>\n  <tbody>\n    <tr>\n      <th>0</th>\n      <td>el</td>\n      <td>None</td>\n      <td>0</td>\n      <td>False</td>\n      <td>ΕΦΗΜΕΡΙΔΑ ΤΩΝ ΣΥΝΤΑΚΤΩΝ</td>\n      <td>ΕΞΩΤΕΡΙΚΗ ΠΟΛΙΤΙΚΗ</td>\n      <td>06.07.2022</td>\n      <td>12:25</td>\n      <td>Πυρά Ζελένσκι κατά Ελλήνων εφοπλιστών για τη μ...</td>\n      <td>https://www.efsyn.gr/politiki/exoteriki-politi...</td>\n      <td>Επίθεση στην Αθήνα μέσω του συνεδρίου του Econ...</td>\n      <td>https://www.efsyn.gr/sites/default/files/style...</td>\n      <td>05-07-2022</td>\n    </tr>\n    <tr>\n      <th>1</th>\n      <td>el</td>\n      <td>None</td>\n      <td>0</td>\n      <td>False</td>\n      <td>ΕΦΗΜΕΡΙΔΑ ΤΩΝ ΣΥΝΤΑΚΤΩΝ</td>\n      <td>ΕΥΡΩΠΗ</td>\n      <td>05.07.2022</td>\n      <td>06:00</td>\n      <td>«Πεθαίνουμε σαν τις μύγες, γιατί είμαστε εδώ;»</td>\n      <td>https://www.efsyn.gr/kosmos/eyropi/350944_peth...</td>\n      <td>Η κατάρρευση του ουκρανικού μετώπου στο Ντονμπ...</td>\n      <td>https://www.efsyn.gr/sites/default/files/style...</td>\n      <td>05-07-2022</td>\n    </tr>\n    <tr>\n      <th>2</th>\n      <td>el</td>\n      <td>None</td>\n      <td>0</td>\n      <td>False</td>\n      <td>ΕΦΗΜΕΡΙΔΑ ΤΩΝ ΣΥΝΤΑΚΤΩΝ</td>\n      <td>ΑΠΟΨΕΙΣ</td>\n      <td>04.07.2022</td>\n      <td>16:00</td>\n      <td>Ποιους βλάπτει η αντίσταση του ουκρανικού λαού;</td>\n      <td>https://www.efsyn.gr/stiles/apopseis/350824_po...</td>\n      <td>Μα, τι θέλει και αντιστέκεται επιτέλους αυτός ...</td>\n      <td>https://www.efsyn.gr/sites/default/files/style...</td>\n      <td>05-07-2022</td>\n    </tr>\n    <tr>\n      <th>3</th>\n      <td>el</td>\n      <td>None</td>\n      <td>0</td>\n      <td>False</td>\n      <td>ΕΦΗΜΕΡΙΔΑ ΤΩΝ ΣΥΝΤΑΚΤΩΝ</td>\n      <td>ΕΥΡΩΠΗ</td>\n      <td>04.07.2022</td>\n      <td>06:00</td>\n      <td>Καθυστερημένη εκκένωση</td>\n      <td>https://www.efsyn.gr/kosmos/eyropi/350811_kath...</td>\n      <td>Πολύ νωρίτερα του αναμενόμενου από τους «ανεξά...</td>\n      <td>https://www.efsyn.gr/sites/default/files/style...</td>\n      <td>05-07-2022</td>\n    </tr>\n    <tr>\n      <th>4</th>\n      <td>el</td>\n      <td>None</td>\n      <td>0</td>\n      <td>False</td>\n      <td>ΕΦΗΜΕΡΙΔΑ ΤΩΝ ΣΥΝΤΑΚΤΩΝ</td>\n      <td>ΝΗΣΙΔΕΣ</td>\n      <td>03.07.2022</td>\n      <td>19:02</td>\n      <td>Ο πόλεμος στην Ουκρανία και η κομμουνιστική Αρ...</td>\n      <td>https://www.efsyn.gr/nisides/350623_o-polemos-...</td>\n      <td>Ο πόλεμος στην Ουκρανία έθεσε σε σοβαρή δοκιμα...</td>\n      <td>https://www.efsyn.gr/sites/default/files/style...</td>\n      <td>05-07-2022</td>\n    </tr>\n  </tbody>\n</table>\n</div>"
     },
     "execution_count": 499,
     "metadata": {},
     "output_type": "execute_result"
    }
   ],
   "source": [
    "efsyn_df.head()"
   ],
   "metadata": {
    "collapsed": false,
    "pycharm": {
     "name": "#%%\n"
    }
   }
  },
  {
   "cell_type": "code",
   "execution_count": 502,
   "outputs": [],
   "source": [
    "#save as csv to intermediate stage\n",
    "efsyn_df.to_csv('../data/intermediate/efsyn-data-frame.csv')"
   ],
   "metadata": {
    "collapsed": false,
    "pycharm": {
     "name": "#%%\n"
    }
   }
  },
  {
   "cell_type": "markdown",
   "source": [
    "## naftemporiki"
   ],
   "metadata": {
    "collapsed": false,
    "pycharm": {
     "name": "#%% md\n"
    }
   }
  },
  {
   "cell_type": "code",
   "execution_count": 503,
   "outputs": [
    {
     "data": {
      "text/plain": "                                                 url  \\\n0  https://www.naftemporiki.gr//story/1880064/pol...   \n1  https://www.naftemporiki.gr//story/1880057/sit...   \n2  https://www.naftemporiki.gr//story/1880042/men...   \n3  https://www.naftemporiki.gr//story/1880040/pur...   \n4  https://www.naftemporiki.gr//finance/story/188...   \n5  https://www.naftemporiki.gr//story/1879923/erx...   \n6  https://www.naftemporiki.gr//story/1879906/epi...   \n7  https://www.naftemporiki.gr//finance/story/187...   \n8  https://www.naftemporiki.gr//finance/story/187...   \n9  https://www.naftemporiki.gr//story/1879847/isp...   \n\n                                             heading               date  \\\n0  Πόλεμος στην Ουκρανία: Τι αποκάλυψε ο «πιο επι...  06/07/2022  14:30   \n1  Σιτηρά: Η Μόσχα αρνείται το περιστατικό με το ...  06/07/2022  14:16   \n2  Μεντβέντεφ: Παράλογη η ιδέα να τιμωρείται η χώ...  06/07/2022  13:35   \n3  Πυρά Λαβρόφ κατά Μακρόν για τη δημοσιοποίηση τ...  06/07/2022  13:34   \n4  «Η Ρωσία αντιμετωπίζει ένα οικονομικό σοκ» αλλ...  06/07/2022  13:17   \n5  Έρχεται κατάπαυση του πυρός αν η Ρωσία καταλάβ...  06/07/2022  09:12   \n6  Επίπληξη Ζελένσκι: Καλεί την ηγεσία του στρατο...  06/07/2022  07:36   \n7                    Το παγκόσμιο πόκερ με τα σιτηρά  06/07/2022  06:59   \n8  Όλο το σχέδιο υποκατάστασης του ρωσικού φυσικο...  05/07/2022  22:04   \n9  Ισπανία: Τριγμοί στο κυβερνητικό στρατόπεδο με...  05/07/2022  21:31   \n\n                  tag                                               text  \\\n0              ΚΟΣΜΟΣ  Πριν από μία εβδομάδα η επικεφαλής των Υπηρεσι...   \n1              ΚΟΣΜΟΣ  Το ρωσικό υπουργείο Εξωτερικών ανακοίνωσε σήμε...   \n2              ΚΟΣΜΟΣ  Ο πρώην πρόεδρος της Ρωσίας Ντιμίτρι Μεντβέντε...   \n3              ΚΟΣΜΟΣ  Ο Ρώσος υπουργός Εξωτερικών Σεργκέι Λαβρόφ δήλ...   \n4  ΟΙΚΟΝΟΜΙΑ & ΑΓΟΡΕΣ  Η οικονομία της Ρωσίας αντιμετωπίζει καλύτερα ...   \n5              ΚΟΣΜΟΣ  Με την πτώση της πόλης Λισικάνσκ, η Μόσχα ελέγ...   \n6              ΚΟΣΜΟΣ  Μετά τον σάλο που προκάλεσε στην  Ουκρανία  αν...   \n7  ΟΙΚΟΝΟΜΙΑ & ΑΓΟΡΕΣ  Του Μιχάλη Ψύλου [email protected] Ακούγεται π...   \n8  ΟΙΚΟΝΟΜΙΑ & ΑΓΟΡΕΣ  Από την έντυπη έκδοση Της Λαλέλας Χρυσανθοπούλ...   \n9              ΚΟΣΜΟΣ  Η αποδέσμευση σχεδόν ενός δισεκατομμυρίου ευρώ...   \n\n                                               image   0  \n0  https://www.naftemporiki.gr//fu/p/1876264/638/... NaN  \n1  https://www.naftemporiki.gr//fu/p/1880058/638/... NaN  \n2  https://www.naftemporiki.gr//fu/p/1880043/638/... NaN  \n3  https://www.naftemporiki.gr//fu/p/1838456/638/... NaN  \n4  https://www.naftemporiki.gr//fu/p/1877139/638/... NaN  \n5  https://www.naftemporiki.gr//fu/p/1879925/638/... NaN  \n6  https://www.naftemporiki.gr//fu/p/1879907/638/... NaN  \n7  https://www.naftemporiki.gr//fu/p/1879898/638/... NaN  \n8  https://www.naftemporiki.gr//fu/p/1839763/638/... NaN  \n9  https://www.naftemporiki.gr//fu/p/1877835/638/... NaN  ",
      "text/html": "<div>\n<style scoped>\n    .dataframe tbody tr th:only-of-type {\n        vertical-align: middle;\n    }\n\n    .dataframe tbody tr th {\n        vertical-align: top;\n    }\n\n    .dataframe thead th {\n        text-align: right;\n    }\n</style>\n<table border=\"1\" class=\"dataframe\">\n  <thead>\n    <tr style=\"text-align: right;\">\n      <th></th>\n      <th>url</th>\n      <th>heading</th>\n      <th>date</th>\n      <th>tag</th>\n      <th>text</th>\n      <th>image</th>\n      <th>0</th>\n    </tr>\n  </thead>\n  <tbody>\n    <tr>\n      <th>0</th>\n      <td>https://www.naftemporiki.gr//story/1880064/pol...</td>\n      <td>Πόλεμος στην Ουκρανία: Τι αποκάλυψε ο «πιο επι...</td>\n      <td>06/07/2022  14:30</td>\n      <td>ΚΟΣΜΟΣ</td>\n      <td>Πριν από μία εβδομάδα η επικεφαλής των Υπηρεσι...</td>\n      <td>https://www.naftemporiki.gr//fu/p/1876264/638/...</td>\n      <td>NaN</td>\n    </tr>\n    <tr>\n      <th>1</th>\n      <td>https://www.naftemporiki.gr//story/1880057/sit...</td>\n      <td>Σιτηρά: Η Μόσχα αρνείται το περιστατικό με το ...</td>\n      <td>06/07/2022  14:16</td>\n      <td>ΚΟΣΜΟΣ</td>\n      <td>Το ρωσικό υπουργείο Εξωτερικών ανακοίνωσε σήμε...</td>\n      <td>https://www.naftemporiki.gr//fu/p/1880058/638/...</td>\n      <td>NaN</td>\n    </tr>\n    <tr>\n      <th>2</th>\n      <td>https://www.naftemporiki.gr//story/1880042/men...</td>\n      <td>Μεντβέντεφ: Παράλογη η ιδέα να τιμωρείται η χώ...</td>\n      <td>06/07/2022  13:35</td>\n      <td>ΚΟΣΜΟΣ</td>\n      <td>Ο πρώην πρόεδρος της Ρωσίας Ντιμίτρι Μεντβέντε...</td>\n      <td>https://www.naftemporiki.gr//fu/p/1880043/638/...</td>\n      <td>NaN</td>\n    </tr>\n    <tr>\n      <th>3</th>\n      <td>https://www.naftemporiki.gr//story/1880040/pur...</td>\n      <td>Πυρά Λαβρόφ κατά Μακρόν για τη δημοσιοποίηση τ...</td>\n      <td>06/07/2022  13:34</td>\n      <td>ΚΟΣΜΟΣ</td>\n      <td>Ο Ρώσος υπουργός Εξωτερικών Σεργκέι Λαβρόφ δήλ...</td>\n      <td>https://www.naftemporiki.gr//fu/p/1838456/638/...</td>\n      <td>NaN</td>\n    </tr>\n    <tr>\n      <th>4</th>\n      <td>https://www.naftemporiki.gr//finance/story/188...</td>\n      <td>«Η Ρωσία αντιμετωπίζει ένα οικονομικό σοκ» αλλ...</td>\n      <td>06/07/2022  13:17</td>\n      <td>ΟΙΚΟΝΟΜΙΑ &amp; ΑΓΟΡΕΣ</td>\n      <td>Η οικονομία της Ρωσίας αντιμετωπίζει καλύτερα ...</td>\n      <td>https://www.naftemporiki.gr//fu/p/1877139/638/...</td>\n      <td>NaN</td>\n    </tr>\n    <tr>\n      <th>5</th>\n      <td>https://www.naftemporiki.gr//story/1879923/erx...</td>\n      <td>Έρχεται κατάπαυση του πυρός αν η Ρωσία καταλάβ...</td>\n      <td>06/07/2022  09:12</td>\n      <td>ΚΟΣΜΟΣ</td>\n      <td>Με την πτώση της πόλης Λισικάνσκ, η Μόσχα ελέγ...</td>\n      <td>https://www.naftemporiki.gr//fu/p/1879925/638/...</td>\n      <td>NaN</td>\n    </tr>\n    <tr>\n      <th>6</th>\n      <td>https://www.naftemporiki.gr//story/1879906/epi...</td>\n      <td>Επίπληξη Ζελένσκι: Καλεί την ηγεσία του στρατο...</td>\n      <td>06/07/2022  07:36</td>\n      <td>ΚΟΣΜΟΣ</td>\n      <td>Μετά τον σάλο που προκάλεσε στην  Ουκρανία  αν...</td>\n      <td>https://www.naftemporiki.gr//fu/p/1879907/638/...</td>\n      <td>NaN</td>\n    </tr>\n    <tr>\n      <th>7</th>\n      <td>https://www.naftemporiki.gr//finance/story/187...</td>\n      <td>Το παγκόσμιο πόκερ με τα σιτηρά</td>\n      <td>06/07/2022  06:59</td>\n      <td>ΟΙΚΟΝΟΜΙΑ &amp; ΑΓΟΡΕΣ</td>\n      <td>Του Μιχάλη Ψύλου [email protected] Ακούγεται π...</td>\n      <td>https://www.naftemporiki.gr//fu/p/1879898/638/...</td>\n      <td>NaN</td>\n    </tr>\n    <tr>\n      <th>8</th>\n      <td>https://www.naftemporiki.gr//finance/story/187...</td>\n      <td>Όλο το σχέδιο υποκατάστασης του ρωσικού φυσικο...</td>\n      <td>05/07/2022  22:04</td>\n      <td>ΟΙΚΟΝΟΜΙΑ &amp; ΑΓΟΡΕΣ</td>\n      <td>Από την έντυπη έκδοση Της Λαλέλας Χρυσανθοπούλ...</td>\n      <td>https://www.naftemporiki.gr//fu/p/1839763/638/...</td>\n      <td>NaN</td>\n    </tr>\n    <tr>\n      <th>9</th>\n      <td>https://www.naftemporiki.gr//story/1879847/isp...</td>\n      <td>Ισπανία: Τριγμοί στο κυβερνητικό στρατόπεδο με...</td>\n      <td>05/07/2022  21:31</td>\n      <td>ΚΟΣΜΟΣ</td>\n      <td>Η αποδέσμευση σχεδόν ενός δισεκατομμυρίου ευρώ...</td>\n      <td>https://www.naftemporiki.gr//fu/p/1877835/638/...</td>\n      <td>NaN</td>\n    </tr>\n  </tbody>\n</table>\n</div>"
     },
     "execution_count": 503,
     "metadata": {},
     "output_type": "execute_result"
    }
   ],
   "source": [
    "naftemporiki_df = pd.read_csv('../data/raw/naftemporiki/naftemporiki-polemos-stin-oukrania.csv',\n",
    "                              index_col=[0])\n",
    "naftemporiki_df.head(10)"
   ],
   "metadata": {
    "collapsed": false,
    "pycharm": {
     "name": "#%%\n"
    }
   }
  },
  {
   "cell_type": "code",
   "execution_count": 504,
   "outputs": [
    {
     "data": {
      "text/plain": "22826026"
     },
     "execution_count": 504,
     "metadata": {},
     "output_type": "execute_result"
    }
   ],
   "source": [
    "naftemporiki_df.memory_usage(deep=True).sum()"
   ],
   "metadata": {
    "collapsed": false,
    "pycharm": {
     "name": "#%%\n"
    }
   }
  },
  {
   "cell_type": "code",
   "execution_count": 505,
   "outputs": [
    {
     "data": {
      "text/plain": "url         object\nheading     object\ndate        string\ntag         object\ntext        object\nimage       object\n0          float64\ndtype: object"
     },
     "execution_count": 505,
     "metadata": {},
     "output_type": "execute_result"
    }
   ],
   "source": [
    "# date series to string type\n",
    "naftemporiki_df.astype({'date': 'string'}).dtypes"
   ],
   "metadata": {
    "collapsed": false,
    "pycharm": {
     "name": "#%%\n"
    }
   }
  },
  {
   "cell_type": "code",
   "execution_count": 506,
   "outputs": [],
   "source": [
    "import re\n",
    "def extractDateFromDatetime(string: str) -> str:\n",
    "    try:\n",
    "        match = re.search(r'\\d{2}(?:.|-|/)\\d{2}(?:.|-|/)\\d{4}', string)\n",
    "        date = match.group() \\\n",
    "            .replace(\".\", \"-\") \\\n",
    "            .replace(\"/\", \"-\")\n",
    "    except:\n",
    "        date = None\n",
    "    finally:\n",
    "        return date\n",
    "\n",
    "# Create new col with universal date format for further analysis\n",
    "naftemporiki_df[ArticleModel.date] = kathimerini_df['date'].apply(extractDateFromDatetime)"
   ],
   "metadata": {
    "collapsed": false,
    "pycharm": {
     "name": "#%%\n"
    }
   }
  },
  {
   "cell_type": "code",
   "execution_count": 507,
   "outputs": [],
   "source": [
    "naftemporiki_df.insert(0, ArticleModel.publisher, Publishers.NAFTEMPORIKI.value)"
   ],
   "metadata": {
    "collapsed": false,
    "pycharm": {
     "name": "#%%\n"
    }
   }
  },
  {
   "cell_type": "code",
   "execution_count": 508,
   "outputs": [],
   "source": [
    "# create comments col as type Boolean\n",
    "naftemporiki_df.insert(0, ArticleModel.comments, False)"
   ],
   "metadata": {
    "collapsed": false,
    "pycharm": {
     "name": "#%%\n"
    }
   }
  },
  {
   "cell_type": "code",
   "execution_count": 509,
   "outputs": [],
   "source": [
    "# create comment count property with default value of 0\n",
    "naftemporiki_df.insert(0, ArticleModel.commentsCount, 0)"
   ],
   "metadata": {
    "collapsed": false,
    "pycharm": {
     "name": "#%%\n"
    }
   }
  },
  {
   "cell_type": "code",
   "execution_count": 510,
   "outputs": [],
   "source": [
    "# create comment key property\n",
    "naftemporiki_df.insert(0, ArticleModel.commentApiKey, None)"
   ],
   "metadata": {
    "collapsed": false,
    "pycharm": {
     "name": "#%%\n"
    }
   }
  },
  {
   "cell_type": "code",
   "execution_count": 511,
   "outputs": [],
   "source": [
    "# create lang property\n",
    "naftemporiki_df.insert(0, ArticleModel.lang, 'el')"
   ],
   "metadata": {
    "collapsed": false,
    "pycharm": {
     "name": "#%%\n"
    }
   }
  },
  {
   "cell_type": "code",
   "execution_count": 512,
   "outputs": [],
   "source": [
    "naftemporiki_df.drop(columns=['0'], axis=1, inplace=True)"
   ],
   "metadata": {
    "collapsed": false,
    "pycharm": {
     "name": "#%%\n"
    }
   }
  },
  {
   "cell_type": "code",
   "execution_count": 513,
   "outputs": [
    {
     "data": {
      "text/plain": "Index(['Lang', 'Comments api key', 'Comments count', 'Comments exist',\n       'Publisher', 'url', 'heading', 'date', 'tag', 'text', 'image',\n       'Date Formatted'],\n      dtype='object')"
     },
     "execution_count": 513,
     "metadata": {},
     "output_type": "execute_result"
    }
   ],
   "source": [
    "naftemporiki_df.keys()"
   ],
   "metadata": {
    "collapsed": false,
    "pycharm": {
     "name": "#%%\n"
    }
   }
  },
  {
   "cell_type": "markdown",
   "source": [],
   "metadata": {
    "collapsed": false,
    "pycharm": {
     "name": "#%% md\n"
    }
   }
  },
  {
   "cell_type": "code",
   "execution_count": 514,
   "outputs": [],
   "source": [
    "# Casting df with ArticleModel class\n",
    "naftemporiki_df.rename(\n",
    "    columns={\"url\": ArticleModel.url,\n",
    "             \"heading\": ArticleModel.heading,\n",
    "             \"summary\": ArticleModel.summary,\n",
    "             \"tag\": ArticleModel.tag,\n",
    "             \"text\": ArticleModel.text,\n",
    "             \"image\": ArticleModel.imageUrl\n",
    "             },\n",
    "    inplace=True\n",
    "            )"
   ],
   "metadata": {
    "collapsed": false,
    "pycharm": {
     "name": "#%%\n"
    }
   }
  },
  {
   "cell_type": "code",
   "execution_count": 515,
   "outputs": [
    {
     "data": {
      "text/plain": "  Lang Comments api key  Comments count  Comments exist     Publisher  \\\n0   el             None               0           False  ΝΑΥΤΕΜΠΟΡΙΚΗ   \n1   el             None               0           False  ΝΑΥΤΕΜΠΟΡΙΚΗ   \n2   el             None               0           False  ΝΑΥΤΕΜΠΟΡΙΚΗ   \n3   el             None               0           False  ΝΑΥΤΕΜΠΟΡΙΚΗ   \n4   el             None               0           False  ΝΑΥΤΕΜΠΟΡΙΚΗ   \n\n                                         Article url  \\\n0  https://www.naftemporiki.gr//story/1880064/pol...   \n1  https://www.naftemporiki.gr//story/1880057/sit...   \n2  https://www.naftemporiki.gr//story/1880042/men...   \n3  https://www.naftemporiki.gr//story/1880040/pur...   \n4  https://www.naftemporiki.gr//finance/story/188...   \n\n                                             Heading               date  \\\n0  Πόλεμος στην Ουκρανία: Τι αποκάλυψε ο «πιο επι...  06/07/2022  14:30   \n1  Σιτηρά: Η Μόσχα αρνείται το περιστατικό με το ...  06/07/2022  14:16   \n2  Μεντβέντεφ: Παράλογη η ιδέα να τιμωρείται η χώ...  06/07/2022  13:35   \n3  Πυρά Λαβρόφ κατά Μακρόν για τη δημοσιοποίηση τ...  06/07/2022  13:34   \n4  «Η Ρωσία αντιμετωπίζει ένα οικονομικό σοκ» αλλ...  06/07/2022  13:17   \n\n                  Tag                                               Text  \\\n0              ΚΟΣΜΟΣ  Πριν από μία εβδομάδα η επικεφαλής των Υπηρεσι...   \n1              ΚΟΣΜΟΣ  Το ρωσικό υπουργείο Εξωτερικών ανακοίνωσε σήμε...   \n2              ΚΟΣΜΟΣ  Ο πρώην πρόεδρος της Ρωσίας Ντιμίτρι Μεντβέντε...   \n3              ΚΟΣΜΟΣ  Ο Ρώσος υπουργός Εξωτερικών Σεργκέι Λαβρόφ δήλ...   \n4  ΟΙΚΟΝΟΜΙΑ & ΑΓΟΡΕΣ  Η οικονομία της Ρωσίας αντιμετωπίζει καλύτερα ...   \n\n                                           Image url Date Formatted  \n0  https://www.naftemporiki.gr//fu/p/1876264/638/...     05-07-2022  \n1  https://www.naftemporiki.gr//fu/p/1880058/638/...     05-07-2022  \n2  https://www.naftemporiki.gr//fu/p/1880043/638/...     05-07-2022  \n3  https://www.naftemporiki.gr//fu/p/1838456/638/...     05-07-2022  \n4  https://www.naftemporiki.gr//fu/p/1877139/638/...     05-07-2022  ",
      "text/html": "<div>\n<style scoped>\n    .dataframe tbody tr th:only-of-type {\n        vertical-align: middle;\n    }\n\n    .dataframe tbody tr th {\n        vertical-align: top;\n    }\n\n    .dataframe thead th {\n        text-align: right;\n    }\n</style>\n<table border=\"1\" class=\"dataframe\">\n  <thead>\n    <tr style=\"text-align: right;\">\n      <th></th>\n      <th>Lang</th>\n      <th>Comments api key</th>\n      <th>Comments count</th>\n      <th>Comments exist</th>\n      <th>Publisher</th>\n      <th>Article url</th>\n      <th>Heading</th>\n      <th>date</th>\n      <th>Tag</th>\n      <th>Text</th>\n      <th>Image url</th>\n      <th>Date Formatted</th>\n    </tr>\n  </thead>\n  <tbody>\n    <tr>\n      <th>0</th>\n      <td>el</td>\n      <td>None</td>\n      <td>0</td>\n      <td>False</td>\n      <td>ΝΑΥΤΕΜΠΟΡΙΚΗ</td>\n      <td>https://www.naftemporiki.gr//story/1880064/pol...</td>\n      <td>Πόλεμος στην Ουκρανία: Τι αποκάλυψε ο «πιο επι...</td>\n      <td>06/07/2022  14:30</td>\n      <td>ΚΟΣΜΟΣ</td>\n      <td>Πριν από μία εβδομάδα η επικεφαλής των Υπηρεσι...</td>\n      <td>https://www.naftemporiki.gr//fu/p/1876264/638/...</td>\n      <td>05-07-2022</td>\n    </tr>\n    <tr>\n      <th>1</th>\n      <td>el</td>\n      <td>None</td>\n      <td>0</td>\n      <td>False</td>\n      <td>ΝΑΥΤΕΜΠΟΡΙΚΗ</td>\n      <td>https://www.naftemporiki.gr//story/1880057/sit...</td>\n      <td>Σιτηρά: Η Μόσχα αρνείται το περιστατικό με το ...</td>\n      <td>06/07/2022  14:16</td>\n      <td>ΚΟΣΜΟΣ</td>\n      <td>Το ρωσικό υπουργείο Εξωτερικών ανακοίνωσε σήμε...</td>\n      <td>https://www.naftemporiki.gr//fu/p/1880058/638/...</td>\n      <td>05-07-2022</td>\n    </tr>\n    <tr>\n      <th>2</th>\n      <td>el</td>\n      <td>None</td>\n      <td>0</td>\n      <td>False</td>\n      <td>ΝΑΥΤΕΜΠΟΡΙΚΗ</td>\n      <td>https://www.naftemporiki.gr//story/1880042/men...</td>\n      <td>Μεντβέντεφ: Παράλογη η ιδέα να τιμωρείται η χώ...</td>\n      <td>06/07/2022  13:35</td>\n      <td>ΚΟΣΜΟΣ</td>\n      <td>Ο πρώην πρόεδρος της Ρωσίας Ντιμίτρι Μεντβέντε...</td>\n      <td>https://www.naftemporiki.gr//fu/p/1880043/638/...</td>\n      <td>05-07-2022</td>\n    </tr>\n    <tr>\n      <th>3</th>\n      <td>el</td>\n      <td>None</td>\n      <td>0</td>\n      <td>False</td>\n      <td>ΝΑΥΤΕΜΠΟΡΙΚΗ</td>\n      <td>https://www.naftemporiki.gr//story/1880040/pur...</td>\n      <td>Πυρά Λαβρόφ κατά Μακρόν για τη δημοσιοποίηση τ...</td>\n      <td>06/07/2022  13:34</td>\n      <td>ΚΟΣΜΟΣ</td>\n      <td>Ο Ρώσος υπουργός Εξωτερικών Σεργκέι Λαβρόφ δήλ...</td>\n      <td>https://www.naftemporiki.gr//fu/p/1838456/638/...</td>\n      <td>05-07-2022</td>\n    </tr>\n    <tr>\n      <th>4</th>\n      <td>el</td>\n      <td>None</td>\n      <td>0</td>\n      <td>False</td>\n      <td>ΝΑΥΤΕΜΠΟΡΙΚΗ</td>\n      <td>https://www.naftemporiki.gr//finance/story/188...</td>\n      <td>«Η Ρωσία αντιμετωπίζει ένα οικονομικό σοκ» αλλ...</td>\n      <td>06/07/2022  13:17</td>\n      <td>ΟΙΚΟΝΟΜΙΑ &amp; ΑΓΟΡΕΣ</td>\n      <td>Η οικονομία της Ρωσίας αντιμετωπίζει καλύτερα ...</td>\n      <td>https://www.naftemporiki.gr//fu/p/1877139/638/...</td>\n      <td>05-07-2022</td>\n    </tr>\n  </tbody>\n</table>\n</div>"
     },
     "execution_count": 515,
     "metadata": {},
     "output_type": "execute_result"
    }
   ],
   "source": [
    "naftemporiki_df.head()"
   ],
   "metadata": {
    "collapsed": false,
    "pycharm": {
     "name": "#%%\n"
    }
   }
  },
  {
   "cell_type": "code",
   "execution_count": 516,
   "outputs": [],
   "source": [
    "#save as csv to intermediate stage\n",
    "efsyn_df.to_csv('../data/intermediate/naftemporiki-data-frame.csv')"
   ],
   "metadata": {
    "collapsed": false,
    "pycharm": {
     "name": "#%%\n"
    }
   }
  },
  {
   "cell_type": "markdown",
   "source": [
    "## The Guardian"
   ],
   "metadata": {
    "collapsed": false,
    "pycharm": {
     "name": "#%% md\n"
    }
   }
  },
  {
   "cell_type": "code",
   "execution_count": 558,
   "outputs": [
    {
     "data": {
      "text/plain": "                                           Image Url  \\\n0  https://i.guim.co.uk/img/media/cf521f0cc79f03f...   \n1  https://i.guim.co.uk/img/media/ed78768125b0cc7...   \n2  https://i.guim.co.uk/img/media/050c522ae5cc5e3...   \n3  https://i.guim.co.uk/img/media/4e76cd7e65bb82f...   \n4  https://i.guim.co.uk/img/media/2fcbff1b38bdde0...   \n5                                                NaN   \n6  https://i.guim.co.uk/img/media/00e53ee4d548889...   \n7  https://i.guim.co.uk/img/media/4a5afd23a5ff2fa...   \n8  https://i.guim.co.uk/img/media/6a61baa7b7358e3...   \n9  https://i.guim.co.uk/img/media/c3c324b5a1fe71e...   \n\n                                       Image Caption  \\\n0   Biden at the White House on Tuesday. The pres...   \n1   Boris Johnson’s lies are nothing to those bei...   \n2   Russia’s defence minister, Sergei Shoigu, app...   \n3           Illustration: Martin Rowson/The Guardian   \n4   Russia's defence minister, Sergei Shoigu, is ...   \n5                                                NaN   \n6   ‘As Vladimir Putin’s tanks rolled west, Boris...   \n7   Ukrainian supporters protest outside the Russ...   \n8   The British embassy in Kyiv. ‘A proxy war wou...   \n9   ‘In his speech this week, the Russian leader ...   \n\n                                           Image Alt  \\\n0  Biden at the White House on Tuesday. The presi...   \n1        Boris Johnson at Prime Minister's Questions   \n2  Russia’s defence minister, Sergei Shoigu, appe...   \n3                              Martin Rowson 24.2.22   \n4           Russia's defence minister, Sergei Shoigu   \n5                                                NaN   \n6  Boris Johnson at the Ministry of Defence, 22 F...   \n7  Ukrainian supporters protest outside the Russi...   \n8  The British embassy in Kyiv. ‘A proxy war woul...   \n9            Putin and Clinton at the Kremlin, 2000.   \n\n                          Date Date Formatted  \\\n0  Wednesday, 23 February 2022     2022-02-23   \n1  Wednesday, 23 February 2022     2022-02-23   \n2  Wednesday, 23 February 2022     2022-02-23   \n3  Wednesday, 23 February 2022     2022-02-23   \n4  Wednesday, 23 February 2022     2022-02-23   \n5  Wednesday, 23 February 2022     2022-02-23   \n6  Wednesday, 23 February 2022     2022-02-23   \n7  Wednesday, 23 February 2022     2022-02-23   \n8  Wednesday, 23 February 2022     2022-02-23   \n9  Wednesday, 23 February 2022     2022-02-23   \n\n                                             Heading  \\\n0  Biden imposes sanctions on company behind Nord...   \n1  Putin’s looming threat gives Johnson some brea...   \n2  From ‘Putin’s chef’ to the RT editor: names ex...   \n3  Martin Rowson on Russian donors to the Tory pa...   \n4  EU approves wide-ranging sanctions against Rus...   \n5  Keir Starmer urges Boris Johnson to end ‘era o...   \n6  Fighting the threat from Putin will take teamw...   \n7  Ukrainians in UK making plans to return home t...   \n8  What steps should Britain take to avert war in...   \n9  Understanding Putin’s narrative about Ukraine ...   \n\n                                         Article Url  \\\n0  https://www.theguardian.com/us-news/live/2022/...   \n1  https://www.theguardian.com/politics/2022/feb/...   \n2  https://www.theguardian.com/world/2022/feb/23/...   \n3  https://www.theguardian.com/commentisfree/pict...   \n4  https://www.theguardian.com/world/2022/feb/23/...   \n5  https://www.theguardian.com/politics/live/2022...   \n6  https://www.theguardian.com/commentisfree/2022...   \n7  https://www.theguardian.com/world/2022/feb/23/...   \n8  https://www.theguardian.com/world/2022/feb/23/...   \n9  https://www.theguardian.com/commentisfree/2022...   \n\n                                                Text Comments key  \\\n0  19.07Biden announces sanctions on Nord Stream ...          NaN   \n1  Boris Johnson is in his happy place. The Russi...     /p/kz3fp   \n2  The EU has approved asset freezes and travel b...          NaN   \n3                                                NaN          NaN   \n4  Russia’s defence minister, Sergei Shoigu, the ...          NaN   \n5  13.27PMQs – snap verdictPMQs has never been a ...     /p/knqpm   \n6  The default view at Westminster and in most of...     /p/kz2dj   \n7  A small but growing number of Ukrainians livin...          NaN   \n8  Thank you Simon Tisdall (The long, bloody hist...          NaN   \n9  With his incursion into Donetsk and Luhansk, V...     /p/kzv8x   \n\n   Comments Count                                       Comments Url  \\\n0             NaN                                                NaN   \n1           528.0  https://www.theguardian.com/politics/2022/feb/...   \n2             NaN                                                NaN   \n3             NaN  https://www.theguardian.com/commentisfree/pict...   \n4             NaN                                                NaN   \n5          7064.0  https://www.theguardian.com/politics/live/2022...   \n6           317.0  https://www.theguardian.com/commentisfree/2022...   \n7             NaN                                                NaN   \n8             NaN                                                NaN   \n9           368.0  https://www.theguardian.com/commentisfree/2022...   \n\n                                               Thumb  \n0  https://i.guim.co.uk/img/media/cf521f0cc79f03f...  \n1                                                NaN  \n2  https://i.guim.co.uk/img/media/050c522ae5cc5e3...  \n3  https://i.guim.co.uk/img/media/4e76cd7e65bb82f...  \n4                                                NaN  \n5                                                NaN  \n6                                                NaN  \n7                                                NaN  \n8                                                NaN  \n9                                                NaN  ",
      "text/html": "<div>\n<style scoped>\n    .dataframe tbody tr th:only-of-type {\n        vertical-align: middle;\n    }\n\n    .dataframe tbody tr th {\n        vertical-align: top;\n    }\n\n    .dataframe thead th {\n        text-align: right;\n    }\n</style>\n<table border=\"1\" class=\"dataframe\">\n  <thead>\n    <tr style=\"text-align: right;\">\n      <th></th>\n      <th>Image Url</th>\n      <th>Image Caption</th>\n      <th>Image Alt</th>\n      <th>Date</th>\n      <th>Date Formatted</th>\n      <th>Heading</th>\n      <th>Article Url</th>\n      <th>Text</th>\n      <th>Comments key</th>\n      <th>Comments Count</th>\n      <th>Comments Url</th>\n      <th>Thumb</th>\n    </tr>\n  </thead>\n  <tbody>\n    <tr>\n      <th>0</th>\n      <td>https://i.guim.co.uk/img/media/cf521f0cc79f03f...</td>\n      <td>Biden at the White House on Tuesday. The pres...</td>\n      <td>Biden at the White House on Tuesday. The presi...</td>\n      <td>Wednesday, 23 February 2022</td>\n      <td>2022-02-23</td>\n      <td>Biden imposes sanctions on company behind Nord...</td>\n      <td>https://www.theguardian.com/us-news/live/2022/...</td>\n      <td>19.07Biden announces sanctions on Nord Stream ...</td>\n      <td>NaN</td>\n      <td>NaN</td>\n      <td>NaN</td>\n      <td>https://i.guim.co.uk/img/media/cf521f0cc79f03f...</td>\n    </tr>\n    <tr>\n      <th>1</th>\n      <td>https://i.guim.co.uk/img/media/ed78768125b0cc7...</td>\n      <td>Boris Johnson’s lies are nothing to those bei...</td>\n      <td>Boris Johnson at Prime Minister's Questions</td>\n      <td>Wednesday, 23 February 2022</td>\n      <td>2022-02-23</td>\n      <td>Putin’s looming threat gives Johnson some brea...</td>\n      <td>https://www.theguardian.com/politics/2022/feb/...</td>\n      <td>Boris Johnson is in his happy place. The Russi...</td>\n      <td>/p/kz3fp</td>\n      <td>528.0</td>\n      <td>https://www.theguardian.com/politics/2022/feb/...</td>\n      <td>NaN</td>\n    </tr>\n    <tr>\n      <th>2</th>\n      <td>https://i.guim.co.uk/img/media/050c522ae5cc5e3...</td>\n      <td>Russia’s defence minister, Sergei Shoigu, app...</td>\n      <td>Russia’s defence minister, Sergei Shoigu, appe...</td>\n      <td>Wednesday, 23 February 2022</td>\n      <td>2022-02-23</td>\n      <td>From ‘Putin’s chef’ to the RT editor: names ex...</td>\n      <td>https://www.theguardian.com/world/2022/feb/23/...</td>\n      <td>The EU has approved asset freezes and travel b...</td>\n      <td>NaN</td>\n      <td>NaN</td>\n      <td>NaN</td>\n      <td>https://i.guim.co.uk/img/media/050c522ae5cc5e3...</td>\n    </tr>\n    <tr>\n      <th>3</th>\n      <td>https://i.guim.co.uk/img/media/4e76cd7e65bb82f...</td>\n      <td>Illustration: Martin Rowson/The Guardian</td>\n      <td>Martin Rowson 24.2.22</td>\n      <td>Wednesday, 23 February 2022</td>\n      <td>2022-02-23</td>\n      <td>Martin Rowson on Russian donors to the Tory pa...</td>\n      <td>https://www.theguardian.com/commentisfree/pict...</td>\n      <td>NaN</td>\n      <td>NaN</td>\n      <td>NaN</td>\n      <td>https://www.theguardian.com/commentisfree/pict...</td>\n      <td>https://i.guim.co.uk/img/media/4e76cd7e65bb82f...</td>\n    </tr>\n    <tr>\n      <th>4</th>\n      <td>https://i.guim.co.uk/img/media/2fcbff1b38bdde0...</td>\n      <td>Russia's defence minister, Sergei Shoigu, is ...</td>\n      <td>Russia's defence minister, Sergei Shoigu</td>\n      <td>Wednesday, 23 February 2022</td>\n      <td>2022-02-23</td>\n      <td>EU approves wide-ranging sanctions against Rus...</td>\n      <td>https://www.theguardian.com/world/2022/feb/23/...</td>\n      <td>Russia’s defence minister, Sergei Shoigu, the ...</td>\n      <td>NaN</td>\n      <td>NaN</td>\n      <td>NaN</td>\n      <td>NaN</td>\n    </tr>\n    <tr>\n      <th>5</th>\n      <td>NaN</td>\n      <td>NaN</td>\n      <td>NaN</td>\n      <td>Wednesday, 23 February 2022</td>\n      <td>2022-02-23</td>\n      <td>Keir Starmer urges Boris Johnson to end ‘era o...</td>\n      <td>https://www.theguardian.com/politics/live/2022...</td>\n      <td>13.27PMQs – snap verdictPMQs has never been a ...</td>\n      <td>/p/knqpm</td>\n      <td>7064.0</td>\n      <td>https://www.theguardian.com/politics/live/2022...</td>\n      <td>NaN</td>\n    </tr>\n    <tr>\n      <th>6</th>\n      <td>https://i.guim.co.uk/img/media/00e53ee4d548889...</td>\n      <td>‘As Vladimir Putin’s tanks rolled west, Boris...</td>\n      <td>Boris Johnson at the Ministry of Defence, 22 F...</td>\n      <td>Wednesday, 23 February 2022</td>\n      <td>2022-02-23</td>\n      <td>Fighting the threat from Putin will take teamw...</td>\n      <td>https://www.theguardian.com/commentisfree/2022...</td>\n      <td>The default view at Westminster and in most of...</td>\n      <td>/p/kz2dj</td>\n      <td>317.0</td>\n      <td>https://www.theguardian.com/commentisfree/2022...</td>\n      <td>NaN</td>\n    </tr>\n    <tr>\n      <th>7</th>\n      <td>https://i.guim.co.uk/img/media/4a5afd23a5ff2fa...</td>\n      <td>Ukrainian supporters protest outside the Russ...</td>\n      <td>Ukrainian supporters protest outside the Russi...</td>\n      <td>Wednesday, 23 February 2022</td>\n      <td>2022-02-23</td>\n      <td>Ukrainians in UK making plans to return home t...</td>\n      <td>https://www.theguardian.com/world/2022/feb/23/...</td>\n      <td>A small but growing number of Ukrainians livin...</td>\n      <td>NaN</td>\n      <td>NaN</td>\n      <td>NaN</td>\n      <td>NaN</td>\n    </tr>\n    <tr>\n      <th>8</th>\n      <td>https://i.guim.co.uk/img/media/6a61baa7b7358e3...</td>\n      <td>The British embassy in Kyiv. ‘A proxy war wou...</td>\n      <td>The British embassy in Kyiv. ‘A proxy war woul...</td>\n      <td>Wednesday, 23 February 2022</td>\n      <td>2022-02-23</td>\n      <td>What steps should Britain take to avert war in...</td>\n      <td>https://www.theguardian.com/world/2022/feb/23/...</td>\n      <td>Thank you Simon Tisdall (The long, bloody hist...</td>\n      <td>NaN</td>\n      <td>NaN</td>\n      <td>NaN</td>\n      <td>NaN</td>\n    </tr>\n    <tr>\n      <th>9</th>\n      <td>https://i.guim.co.uk/img/media/c3c324b5a1fe71e...</td>\n      <td>‘In his speech this week, the Russian leader ...</td>\n      <td>Putin and Clinton at the Kremlin, 2000.</td>\n      <td>Wednesday, 23 February 2022</td>\n      <td>2022-02-23</td>\n      <td>Understanding Putin’s narrative about Ukraine ...</td>\n      <td>https://www.theguardian.com/commentisfree/2022...</td>\n      <td>With his incursion into Donetsk and Luhansk, V...</td>\n      <td>/p/kzv8x</td>\n      <td>368.0</td>\n      <td>https://www.theguardian.com/commentisfree/2022...</td>\n      <td>NaN</td>\n    </tr>\n  </tbody>\n</table>\n</div>"
     },
     "execution_count": 558,
     "metadata": {},
     "output_type": "execute_result"
    }
   ],
   "source": [
    "guardian_df = pd.read_csv('../data/raw/guardian/guard-articles-ukraine.csv',\n",
    "                           index_col=[0])\n",
    "guardian_df.head(10)"
   ],
   "metadata": {
    "collapsed": false,
    "pycharm": {
     "name": "#%%\n"
    }
   }
  },
  {
   "cell_type": "code",
   "execution_count": 559,
   "outputs": [
    {
     "data": {
      "text/plain": "41998335"
     },
     "execution_count": 559,
     "metadata": {},
     "output_type": "execute_result"
    }
   ],
   "source": [
    "guardian_df.memory_usage(deep=True).sum()"
   ],
   "metadata": {
    "collapsed": false,
    "pycharm": {
     "name": "#%%\n"
    }
   }
  },
  {
   "cell_type": "code",
   "execution_count": 560,
   "outputs": [],
   "source": [
    "guardian_df.insert(0, ArticleModel.publisher, Publishers.THE_GUARDIAN.value)"
   ],
   "metadata": {
    "collapsed": false,
    "pycharm": {
     "name": "#%%\n"
    }
   }
  },
  {
   "cell_type": "code",
   "execution_count": 561,
   "outputs": [],
   "source": [
    "# create lang property\n",
    "guardian_df.insert(0, ArticleModel.lang, 'en')"
   ],
   "metadata": {
    "collapsed": false,
    "pycharm": {
     "name": "#%%\n"
    }
   }
  },
  {
   "cell_type": "code",
   "execution_count": 562,
   "outputs": [
    {
     "data": {
      "text/plain": "  Lang     Publisher                                          Image Url  \\\n0   en  THE GUARDIAN  https://i.guim.co.uk/img/media/cf521f0cc79f03f...   \n1   en  THE GUARDIAN  https://i.guim.co.uk/img/media/ed78768125b0cc7...   \n2   en  THE GUARDIAN  https://i.guim.co.uk/img/media/050c522ae5cc5e3...   \n3   en  THE GUARDIAN  https://i.guim.co.uk/img/media/4e76cd7e65bb82f...   \n4   en  THE GUARDIAN  https://i.guim.co.uk/img/media/2fcbff1b38bdde0...   \n\n                                       Image Caption  \\\n0   Biden at the White House on Tuesday. The pres...   \n1   Boris Johnson’s lies are nothing to those bei...   \n2   Russia’s defence minister, Sergei Shoigu, app...   \n3           Illustration: Martin Rowson/The Guardian   \n4   Russia's defence minister, Sergei Shoigu, is ...   \n\n                                           Image Alt  \\\n0  Biden at the White House on Tuesday. The presi...   \n1        Boris Johnson at Prime Minister's Questions   \n2  Russia’s defence minister, Sergei Shoigu, appe...   \n3                              Martin Rowson 24.2.22   \n4           Russia's defence minister, Sergei Shoigu   \n\n                          Date Date Formatted  \\\n0  Wednesday, 23 February 2022     2022-02-23   \n1  Wednesday, 23 February 2022     2022-02-23   \n2  Wednesday, 23 February 2022     2022-02-23   \n3  Wednesday, 23 February 2022     2022-02-23   \n4  Wednesday, 23 February 2022     2022-02-23   \n\n                                             Heading  \\\n0  Biden imposes sanctions on company behind Nord...   \n1  Putin’s looming threat gives Johnson some brea...   \n2  From ‘Putin’s chef’ to the RT editor: names ex...   \n3  Martin Rowson on Russian donors to the Tory pa...   \n4  EU approves wide-ranging sanctions against Rus...   \n\n                                         Article Url  \\\n0  https://www.theguardian.com/us-news/live/2022/...   \n1  https://www.theguardian.com/politics/2022/feb/...   \n2  https://www.theguardian.com/world/2022/feb/23/...   \n3  https://www.theguardian.com/commentisfree/pict...   \n4  https://www.theguardian.com/world/2022/feb/23/...   \n\n                                                Text Comments key  \\\n0  19.07Biden announces sanctions on Nord Stream ...          NaN   \n1  Boris Johnson is in his happy place. The Russi...     /p/kz3fp   \n2  The EU has approved asset freezes and travel b...          NaN   \n3                                                NaN          NaN   \n4  Russia’s defence minister, Sergei Shoigu, the ...          NaN   \n\n   Comments Count                                       Comments Url  \\\n0             NaN                                                NaN   \n1           528.0  https://www.theguardian.com/politics/2022/feb/...   \n2             NaN                                                NaN   \n3             NaN  https://www.theguardian.com/commentisfree/pict...   \n4             NaN                                                NaN   \n\n                                               Thumb  \n0  https://i.guim.co.uk/img/media/cf521f0cc79f03f...  \n1                                                NaN  \n2  https://i.guim.co.uk/img/media/050c522ae5cc5e3...  \n3  https://i.guim.co.uk/img/media/4e76cd7e65bb82f...  \n4                                                NaN  ",
      "text/html": "<div>\n<style scoped>\n    .dataframe tbody tr th:only-of-type {\n        vertical-align: middle;\n    }\n\n    .dataframe tbody tr th {\n        vertical-align: top;\n    }\n\n    .dataframe thead th {\n        text-align: right;\n    }\n</style>\n<table border=\"1\" class=\"dataframe\">\n  <thead>\n    <tr style=\"text-align: right;\">\n      <th></th>\n      <th>Lang</th>\n      <th>Publisher</th>\n      <th>Image Url</th>\n      <th>Image Caption</th>\n      <th>Image Alt</th>\n      <th>Date</th>\n      <th>Date Formatted</th>\n      <th>Heading</th>\n      <th>Article Url</th>\n      <th>Text</th>\n      <th>Comments key</th>\n      <th>Comments Count</th>\n      <th>Comments Url</th>\n      <th>Thumb</th>\n    </tr>\n  </thead>\n  <tbody>\n    <tr>\n      <th>0</th>\n      <td>en</td>\n      <td>THE GUARDIAN</td>\n      <td>https://i.guim.co.uk/img/media/cf521f0cc79f03f...</td>\n      <td>Biden at the White House on Tuesday. The pres...</td>\n      <td>Biden at the White House on Tuesday. The presi...</td>\n      <td>Wednesday, 23 February 2022</td>\n      <td>2022-02-23</td>\n      <td>Biden imposes sanctions on company behind Nord...</td>\n      <td>https://www.theguardian.com/us-news/live/2022/...</td>\n      <td>19.07Biden announces sanctions on Nord Stream ...</td>\n      <td>NaN</td>\n      <td>NaN</td>\n      <td>NaN</td>\n      <td>https://i.guim.co.uk/img/media/cf521f0cc79f03f...</td>\n    </tr>\n    <tr>\n      <th>1</th>\n      <td>en</td>\n      <td>THE GUARDIAN</td>\n      <td>https://i.guim.co.uk/img/media/ed78768125b0cc7...</td>\n      <td>Boris Johnson’s lies are nothing to those bei...</td>\n      <td>Boris Johnson at Prime Minister's Questions</td>\n      <td>Wednesday, 23 February 2022</td>\n      <td>2022-02-23</td>\n      <td>Putin’s looming threat gives Johnson some brea...</td>\n      <td>https://www.theguardian.com/politics/2022/feb/...</td>\n      <td>Boris Johnson is in his happy place. The Russi...</td>\n      <td>/p/kz3fp</td>\n      <td>528.0</td>\n      <td>https://www.theguardian.com/politics/2022/feb/...</td>\n      <td>NaN</td>\n    </tr>\n    <tr>\n      <th>2</th>\n      <td>en</td>\n      <td>THE GUARDIAN</td>\n      <td>https://i.guim.co.uk/img/media/050c522ae5cc5e3...</td>\n      <td>Russia’s defence minister, Sergei Shoigu, app...</td>\n      <td>Russia’s defence minister, Sergei Shoigu, appe...</td>\n      <td>Wednesday, 23 February 2022</td>\n      <td>2022-02-23</td>\n      <td>From ‘Putin’s chef’ to the RT editor: names ex...</td>\n      <td>https://www.theguardian.com/world/2022/feb/23/...</td>\n      <td>The EU has approved asset freezes and travel b...</td>\n      <td>NaN</td>\n      <td>NaN</td>\n      <td>NaN</td>\n      <td>https://i.guim.co.uk/img/media/050c522ae5cc5e3...</td>\n    </tr>\n    <tr>\n      <th>3</th>\n      <td>en</td>\n      <td>THE GUARDIAN</td>\n      <td>https://i.guim.co.uk/img/media/4e76cd7e65bb82f...</td>\n      <td>Illustration: Martin Rowson/The Guardian</td>\n      <td>Martin Rowson 24.2.22</td>\n      <td>Wednesday, 23 February 2022</td>\n      <td>2022-02-23</td>\n      <td>Martin Rowson on Russian donors to the Tory pa...</td>\n      <td>https://www.theguardian.com/commentisfree/pict...</td>\n      <td>NaN</td>\n      <td>NaN</td>\n      <td>NaN</td>\n      <td>https://www.theguardian.com/commentisfree/pict...</td>\n      <td>https://i.guim.co.uk/img/media/4e76cd7e65bb82f...</td>\n    </tr>\n    <tr>\n      <th>4</th>\n      <td>en</td>\n      <td>THE GUARDIAN</td>\n      <td>https://i.guim.co.uk/img/media/2fcbff1b38bdde0...</td>\n      <td>Russia's defence minister, Sergei Shoigu, is ...</td>\n      <td>Russia's defence minister, Sergei Shoigu</td>\n      <td>Wednesday, 23 February 2022</td>\n      <td>2022-02-23</td>\n      <td>EU approves wide-ranging sanctions against Rus...</td>\n      <td>https://www.theguardian.com/world/2022/feb/23/...</td>\n      <td>Russia’s defence minister, Sergei Shoigu, the ...</td>\n      <td>NaN</td>\n      <td>NaN</td>\n      <td>NaN</td>\n      <td>NaN</td>\n    </tr>\n  </tbody>\n</table>\n</div>"
     },
     "execution_count": 562,
     "metadata": {},
     "output_type": "execute_result"
    }
   ],
   "source": [
    "guardian_df.head()"
   ],
   "metadata": {
    "collapsed": false,
    "pycharm": {
     "name": "#%%\n"
    }
   }
  },
  {
   "cell_type": "code",
   "execution_count": 563,
   "outputs": [],
   "source": [
    "# extract the first parameter of base_url\n",
    "# then store values to a new column\n",
    "import re\n",
    "\n",
    "def getFirstParamFromUrl(string: str):\n",
    "    try:\n",
    "        match = string.split(\"/\")[3]\\\n",
    "            .replace(\"-\", \" \")\\\n",
    "            .upper()\n",
    "    except:\n",
    "        match = None\n",
    "    finally:\n",
    "        return match\n",
    "\n",
    "guardian_df[ArticleModel.tag] = kathimerini_df['Article url'].apply(getFirstParamFromUrl)"
   ],
   "metadata": {
    "collapsed": false,
    "pycharm": {
     "name": "#%%\n"
    }
   }
  },
  {
   "cell_type": "code",
   "execution_count": null,
   "outputs": [],
   "source": [
    "def reverseDateString(string: str):\n",
    "    try:\n",
    "        reverse =  \"-\".join(reversed(string.split(\"-\")))\n",
    "        print(reverse)\n",
    "    except:\n",
    "        reverse = None\n",
    "    finally:\n",
    "        return reverse\n",
    "\n",
    "\n",
    "guardian_df[ArticleModel.date] = guardian_df['Date Formatted'].apply(reverseDateString)"
   ],
   "metadata": {
    "collapsed": false,
    "pycharm": {
     "name": "#%%\n",
     "is_executing": true
    }
   }
  },
  {
   "cell_type": "code",
   "execution_count": 570,
   "outputs": [
    {
     "data": {
      "text/plain": "Index(['Lang', 'Publisher', 'Image Url', 'Image Caption', 'Image Alt', 'Date',\n       'Date Formatted', 'Heading', 'Article Url', 'Text', 'Comments key',\n       'Comments Count', 'Comments Url', 'Thumb', 'Tag'],\n      dtype='object')"
     },
     "execution_count": 570,
     "metadata": {},
     "output_type": "execute_result"
    }
   ],
   "source": [
    "guardian_df.keys()"
   ],
   "metadata": {
    "collapsed": false,
    "pycharm": {
     "name": "#%%\n"
    }
   }
  },
  {
   "cell_type": "code",
   "execution_count": 571,
   "outputs": [],
   "source": [
    "# Casting df with ArticleModel class\n",
    "guardian_df.rename(\n",
    "    columns={\"Comments key\": ArticleModel.commentApiKey,\n",
    "             \"Comments Count\": ArticleModel.commentsCount,\n",
    "             \"Comments Url\": ArticleModel.commentsUrl,\n",
    "             },\n",
    "    inplace=True\n",
    "            )"
   ],
   "metadata": {
    "collapsed": false,
    "pycharm": {
     "name": "#%%\n"
    }
   }
  },
  {
   "cell_type": "code",
   "execution_count": 572,
   "outputs": [
    {
     "data": {
      "text/plain": "  Lang     Publisher                                          Image Url  \\\n0   en  THE GUARDIAN  https://i.guim.co.uk/img/media/cf521f0cc79f03f...   \n1   en  THE GUARDIAN  https://i.guim.co.uk/img/media/ed78768125b0cc7...   \n2   en  THE GUARDIAN  https://i.guim.co.uk/img/media/050c522ae5cc5e3...   \n3   en  THE GUARDIAN  https://i.guim.co.uk/img/media/4e76cd7e65bb82f...   \n4   en  THE GUARDIAN  https://i.guim.co.uk/img/media/2fcbff1b38bdde0...   \n\n                                       Image Caption  \\\n0   Biden at the White House on Tuesday. The pres...   \n1   Boris Johnson’s lies are nothing to those bei...   \n2   Russia’s defence minister, Sergei Shoigu, app...   \n3           Illustration: Martin Rowson/The Guardian   \n4   Russia's defence minister, Sergei Shoigu, is ...   \n\n                                           Image Alt  \\\n0  Biden at the White House on Tuesday. The presi...   \n1        Boris Johnson at Prime Minister's Questions   \n2  Russia’s defence minister, Sergei Shoigu, appe...   \n3                              Martin Rowson 24.2.22   \n4           Russia's defence minister, Sergei Shoigu   \n\n                          Date Date Formatted  \\\n0  Wednesday, 23 February 2022     23-02-2022   \n1  Wednesday, 23 February 2022     23-02-2022   \n2  Wednesday, 23 February 2022     23-02-2022   \n3  Wednesday, 23 February 2022     23-02-2022   \n4  Wednesday, 23 February 2022     23-02-2022   \n\n                                             Heading  \\\n0  Biden imposes sanctions on company behind Nord...   \n1  Putin’s looming threat gives Johnson some brea...   \n2  From ‘Putin’s chef’ to the RT editor: names ex...   \n3  Martin Rowson on Russian donors to the Tory pa...   \n4  EU approves wide-ranging sanctions against Rus...   \n\n                                         Article Url  \\\n0  https://www.theguardian.com/us-news/live/2022/...   \n1  https://www.theguardian.com/politics/2022/feb/...   \n2  https://www.theguardian.com/world/2022/feb/23/...   \n3  https://www.theguardian.com/commentisfree/pict...   \n4  https://www.theguardian.com/world/2022/feb/23/...   \n\n                                                Text Comments api key  \\\n0  19.07Biden announces sanctions on Nord Stream ...              NaN   \n1  Boris Johnson is in his happy place. The Russi...         /p/kz3fp   \n2  The EU has approved asset freezes and travel b...              NaN   \n3                                                NaN              NaN   \n4  Russia’s defence minister, Sergei Shoigu, the ...              NaN   \n\n   Comments count                                       Comments url  \\\n0             NaN                                                NaN   \n1           528.0  https://www.theguardian.com/politics/2022/feb/...   \n2             NaN                                                NaN   \n3             NaN  https://www.theguardian.com/commentisfree/pict...   \n4             NaN                                                NaN   \n\n                                               Thumb       Tag  \n0  https://i.guim.co.uk/img/media/cf521f0cc79f03f...     WORLD  \n1                                                NaN     WORLD  \n2  https://i.guim.co.uk/img/media/050c522ae5cc5e3...   ECONOMY  \n3  https://i.guim.co.uk/img/media/4e76cd7e65bb82f...  POLITICS  \n4                                                NaN     WORLD  ",
      "text/html": "<div>\n<style scoped>\n    .dataframe tbody tr th:only-of-type {\n        vertical-align: middle;\n    }\n\n    .dataframe tbody tr th {\n        vertical-align: top;\n    }\n\n    .dataframe thead th {\n        text-align: right;\n    }\n</style>\n<table border=\"1\" class=\"dataframe\">\n  <thead>\n    <tr style=\"text-align: right;\">\n      <th></th>\n      <th>Lang</th>\n      <th>Publisher</th>\n      <th>Image Url</th>\n      <th>Image Caption</th>\n      <th>Image Alt</th>\n      <th>Date</th>\n      <th>Date Formatted</th>\n      <th>Heading</th>\n      <th>Article Url</th>\n      <th>Text</th>\n      <th>Comments api key</th>\n      <th>Comments count</th>\n      <th>Comments url</th>\n      <th>Thumb</th>\n      <th>Tag</th>\n    </tr>\n  </thead>\n  <tbody>\n    <tr>\n      <th>0</th>\n      <td>en</td>\n      <td>THE GUARDIAN</td>\n      <td>https://i.guim.co.uk/img/media/cf521f0cc79f03f...</td>\n      <td>Biden at the White House on Tuesday. The pres...</td>\n      <td>Biden at the White House on Tuesday. The presi...</td>\n      <td>Wednesday, 23 February 2022</td>\n      <td>23-02-2022</td>\n      <td>Biden imposes sanctions on company behind Nord...</td>\n      <td>https://www.theguardian.com/us-news/live/2022/...</td>\n      <td>19.07Biden announces sanctions on Nord Stream ...</td>\n      <td>NaN</td>\n      <td>NaN</td>\n      <td>NaN</td>\n      <td>https://i.guim.co.uk/img/media/cf521f0cc79f03f...</td>\n      <td>WORLD</td>\n    </tr>\n    <tr>\n      <th>1</th>\n      <td>en</td>\n      <td>THE GUARDIAN</td>\n      <td>https://i.guim.co.uk/img/media/ed78768125b0cc7...</td>\n      <td>Boris Johnson’s lies are nothing to those bei...</td>\n      <td>Boris Johnson at Prime Minister's Questions</td>\n      <td>Wednesday, 23 February 2022</td>\n      <td>23-02-2022</td>\n      <td>Putin’s looming threat gives Johnson some brea...</td>\n      <td>https://www.theguardian.com/politics/2022/feb/...</td>\n      <td>Boris Johnson is in his happy place. The Russi...</td>\n      <td>/p/kz3fp</td>\n      <td>528.0</td>\n      <td>https://www.theguardian.com/politics/2022/feb/...</td>\n      <td>NaN</td>\n      <td>WORLD</td>\n    </tr>\n    <tr>\n      <th>2</th>\n      <td>en</td>\n      <td>THE GUARDIAN</td>\n      <td>https://i.guim.co.uk/img/media/050c522ae5cc5e3...</td>\n      <td>Russia’s defence minister, Sergei Shoigu, app...</td>\n      <td>Russia’s defence minister, Sergei Shoigu, appe...</td>\n      <td>Wednesday, 23 February 2022</td>\n      <td>23-02-2022</td>\n      <td>From ‘Putin’s chef’ to the RT editor: names ex...</td>\n      <td>https://www.theguardian.com/world/2022/feb/23/...</td>\n      <td>The EU has approved asset freezes and travel b...</td>\n      <td>NaN</td>\n      <td>NaN</td>\n      <td>NaN</td>\n      <td>https://i.guim.co.uk/img/media/050c522ae5cc5e3...</td>\n      <td>ECONOMY</td>\n    </tr>\n    <tr>\n      <th>3</th>\n      <td>en</td>\n      <td>THE GUARDIAN</td>\n      <td>https://i.guim.co.uk/img/media/4e76cd7e65bb82f...</td>\n      <td>Illustration: Martin Rowson/The Guardian</td>\n      <td>Martin Rowson 24.2.22</td>\n      <td>Wednesday, 23 February 2022</td>\n      <td>23-02-2022</td>\n      <td>Martin Rowson on Russian donors to the Tory pa...</td>\n      <td>https://www.theguardian.com/commentisfree/pict...</td>\n      <td>NaN</td>\n      <td>NaN</td>\n      <td>NaN</td>\n      <td>https://www.theguardian.com/commentisfree/pict...</td>\n      <td>https://i.guim.co.uk/img/media/4e76cd7e65bb82f...</td>\n      <td>POLITICS</td>\n    </tr>\n    <tr>\n      <th>4</th>\n      <td>en</td>\n      <td>THE GUARDIAN</td>\n      <td>https://i.guim.co.uk/img/media/2fcbff1b38bdde0...</td>\n      <td>Russia's defence minister, Sergei Shoigu, is ...</td>\n      <td>Russia's defence minister, Sergei Shoigu</td>\n      <td>Wednesday, 23 February 2022</td>\n      <td>23-02-2022</td>\n      <td>EU approves wide-ranging sanctions against Rus...</td>\n      <td>https://www.theguardian.com/world/2022/feb/23/...</td>\n      <td>Russia’s defence minister, Sergei Shoigu, the ...</td>\n      <td>NaN</td>\n      <td>NaN</td>\n      <td>NaN</td>\n      <td>NaN</td>\n      <td>WORLD</td>\n    </tr>\n  </tbody>\n</table>\n</div>"
     },
     "execution_count": 572,
     "metadata": {},
     "output_type": "execute_result"
    }
   ],
   "source": [
    "guardian_df.head()"
   ],
   "metadata": {
    "collapsed": false,
    "pycharm": {
     "name": "#%%\n"
    }
   }
  },
  {
   "cell_type": "code",
   "execution_count": 573,
   "outputs": [],
   "source": [
    "#save as csv to intermediate stage\n",
    "efsyn_df.to_csv('../data/intermediate/guardian-ukraine-data-frame.csv')"
   ],
   "metadata": {
    "collapsed": false,
    "pycharm": {
     "name": "#%%\n"
    }
   }
  },
  {
   "cell_type": "code",
   "execution_count": 574,
   "outputs": [
    {
     "name": "stdout",
     "output_type": "stream",
     "text": [
      "13736\n"
     ]
    }
   ],
   "source": [
    "total_rows = kathimerini_df.shape[0] \\\n",
    "             + naftemporiki_df.shape[0] \\\n",
    "             + efsyn_df.shape[0] \\\n",
    "             + guardian_df.shape[0]\n",
    "print(total_rows)"
   ],
   "metadata": {
    "collapsed": false,
    "pycharm": {
     "name": "#%%\n"
    }
   }
  },
  {
   "cell_type": "code",
   "execution_count": 94,
   "outputs": [],
   "source": [
    "# helpers\n",
    "kathimerini_df['date'] = pd.to_datetime(kathimerini_df['date'], format=\"%d.%m.%Y\", exact=True)\n",
    "kathimerini_df['year'] = pd.DatetimeIndex(kathimerini_df['date']).year"
   ],
   "metadata": {
    "collapsed": false,
    "pycharm": {
     "name": "#%%\n"
    }
   }
  }
 ],
 "metadata": {
  "kernelspec": {
   "display_name": "Python 3",
   "language": "python",
   "name": "python3"
  },
  "language_info": {
   "codemirror_mode": {
    "name": "ipython",
    "version": 2
   },
   "file_extension": ".py",
   "mimetype": "text/x-python",
   "name": "python",
   "nbconvert_exporter": "python",
   "pygments_lexer": "ipython2",
   "version": "2.7.6"
  }
 },
 "nbformat": 4,
 "nbformat_minor": 0
}