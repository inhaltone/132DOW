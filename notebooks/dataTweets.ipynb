{
 "cells": [
  {
   "cell_type": "code",
   "execution_count": 8,
   "outputs": [],
   "source": [
    "import pandas as pd\n",
    "\n",
    "tweets_war = pd.read_csv('../data/raw/tweets/UkrWarReport.tsv', sep='\\t')\n",
    "tweets_ukrainewar = pd.read_csv('../data/raw/tweets/hash-ukrainewar.tsv', sep='\\t')\n",
    "tweets_ukraine_russia_war = pd.read_csv('../data/raw/tweets/hash-ukraine-russia-war.tsv', sep='\\t')\n",
    "tweets_stoprussia = pd.read_csv('../data/raw/tweets/hash-stoprussia.tsv', sep='\\t')\n",
    "tweets_tettorist_state = pd.read_csv('../data/raw/tweets/hash-russia-is-a-terrorist-state.tsv', sep='\\t')\n",
    "tweets_putin_criminal = pd.read_csv('../data/raw/tweets/hash-putin-war-criminal.tsv', sep='\\t')\n",
    "tweets_efsyn = pd.read_csv('../data/raw/tweets/guardian-efsyn-gr.tsv', sep='\\t')\n",
    "tweets_nytimes = pd.read_csv('../data/raw/tweets/guardian-nytimes.tsv', sep='\\t')\n",
    "tweets_guardian_tweets = pd.read_csv('../data/raw/tweets/guardian-tweets.csv', sep='\\t')\n",
    "tweets_guardian_news = pd.read_csv('../data/raw/tweets/guardiannews.tsv', sep='\\t')"
   ],
   "metadata": {
    "collapsed": false,
    "pycharm": {
     "name": "#%%\n"
    }
   }
  },
  {
   "cell_type": "code",
   "execution_count": 9,
   "outputs": [],
   "source": [
    "df_full = pd.concat([tweets_war,\n",
    "                     tweets_ukrainewar,\n",
    "                     tweets_ukraine_russia_war,\n",
    "                     tweets_stoprussia,\n",
    "                     tweets_tettorist_state,\n",
    "                     tweets_putin_criminal,\n",
    "                     tweets_efsyn,\n",
    "                     tweets_nytimes,\n",
    "                     tweets_guardian_tweets,\n",
    "                     tweets_guardian_news\n",
    "                     ])"
   ],
   "metadata": {
    "collapsed": false,
    "pycharm": {
     "name": "#%%\n"
    }
   }
  },
  {
   "cell_type": "code",
   "execution_count": 10,
   "outputs": [
    {
     "data": {
      "text/plain": "(73944, 8)"
     },
     "execution_count": 10,
     "metadata": {},
     "output_type": "execute_result"
    }
   ],
   "source": [
    "df_full.shape"
   ],
   "metadata": {
    "collapsed": false,
    "pycharm": {
     "name": "#%%\n"
    }
   }
  },
  {
   "cell_type": "code",
   "execution_count": 11,
   "outputs": [
    {
     "data": {
      "text/plain": "   Unnamed: 0                 created_at  \\\n0         0.0  2022-06-26 20:14:29+00:00   \n1         1.0  2022-06-26 20:11:01+00:00   \n2         2.0  2022-06-26 20:05:07+00:00   \n3         3.0  2022-06-26 20:01:44+00:00   \n4         4.0  2022-06-26 19:59:35+00:00   \n\n                                           full_text  favorite_count  \\\n0  Destroyed Ukrainian BMP in Volcheyarovka. http...            20.0   \n1  Another Ukrainian mortar unit with Azerbaijani...            47.0   \n2  LNR ATGM unit firing a Konkurs. https://t.co/M...            45.0   \n3  Kill marks on a Ukrainian S-300 air defense mi...            68.0   \n4  Russian media claims their troops are in Volch...            47.0   \n\n   retweet_count   account_name            id  \\\n0            4.0  @UkrWarReport  1.541153e+18   \n1            2.0  @UkrWarReport  1.541152e+18   \n2            8.0  @UkrWarReport  1.541151e+18   \n3            3.0  @UkrWarReport  1.541150e+18   \n4            8.0  @UkrWarReport  1.541149e+18   \n\n  ,created_at,full_text,favorite_count,retweet_count,account_name,id  \n0                                                NaN                  \n1                                                NaN                  \n2                                                NaN                  \n3                                                NaN                  \n4                                                NaN                  ",
      "text/html": "<div>\n<style scoped>\n    .dataframe tbody tr th:only-of-type {\n        vertical-align: middle;\n    }\n\n    .dataframe tbody tr th {\n        vertical-align: top;\n    }\n\n    .dataframe thead th {\n        text-align: right;\n    }\n</style>\n<table border=\"1\" class=\"dataframe\">\n  <thead>\n    <tr style=\"text-align: right;\">\n      <th></th>\n      <th>Unnamed: 0</th>\n      <th>created_at</th>\n      <th>full_text</th>\n      <th>favorite_count</th>\n      <th>retweet_count</th>\n      <th>account_name</th>\n      <th>id</th>\n      <th>,created_at,full_text,favorite_count,retweet_count,account_name,id</th>\n    </tr>\n  </thead>\n  <tbody>\n    <tr>\n      <th>0</th>\n      <td>0.0</td>\n      <td>2022-06-26 20:14:29+00:00</td>\n      <td>Destroyed Ukrainian BMP in Volcheyarovka. http...</td>\n      <td>20.0</td>\n      <td>4.0</td>\n      <td>@UkrWarReport</td>\n      <td>1.541153e+18</td>\n      <td>NaN</td>\n    </tr>\n    <tr>\n      <th>1</th>\n      <td>1.0</td>\n      <td>2022-06-26 20:11:01+00:00</td>\n      <td>Another Ukrainian mortar unit with Azerbaijani...</td>\n      <td>47.0</td>\n      <td>2.0</td>\n      <td>@UkrWarReport</td>\n      <td>1.541152e+18</td>\n      <td>NaN</td>\n    </tr>\n    <tr>\n      <th>2</th>\n      <td>2.0</td>\n      <td>2022-06-26 20:05:07+00:00</td>\n      <td>LNR ATGM unit firing a Konkurs. https://t.co/M...</td>\n      <td>45.0</td>\n      <td>8.0</td>\n      <td>@UkrWarReport</td>\n      <td>1.541151e+18</td>\n      <td>NaN</td>\n    </tr>\n    <tr>\n      <th>3</th>\n      <td>3.0</td>\n      <td>2022-06-26 20:01:44+00:00</td>\n      <td>Kill marks on a Ukrainian S-300 air defense mi...</td>\n      <td>68.0</td>\n      <td>3.0</td>\n      <td>@UkrWarReport</td>\n      <td>1.541150e+18</td>\n      <td>NaN</td>\n    </tr>\n    <tr>\n      <th>4</th>\n      <td>4.0</td>\n      <td>2022-06-26 19:59:35+00:00</td>\n      <td>Russian media claims their troops are in Volch...</td>\n      <td>47.0</td>\n      <td>8.0</td>\n      <td>@UkrWarReport</td>\n      <td>1.541149e+18</td>\n      <td>NaN</td>\n    </tr>\n  </tbody>\n</table>\n</div>"
     },
     "execution_count": 11,
     "metadata": {},
     "output_type": "execute_result"
    }
   ],
   "source": [
    "df_full.head()"
   ],
   "metadata": {
    "collapsed": false,
    "pycharm": {
     "name": "#%%\n"
    }
   }
  },
  {
   "cell_type": "code",
   "execution_count": null,
   "outputs": [],
   "source": [],
   "metadata": {
    "collapsed": false,
    "pycharm": {
     "name": "#%%\n"
    }
   }
  }
 ],
 "metadata": {
  "kernelspec": {
   "display_name": "Python 3",
   "language": "python",
   "name": "python3"
  },
  "language_info": {
   "codemirror_mode": {
    "name": "ipython",
    "version": 2
   },
   "file_extension": ".py",
   "mimetype": "text/x-python",
   "name": "python",
   "nbconvert_exporter": "python",
   "pygments_lexer": "ipython2",
   "version": "2.7.6"
  }
 },
 "nbformat": 4,
 "nbformat_minor": 0
}